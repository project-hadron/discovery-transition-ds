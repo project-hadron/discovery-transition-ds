{
 "cells": [
  {
   "cell_type": "code",
   "execution_count": 1,
   "metadata": {},
   "outputs": [
    {
     "name": "stdout",
     "output_type": "stream",
     "text": [
      "DTU: 1.07.020\n",
      "DBU: 1.00.030\n"
     ]
    }
   ],
   "source": [
    "# saves you having to use print as all exposed variables are printed in the cell\n",
    "from IPython.core.interactiveshell import InteractiveShell\n",
    "InteractiveShell.ast_node_interactivity = \"all\"\n",
    "\n",
    "# core libraries\n",
    "import numpy as np\n",
    "import pandas as pd\n",
    "import matplotlib.pyplot as plt\n",
    "import matplotlib.dates as mdates\n",
    "import seaborn as sns\n",
    "import datetime\n",
    "\n",
    "# matpolitlib config\n",
    "%matplotlib inline\n",
    "plt.rcParams['figure.figsize'] = 12,4\n",
    "\n",
    "# suppress warning message\n",
    "import warnings\n",
    "warnings.filterwarnings('ignore')\n",
    "\n",
    "%reload_ext autoreload\n",
    "%autoreload 2\n",
    "\n",
    "import ds_discovery\n",
    "import ds_behavioral\n",
    "print('DTU: {}'.format(ds_discovery.__version__))\n",
    "print('DBU: {}'.format(ds_behavioral.__version__))"
   ]
  },
  {
   "cell_type": "code",
   "execution_count": 2,
   "metadata": {},
   "outputs": [],
   "source": [
    "from ds_behavioral import DataBuilder\n",
    "from ds_discovery.transition.cleaners import ColumnCleaners as cleaner\n",
    "from ds_discovery.transition.discovery import DataDiscovery as discovery"
   ]
  },
  {
   "cell_type": "markdown",
   "metadata": {},
   "source": [
    "# Correlation\n",
    "From a series or list of numbers, dates or categories alows the creation or a correlated list."
   ]
  },
  {
   "cell_type": "code",
   "execution_count": 3,
   "metadata": {},
   "outputs": [],
   "source": [
    "builder = DataBuilder('correlation')\n",
    "tools = builder.tools\n"
   ]
  },
  {
   "cell_type": "markdown",
   "metadata": {},
   "source": [
    "----\n",
    "\n",
    "### Buildng a profile\n",
    "Before we start lets consider a common requirement of building a profile base of names and addresses. \n",
    "\n",
    "We can build profiles in lots of ways but there are two built in methods that allow you to create profies quickly, then drop columns you might not need or want.\n",
    "\n",
    "firstly the methof `get_profiles` returns a gender specific set of random names "
   ]
  },
  {
   "cell_type": "code",
   "execution_count": 7,
   "metadata": {},
   "outputs": [
    {
     "data": {
      "text/html": [
       "<div>\n",
       "<style scoped>\n",
       "    .dataframe tbody tr th:only-of-type {\n",
       "        vertical-align: middle;\n",
       "    }\n",
       "\n",
       "    .dataframe tbody tr th {\n",
       "        vertical-align: top;\n",
       "    }\n",
       "\n",
       "    .dataframe thead th {\n",
       "        text-align: right;\n",
       "    }\n",
       "</style>\n",
       "<table border=\"1\" class=\"dataframe\">\n",
       "  <thead>\n",
       "    <tr style=\"text-align: right;\">\n",
       "      <th></th>\n",
       "      <th>surname</th>\n",
       "      <th>forename</th>\n",
       "      <th>gender</th>\n",
       "    </tr>\n",
       "  </thead>\n",
       "  <tbody>\n",
       "    <tr>\n",
       "      <th>0</th>\n",
       "      <td>Foppiano</td>\n",
       "      <td>Beatrix</td>\n",
       "      <td>F</td>\n",
       "    </tr>\n",
       "    <tr>\n",
       "      <th>1</th>\n",
       "      <td>Munshi</td>\n",
       "      <td>Arun</td>\n",
       "      <td>M</td>\n",
       "    </tr>\n",
       "    <tr>\n",
       "      <th>2</th>\n",
       "      <td>Chananie</td>\n",
       "      <td>Cletus</td>\n",
       "      <td>M</td>\n",
       "    </tr>\n",
       "    <tr>\n",
       "      <th>3</th>\n",
       "      <td>Vandresar</td>\n",
       "      <td>Dylan</td>\n",
       "      <td>M</td>\n",
       "    </tr>\n",
       "    <tr>\n",
       "      <th>4</th>\n",
       "      <td>Allgire</td>\n",
       "      <td>Vicky</td>\n",
       "      <td>F</td>\n",
       "    </tr>\n",
       "  </tbody>\n",
       "</table>\n",
       "</div>"
      ],
      "text/plain": [
       "     surname  forename gender\n",
       "0   Foppiano  Beatrix       F\n",
       "1     Munshi     Arun       M\n",
       "2   Chananie    Cletus      M\n",
       "3  Vandresar     Dylan      M\n",
       "4    Allgire     Vicky      F"
      ]
     },
     "execution_count": 7,
     "metadata": {},
     "output_type": "execute_result"
    }
   ],
   "source": [
    "tools.get_profiles(size=5)"
   ]
  },
  {
   "cell_type": "markdown",
   "metadata": {},
   "source": [
    "By defualt the names are randomly split 50/50 M/F but you can tailor this with the use of the weighting parameter `mf_weighting`"
   ]
  },
  {
   "cell_type": "code",
   "execution_count": 8,
   "metadata": {},
   "outputs": [
    {
     "data": {
      "text/plain": [
       "M    72\n",
       "F    28\n",
       "Name: gender, dtype: int64"
      ]
     },
     "execution_count": 8,
     "metadata": {},
     "output_type": "execute_result"
    }
   ],
   "source": [
    "sample_size = 100\n",
    "\n",
    "df_customer = tools.get_profiles(size=sample_size, mf_weighting=[7,3])\n",
    "df_customer['gender'].value_counts()"
   ]
  },
  {
   "cell_type": "markdown",
   "metadata": {},
   "source": [
    "----\n",
    "\n",
    "### Correlating Gender to title\n",
    "From this we can now correlate gender to a title. We are looking for 'M' to be 'Mr' and 'F' to be 'Mrs'\n",
    "\n",
    "we can you the contextual help to see what to do\n"
   ]
  },
  {
   "cell_type": "code",
   "execution_count": 9,
   "metadata": {},
   "outputs": [
    {
     "name": "stdout",
     "output_type": "stream",
     "text": [
      "Help on function correlate_categories in module ds_behavioral.generator.data_builder:\n",
      "\n",
      "correlate_categories(values:Any, correlations:list, actions:dict, value_type:str, day_first:bool=True, quantity:float=None, seed:int=None)\n",
      "    correlation of a set of values to an action, the correlations must map to the dictionary index values.\n",
      "    Note. to use the current value in the passed values as a parameter value pass an empty dict {} as the keys\n",
      "    value. If you want the action value to be the current value of the passed value then again pass an empty dict\n",
      "    action to be the current value\n",
      "        simple correlation list:\n",
      "            ['A', 'B', 'C'] # if values is 'A' then action is 0 and so on\n",
      "        multiple choice correlation\n",
      "            [['A','B'], 'C'] # if values is 'A' OR 'B' then action is 0 and so on\n",
      "        actions dictionary where the action is a class method name and kwargs its parameters\n",
      "            {0: {'action': '', 'kwargs' : {}}, 1: {'action': '', 'kwargs' : {}}}\n",
      "        you can also use the action to specify a specific value:\n",
      "            {0: {'action': ''}, 1: {'action': ''}}\n",
      "    \n",
      "    :param values: the category values to map against\n",
      "    :param correlations: a list of categories (can also contain lists for multiple correlations.\n",
      "    :param actions: the correlated set of categories that should map to the index\n",
      "    :param value_type: the type found in the values (options are 'category' ('c'), 'number', or 'datetime'('date'))\n",
      "    :param day_first: (optional) if type is date indictes if the day is first. Default to true\n",
      "    :param quantity: (optional) a number between 0 and 1 presenting the percentage quantity of the data\n",
      "    :param seed: a seed value for the random function: default to None\n",
      "    :return: a list of equal length to the one passed\n",
      "\n"
     ]
    }
   ],
   "source": [
    "help(tools.correlate_categories)"
   ]
  },
  {
   "cell_type": "code",
   "execution_count": 10,
   "metadata": {},
   "outputs": [],
   "source": [
    "correlations = ['M', 'F']\n",
    "actions = {0: {'action': 'Mr'}, \n",
    "           1: {'action': 'Mrs'}}\n",
    "\n",
    "df_customer['title'] = tools.correlate_categories(df_customer['gender'], correlations=correlations, actions=actions, value_type='category')"
   ]
  },
  {
   "cell_type": "markdown",
   "metadata": {},
   "source": [
    "When we look at the value count of the 'title' we can see it mirrors the 'gender'"
   ]
  },
  {
   "cell_type": "code",
   "execution_count": 11,
   "metadata": {},
   "outputs": [
    {
     "data": {
      "text/plain": [
       "Mr     72\n",
       "Mrs    28\n",
       "Name: title, dtype: int64"
      ]
     },
     "execution_count": 11,
     "metadata": {},
     "output_type": "execute_result"
    }
   ],
   "source": [
    "df_customer['title'].value_counts()"
   ]
  },
  {
   "cell_type": "markdown",
   "metadata": {},
   "source": [
    "---\n",
    "\n",
    "### Methods as actions\n",
    "with actions, they don't have to be a one to one relationship to the values, we can also us our 'get_' methods to generate selected values.\n",
    "\n",
    "In this next example we want there to be roughly 20% of the female gender to 'Miss' and roughly 10% 'Ms'. For this we will use the `get_category(...)` method and put it as our action value along with any kwargs for that method. Note you only give the method name and you don't specify size as a kwarg."
   ]
  },
  {
   "cell_type": "code",
   "execution_count": 12,
   "metadata": {},
   "outputs": [],
   "source": [
    "correlations = ['M', 'F']\n",
    "actions = {0: {'action': 'Mr'}, \n",
    "           1: {'action': 'get_category', 'kwargs': {'selection' : ['Mrs', 'Miss', 'Ms'], 'weight_pattern': [5,3,1]}}}\n",
    "\n",
    "df_customer['title'] = tools.correlate_categories(df_customer['gender'], correlations=correlations, actions=actions, value_type='category')"
   ]
  },
  {
   "cell_type": "markdown",
   "metadata": {},
   "source": [
    "When we look at the value count of title again we can see our alternative 'Female' titles have been selectively distributes to the weighting"
   ]
  },
  {
   "cell_type": "code",
   "execution_count": 13,
   "metadata": {},
   "outputs": [
    {
     "data": {
      "text/plain": [
       "Mr      72\n",
       "Mrs     14\n",
       "Miss    11\n",
       "Ms       3\n",
       "Name: title, dtype: int64"
      ]
     },
     "execution_count": 13,
     "metadata": {},
     "output_type": "execute_result"
    }
   ],
   "source": [
    "df_customer['title'].value_counts()"
   ]
  },
  {
   "cell_type": "markdown",
   "metadata": {},
   "source": [
    "----\n",
    "\n",
    "### Finally lets save this file to disk as our Customer records\n",
    "\n",
    "We need to generate an id for the customers then save."
   ]
  },
  {
   "cell_type": "code",
   "execution_count": 14,
   "metadata": {},
   "outputs": [],
   "source": [
    "df_customer['customer_id'] = tools.unique_identifiers(100, 999, size=sample_size)"
   ]
  },
  {
   "cell_type": "code",
   "execution_count": 16,
   "metadata": {},
   "outputs": [],
   "source": [
    "builder.save_to_disk(df_customer, filename='customer.csv', path='./')"
   ]
  },
  {
   "cell_type": "markdown",
   "metadata": {},
   "source": [
    "----\n",
    "\n",
    "## Correlating across files\n",
    "\n",
    "Let us now consider we have a new file, such as `Accounts` and \n",
    "- we want to correlate the customer_id with the account.\n",
    "- correlate an account balance with interest paid\n",
    "\n",
    "To show how we do this lest first build a simple accounts DataFrame"
   ]
  },
  {
   "cell_type": "code",
   "execution_count": 17,
   "metadata": {},
   "outputs": [],
   "source": [
    "df_accounts = pd.DataFrame()\n",
    "df_accounts['account_id'] = tools.unique_identifiers(1000, 2000, size=150)\n",
    "\n",
    "# Create a weighting pattern that is loaded towards low value and then exponetially tails off\n",
    "value_distribution = [0.01,0.8,1,3,9,8,3,2,1] + list(np.flip(np.exp(np.arange(-5,0.0, 0.2)).round(2)))\n",
    "\n",
    "# Apply the weighting to an account range of 0 to 1000\n",
    "df_accounts['balance'] = tools.get_number(0, 1000, weight_pattern=value_distribution, size=150)\n"
   ]
  },
  {
   "cell_type": "markdown",
   "metadata": {},
   "source": [
    "-----\n",
    "### Correlate Numbers\n",
    "We want to correlate the account value with interest paid, say 2%, therefore:\n",
    "- the 'spread' will be zero as we don't want any variance\n",
    "- an 'offset' of 0.02 of the balance with a 'action' of 'multiply'\n",
    "- set the precision to 2\n"
   ]
  },
  {
   "cell_type": "code",
   "execution_count": 18,
   "metadata": {},
   "outputs": [],
   "source": [
    "df_accounts['interest'] = tools.correlate_numbers(df_accounts['balance'], spread=0, offset=0.02, action='multiply', precision=2)"
   ]
  },
  {
   "cell_type": "markdown",
   "metadata": {},
   "source": [
    "now when we look at the correlation between the interest and the balance we see that direct correlation"
   ]
  },
  {
   "cell_type": "code",
   "execution_count": 19,
   "metadata": {},
   "outputs": [
    {
     "data": {
      "image/png": "[encoded data removed]",
      "text/plain": [
       "<Figure size 432x432 with 3 Axes>"
      ]
     },
     "metadata": {},
     "output_type": "display_data"
    }
   ],
   "source": [
    "sns.set(style=\"ticks\", color_codes=True)\n",
    "g = sns.jointplot(x='interest',y='balance',data=df_accounts, s=10)"
   ]
  },
  {
   "cell_type": "markdown",
   "metadata": {},
   "source": [
    "-----\n",
    "### Correlate Account with Customer\n",
    "\n",
    "in order to create the relationsip we need to get the `account_id` from the `customer` file and then correlate them with the account_id\n",
    "\n",
    "to do this we use `get_reference` method"
   ]
  },
  {
   "cell_type": "code",
   "execution_count": 21,
   "metadata": {},
   "outputs": [],
   "source": [
    "df_accounts['customer_id'] = tools.get_reference(header='customer_id', filename='customer.csv', size=150)"
   ]
  },
  {
   "cell_type": "code",
   "execution_count": 22,
   "metadata": {},
   "outputs": [
    {
     "data": {
      "text/html": [
       "<div>\n",
       "<style scoped>\n",
       "    .dataframe tbody tr th:only-of-type {\n",
       "        vertical-align: middle;\n",
       "    }\n",
       "\n",
       "    .dataframe tbody tr th {\n",
       "        vertical-align: top;\n",
       "    }\n",
       "\n",
       "    .dataframe thead th {\n",
       "        text-align: right;\n",
       "    }\n",
       "</style>\n",
       "<table border=\"1\" class=\"dataframe\">\n",
       "  <thead>\n",
       "    <tr style=\"text-align: right;\">\n",
       "      <th></th>\n",
       "      <th>account_id</th>\n",
       "      <th>balance</th>\n",
       "      <th>interest</th>\n",
       "      <th>customer_id</th>\n",
       "    </tr>\n",
       "  </thead>\n",
       "  <tbody>\n",
       "    <tr>\n",
       "      <th>0</th>\n",
       "      <td>1540</td>\n",
       "      <td>326</td>\n",
       "      <td>6.52</td>\n",
       "      <td>338</td>\n",
       "    </tr>\n",
       "    <tr>\n",
       "      <th>1</th>\n",
       "      <td>1029</td>\n",
       "      <td>131</td>\n",
       "      <td>2.62</td>\n",
       "      <td>893</td>\n",
       "    </tr>\n",
       "    <tr>\n",
       "      <th>2</th>\n",
       "      <td>1031</td>\n",
       "      <td>156</td>\n",
       "      <td>3.12</td>\n",
       "      <td>652</td>\n",
       "    </tr>\n",
       "  </tbody>\n",
       "</table>\n",
       "</div>"
      ],
      "text/plain": [
       "  account_id  balance  interest  customer_id\n",
       "0       1540      326      6.52          338\n",
       "1       1029      131      2.62          893\n",
       "2       1031      156      3.12          652"
      ]
     },
     "execution_count": 22,
     "metadata": {},
     "output_type": "execute_result"
    }
   ],
   "source": [
    "df_accounts.head(3)"
   ]
  },
  {
   "cell_type": "markdown",
   "metadata": {},
   "source": [
    "We now have `account_id` correlated to the `customer_id` from the `customer` file"
   ]
  },
  {
   "cell_type": "markdown",
   "metadata": {},
   "source": [
    "But when we look at the results we have customers will multiple account"
   ]
  },
  {
   "cell_type": "code",
   "execution_count": 23,
   "metadata": {},
   "outputs": [
    {
     "data": {
      "text/plain": [
       "array([5, 3, 2, 1])"
      ]
     },
     "execution_count": 23,
     "metadata": {},
     "output_type": "execute_result"
    }
   ],
   "source": [
    "df_accounts['customer_id'].value_counts().unique()"
   ]
  },
  {
   "cell_type": "code",
   "execution_count": 24,
   "metadata": {},
   "outputs": [
    {
     "data": {
      "text/plain": [
       "1    39\n",
       "2    30\n",
       "3    12\n",
       "5     3\n",
       "Name: customer_id, dtype: int64"
      ]
     },
     "execution_count": 24,
     "metadata": {},
     "output_type": "execute_result"
    }
   ],
   "source": [
    "df_accounts['customer_id'].value_counts().value_counts()"
   ]
  },
  {
   "cell_type": "markdown",
   "metadata": {},
   "source": [
    "----\n",
    "\n",
    "### Advanced correlation of identifers across files\n",
    "\n",
    "lets see what the method offeres us with the contextual help"
   ]
  },
  {
   "cell_type": "code",
   "execution_count": 25,
   "metadata": {},
   "outputs": [
    {
     "name": "stdout",
     "output_type": "stream",
     "text": [
      "Help on function get_reference in module ds_behavioral.generator.data_builder:\n",
      "\n",
      "get_reference(header:str, filename:str, weight_pattern:list=None, selection_size:int=None, sample_size:int=None, size:int=None, at_most:bool=None, shuffled:bool=True, file_format:str=None, quantity:float=None, seed:int=None, **kwargs)\n",
      "    :param header: the name of the header to be selected from\n",
      "    :param filename: the full path and filename to be loaded\n",
      "    :param weight_pattern: (optional) a weighting pattern of the final selection\n",
      "    :param selection_size: (optional) the selection to take from the sample size, norally used with shuffle\n",
      "    :param sample_size: (optional) the size of the sample to take from the reference file\n",
      "    :param at_most: (optional) the most times a selection should be chosen\n",
      "    :param shuffled: (optional) if the selection should be shuffled before selection. Default is true\n",
      "    :param file_format: (optional) the format of the file to reference\n",
      "    :param quantity: (optional) a number between 0 and 1 representing the percentage quantity of the data\n",
      "    :param size: (optional) size of the return. default to 1\n",
      "    :param seed: (optional) a seed value for the random function: default to None\n",
      "    :param kwargs: (optional) key word arguments to pass to the pandas read method\n",
      "    :return:\n",
      "\n"
     ]
    }
   ],
   "source": [
    "help(tools.get_reference)"
   ]
  },
  {
   "cell_type": "markdown",
   "metadata": {},
   "source": [
    "In this instance the option we are most interested in is the **at_most** option to set the most number of cutomer_id's that can be chosen overall"
   ]
  },
  {
   "cell_type": "code",
   "execution_count": 27,
   "metadata": {},
   "outputs": [],
   "source": [
    "df_accounts['customer_id'] = tools.get_reference('customer_id', filename='customer.csv', at_most=2, size=150)"
   ]
  },
  {
   "cell_type": "markdown",
   "metadata": {},
   "source": [
    "Now when we look at the account ditribution we can see we have 1 or 2 accounts only"
   ]
  },
  {
   "cell_type": "code",
   "execution_count": 28,
   "metadata": {},
   "outputs": [
    {
     "data": {
      "text/plain": [
       "array([2, 1])"
      ]
     },
     "execution_count": 28,
     "metadata": {},
     "output_type": "execute_result"
    }
   ],
   "source": [
    "df_accounts['customer_id'].value_counts().unique()"
   ]
  },
  {
   "cell_type": "code",
   "execution_count": 29,
   "metadata": {},
   "outputs": [
    {
     "data": {
      "text/plain": [
       "2    64\n",
       "1    22\n",
       "Name: customer_id, dtype: int64"
      ]
     },
     "execution_count": 29,
     "metadata": {},
     "output_type": "execute_result"
    }
   ],
   "source": [
    "df_accounts['customer_id'].value_counts().value_counts()"
   ]
  },
  {
   "cell_type": "markdown",
   "metadata": {},
   "source": [
    "Job Done!!"
   ]
  },
  {
   "cell_type": "markdown",
   "metadata": {},
   "source": [
    "Have an explore of the other options too, Use:\n",
    "- **sample_size** if you have a large file or you want to shuffle a larger set before selecting a subset of that\n",
    "- **selection_size** to only have a subset of the load size to select from. Mostly used with shuffle\n",
    "- **at_most** we have seen to restrict the max count of selections\n",
    "- **weighting_pattern** can be used for advanced filtering and time series selections were you don't want certain cutomers at certain times."
   ]
  },
  {
   "cell_type": "code",
   "execution_count": null,
   "metadata": {},
   "outputs": [],
   "source": []
  }
 ],
 "metadata": {
  "kernelspec": {
   "display_name": "Python 3",
   "language": "python",
   "name": "python3"
  },
  "language_info": {
   "codemirror_mode": {
    "name": "ipython",
    "version": 3
   },
   "file_extension": ".py",
   "mimetype": "text/x-python",
   "name": "python",
   "nbconvert_exporter": "python",
   "pygments_lexer": "ipython3",
   "version": "3.6.8"
  }
 },
 "nbformat": 4,
 "nbformat_minor": 2
}
