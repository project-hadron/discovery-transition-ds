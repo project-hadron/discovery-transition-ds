{
 "cells": [
  {
   "cell_type": "code",
   "execution_count": 1,
   "metadata": {},
   "outputs": [
    {
     "name": "stdout",
     "output_type": "stream",
     "text": [
      "DTU: 1.07.020\n",
      "DBU: 1.00.030\n"
     ]
    }
   ],
   "source": [
    "# saves you having to use print as all exposed variables are printed in the cell\n",
    "from IPython.core.interactiveshell import InteractiveShell\n",
    "InteractiveShell.ast_node_interactivity = \"all\"\n",
    "\n",
    "# core libraries\n",
    "import numpy as np\n",
    "import pandas as pd\n",
    "import matplotlib.pyplot as plt\n",
    "import matplotlib.dates as mdates\n",
    "import seaborn as sns\n",
    "\n",
    "# matpolitlib config\n",
    "%matplotlib inline\n",
    "plt.rcParams['figure.figsize'] = 12,4\n",
    "\n",
    "# suppress warning message\n",
    "import warnings\n",
    "warnings.filterwarnings('ignore')\n",
    "\n",
    "%reload_ext autoreload\n",
    "%autoreload 2\n",
    "\n",
    "import ds_discovery\n",
    "import ds_behavioral\n",
    "print('DTU: {}'.format(ds_discovery.__version__))\n",
    "print('DBU: {}'.format(ds_behavioral.__version__))"
   ]
  },
  {
   "cell_type": "markdown",
   "metadata": {},
   "source": [
    "# Association\n",
    "\n",
    "Associations allows one to build results through the assocation of relationships across a dataset.\n",
    "\n",
    "let us consider a dataset of 'Gender' and 'Age'. What we are looking to achive is\n",
    "- any male over 24 is a Dad, though there is a 20% chance he is called Papa\n",
    "- any female over 24 is called Mum, though here there is a 40% chance they are call Mother.\n",
    "- any male or female under the age of 25 is a student\n",
    "- Finally for anything else put 'Unknown'"
   ]
  },
  {
   "cell_type": "code",
   "execution_count": 2,
   "metadata": {},
   "outputs": [],
   "source": [
    "from ds_behavioral import DataBuilder\n",
    "from ds_discovery.transition.cleaners import ColumnCleaners as cleaner\n",
    "from ds_discovery.transition.discovery import DataDiscovery as discovery"
   ]
  },
  {
   "cell_type": "code",
   "execution_count": 3,
   "metadata": {},
   "outputs": [],
   "source": [
    "builder = DataBuilder('association')\n",
    "tools = builder.tools"
   ]
  },
  {
   "cell_type": "markdown",
   "metadata": {},
   "source": [
    "#### Build the dataset"
   ]
  },
  {
   "cell_type": "code",
   "execution_count": 4,
   "metadata": {},
   "outputs": [
    {
     "data": {
      "text/html": [
       "<div>\n",
       "<style scoped>\n",
       "    .dataframe tbody tr th:only-of-type {\n",
       "        vertical-align: middle;\n",
       "    }\n",
       "\n",
       "    .dataframe tbody tr th {\n",
       "        vertical-align: top;\n",
       "    }\n",
       "\n",
       "    .dataframe thead th {\n",
       "        text-align: right;\n",
       "    }\n",
       "</style>\n",
       "<table border=\"1\" class=\"dataframe\">\n",
       "  <thead>\n",
       "    <tr style=\"text-align: right;\">\n",
       "      <th></th>\n",
       "      <th>age</th>\n",
       "      <th>gender</th>\n",
       "    </tr>\n",
       "  </thead>\n",
       "  <tbody>\n",
       "    <tr>\n",
       "      <th>0</th>\n",
       "      <td>26</td>\n",
       "      <td>F</td>\n",
       "    </tr>\n",
       "    <tr>\n",
       "      <th>1</th>\n",
       "      <td>31</td>\n",
       "      <td>F</td>\n",
       "    </tr>\n",
       "    <tr>\n",
       "      <th>2</th>\n",
       "      <td>20</td>\n",
       "      <td>M</td>\n",
       "    </tr>\n",
       "    <tr>\n",
       "      <th>3</th>\n",
       "      <td>38</td>\n",
       "      <td>M</td>\n",
       "    </tr>\n",
       "    <tr>\n",
       "      <th>4</th>\n",
       "      <td>20</td>\n",
       "      <td>U</td>\n",
       "    </tr>\n",
       "  </tbody>\n",
       "</table>\n",
       "</div>"
      ],
      "text/plain": [
       "   age gender\n",
       "0   26      F\n",
       "1   31      F\n",
       "2   20      M\n",
       "3   38      M\n",
       "4   20      U"
      ]
     },
     "execution_count": 4,
     "metadata": {},
     "output_type": "execute_result"
    }
   ],
   "source": [
    "rows = 100\n",
    "\n",
    "dataset = pd.DataFrame()\n",
    "dataset['age'] = tools.get_number(from_value=18, to_value=40, weight_pattern=[3,1], size=rows)\n",
    "dataset['gender'] = tools.get_category(selection=['M', 'F', 'U'], weight_pattern=[2,2,1], size=rows)\n",
    "\n",
    "dataset.head(5)"
   ]
  },
  {
   "cell_type": "markdown",
   "metadata": {},
   "source": [
    "#### Build the correlation and actions\n",
    "to get the right format use the context help to cut and paste the format and then adapt"
   ]
  },
  {
   "cell_type": "code",
   "execution_count": 5,
   "metadata": {},
   "outputs": [
    {
     "name": "stdout",
     "output_type": "stream",
     "text": [
      "Help on function associate_dataset in module ds_behavioral.generator.data_builder:\n",
      "\n",
      "associate_dataset(dataset:Any, associations:list, actions:dict, default_value:Any=None, default_header:str=None, day_first:bool=True, quantity:float=None, seed:int=None)\n",
      "    Associates a a -set of criteria of an input values to a set of actions\n",
      "        The association dictionary takes the form of a set of dictionaries in a list with each item in the list\n",
      "        representing an index key for the action dictionary. Each dictionary are to associated relationship.\n",
      "        In this example for the first index the associated values should be header1 is within a date range\n",
      "        and header2 has a value of 'M'\n",
      "            association = [{'header1': {'expect': 'date',\n",
      "                                        'value': ['12/01/1984', '14/01/2014']},\n",
      "                            'header2': {'expect': 'category',\n",
      "                                        'value': ['M']}},\n",
      "                            {...}]\n",
      "    \n",
      "        if the dataset is not a DataFrame then the header should be omitted. in this example the association is\n",
      "        a range comparison between 2 and 7 inclusive.\n",
      "            association= [{'expect': 'number', 'value': [2, 7]},\n",
      "                          {...}]\n",
      "    \n",
      "        The actions dictionary takes the form of an index referenced dictionary of actions, where the key value\n",
      "        of the dictionary corresponds to the index of the association list. In other words, if a match is found\n",
      "        in the association, that list index is used as reference to the action to execute.\n",
      "            {0: {'action': '', 'kwargs' : {}},\n",
      "             1: {...}}\n",
      "        you can also use the action to specify a specific value:\n",
      "            {0: {'action': ''},\n",
      "             1: {'action': ''}}\n",
      "    \n",
      "    :param dataset: the dataset to map against, this can be a str, int, float, list, Series or DataFrame\n",
      "    :param associations: a list of categories (can also contain lists for multiple references.\n",
      "    :param actions: the correlated set of categories that should map to the index\n",
      "    :param default_header: (optional) if no association, the default column header to take the value from.\n",
      "                if None then the default_value is taken.\n",
      "                Note for non-DataFrame datasets the default header is '_default'\n",
      "    :param default_value: (optional) if no default header then this value is taken if no association\n",
      "    :param day_first: (optional) if expected type is date, indicates if the day is first. Default to true\n",
      "    :param quantity: (optional) a number between 0 and 1 presenting the percentage quantity of the data\n",
      "    :param seed: (optional) a seed value for the random function: default to None\n",
      "    :return: a list of equal length to the one passed\n",
      "\n"
     ]
    }
   ],
   "source": [
    "help(tools.associate_dataset)"
   ]
  },
  {
   "cell_type": "code",
   "execution_count": 6,
   "metadata": {},
   "outputs": [],
   "source": [
    "associations = [{'age': {'expect': 'n', 'value': [25, 100]},\n",
    "                 'gender': {'expect': 'category','value': ['M']}},\n",
    "                {'age': {'expect': 'n', 'value': [25, 100]},\n",
    "                 'gender': {'expect': 'category', 'value': ['F']}},\n",
    "                {'age': {'expect': 'n', 'value': [0, 25]}},\n",
    "                ]\n",
    "\n",
    "actions = {0: {'action': 'get_category', 'kwargs' : {'selection': ['Dad', 'Papa'], 'weight_pattern': [4,1]}},\n",
    "           1: {'action': 'get_category','kwargs' : {'selection': ['Mum', 'Mother'], 'weight_pattern': [3,2]}},\n",
    "           2: {'action': 'Student'}}\n"
   ]
  },
  {
   "cell_type": "markdown",
   "metadata": {},
   "source": [
    "#### Create the new Column\n",
    "\n",
    "Notice we have set a default_value of Unknown for anything that doesn't fit the rules."
   ]
  },
  {
   "cell_type": "code",
   "execution_count": 7,
   "metadata": {},
   "outputs": [],
   "source": [
    "dataset['status'] = tools.associate_dataset(dataset, associations=associations, actions=actions, default_value='Unknown')\n"
   ]
  },
  {
   "cell_type": "code",
   "execution_count": 8,
   "metadata": {},
   "outputs": [
    {
     "data": {
      "image/png": "[encoded data removed]",
      "text/plain": [
       "<Figure size 733.475x216 with 3 Axes>"
      ]
     },
     "metadata": {},
     "output_type": "display_data"
    }
   ],
   "source": [
    "sns.set(style=\"ticks\", color_codes=True)\n",
    "g = sns.FacetGrid(data=dataset, col='gender', hue='status', hue_order=[\"Student\", \"Dad\", \"Papa\", \"Mum\", \"Mother\", \"Unknown\"])\n",
    "g = g.map(plt.hist,'age').add_legend()"
   ]
  },
  {
   "cell_type": "code",
   "execution_count": 9,
   "metadata": {},
   "outputs": [
    {
     "data": {
      "image/png": "[encoded data removed]",
      "text/plain": [
       "<Figure size 432x288 with 1 Axes>"
      ]
     },
     "metadata": {},
     "output_type": "display_data"
    }
   ],
   "source": [
    "ax = sns.boxplot(x=\"age\", y=\"status\", hue=\"gender\", data=dataset)"
   ]
  },
  {
   "cell_type": "markdown",
   "metadata": {},
   "source": [
    "## Time association\n",
    "Time has always been challenging when creating behavioural datasets with time dependancies and constraints across attribute sets.\n",
    "\n",
    "In this next example we consider a staff data subset of account creation and online setup. in the dataset we have:\n",
    "- Staff Id\n",
    "- Staff type (contractors, part-time, full-time)\n",
    "- when they joined\n",
    "- when they registered online\n",
    "\n",
    "We know from our SME that the following constraints apply:\n",
    "- staff ration is 10% contractors, 30% part-time, the rest full time\n",
    "- contractor id starts ith a 'CT-', part-time with 'PE-' and full-time with 'FE-' and it is an 8 digit number.\n",
    "- contractors can't register on-line\n",
    "- Part-time staff and Full-time staff have to have an online-account\n",
    "- staff records go back 10 years\n",
    "- online accounts only started 5 years ago\n",
    "- when people join it takes between 5 and 10 days to set up registration"
   ]
  },
  {
   "cell_type": "markdown",
   "metadata": {},
   "source": [
    "#### Create the initial rows\n",
    "Start with the rows that can be created with `get_`. Note we are creating the staff id so we can get unique numbers. we will modify this next"
   ]
  },
  {
   "cell_type": "code",
   "execution_count": 10,
   "metadata": {},
   "outputs": [],
   "source": [
    "rows = 100\n",
    "df_staff = pd.DataFrame()\n",
    "df_staff['sid'] = tools.unique_identifiers(from_value=10000000, to_value=99999999, size=rows)\n",
    "df_staff['staff_type'] = tools.get_category(selection=['contractor', 'part-time', 'full-time'], weight_pattern=[1,3,6], size=rows)\n",
    "df_staff['joined'] = tools.get_datetime(start='01/01/2008', until='07/01/2019', date_format='%d-%m-%Y', size=rows)\n"
   ]
  },
  {
   "cell_type": "code",
   "execution_count": 11,
   "metadata": {},
   "outputs": [
    {
     "data": {
      "text/html": [
       "<div>\n",
       "<style scoped>\n",
       "    .dataframe tbody tr th:only-of-type {\n",
       "        vertical-align: middle;\n",
       "    }\n",
       "\n",
       "    .dataframe tbody tr th {\n",
       "        vertical-align: top;\n",
       "    }\n",
       "\n",
       "    .dataframe thead th {\n",
       "        text-align: right;\n",
       "    }\n",
       "</style>\n",
       "<table border=\"1\" class=\"dataframe\">\n",
       "  <thead>\n",
       "    <tr style=\"text-align: right;\">\n",
       "      <th></th>\n",
       "      <th>Attribute</th>\n",
       "      <th>Type</th>\n",
       "      <th>% Nulls</th>\n",
       "      <th>Count</th>\n",
       "      <th>Unique</th>\n",
       "      <th>Observations</th>\n",
       "    </tr>\n",
       "  </thead>\n",
       "  <tbody>\n",
       "    <tr>\n",
       "      <th>0</th>\n",
       "      <td>joined</td>\n",
       "      <td>datetime64[ns]</td>\n",
       "      <td>0.0</td>\n",
       "      <td>100</td>\n",
       "      <td>99</td>\n",
       "      <td>max=2018-08-24 00:00:00 | min=2008-01-30 00:00:00 | yr mean= 2013</td>\n",
       "    </tr>\n",
       "    <tr>\n",
       "      <th>1</th>\n",
       "      <td>sid</td>\n",
       "      <td>int64</td>\n",
       "      <td>0.0</td>\n",
       "      <td>100</td>\n",
       "      <td>100</td>\n",
       "      <td>max=98999268 | min=10392390 | mean=53361328.16</td>\n",
       "    </tr>\n",
       "    <tr>\n",
       "      <th>2</th>\n",
       "      <td>staff_type</td>\n",
       "      <td>category</td>\n",
       "      <td>0.0</td>\n",
       "      <td>100</td>\n",
       "      <td>3</td>\n",
       "      <td>contractor|full-time|part-time</td>\n",
       "    </tr>\n",
       "  </tbody>\n",
       "</table>\n",
       "</div>"
      ],
      "text/plain": [
       "    Attribute            Type  % Nulls  Count  Unique  \\\n",
       "0      joined  datetime64[ns]      0.0    100      99   \n",
       "1         sid           int64      0.0    100     100   \n",
       "2  staff_type        category      0.0    100       3   \n",
       "\n",
       "                                                        Observations  \n",
       "0  max=2018-08-24 00:00:00 | min=2008-01-30 00:00:00 | yr mean= 2013  \n",
       "1                     max=98999268 | min=10392390 | mean=53361328.16  \n",
       "2                                     contractor|full-time|part-time  "
      ]
     },
     "execution_count": 11,
     "metadata": {},
     "output_type": "execute_result"
    }
   ],
   "source": [
    "df_ax = cleaner.to_date_type(df_staff, headers='joined')\n",
    "df_ax = cleaner.auto_to_category(df_ax)\n",
    "df_ax = cleaner.to_int_type(df_ax, headers='sid')\n",
    "discovery.data_dictionary(df_ax)"
   ]
  },
  {
   "cell_type": "markdown",
   "metadata": {},
   "source": [
    "#### modify the staff id\n",
    "to modify the staff id we can use `associate_dataset` to find the staff_type. then in the action to prefix the sid.\n",
    "\n",
    "to prefix the sid we use `get_custom`"
   ]
  },
  {
   "cell_type": "code",
   "execution_count": 12,
   "metadata": {},
   "outputs": [
    {
     "data": {
      "text/plain": [
       "['CU_1000']"
      ]
     },
     "execution_count": 12,
     "metadata": {},
     "output_type": "execute_result"
    }
   ],
   "source": [
    "tools.get_custom(code_str=\"f'CU_{x}'\", x=1000)"
   ]
  },
  {
   "cell_type": "markdown",
   "metadata": {},
   "source": [
    "To help us get the correct format for the associate and action parameters use the contextual help and cut and paste the format"
   ]
  },
  {
   "cell_type": "code",
   "execution_count": 13,
   "metadata": {},
   "outputs": [
    {
     "name": "stdout",
     "output_type": "stream",
     "text": [
      "Help on function associate_dataset in module ds_behavioral.generator.data_builder:\n",
      "\n",
      "associate_dataset(dataset:Any, associations:list, actions:dict, default_value:Any=None, default_header:str=None, day_first:bool=True, quantity:float=None, seed:int=None)\n",
      "    Associates a a -set of criteria of an input values to a set of actions\n",
      "        The association dictionary takes the form of a set of dictionaries in a list with each item in the list\n",
      "        representing an index key for the action dictionary. Each dictionary are to associated relationship.\n",
      "        In this example for the first index the associated values should be header1 is within a date range\n",
      "        and header2 has a value of 'M'\n",
      "            association = [{'header1': {'expect': 'date',\n",
      "                                        'value': ['12/01/1984', '14/01/2014']},\n",
      "                            'header2': {'expect': 'category',\n",
      "                                        'value': ['M']}},\n",
      "                            {...}]\n",
      "    \n",
      "        if the dataset is not a DataFrame then the header should be omitted. in this example the association is\n",
      "        a range comparison between 2 and 7 inclusive.\n",
      "            association= [{'expect': 'number', 'value': [2, 7]},\n",
      "                          {...}]\n",
      "    \n",
      "        The actions dictionary takes the form of an index referenced dictionary of actions, where the key value\n",
      "        of the dictionary corresponds to the index of the association list. In other words, if a match is found\n",
      "        in the association, that list index is used as reference to the action to execute.\n",
      "            {0: {'action': '', 'kwargs' : {}},\n",
      "             1: {...}}\n",
      "        you can also use the action to specify a specific value:\n",
      "            {0: {'action': ''},\n",
      "             1: {'action': ''}}\n",
      "    \n",
      "    :param dataset: the dataset to map against, this can be a str, int, float, list, Series or DataFrame\n",
      "    :param associations: a list of categories (can also contain lists for multiple references.\n",
      "    :param actions: the correlated set of categories that should map to the index\n",
      "    :param default_header: (optional) if no association, the default column header to take the value from.\n",
      "                if None then the default_value is taken.\n",
      "                Note for non-DataFrame datasets the default header is '_default'\n",
      "    :param default_value: (optional) if no default header then this value is taken if no association\n",
      "    :param day_first: (optional) if expected type is date, indicates if the day is first. Default to true\n",
      "    :param quantity: (optional) a number between 0 and 1 presenting the percentage quantity of the data\n",
      "    :param seed: (optional) a seed value for the random function: default to None\n",
      "    :return: a list of equal length to the one passed\n",
      "\n"
     ]
    }
   ],
   "source": [
    "help(tools.associate_dataset)"
   ]
  },
  {
   "cell_type": "markdown",
   "metadata": {},
   "source": [
    "#### Associate Staff Id\n",
    "We now can associate the staff type with a modification of the staff id"
   ]
  },
  {
   "cell_type": "code",
   "execution_count": 14,
   "metadata": {},
   "outputs": [],
   "source": [
    "associations = [{'staff_type': {'expect': 'category', 'value': ['contractor']}},\n",
    "               {'staff_type': {'expect': 'category', 'value': ['part-time']}},\n",
    "               {'staff_type': {'expect': 'category', 'value': ['full-time']}}]\n",
    "\n",
    "actions = {0: {'action': 'get_custom', 'kwargs' : {'code_str': \"f'CT-{sid}'\", 'sid': {'_header': 'sid'}}}, \n",
    "           1: {'action': 'get_custom', 'kwargs' : {'code_str': \"f'PT-{sid}'\", 'sid': {'_header': 'sid'}}}, \n",
    "           2: {'action': 'get_custom', 'kwargs' : {'code_str': \"f'FT-{sid}'\", 'sid': {'_header': 'sid'}}}}\n",
    "\n",
    "\n",
    "df_staff['sid'] = tools.associate_dataset(df_staff, associations=associations, actions=actions)"
   ]
  },
  {
   "cell_type": "code",
   "execution_count": 15,
   "metadata": {},
   "outputs": [
    {
     "data": {
      "text/html": [
       "<div>\n",
       "<style scoped>\n",
       "    .dataframe tbody tr th:only-of-type {\n",
       "        vertical-align: middle;\n",
       "    }\n",
       "\n",
       "    .dataframe tbody tr th {\n",
       "        vertical-align: top;\n",
       "    }\n",
       "\n",
       "    .dataframe thead th {\n",
       "        text-align: right;\n",
       "    }\n",
       "</style>\n",
       "<table border=\"1\" class=\"dataframe\">\n",
       "  <thead>\n",
       "    <tr style=\"text-align: right;\">\n",
       "      <th></th>\n",
       "      <th>sid</th>\n",
       "      <th>staff_type</th>\n",
       "      <th>joined</th>\n",
       "    </tr>\n",
       "  </thead>\n",
       "  <tbody>\n",
       "    <tr>\n",
       "      <th>0</th>\n",
       "      <td>FT-45035010</td>\n",
       "      <td>full-time</td>\n",
       "      <td>24-12-2009</td>\n",
       "    </tr>\n",
       "    <tr>\n",
       "      <th>1</th>\n",
       "      <td>CT-82037769</td>\n",
       "      <td>contractor</td>\n",
       "      <td>27-08-2015</td>\n",
       "    </tr>\n",
       "    <tr>\n",
       "      <th>2</th>\n",
       "      <td>CT-46453770</td>\n",
       "      <td>contractor</td>\n",
       "      <td>30-01-2008</td>\n",
       "    </tr>\n",
       "  </tbody>\n",
       "</table>\n",
       "</div>"
      ],
      "text/plain": [
       "           sid  staff_type      joined\n",
       "0  FT-45035010   full-time  24-12-2009\n",
       "1  CT-82037769  contractor  27-08-2015\n",
       "2  CT-46453770  contractor  30-01-2008"
      ]
     },
     "execution_count": 15,
     "metadata": {},
     "output_type": "execute_result"
    }
   ],
   "source": [
    "df_staff.head(3)"
   ]
  },
  {
   "cell_type": "markdown",
   "metadata": {},
   "source": [
    "#### Associate online registration with start date\n",
    "without the other constraints we could easily use `correlate_date` method that correlates one date with a base date giving offset and spread"
   ]
  },
  {
   "cell_type": "code",
   "execution_count": 16,
   "metadata": {},
   "outputs": [],
   "source": [
    "result = tools.correlate_dates(df_staff['joined'], offset={'days': 7}, lower_spread=4)"
   ]
  },
  {
   "cell_type": "markdown",
   "metadata": {},
   "source": [
    "We can see from the offset limits max and min from the origional date we have a difference of between 3 and 7 days giving us our "
   ]
  },
  {
   "cell_type": "code",
   "execution_count": 17,
   "metadata": {},
   "outputs": [
    {
     "name": "stdout",
     "output_type": "stream",
     "text": [
      "min: 3, mean: 5, max: 7\n"
     ]
    }
   ],
   "source": [
    "def offset_limits(control, result):\n",
    "    diff_list = []\n",
    "    for index in range(rows):\n",
    "        c_time = pd.to_datetime(control[index], errors='coerce', infer_datetime_format=True, dayfirst=True)\n",
    "        r_time = pd.to_datetime(result[index], errors='coerce', infer_datetime_format=True, dayfirst=True)\n",
    "        diff_list.append(r_time - c_time)\n",
    "    max_diff = max(diff_list)\n",
    "    min_diff = min(diff_list)\n",
    "    mean_diff = np.mean(diff_list)\n",
    "    return min_diff, mean_diff, max_diff\n",
    "\n",
    "mn, me, mx = offset_limits(df_staff['joined'], result)\n",
    "print(\"min: {}, mean: {}, max: {}\".format(mn.days, me.days, mx.days))"
   ]
  },
  {
   "cell_type": "markdown",
   "metadata": {},
   "source": [
    "But registration only started 5 years ago so we need to set up some association rules.\n",
    "- if more than 5 years previously then generate a random date around the 10 days 5 years ago\n",
    "- if within the 5 years, associate the registration with the join"
   ]
  },
  {
   "cell_type": "code",
   "execution_count": 18,
   "metadata": {},
   "outputs": [],
   "source": [
    "associations = [{'joined': {'expect': 'date', 'value': ['01/01/2000', '31/12/2013']},\n",
    "                 'staff_type': {'expect': 'category', 'value': ['full-time', 'part-time']}},\n",
    "               {'joined': {'expect': 'date', 'value': ['31/12/2013', '31/12/2100']},\n",
    "                 'staff_type': {'expect': 'category', 'value': ['full-time', 'part-time']}}]\n",
    "\n",
    "actions = {0: {'action': 'get_datetime', 'kwargs' : {'start': \"05/01/2014\", 'until': \"16/01/2014\"}}, \n",
    "           1: {'action': 'correlate_dates', 'kwargs' : {'dates': {'_header': 'joined'}, 'offset': {'days': 9}, 'lower_spread': 4}}}\n",
    "\n",
    "df_staff['registered'] = tools.associate_dataset(df_staff, associations=associations, actions=actions, default_value=None)"
   ]
  },
  {
   "cell_type": "markdown",
   "metadata": {},
   "source": [
    "Looking at how the registrations match the joined we can clearly see the characeristics of mass registration at the mid point."
   ]
  },
  {
   "cell_type": "code",
   "execution_count": 19,
   "metadata": {},
   "outputs": [
    {
     "data": {
      "image/png": "[encoded data removed]",
      "text/plain": [
       "<Figure size 720x288 with 1 Axes>"
      ]
     },
     "metadata": {},
     "output_type": "display_data"
    }
   ],
   "source": [
    "df_staff = cleaner.to_date_type(df_staff, headers=['joined', 'registered'], as_num=True)\n",
    "\n",
    "fig = plt.figure(figsize=(10,4))\n",
    "sns.set(style=\"whitegrid\")\n",
    "ax = sns.kdeplot(df_staff['registered'], shade=True)\n",
    "ax = sns.kdeplot(df_staff['joined'], shade=True)\n",
    "#ax.set_xticks([0,1,2,3,4,5,6,7])\n",
    "#_ = ax.set_xticklabels(['2008','2010','2012','2015','2017','2019'])\n"
   ]
  },
  {
   "cell_type": "markdown",
   "metadata": {},
   "source": [
    "# In Conclusion\n",
    "* The Behavioral Synthetic Data Gen tooling allows random data to be more representative of an organisations data\n",
    "* It present random data on an ongoing basis that follows a set of complex pattern of ‘as is’ and/or 'what if' scenarios\n",
    "* \n",
    "* As an example\n",
    "    * Model complex datasets from behavioural and characteritic input that demonstrates potential value early\n",
    "    * Take the past, put in business intent and apply to future learning\n",
    "    * Extend a finite test/train to produce ongoing feedback loops\n"
   ]
  },
  {
   "cell_type": "code",
   "execution_count": null,
   "metadata": {},
   "outputs": [],
   "source": []
  }
 ],
 "metadata": {
  "kernelspec": {
   "display_name": "Python 3",
   "language": "python",
   "name": "python3"
  },
  "language_info": {
   "codemirror_mode": {
    "name": "ipython",
    "version": 3
   },
   "file_extension": ".py",
   "mimetype": "text/x-python",
   "name": "python",
   "nbconvert_exporter": "python",
   "pygments_lexer": "ipython3",
   "version": "3.6.8"
  }
 },
 "nbformat": 4,
 "nbformat_minor": 2
}
