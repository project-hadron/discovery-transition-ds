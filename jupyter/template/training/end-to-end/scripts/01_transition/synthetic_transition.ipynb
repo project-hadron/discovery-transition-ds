{
 "cells": [
  {
   "cell_type": "code",
   "execution_count": 1,
   "metadata": {},
   "outputs": [
    {
     "name": "stdout",
     "output_type": "stream",
     "text": [
      "DTU: 1.08.027\n",
      "DBU: 1.01.003\n"
     ]
    }
   ],
   "source": [
    "%run ../base_setup.ipynb"
   ]
  },
  {
   "cell_type": "markdown",
   "metadata": {},
   "source": [
    "# Accelerated Machine learning\n",
    "## Transitioning: Discovery and Observations\n",
    "As part of the Accelerated ML discovery vertical Transitioning is a foundation base truth allowing separation<br>\n",
    "of raw data and data fit-for-purpose for discovery analysis and the identification of features-of-interest\n",
    "\n",
    "### Retrieving the Transitioning Contract Pipeline\n",
    "* to retrieve the transitioning contract we create a Tranisioning instance using the unique reference name\n",
    "* the transitioning object is a singletone instance and will load the current pipeline contract or create a new one if it doesn't exist\n"
   ]
  },
  {
   "cell_type": "code",
   "execution_count": 2,
   "metadata": {},
   "outputs": [],
   "source": [
    "tr = Transition('synthetic')"
   ]
  },
  {
   "cell_type": "markdown",
   "metadata": {},
   "source": [
    "### Loading the source dataset\n",
    "All data coming through the Accelerated ML vertical is now in __canonical__ form, be it source data, reference data, data dictionaries or value add information, <br>\n",
    "In this case our __canonical__ is Pandas Dataframe as the most familar canonical with Python and Data Scientists. We will see more of this later.\n"
   ]
  },
  {
   "cell_type": "code",
   "execution_count": 3,
   "metadata": {
    "collapsed": true
   },
   "outputs": [],
   "source": [
    "df = tr.get_source_data()"
   ]
  },
  {
   "cell_type": "markdown",
   "metadata": {},
   "source": [
    "### Transitioning Discovery\n",
    "Within the Transitioning instance is a number of discovery tools to help with the visualisation and selection of data. <br>\n",
    "Within these are a set of discovery disctionaries\n",
    "* Data Disctionary\n",
    "* Stats Dictionary\n",
    "* Analysis Dictionary\n",
    "\n",
    "At this stage, of these we are going to use the `tr.data_dictionary(df)` to help us exainme the raw canonical<br>\n",
    "Note: as all dictionaries are also canonical in form, they can also be used as a source of features-of-interest. \n",
    "\n",
    "We will see more of this later\n"
   ]
  },
  {
   "cell_type": "markdown",
   "metadata": {},
   "source": [
    "#### Data Dictionary\n",
    "the Data dictionary provides a reference view of the dataset's attribute properties to allow for attribute typing and selection."
   ]
  },
  {
   "cell_type": "code",
   "execution_count": 4,
   "metadata": {
    "collapsed": true
   },
   "outputs": [
    {
     "data": {
      "text/html": [
       "<div>\n",
       "<style scoped>\n",
       "    .dataframe tbody tr th:only-of-type {\n",
       "        vertical-align: middle;\n",
       "    }\n",
       "\n",
       "    .dataframe tbody tr th {\n",
       "        vertical-align: top;\n",
       "    }\n",
       "\n",
       "    .dataframe thead th {\n",
       "        text-align: right;\n",
       "    }\n",
       "</style>\n",
       "<table border=\"1\" class=\"dataframe\">\n",
       "  <thead>\n",
       "    <tr style=\"text-align: right;\">\n",
       "      <th></th>\n",
       "      <th>Attribute</th>\n",
       "      <th>Type</th>\n",
       "      <th>% Nulls</th>\n",
       "      <th>Count</th>\n",
       "      <th>Unique</th>\n",
       "      <th>Observations</th>\n",
       "    </tr>\n",
       "  </thead>\n",
       "  <tbody>\n",
       "    <tr>\n",
       "      <th>0</th>\n",
       "      <td>age</td>\n",
       "      <td>float64</td>\n",
       "      <td>0.15</td>\n",
       "      <td>4250</td>\n",
       "      <td>4011</td>\n",
       "      <td>max=89.932 | min=20.07 | mean=46.92</td>\n",
       "    </tr>\n",
       "    <tr>\n",
       "      <th>1</th>\n",
       "      <td>balance</td>\n",
       "      <td>float64</td>\n",
       "      <td>0.00</td>\n",
       "      <td>5000</td>\n",
       "      <td>4386</td>\n",
       "      <td>max=990.62 | min=2.81 | mean=184.23</td>\n",
       "    </tr>\n",
       "    <tr>\n",
       "      <th>2</th>\n",
       "      <td>forename</td>\n",
       "      <td>object</td>\n",
       "      <td>0.00</td>\n",
       "      <td>5000</td>\n",
       "      <td>3962</td>\n",
       "      <td>Sample: Jared | Scarlett-Rose  | Silvia</td>\n",
       "    </tr>\n",
       "    <tr>\n",
       "      <th>3</th>\n",
       "      <td>gender</td>\n",
       "      <td>object</td>\n",
       "      <td>0.00</td>\n",
       "      <td>5000</td>\n",
       "      <td>2</td>\n",
       "      <td>Sample: M | F</td>\n",
       "    </tr>\n",
       "    <tr>\n",
       "      <th>4</th>\n",
       "      <td>id</td>\n",
       "      <td>object</td>\n",
       "      <td>0.00</td>\n",
       "      <td>5000</td>\n",
       "      <td>5000</td>\n",
       "      <td>Sample: CU_7659073 | CU_7864005 | CU_5298287</td>\n",
       "    </tr>\n",
       "    <tr>\n",
       "      <th>5</th>\n",
       "      <td>null</td>\n",
       "      <td>float64</td>\n",
       "      <td>1.00</td>\n",
       "      <td>0</td>\n",
       "      <td>0</td>\n",
       "      <td>max=nan | min=nan | mean=nan</td>\n",
       "    </tr>\n",
       "    <tr>\n",
       "      <th>6</th>\n",
       "      <td>online</td>\n",
       "      <td>float64</td>\n",
       "      <td>0.35</td>\n",
       "      <td>3250</td>\n",
       "      <td>2</td>\n",
       "      <td>max=1.0 | min=0.0 | mean=0.21</td>\n",
       "    </tr>\n",
       "    <tr>\n",
       "      <th>7</th>\n",
       "      <td>profession</td>\n",
       "      <td>object</td>\n",
       "      <td>0.00</td>\n",
       "      <td>5000</td>\n",
       "      <td>14</td>\n",
       "      <td>Sample: Health Coach III | Help Desk Operator | Senior Quality Engineer</td>\n",
       "    </tr>\n",
       "    <tr>\n",
       "      <th>8</th>\n",
       "      <td>single cat</td>\n",
       "      <td>object</td>\n",
       "      <td>0.40</td>\n",
       "      <td>3000</td>\n",
       "      <td>1</td>\n",
       "      <td>Sample: A</td>\n",
       "    </tr>\n",
       "    <tr>\n",
       "      <th>9</th>\n",
       "      <td>single num</td>\n",
       "      <td>float64</td>\n",
       "      <td>0.20</td>\n",
       "      <td>4000</td>\n",
       "      <td>1</td>\n",
       "      <td>max=1.0 | min=1.0 | mean=1.0</td>\n",
       "    </tr>\n",
       "    <tr>\n",
       "      <th>10</th>\n",
       "      <td>start</td>\n",
       "      <td>object</td>\n",
       "      <td>0.00</td>\n",
       "      <td>5000</td>\n",
       "      <td>364</td>\n",
       "      <td>Sample: 07-09-18 | 01-18-18 | 12-08-18</td>\n",
       "    </tr>\n",
       "    <tr>\n",
       "      <th>11</th>\n",
       "      <td>surname</td>\n",
       "      <td>object</td>\n",
       "      <td>0.00</td>\n",
       "      <td>5000</td>\n",
       "      <td>5000</td>\n",
       "      <td>Sample: Klages | Garry | Trenbeath</td>\n",
       "    </tr>\n",
       "    <tr>\n",
       "      <th>12</th>\n",
       "      <td>weight_cat</td>\n",
       "      <td>object</td>\n",
       "      <td>0.00</td>\n",
       "      <td>5000</td>\n",
       "      <td>3</td>\n",
       "      <td>Sample: C | B | A</td>\n",
       "    </tr>\n",
       "    <tr>\n",
       "      <th>13</th>\n",
       "      <td>weight_num</td>\n",
       "      <td>int64</td>\n",
       "      <td>0.00</td>\n",
       "      <td>5000</td>\n",
       "      <td>2</td>\n",
       "      <td>max=2 | min=1 | mean=1.01</td>\n",
       "    </tr>\n",
       "  </tbody>\n",
       "</table>\n",
       "</div>"
      ],
      "text/plain": [
       "     Attribute     Type  % Nulls  Count  Unique  \\\n",
       "0          age  float64     0.15   4250    4011   \n",
       "1      balance  float64     0.00   5000    4386   \n",
       "2     forename   object     0.00   5000    3962   \n",
       "3       gender   object     0.00   5000       2   \n",
       "4           id   object     0.00   5000    5000   \n",
       "5         null  float64     1.00      0       0   \n",
       "6       online  float64     0.35   3250       2   \n",
       "7   profession   object     0.00   5000      14   \n",
       "8   single cat   object     0.40   3000       1   \n",
       "9   single num  float64     0.20   4000       1   \n",
       "10       start   object     0.00   5000     364   \n",
       "11     surname   object     0.00   5000    5000   \n",
       "12  weight_cat   object     0.00   5000       3   \n",
       "13  weight_num    int64     0.00   5000       2   \n",
       "\n",
       "                                                               Observations  \n",
       "0                                       max=89.932 | min=20.07 | mean=46.92  \n",
       "1                                       max=990.62 | min=2.81 | mean=184.23  \n",
       "2                                   Sample: Jared | Scarlett-Rose  | Silvia  \n",
       "3                                                             Sample: M | F  \n",
       "4                              Sample: CU_7659073 | CU_7864005 | CU_5298287  \n",
       "5                                              max=nan | min=nan | mean=nan  \n",
       "6                                             max=1.0 | min=0.0 | mean=0.21  \n",
       "7   Sample: Health Coach III | Help Desk Operator | Senior Quality Engineer  \n",
       "8                                                                 Sample: A  \n",
       "9                                              max=1.0 | min=1.0 | mean=1.0  \n",
       "10                                   Sample: 07-09-18 | 01-18-18 | 12-08-18  \n",
       "11                                       Sample: Klages | Garry | Trenbeath  \n",
       "12                                                        Sample: C | B | A  \n",
       "13                                                max=2 | min=1 | mean=1.01  "
      ]
     },
     "execution_count": 4,
     "metadata": {},
     "output_type": "execute_result"
    }
   ],
   "source": [
    "tr.discover.data_dictionary(df)"
   ]
  },
  {
   "cell_type": "markdown",
   "metadata": {},
   "source": [
    "-------------\n",
    "### Discovery Observations\n",
    "#### Add any observations of the dataset\n",
    "* Add an overview description of the dataset\n",
    "* Include relevant information such as the source system and any issues or problems\n",
    "* Then add any observations for specific attributes that are noteworthy\n",
    "* Notes on attributes should only relate to transitioning that are not relevant to enrichment knowledge later in the processes\n",
    "\n",
    "First we add any general notes about this contract"
   ]
  },
  {
   "cell_type": "code",
   "execution_count": 5,
   "metadata": {},
   "outputs": [],
   "source": [
    "tr.notes_add(text='The file is a synthetic data file created for this demonstration')"
   ]
  },
  {
   "cell_type": "markdown",
   "metadata": {},
   "source": [
    "#### Add the data source\n",
    "It is good practice to also include the source of the data"
   ]
  },
  {
   "cell_type": "code",
   "execution_count": 6,
   "metadata": {},
   "outputs": [],
   "source": [
    "tr.notes_add(label='source', text='This was generated using the Discovery Behavioral Synthetic Data Generator')\n",
    "tr.notes_add(label='source', text='The script to rerun the data generation can be found in the synthetic scripts folder')"
   ]
  },
  {
   "cell_type": "markdown",
   "metadata": {},
   "source": [
    "#### Attribution Observations\n",
    "it is worth capturing observation where attributes might be removed or changed that are hidden from the transitioned view of data<br>\n",
    "for example the `weight_cat` attribute has values but it as a predomionant value that makes this column a likely candidtate for removal"
   ]
  },
  {
   "cell_type": "code",
   "execution_count": 7,
   "metadata": {},
   "outputs": [],
   "source": [
    "tr.notes_add(label='attr: null', text=\"Here for demo of removal of nulls\")\n",
    "tr.notes_add(label='attr: weight_cat', text=\"Demonstration of removal of columns with predominant values\")\n",
    "tr.notes_add(label='attr: weight_cat', text=\"the value 'A' is over 95% predominant\")\n",
    "tr.notes_add(label='attr: start', text=\"changing this to start_date so it being a date is obvious\")\n"
   ]
  },
  {
   "cell_type": "markdown",
   "metadata": {},
   "source": [
    "### Create a report on the notes\n",
    "We have asked for the notes to be stylised, this returns a style dataframe with elements blanked and formatted dates for presentation.<br>\n",
    "removing this parameter returns a canonical dataframe."
   ]
  },
  {
   "cell_type": "code",
   "execution_count": 8,
   "metadata": {},
   "outputs": [
    {
     "data": {
      "text/html": [
       "<style  type=\"text/css\" >\n",
       "    #T_2f7b4b34_7d4c_11e9_a8fb_784f439cb1c6row0_col0 {\n",
       "            text-align:  left;\n",
       "        }    #T_2f7b4b34_7d4c_11e9_a8fb_784f439cb1c6row0_col1 {\n",
       "            text-align:  left;\n",
       "        }    #T_2f7b4b34_7d4c_11e9_a8fb_784f439cb1c6row0_col2 {\n",
       "            text-align:  left;\n",
       "        }    #T_2f7b4b34_7d4c_11e9_a8fb_784f439cb1c6row1_col0 {\n",
       "            text-align:  left;\n",
       "        }    #T_2f7b4b34_7d4c_11e9_a8fb_784f439cb1c6row1_col1 {\n",
       "            text-align:  left;\n",
       "        }    #T_2f7b4b34_7d4c_11e9_a8fb_784f439cb1c6row1_col2 {\n",
       "            text-align:  left;\n",
       "        }    #T_2f7b4b34_7d4c_11e9_a8fb_784f439cb1c6row2_col0 {\n",
       "            text-align:  left;\n",
       "        }    #T_2f7b4b34_7d4c_11e9_a8fb_784f439cb1c6row2_col1 {\n",
       "            text-align:  left;\n",
       "        }    #T_2f7b4b34_7d4c_11e9_a8fb_784f439cb1c6row2_col2 {\n",
       "            text-align:  left;\n",
       "        }    #T_2f7b4b34_7d4c_11e9_a8fb_784f439cb1c6row3_col0 {\n",
       "            text-align:  left;\n",
       "        }    #T_2f7b4b34_7d4c_11e9_a8fb_784f439cb1c6row3_col1 {\n",
       "            text-align:  left;\n",
       "        }    #T_2f7b4b34_7d4c_11e9_a8fb_784f439cb1c6row3_col2 {\n",
       "            text-align:  left;\n",
       "        }    #T_2f7b4b34_7d4c_11e9_a8fb_784f439cb1c6row4_col0 {\n",
       "            text-align:  left;\n",
       "        }    #T_2f7b4b34_7d4c_11e9_a8fb_784f439cb1c6row4_col1 {\n",
       "            text-align:  left;\n",
       "        }    #T_2f7b4b34_7d4c_11e9_a8fb_784f439cb1c6row4_col2 {\n",
       "            text-align:  left;\n",
       "        }    #T_2f7b4b34_7d4c_11e9_a8fb_784f439cb1c6row5_col0 {\n",
       "            text-align:  left;\n",
       "        }    #T_2f7b4b34_7d4c_11e9_a8fb_784f439cb1c6row5_col1 {\n",
       "            text-align:  left;\n",
       "        }    #T_2f7b4b34_7d4c_11e9_a8fb_784f439cb1c6row5_col2 {\n",
       "            text-align:  left;\n",
       "        }    #T_2f7b4b34_7d4c_11e9_a8fb_784f439cb1c6row6_col0 {\n",
       "            text-align:  left;\n",
       "        }    #T_2f7b4b34_7d4c_11e9_a8fb_784f439cb1c6row6_col1 {\n",
       "            text-align:  left;\n",
       "        }    #T_2f7b4b34_7d4c_11e9_a8fb_784f439cb1c6row6_col2 {\n",
       "            text-align:  left;\n",
       "        }</style><table id=\"T_2f7b4b34_7d4c_11e9_a8fb_784f439cb1c6\" ><thead>    <tr>        <th class=\"blank level0\" ></th>        <th class=\"col_heading level0 col0\" >label</th>        <th class=\"col_heading level0 col1\" >date</th>        <th class=\"col_heading level0 col2\" >text</th>    </tr></thead><tbody>\n",
       "                <tr>\n",
       "                        <th id=\"T_2f7b4b34_7d4c_11e9_a8fb_784f439cb1c6level0_row0\" class=\"row_heading level0 row0\" >0</th>\n",
       "                        <td id=\"T_2f7b4b34_7d4c_11e9_a8fb_784f439cb1c6row0_col0\" class=\"data row0 col0\" >attr: null</td>\n",
       "                        <td id=\"T_2f7b4b34_7d4c_11e9_a8fb_784f439cb1c6row0_col1\" class=\"data row0 col1\" >2019-05-23 12:16</td>\n",
       "                        <td id=\"T_2f7b4b34_7d4c_11e9_a8fb_784f439cb1c6row0_col2\" class=\"data row0 col2\" >Here for demo of removal of nulls</td>\n",
       "            </tr>\n",
       "            <tr>\n",
       "                        <th id=\"T_2f7b4b34_7d4c_11e9_a8fb_784f439cb1c6level0_row1\" class=\"row_heading level0 row1\" >1</th>\n",
       "                        <td id=\"T_2f7b4b34_7d4c_11e9_a8fb_784f439cb1c6row1_col0\" class=\"data row1 col0\" >attr: start</td>\n",
       "                        <td id=\"T_2f7b4b34_7d4c_11e9_a8fb_784f439cb1c6row1_col1\" class=\"data row1 col1\" >2019-05-23 12:16</td>\n",
       "                        <td id=\"T_2f7b4b34_7d4c_11e9_a8fb_784f439cb1c6row1_col2\" class=\"data row1 col2\" >changing this to start_date so it being a date is obvious</td>\n",
       "            </tr>\n",
       "            <tr>\n",
       "                        <th id=\"T_2f7b4b34_7d4c_11e9_a8fb_784f439cb1c6level0_row2\" class=\"row_heading level0 row2\" >2</th>\n",
       "                        <td id=\"T_2f7b4b34_7d4c_11e9_a8fb_784f439cb1c6row2_col0\" class=\"data row2 col0\" >attr: weight_cat</td>\n",
       "                        <td id=\"T_2f7b4b34_7d4c_11e9_a8fb_784f439cb1c6row2_col1\" class=\"data row2 col1\" >2019-05-23 12:16</td>\n",
       "                        <td id=\"T_2f7b4b34_7d4c_11e9_a8fb_784f439cb1c6row2_col2\" class=\"data row2 col2\" >Demonstration of removal of columns with predominant values</td>\n",
       "            </tr>\n",
       "            <tr>\n",
       "                        <th id=\"T_2f7b4b34_7d4c_11e9_a8fb_784f439cb1c6level0_row3\" class=\"row_heading level0 row3\" >3</th>\n",
       "                        <td id=\"T_2f7b4b34_7d4c_11e9_a8fb_784f439cb1c6row3_col0\" class=\"data row3 col0\" ></td>\n",
       "                        <td id=\"T_2f7b4b34_7d4c_11e9_a8fb_784f439cb1c6row3_col1\" class=\"data row3 col1\" >2019-05-23 12:16</td>\n",
       "                        <td id=\"T_2f7b4b34_7d4c_11e9_a8fb_784f439cb1c6row3_col2\" class=\"data row3 col2\" >the value 'A' is over 95% predominant</td>\n",
       "            </tr>\n",
       "            <tr>\n",
       "                        <th id=\"T_2f7b4b34_7d4c_11e9_a8fb_784f439cb1c6level0_row4\" class=\"row_heading level0 row4\" >4</th>\n",
       "                        <td id=\"T_2f7b4b34_7d4c_11e9_a8fb_784f439cb1c6row4_col0\" class=\"data row4 col0\" >notes</td>\n",
       "                        <td id=\"T_2f7b4b34_7d4c_11e9_a8fb_784f439cb1c6row4_col1\" class=\"data row4 col1\" >2019-05-23 12:16</td>\n",
       "                        <td id=\"T_2f7b4b34_7d4c_11e9_a8fb_784f439cb1c6row4_col2\" class=\"data row4 col2\" >The file is a synthetic data file created for this demonstration</td>\n",
       "            </tr>\n",
       "            <tr>\n",
       "                        <th id=\"T_2f7b4b34_7d4c_11e9_a8fb_784f439cb1c6level0_row5\" class=\"row_heading level0 row5\" >5</th>\n",
       "                        <td id=\"T_2f7b4b34_7d4c_11e9_a8fb_784f439cb1c6row5_col0\" class=\"data row5 col0\" >source</td>\n",
       "                        <td id=\"T_2f7b4b34_7d4c_11e9_a8fb_784f439cb1c6row5_col1\" class=\"data row5 col1\" >2019-05-23 12:16</td>\n",
       "                        <td id=\"T_2f7b4b34_7d4c_11e9_a8fb_784f439cb1c6row5_col2\" class=\"data row5 col2\" >This was generated using the Discovery Behavioral Synthetic Data Generator</td>\n",
       "            </tr>\n",
       "            <tr>\n",
       "                        <th id=\"T_2f7b4b34_7d4c_11e9_a8fb_784f439cb1c6level0_row6\" class=\"row_heading level0 row6\" >6</th>\n",
       "                        <td id=\"T_2f7b4b34_7d4c_11e9_a8fb_784f439cb1c6row6_col0\" class=\"data row6 col0\" ></td>\n",
       "                        <td id=\"T_2f7b4b34_7d4c_11e9_a8fb_784f439cb1c6row6_col1\" class=\"data row6 col1\" >2019-05-23 12:16</td>\n",
       "                        <td id=\"T_2f7b4b34_7d4c_11e9_a8fb_784f439cb1c6row6_col2\" class=\"data row6 col2\" >The script to rerun the data generation can be found in the synthetic scripts folder</td>\n",
       "            </tr>\n",
       "    </tbody></table>"
      ],
      "text/plain": [
       "<pandas.io.formats.style.Styler at 0x107b748d0>"
      ]
     },
     "execution_count": 8,
     "metadata": {},
     "output_type": "execute_result"
    }
   ],
   "source": [
    "tr.notes_report(stylise=True)"
   ]
  },
  {
   "cell_type": "markdown",
   "metadata": {},
   "source": [
    "-----------------\n",
    "## Transitioning: Contract Pipeline\n",
    "The clean methods are separated into two main types:\n",
    "* auto: allows the auto selection and filtering of a complete dataset\n",
    "* to: for data typing as a transitioning process into useable datatypes for feature discovery\n",
    "\n",
    "They are static methods that can be used as tools but here we use them to build our filter and typing intent as a contract pipeline."
   ]
  },
  {
   "cell_type": "code",
   "execution_count": 9,
   "metadata": {},
   "outputs": [
    {
     "data": {
      "text/plain": [
       "['auto_clean_header',\n",
       " 'auto_drop_duplicates',\n",
       " 'auto_remove_columns',\n",
       " 'auto_to_category',\n",
       " 'filter_columns',\n",
       " 'filter_headers',\n",
       " 'run_contract_pipeline',\n",
       " 'to_bool_type',\n",
       " 'to_category_type',\n",
       " 'to_date_from_excel_type',\n",
       " 'to_date_type',\n",
       " 'to_float_type',\n",
       " 'to_int_type',\n",
       " 'to_numeric_type',\n",
       " 'to_remove',\n",
       " 'to_select',\n",
       " 'to_str_type']"
      ]
     },
     "execution_count": 9,
     "metadata": {},
     "output_type": "execute_result"
    }
   ],
   "source": [
    "tr.clean.__dir__()"
   ]
  },
  {
   "cell_type": "markdown",
   "metadata": {},
   "source": [
    "### Using the Cleaner Class methods\n",
    "The class methods are static and by default return the typed or filtered DataFrame<br>\n",
    "in this example converting `start` to a date type. Note being a typed attribute the observations now change giving max, min and mean."
   ]
  },
  {
   "cell_type": "code",
   "execution_count": 10,
   "metadata": {},
   "outputs": [
    {
     "data": {
      "text/html": [
       "<div>\n",
       "<style scoped>\n",
       "    .dataframe tbody tr th:only-of-type {\n",
       "        vertical-align: middle;\n",
       "    }\n",
       "\n",
       "    .dataframe tbody tr th {\n",
       "        vertical-align: top;\n",
       "    }\n",
       "\n",
       "    .dataframe thead th {\n",
       "        text-align: right;\n",
       "    }\n",
       "</style>\n",
       "<table border=\"1\" class=\"dataframe\">\n",
       "  <thead>\n",
       "    <tr style=\"text-align: right;\">\n",
       "      <th></th>\n",
       "      <th>Attribute</th>\n",
       "      <th>Type</th>\n",
       "      <th>% Nulls</th>\n",
       "      <th>Count</th>\n",
       "      <th>Unique</th>\n",
       "      <th>Observations</th>\n",
       "    </tr>\n",
       "  </thead>\n",
       "  <tbody>\n",
       "    <tr>\n",
       "      <th>9</th>\n",
       "      <td>single num</td>\n",
       "      <td>float64</td>\n",
       "      <td>0.2</td>\n",
       "      <td>4000</td>\n",
       "      <td>1</td>\n",
       "      <td>max=1.0 | min=1.0 | mean=1.0</td>\n",
       "    </tr>\n",
       "    <tr>\n",
       "      <th>10</th>\n",
       "      <td>start</td>\n",
       "      <td>datetime64[ns]</td>\n",
       "      <td>0.0</td>\n",
       "      <td>5000</td>\n",
       "      <td>364</td>\n",
       "      <td>max=2018-12-30 00:00:00 | min=2018-01-01 00:00:00 | yr mean= 2018</td>\n",
       "    </tr>\n",
       "    <tr>\n",
       "      <th>11</th>\n",
       "      <td>surname</td>\n",
       "      <td>object</td>\n",
       "      <td>0.0</td>\n",
       "      <td>5000</td>\n",
       "      <td>5000</td>\n",
       "      <td>Sample: Brems | Waycott | Rivena</td>\n",
       "    </tr>\n",
       "  </tbody>\n",
       "</table>\n",
       "</div>"
      ],
      "text/plain": [
       "     Attribute            Type  % Nulls  Count  Unique  \\\n",
       "9   single num         float64      0.2   4000       1   \n",
       "10       start  datetime64[ns]      0.0   5000     364   \n",
       "11     surname          object      0.0   5000    5000   \n",
       "\n",
       "                                                         Observations  \n",
       "9                                        max=1.0 | min=1.0 | mean=1.0  \n",
       "10  max=2018-12-30 00:00:00 | min=2018-01-01 00:00:00 | yr mean= 2018  \n",
       "11                                   Sample: Brems | Waycott | Rivena  "
      ]
     },
     "execution_count": 10,
     "metadata": {},
     "output_type": "execute_result"
    }
   ],
   "source": [
    "df_typed = tr.clean.to_date_type(df, headers=['start'])\n",
    "tr.discover.data_dictionary(df_typed).iloc[9:12]"
   ]
  },
  {
   "cell_type": "markdown",
   "metadata": {},
   "source": [
    "### Extracting the Parameterised Intent\n",
    "in order to create the **_contract pipeline_** we are looking to extract the **_parameterised intent_** from the method.<br>\n",
    "To do this we commit the change to the origional Dataframe by setting the parameter `inplace` to True"
   ]
  },
  {
   "cell_type": "code",
   "execution_count": 11,
   "metadata": {},
   "outputs": [
    {
     "data": {
      "text/plain": [
       "{'to_date': {'headers': ['start'],\n",
       "  'drop': False,\n",
       "  'exclude': False,\n",
       "  'as_num': False,\n",
       "  'day_first': False,\n",
       "  'year_first': False}}"
      ]
     },
     "execution_count": 11,
     "metadata": {},
     "output_type": "execute_result"
    }
   ],
   "source": [
    "intent = tr.clean.to_date_type(df, headers=['start'], inplace=True)\n",
    "intent"
   ]
  },
  {
   "cell_type": "markdown",
   "metadata": {},
   "source": [
    "### Adding the Intent to the Transitioning Pipeline\n",
    "When we include `inplace` what is now returned is the **_parameterised intent_** from the change to the DataFrame<br>\n",
    "We can now take this **_intent_** and record it in our transitioning instance as a **_pipeline contract_**.<br>"
   ]
  },
  {
   "cell_type": "code",
   "execution_count": 12,
   "metadata": {},
   "outputs": [],
   "source": [
    "tr.set_cleaner(intent)"
   ]
  },
  {
   "cell_type": "markdown",
   "metadata": {},
   "source": [
    "... and that's it now recorded as part of our runnable pipeline contract.\n",
    "\n",
    "We can of course run it as a single command\n",
    "> `tr.set_cleaner(tr.clean.to_date_type(df, headers=['start'], inplace=True))`"
   ]
  },
  {
   "cell_type": "markdown",
   "metadata": {},
   "source": [
    "### Auto filters special case\n",
    "The methods `auto_remove_columns` and `auto_to_category` have two different methods of recording **_intent_**\n",
    "* an auto generated outcome that represents the actual parameterised intent\n",
    "* the intent to auto filter. \n",
    "\n",
    "Here is an example:\n",
    "\n",
    "* in the first instance we will generate the intent to auto remove\n",
    "* we then reload the file and run it again with the parameter `auto_contract` and set it to False"
   ]
  },
  {
   "cell_type": "code",
   "execution_count": 13,
   "metadata": {},
   "outputs": [
    {
     "data": {
      "text/plain": [
       "{'auto_remove': {'null_min': 0.998, 'predominant_max': 0.998}}"
      ]
     },
     "execution_count": 13,
     "metadata": {},
     "output_type": "execute_result"
    }
   ],
   "source": [
    "tr.clean.auto_remove_columns(df, inplace=True)"
   ]
  },
  {
   "cell_type": "code",
   "execution_count": 14,
   "metadata": {},
   "outputs": [
    {
     "data": {
      "text/plain": [
       "{'to_remove': {'headers': ['single num', 'null', 'single cat'],\n",
       "  'drop': False,\n",
       "  'exclude': False}}"
      ]
     },
     "execution_count": 14,
     "metadata": {},
     "output_type": "execute_result"
    }
   ],
   "source": [
    "# reload the data source to return the missing columns\n",
    "df = tr.get_source_data()\n",
    "\n",
    "tr.clean.auto_remove_columns(df, auto_contract=False, inplace=True)"
   ]
  },
  {
   "cell_type": "markdown",
   "metadata": {},
   "source": [
    "as you see wit the second output, the actual headers to be removed have been recorded as the intent. This allows flexibility in how we choose to control the auto filtering of incoming files though our contract pipeline.\n",
    "\n",
    "The logic works like this:\n",
    "* With the first exmaple each time we run our contract pipeline the auto remove will remove **ANY** column that matches the auto remove criteria\n",
    "* With the second example **ONLY** the columns identified in this discovery analysis will be removed. Therefore in a subsequent file should another column appear that has null, constant or Quasi-contant values it will be passed through.\n",
    "* The second example also allows us to discover what it is the Auto Remove has removed allowing us to optimise the threshold values passed."
   ]
  },
  {
   "cell_type": "code",
   "execution_count": null,
   "metadata": {},
   "outputs": [],
   "source": []
  },
  {
   "cell_type": "markdown",
   "metadata": {},
   "source": [
    "------------\n",
    "## Transitioning: Selection, Filter and Typing\n",
    "We can reload our data source, re-examine the Data Dictionary and start the process of transitioning the Dataset.\n"
   ]
  },
  {
   "cell_type": "code",
   "execution_count": 15,
   "metadata": {},
   "outputs": [
    {
     "data": {
      "text/html": [
       "<div>\n",
       "<style scoped>\n",
       "    .dataframe tbody tr th:only-of-type {\n",
       "        vertical-align: middle;\n",
       "    }\n",
       "\n",
       "    .dataframe tbody tr th {\n",
       "        vertical-align: top;\n",
       "    }\n",
       "\n",
       "    .dataframe thead th {\n",
       "        text-align: right;\n",
       "    }\n",
       "</style>\n",
       "<table border=\"1\" class=\"dataframe\">\n",
       "  <thead>\n",
       "    <tr style=\"text-align: right;\">\n",
       "      <th></th>\n",
       "      <th>Attribute</th>\n",
       "      <th>Type</th>\n",
       "      <th>% Nulls</th>\n",
       "      <th>Count</th>\n",
       "      <th>Unique</th>\n",
       "      <th>Observations</th>\n",
       "    </tr>\n",
       "  </thead>\n",
       "  <tbody>\n",
       "    <tr>\n",
       "      <th>0</th>\n",
       "      <td>age</td>\n",
       "      <td>float64</td>\n",
       "      <td>0.15</td>\n",
       "      <td>4250</td>\n",
       "      <td>4011</td>\n",
       "      <td>max=89.932 | min=20.07 | mean=46.92</td>\n",
       "    </tr>\n",
       "    <tr>\n",
       "      <th>1</th>\n",
       "      <td>balance</td>\n",
       "      <td>float64</td>\n",
       "      <td>0.00</td>\n",
       "      <td>5000</td>\n",
       "      <td>4386</td>\n",
       "      <td>max=990.62 | min=2.81 | mean=184.23</td>\n",
       "    </tr>\n",
       "    <tr>\n",
       "      <th>2</th>\n",
       "      <td>forename</td>\n",
       "      <td>object</td>\n",
       "      <td>0.00</td>\n",
       "      <td>5000</td>\n",
       "      <td>3962</td>\n",
       "      <td>Sample: Richie | Elisa  | Fermin</td>\n",
       "    </tr>\n",
       "    <tr>\n",
       "      <th>3</th>\n",
       "      <td>gender</td>\n",
       "      <td>object</td>\n",
       "      <td>0.00</td>\n",
       "      <td>5000</td>\n",
       "      <td>2</td>\n",
       "      <td>Sample: F | M</td>\n",
       "    </tr>\n",
       "    <tr>\n",
       "      <th>4</th>\n",
       "      <td>id</td>\n",
       "      <td>object</td>\n",
       "      <td>0.00</td>\n",
       "      <td>5000</td>\n",
       "      <td>5000</td>\n",
       "      <td>Sample: CU_8927785 | CU_9279989 | CU_1927711</td>\n",
       "    </tr>\n",
       "    <tr>\n",
       "      <th>5</th>\n",
       "      <td>null</td>\n",
       "      <td>float64</td>\n",
       "      <td>1.00</td>\n",
       "      <td>0</td>\n",
       "      <td>0</td>\n",
       "      <td>max=nan | min=nan | mean=nan</td>\n",
       "    </tr>\n",
       "    <tr>\n",
       "      <th>6</th>\n",
       "      <td>online</td>\n",
       "      <td>float64</td>\n",
       "      <td>0.35</td>\n",
       "      <td>3250</td>\n",
       "      <td>2</td>\n",
       "      <td>max=1.0 | min=0.0 | mean=0.21</td>\n",
       "    </tr>\n",
       "    <tr>\n",
       "      <th>7</th>\n",
       "      <td>profession</td>\n",
       "      <td>object</td>\n",
       "      <td>0.00</td>\n",
       "      <td>5000</td>\n",
       "      <td>14</td>\n",
       "      <td>Sample: Structural Engineer | Help Desk Operator | Actuary</td>\n",
       "    </tr>\n",
       "    <tr>\n",
       "      <th>8</th>\n",
       "      <td>single cat</td>\n",
       "      <td>object</td>\n",
       "      <td>0.40</td>\n",
       "      <td>3000</td>\n",
       "      <td>1</td>\n",
       "      <td>Sample: A</td>\n",
       "    </tr>\n",
       "    <tr>\n",
       "      <th>9</th>\n",
       "      <td>single num</td>\n",
       "      <td>float64</td>\n",
       "      <td>0.20</td>\n",
       "      <td>4000</td>\n",
       "      <td>1</td>\n",
       "      <td>max=1.0 | min=1.0 | mean=1.0</td>\n",
       "    </tr>\n",
       "    <tr>\n",
       "      <th>10</th>\n",
       "      <td>start</td>\n",
       "      <td>object</td>\n",
       "      <td>0.00</td>\n",
       "      <td>5000</td>\n",
       "      <td>364</td>\n",
       "      <td>Sample: 07-03-18 | 04-18-18 | 08-10-18</td>\n",
       "    </tr>\n",
       "    <tr>\n",
       "      <th>11</th>\n",
       "      <td>surname</td>\n",
       "      <td>object</td>\n",
       "      <td>0.00</td>\n",
       "      <td>5000</td>\n",
       "      <td>5000</td>\n",
       "      <td>Sample: Framer | Arnerich | Vientos</td>\n",
       "    </tr>\n",
       "    <tr>\n",
       "      <th>12</th>\n",
       "      <td>weight_cat</td>\n",
       "      <td>object</td>\n",
       "      <td>0.00</td>\n",
       "      <td>5000</td>\n",
       "      <td>3</td>\n",
       "      <td>Sample: C | B | A</td>\n",
       "    </tr>\n",
       "    <tr>\n",
       "      <th>13</th>\n",
       "      <td>weight_num</td>\n",
       "      <td>int64</td>\n",
       "      <td>0.00</td>\n",
       "      <td>5000</td>\n",
       "      <td>2</td>\n",
       "      <td>max=2 | min=1 | mean=1.01</td>\n",
       "    </tr>\n",
       "  </tbody>\n",
       "</table>\n",
       "</div>"
      ],
      "text/plain": [
       "     Attribute     Type  % Nulls  Count  Unique  \\\n",
       "0          age  float64     0.15   4250    4011   \n",
       "1      balance  float64     0.00   5000    4386   \n",
       "2     forename   object     0.00   5000    3962   \n",
       "3       gender   object     0.00   5000       2   \n",
       "4           id   object     0.00   5000    5000   \n",
       "5         null  float64     1.00      0       0   \n",
       "6       online  float64     0.35   3250       2   \n",
       "7   profession   object     0.00   5000      14   \n",
       "8   single cat   object     0.40   3000       1   \n",
       "9   single num  float64     0.20   4000       1   \n",
       "10       start   object     0.00   5000     364   \n",
       "11     surname   object     0.00   5000    5000   \n",
       "12  weight_cat   object     0.00   5000       3   \n",
       "13  weight_num    int64     0.00   5000       2   \n",
       "\n",
       "                                                  Observations  \n",
       "0                          max=89.932 | min=20.07 | mean=46.92  \n",
       "1                          max=990.62 | min=2.81 | mean=184.23  \n",
       "2                             Sample: Richie | Elisa  | Fermin  \n",
       "3                                                Sample: F | M  \n",
       "4                 Sample: CU_8927785 | CU_9279989 | CU_1927711  \n",
       "5                                 max=nan | min=nan | mean=nan  \n",
       "6                                max=1.0 | min=0.0 | mean=0.21  \n",
       "7   Sample: Structural Engineer | Help Desk Operator | Actuary  \n",
       "8                                                    Sample: A  \n",
       "9                                 max=1.0 | min=1.0 | mean=1.0  \n",
       "10                      Sample: 07-03-18 | 04-18-18 | 08-10-18  \n",
       "11                         Sample: Framer | Arnerich | Vientos  \n",
       "12                                           Sample: C | B | A  \n",
       "13                                   max=2 | min=1 | mean=1.01  "
      ]
     },
     "execution_count": 15,
     "metadata": {},
     "output_type": "execute_result"
    }
   ],
   "source": [
    "df = tr.get_source_data()\n",
    "tr.discover.data_dictionary(df)"
   ]
  },
  {
   "cell_type": "markdown",
   "metadata": {},
   "source": [
    "### Tidy the headers\n",
    "as good practice we clean the headers.\n",
    "* this removes any hidden characters that sometimes lurk in the header name\n",
    "* replaces spaces in `single num` and `single cat` with underscore (use `replace_spaces` parameter to specify a different character) \n",
    "* optionally set a case type for consitency across the headers (options are `lower`, `upper`, `title`)\n",
    "* optionally in this case we are also going to rename `start` to be `start_date` to identify it as a date"
   ]
  },
  {
   "cell_type": "code",
   "execution_count": 16,
   "metadata": {
    "collapsed": true
   },
   "outputs": [],
   "source": [
    "tr.set_cleaner(tr.clean.auto_clean_header(df, rename_map={'start': 'start_date'}, inplace=True))"
   ]
  },
  {
   "cell_type": "markdown",
   "metadata": {},
   "source": [
    "### Auto remove selection\n",
    "The `auto_remove_columns` and method quickly allows us to remove columns that contain poor quality data. We will remove columns with:\n",
    "* more than 99% nulls\n",
    "* has a predominant value of more than 90% \n",
    "\n",
    "in addition we are going to pass in an extra list of considered null values, in this case empty string, to be considered as a null."
   ]
  },
  {
   "cell_type": "code",
   "execution_count": 17,
   "metadata": {
    "collapsed": true
   },
   "outputs": [],
   "source": [
    "tr.set_cleaner(tr.clean.auto_remove_columns(df, null_min=0.99, predominant_max=0.90,inplace=True, nulls_list=['']))"
   ]
  },
  {
   "cell_type": "markdown",
   "metadata": {},
   "source": [
    "### Auto categorise filter\n",
    "The `auto_to_category` method allows us to quickly convert large coulns of data into the useful Categorical data type.<br>\n",
    "as setable parameters it considers\n",
    "* the number of unique items in the columns\n",
    "* a null value threshold so the unique numbers are not a result of poor data quantity"
   ]
  },
  {
   "cell_type": "code",
   "execution_count": 18,
   "metadata": {
    "collapsed": true
   },
   "outputs": [],
   "source": [
    "tr.set_cleaner(tr.clean.auto_to_category(df, unique_max=20, null_max=0.7, inplace=True))"
   ]
  },
  {
   "cell_type": "markdown",
   "metadata": {},
   "source": [
    "### Category and Date typing\n",
    "with most data transposition to a useful and usable dataset, the conversion of Dates and Categories is probably the most common.<br>\n",
    "the methods `to_category_type` and `to_date_type` fullfil this.\n",
    "\n",
    "In both methods we are using the `headers` parameter though you can also filter by `dtype` or a regex."
   ]
  },
  {
   "cell_type": "code",
   "execution_count": 19,
   "metadata": {
    "collapsed": true
   },
   "outputs": [],
   "source": [
    "# Typing Catagories\n",
    "tr.set_cleaner(tr.clean.to_category_type(df, headers=['gender', 'profession'], inplace=True))\n",
    "# Typing Dates \n",
    "tr.set_cleaner(tr.clean.to_date_type(df, headers='start_date', inplace=True))\n"
   ]
  },
  {
   "cell_type": "markdown",
   "metadata": {},
   "source": [
    "### Boolean typing\n",
    "The `to_bool_type` allows us to specify a map of values to turn to true, with others default to false."
   ]
  },
  {
   "cell_type": "code",
   "execution_count": 20,
   "metadata": {
    "collapsed": true
   },
   "outputs": [],
   "source": [
    "tr.set_cleaner(tr.clean.to_bool_type(df, bool_map={1: True}, headers='online', inplace=True))"
   ]
  },
  {
   "cell_type": "markdown",
   "metadata": {},
   "source": [
    "### Float, String Typing\n",
    "Finally to tidy up our final types we run them through our typing methods to ensure they are fit for purpose.<br>\n",
    "here we have used the `dtype` parameter to capture all remaing columns of those types, and also set the precision of the `floats` to be 3"
   ]
  },
  {
   "cell_type": "code",
   "execution_count": 21,
   "metadata": {
    "collapsed": true
   },
   "outputs": [],
   "source": [
    "tr.set_cleaner(tr.clean.to_float_type(df, dtype=['float'], precision=3, inplace=True))\n",
    "\n",
    "tr.set_cleaner(tr.clean.to_str_type(df, dtype=['object'], inplace=True))"
   ]
  },
  {
   "cell_type": "markdown",
   "metadata": {},
   "source": [
    "### Integer Typing\n",
    "it should be noted that we didn't convert `age` to an `int` as we are going to defer that up to the feature cataloging to make the decision on how to convert out the `nulls`. But we could have used the built in functions here to convert `age` and replace the `nulls` with an alternative value\n",
    "\n",
    "> `tr.clean.to_int_type(df, headers='age', fillna='mean' inplace=True)`\n",
    "\n",
    "In the above code snippet we converted `age` from a `float`, replacing the `nulls`, that stopped it being an `int`, to the `mean` of the values.\n",
    "\n",
    "This convertsion should be made with care as you are hiding data changes from the feature cataloguing \n"
   ]
  },
  {
   "cell_type": "markdown",
   "metadata": {},
   "source": [
    "----------\n",
    "## Transitioning: Finalise and Validate\n",
    "### Persist the the Canonical\n",
    "We now have out typed, selected and filtered canonical ready for Feature Cataloging. From this we need to \n",
    "* Create an Excel Data Dictionary for external SME feedback and reporting\n",
    "* Persist the canonical so it can be used for Feature Cataloging\n",
    "\n",
    "Because the transitioning instance is managing governance and naming convention we only have to pass the DataFrame and it does all the rest."
   ]
  },
  {
   "cell_type": "code",
   "execution_count": 22,
   "metadata": {
    "collapsed": true
   },
   "outputs": [],
   "source": [
    "# Create the excel data dictionary\n",
    "tr.create_data_dictionary(df)\n",
    "\n",
    "# save the clean file\n",
    "tr.save_canonical(df)"
   ]
  },
  {
   "cell_type": "markdown",
   "metadata": {},
   "source": [
    "### Validation\n",
    "We can validate our file has been saved by reloading it and checking all the correct typing and filtering has happened.\n",
    "\n",
    "Again because we are using the transitioning instance we only need to call `load_canonical` without parameters to retrieve our canonical dataset"
   ]
  },
  {
   "cell_type": "code",
   "execution_count": 23,
   "metadata": {
    "collapsed": true
   },
   "outputs": [
    {
     "data": {
      "text/html": [
       "<div>\n",
       "<style scoped>\n",
       "    .dataframe tbody tr th:only-of-type {\n",
       "        vertical-align: middle;\n",
       "    }\n",
       "\n",
       "    .dataframe tbody tr th {\n",
       "        vertical-align: top;\n",
       "    }\n",
       "\n",
       "    .dataframe thead th {\n",
       "        text-align: right;\n",
       "    }\n",
       "</style>\n",
       "<table border=\"1\" class=\"dataframe\">\n",
       "  <thead>\n",
       "    <tr style=\"text-align: right;\">\n",
       "      <th></th>\n",
       "      <th>Attribute</th>\n",
       "      <th>Type</th>\n",
       "      <th>% Nulls</th>\n",
       "      <th>Count</th>\n",
       "      <th>Unique</th>\n",
       "      <th>Observations</th>\n",
       "    </tr>\n",
       "  </thead>\n",
       "  <tbody>\n",
       "    <tr>\n",
       "      <th>0</th>\n",
       "      <td>age</td>\n",
       "      <td>float64</td>\n",
       "      <td>0.15</td>\n",
       "      <td>4250</td>\n",
       "      <td>4011</td>\n",
       "      <td>max=89.932 | min=20.07 | mean=46.92</td>\n",
       "    </tr>\n",
       "    <tr>\n",
       "      <th>1</th>\n",
       "      <td>balance</td>\n",
       "      <td>float64</td>\n",
       "      <td>0.00</td>\n",
       "      <td>5000</td>\n",
       "      <td>4386</td>\n",
       "      <td>max=990.62 | min=2.81 | mean=184.23</td>\n",
       "    </tr>\n",
       "    <tr>\n",
       "      <th>2</th>\n",
       "      <td>forename</td>\n",
       "      <td>object</td>\n",
       "      <td>0.00</td>\n",
       "      <td>5000</td>\n",
       "      <td>3962</td>\n",
       "      <td>Sample: Emir  | Tyrese  | Fay</td>\n",
       "    </tr>\n",
       "    <tr>\n",
       "      <th>3</th>\n",
       "      <td>gender</td>\n",
       "      <td>category</td>\n",
       "      <td>0.00</td>\n",
       "      <td>5000</td>\n",
       "      <td>2</td>\n",
       "      <td>F|M</td>\n",
       "    </tr>\n",
       "    <tr>\n",
       "      <th>4</th>\n",
       "      <td>id</td>\n",
       "      <td>object</td>\n",
       "      <td>0.00</td>\n",
       "      <td>5000</td>\n",
       "      <td>5000</td>\n",
       "      <td>Sample: CU_1707826 | CU_3033492 | CU_6880978</td>\n",
       "    </tr>\n",
       "    <tr>\n",
       "      <th>5</th>\n",
       "      <td>online</td>\n",
       "      <td>bool</td>\n",
       "      <td>0.00</td>\n",
       "      <td>5000</td>\n",
       "      <td>2</td>\n",
       "      <td>False | True</td>\n",
       "    </tr>\n",
       "    <tr>\n",
       "      <th>6</th>\n",
       "      <td>profession</td>\n",
       "      <td>category</td>\n",
       "      <td>0.00</td>\n",
       "      <td>5000</td>\n",
       "      <td>14</td>\n",
       "      <td>Actuary|Financial Advisor|Health Coach III|Help Desk Operator|Internal ...</td>\n",
       "    </tr>\n",
       "    <tr>\n",
       "      <th>7</th>\n",
       "      <td>start_date</td>\n",
       "      <td>datetime64[ns]</td>\n",
       "      <td>0.00</td>\n",
       "      <td>5000</td>\n",
       "      <td>364</td>\n",
       "      <td>max=2018-12-30 00:00:00 | min=2018-01-01 00:00:00 | yr mean= 2018</td>\n",
       "    </tr>\n",
       "    <tr>\n",
       "      <th>8</th>\n",
       "      <td>surname</td>\n",
       "      <td>object</td>\n",
       "      <td>0.00</td>\n",
       "      <td>5000</td>\n",
       "      <td>5000</td>\n",
       "      <td>Sample: Garnham | Ottum | Keen</td>\n",
       "    </tr>\n",
       "  </tbody>\n",
       "</table>\n",
       "</div>"
      ],
      "text/plain": [
       "    Attribute            Type  % Nulls  Count  Unique  \\\n",
       "0         age         float64     0.15   4250    4011   \n",
       "1     balance         float64     0.00   5000    4386   \n",
       "2    forename          object     0.00   5000    3962   \n",
       "3      gender        category     0.00   5000       2   \n",
       "4          id          object     0.00   5000    5000   \n",
       "5      online            bool     0.00   5000       2   \n",
       "6  profession        category     0.00   5000      14   \n",
       "7  start_date  datetime64[ns]     0.00   5000     364   \n",
       "8     surname          object     0.00   5000    5000   \n",
       "\n",
       "                                                                 Observations  \n",
       "0                                         max=89.932 | min=20.07 | mean=46.92  \n",
       "1                                         max=990.62 | min=2.81 | mean=184.23  \n",
       "2                                               Sample: Emir  | Tyrese  | Fay  \n",
       "3                                                                         F|M  \n",
       "4                                Sample: CU_1707826 | CU_3033492 | CU_6880978  \n",
       "5                                                                False | True  \n",
       "6  Actuary|Financial Advisor|Health Coach III|Help Desk Operator|Internal ...  \n",
       "7           max=2018-12-30 00:00:00 | min=2018-01-01 00:00:00 | yr mean= 2018  \n",
       "8                                              Sample: Garnham | Ottum | Keen  "
      ]
     },
     "execution_count": 23,
     "metadata": {},
     "output_type": "execute_result"
    }
   ],
   "source": [
    "# check the results worked\n",
    "df = tr.load_canonical()\n",
    "tr.discover.data_dictionary(df)"
   ]
  },
  {
   "cell_type": "markdown",
   "metadata": {},
   "source": [
    "---------\n",
    "## Transitioning: Running the Pipeline Contract\n",
    "Running the Pipeline Contract is very easy, because you have the Transitioning instance you simply refresh your cannonical dataset<br>\n",
    "\n",
    "How it works:\n",
    "* loads the new source dataset\n",
    "* loads the contracts parameterised intent (pipeline contract)\n",
    "* runs the intent against the dataset\n",
    "* returns the transitioned canonical"
   ]
  },
  {
   "cell_type": "code",
   "execution_count": 25,
   "metadata": {},
   "outputs": [
    {
     "data": {
      "text/html": [
       "<div>\n",
       "<style scoped>\n",
       "    .dataframe tbody tr th:only-of-type {\n",
       "        vertical-align: middle;\n",
       "    }\n",
       "\n",
       "    .dataframe tbody tr th {\n",
       "        vertical-align: top;\n",
       "    }\n",
       "\n",
       "    .dataframe thead th {\n",
       "        text-align: right;\n",
       "    }\n",
       "</style>\n",
       "<table border=\"1\" class=\"dataframe\">\n",
       "  <thead>\n",
       "    <tr style=\"text-align: right;\">\n",
       "      <th></th>\n",
       "      <th>Attribute</th>\n",
       "      <th>Type</th>\n",
       "      <th>% Nulls</th>\n",
       "      <th>Count</th>\n",
       "      <th>Unique</th>\n",
       "      <th>Observations</th>\n",
       "    </tr>\n",
       "  </thead>\n",
       "  <tbody>\n",
       "    <tr>\n",
       "      <th>0</th>\n",
       "      <td>age</td>\n",
       "      <td>float64</td>\n",
       "      <td>0.15</td>\n",
       "      <td>4250</td>\n",
       "      <td>4040</td>\n",
       "      <td>max=89.603 | min=20.003 | mean=46.38</td>\n",
       "    </tr>\n",
       "    <tr>\n",
       "      <th>1</th>\n",
       "      <td>balance</td>\n",
       "      <td>float64</td>\n",
       "      <td>0.00</td>\n",
       "      <td>5000</td>\n",
       "      <td>4382</td>\n",
       "      <td>max=979.54 | min=8.72 | mean=185.9</td>\n",
       "    </tr>\n",
       "    <tr>\n",
       "      <th>2</th>\n",
       "      <td>forename</td>\n",
       "      <td>object</td>\n",
       "      <td>0.00</td>\n",
       "      <td>5000</td>\n",
       "      <td>3925</td>\n",
       "      <td>Sample: Xavier | Mahir  | Jimmy</td>\n",
       "    </tr>\n",
       "    <tr>\n",
       "      <th>3</th>\n",
       "      <td>gender</td>\n",
       "      <td>category</td>\n",
       "      <td>0.00</td>\n",
       "      <td>5000</td>\n",
       "      <td>2</td>\n",
       "      <td>F|M</td>\n",
       "    </tr>\n",
       "    <tr>\n",
       "      <th>4</th>\n",
       "      <td>id</td>\n",
       "      <td>object</td>\n",
       "      <td>0.00</td>\n",
       "      <td>5000</td>\n",
       "      <td>5000</td>\n",
       "      <td>Sample: CU_3564360 | CU_7136283 | CU_5223059</td>\n",
       "    </tr>\n",
       "    <tr>\n",
       "      <th>5</th>\n",
       "      <td>online</td>\n",
       "      <td>bool</td>\n",
       "      <td>0.00</td>\n",
       "      <td>5000</td>\n",
       "      <td>2</td>\n",
       "      <td>True | False</td>\n",
       "    </tr>\n",
       "    <tr>\n",
       "      <th>6</th>\n",
       "      <td>profession</td>\n",
       "      <td>category</td>\n",
       "      <td>0.10</td>\n",
       "      <td>4500</td>\n",
       "      <td>15</td>\n",
       "      <td>Accountant I|Assistant Professor|Data Coordiator|Developer I|Food Chemi...</td>\n",
       "    </tr>\n",
       "    <tr>\n",
       "      <th>7</th>\n",
       "      <td>start</td>\n",
       "      <td>object</td>\n",
       "      <td>0.00</td>\n",
       "      <td>5000</td>\n",
       "      <td>364</td>\n",
       "      <td>Sample: 01-26-18 | 05-04-18 | 11-05-18</td>\n",
       "    </tr>\n",
       "    <tr>\n",
       "      <th>8</th>\n",
       "      <td>surname</td>\n",
       "      <td>object</td>\n",
       "      <td>0.00</td>\n",
       "      <td>5000</td>\n",
       "      <td>5000</td>\n",
       "      <td>Sample: Kassem | Amauty | Neary</td>\n",
       "    </tr>\n",
       "  </tbody>\n",
       "</table>\n",
       "</div>"
      ],
      "text/plain": [
       "    Attribute      Type  % Nulls  Count  Unique  \\\n",
       "0         age   float64     0.15   4250    4040   \n",
       "1     balance   float64     0.00   5000    4382   \n",
       "2    forename    object     0.00   5000    3925   \n",
       "3      gender  category     0.00   5000       2   \n",
       "4          id    object     0.00   5000    5000   \n",
       "5      online      bool     0.00   5000       2   \n",
       "6  profession  category     0.10   4500      15   \n",
       "7       start    object     0.00   5000     364   \n",
       "8     surname    object     0.00   5000    5000   \n",
       "\n",
       "                                                                 Observations  \n",
       "0                                        max=89.603 | min=20.003 | mean=46.38  \n",
       "1                                          max=979.54 | min=8.72 | mean=185.9  \n",
       "2                                            Sample: Xavier | Mahir  | Jimmy   \n",
       "3                                                                         F|M  \n",
       "4                                Sample: CU_3564360 | CU_7136283 | CU_5223059  \n",
       "5                                                                True | False  \n",
       "6  Accountant I|Assistant Professor|Data Coordiator|Developer I|Food Chemi...  \n",
       "7                                      Sample: 01-26-18 | 05-04-18 | 11-05-18  \n",
       "8                                             Sample: Kassem | Amauty | Neary  "
      ]
     },
     "execution_count": 25,
     "metadata": {},
     "output_type": "execute_result"
    }
   ],
   "source": [
    "df = tr.refresh_canonical()\n",
    "\n",
    "tr.discover.data_dictionary(df)"
   ]
  },
  {
   "cell_type": "code",
   "execution_count": null,
   "metadata": {},
   "outputs": [],
   "source": []
  }
 ],
 "metadata": {
  "kernelspec": {
   "display_name": "Python 3",
   "language": "python",
   "name": "python3"
  },
  "language_info": {
   "codemirror_mode": {
    "name": "ipython",
    "version": 3
   },
   "file_extension": ".py",
   "mimetype": "text/x-python",
   "name": "python",
   "nbconvert_exporter": "python",
   "pygments_lexer": "ipython3",
   "version": "3.6.8"
  }
 },
 "nbformat": 4,
 "nbformat_minor": 2
}
