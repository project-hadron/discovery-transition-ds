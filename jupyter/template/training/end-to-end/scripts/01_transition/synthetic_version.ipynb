{
 "cells": [
  {
   "cell_type": "code",
   "execution_count": 4,
   "metadata": {},
   "outputs": [
    {
     "name": "stdout",
     "output_type": "stream",
     "text": [
      "DTU: 1.08.028\n",
      "DBU: 1.01.003\n"
     ]
    }
   ],
   "source": [
    "%run '../base_setup.ipynb'"
   ]
  },
  {
   "cell_type": "code",
   "execution_count": 5,
   "metadata": {},
   "outputs": [],
   "source": [
    "tr = Transition('synthetic')"
   ]
  },
  {
   "cell_type": "code",
   "execution_count": 10,
   "metadata": {},
   "outputs": [
    {
     "data": {
      "text/html": [
       "<div>\n",
       "<style scoped>\n",
       "    .dataframe tbody tr th:only-of-type {\n",
       "        vertical-align: middle;\n",
       "    }\n",
       "\n",
       "    .dataframe tbody tr th {\n",
       "        vertical-align: top;\n",
       "    }\n",
       "\n",
       "    .dataframe thead th {\n",
       "        text-align: right;\n",
       "    }\n",
       "</style>\n",
       "<table border=\"1\" class=\"dataframe\">\n",
       "  <thead>\n",
       "    <tr style=\"text-align: right;\">\n",
       "      <th></th>\n",
       "      <th>name</th>\n",
       "      <th>parent</th>\n",
       "      <th>stem</th>\n",
       "      <th>suffix</th>\n",
       "      <th>created</th>\n",
       "      <th>search</th>\n",
       "    </tr>\n",
       "  </thead>\n",
       "  <tbody>\n",
       "    <tr>\n",
       "      <th>4</th>\n",
       "      <td>clean_synthetic_v0.00.p</td>\n",
       "      <td>/Users/doatridge/code/projects/prod/discovery-transitioning-utils/jupyter/working/data/2_clean</td>\n",
       "      <td>clean_synthetic_v0.00</td>\n",
       "      <td>p</td>\n",
       "      <td>Thu May 23 12:32:20 2019</td>\n",
       "      <td>clean_synthetic_v0.00.p</td>\n",
       "    </tr>\n",
       "  </tbody>\n",
       "</table>\n",
       "</div>"
      ],
      "text/plain": [
       "                      name  \\\n",
       "4  clean_synthetic_v0.00.p   \n",
       "\n",
       "                                                                                           parent  \\\n",
       "4  /Users/doatridge/code/projects/prod/discovery-transitioning-utils/jupyter/working/data/2_clean   \n",
       "\n",
       "                    stem suffix                   created  \\\n",
       "4  clean_synthetic_v0.00  p      Thu May 23 12:32:20 2019   \n",
       "\n",
       "                    search  \n",
       "4  clean_synthetic_v0.00.p  "
      ]
     },
     "execution_count": 10,
     "metadata": {},
     "output_type": "execute_result"
    }
   ],
   "source": [
    "tr.discover.find_file('clean_synthetic', root_dir=tr.file_pm.data_path)"
   ]
  },
  {
   "cell_type": "code",
   "execution_count": 11,
   "metadata": {},
   "outputs": [],
   "source": [
    "tr.set_version('demo_v1')"
   ]
  },
  {
   "cell_type": "code",
   "execution_count": 13,
   "metadata": {},
   "outputs": [],
   "source": [
    "df = tr.refresh_canonical()"
   ]
  },
  {
   "cell_type": "code",
   "execution_count": 14,
   "metadata": {},
   "outputs": [
    {
     "data": {
      "text/html": [
       "<div>\n",
       "<style scoped>\n",
       "    .dataframe tbody tr th:only-of-type {\n",
       "        vertical-align: middle;\n",
       "    }\n",
       "\n",
       "    .dataframe tbody tr th {\n",
       "        vertical-align: top;\n",
       "    }\n",
       "\n",
       "    .dataframe thead th {\n",
       "        text-align: right;\n",
       "    }\n",
       "</style>\n",
       "<table border=\"1\" class=\"dataframe\">\n",
       "  <thead>\n",
       "    <tr style=\"text-align: right;\">\n",
       "      <th></th>\n",
       "      <th>name</th>\n",
       "      <th>parent</th>\n",
       "      <th>stem</th>\n",
       "      <th>suffix</th>\n",
       "      <th>created</th>\n",
       "      <th>search</th>\n",
       "    </tr>\n",
       "  </thead>\n",
       "  <tbody>\n",
       "    <tr>\n",
       "      <th>4</th>\n",
       "      <td>clean_synthetic_v0.00.p</td>\n",
       "      <td>/Users/doatridge/code/projects/prod/discovery-transitioning-utils/jupyter/working/data/2_clean</td>\n",
       "      <td>clean_synthetic_v0.00</td>\n",
       "      <td>p</td>\n",
       "      <td>Thu May 23 12:32:20 2019</td>\n",
       "      <td>clean_synthetic_v0.00.p</td>\n",
       "    </tr>\n",
       "    <tr>\n",
       "      <th>5</th>\n",
       "      <td>clean_synthetic_vdemo_v1.p</td>\n",
       "      <td>/Users/doatridge/code/projects/prod/discovery-transitioning-utils/jupyter/working/data/2_clean</td>\n",
       "      <td>clean_synthetic_vdemo_v1</td>\n",
       "      <td>p</td>\n",
       "      <td>Thu May 23 13:08:30 2019</td>\n",
       "      <td>clean_synthetic_vdemo_v1.p</td>\n",
       "    </tr>\n",
       "  </tbody>\n",
       "</table>\n",
       "</div>"
      ],
      "text/plain": [
       "                         name  \\\n",
       "4  clean_synthetic_v0.00.p      \n",
       "5  clean_synthetic_vdemo_v1.p   \n",
       "\n",
       "                                                                                           parent  \\\n",
       "4  /Users/doatridge/code/projects/prod/discovery-transitioning-utils/jupyter/working/data/2_clean   \n",
       "5  /Users/doatridge/code/projects/prod/discovery-transitioning-utils/jupyter/working/data/2_clean   \n",
       "\n",
       "                       stem suffix                   created  \\\n",
       "4  clean_synthetic_v0.00     p      Thu May 23 12:32:20 2019   \n",
       "5  clean_synthetic_vdemo_v1  p      Thu May 23 13:08:30 2019   \n",
       "\n",
       "                       search  \n",
       "4  clean_synthetic_v0.00.p     \n",
       "5  clean_synthetic_vdemo_v1.p  "
      ]
     },
     "execution_count": 14,
     "metadata": {},
     "output_type": "execute_result"
    }
   ],
   "source": [
    "tr.discover.find_file('clean_synthetic', root_dir=tr.file_pm.data_path)"
   ]
  },
  {
   "cell_type": "code",
   "execution_count": 16,
   "metadata": {},
   "outputs": [
    {
     "data": {
      "text/plain": [
       "'demo_v1'"
      ]
     },
     "execution_count": 16,
     "metadata": {},
     "output_type": "execute_result"
    }
   ],
   "source": [
    "tr.data_pm.get_version()"
   ]
  },
  {
   "cell_type": "code",
   "execution_count": 17,
   "metadata": {},
   "outputs": [],
   "source": [
    "df = tr.load_canonical()"
   ]
  },
  {
   "cell_type": "code",
   "execution_count": 21,
   "metadata": {},
   "outputs": [],
   "source": [
    "tr.set_version('0.00')"
   ]
  },
  {
   "cell_type": "code",
   "execution_count": 22,
   "metadata": {},
   "outputs": [
    {
     "data": {
      "text/plain": [
       "'0.00'"
      ]
     },
     "execution_count": 22,
     "metadata": {},
     "output_type": "execute_result"
    }
   ],
   "source": [
    "tr.data_pm.get_version()"
   ]
  },
  {
   "cell_type": "code",
   "execution_count": 23,
   "metadata": {},
   "outputs": [],
   "source": [
    "df = tr.load_canonical()"
   ]
  },
  {
   "cell_type": "code",
   "execution_count": null,
   "metadata": {},
   "outputs": [],
   "source": []
  }
 ],
 "metadata": {
  "kernelspec": {
   "display_name": "Python 3",
   "language": "python",
   "name": "python3"
  },
  "language_info": {
   "codemirror_mode": {
    "name": "ipython",
    "version": 3
   },
   "file_extension": ".py",
   "mimetype": "text/x-python",
   "name": "python",
   "nbconvert_exporter": "python",
   "pygments_lexer": "ipython3",
   "version": "3.6.8"
  }
 },
 "nbformat": 4,
 "nbformat_minor": 2
}
