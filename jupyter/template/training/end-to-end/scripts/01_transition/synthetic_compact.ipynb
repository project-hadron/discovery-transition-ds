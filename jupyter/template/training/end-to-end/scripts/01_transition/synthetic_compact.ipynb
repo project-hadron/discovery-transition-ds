{
 "cells": [
  {
   "cell_type": "code",
   "execution_count": 19,
   "metadata": {},
   "outputs": [
    {
     "name": "stdout",
     "output_type": "stream",
     "text": [
      "DTU: 1.08.031\n",
      "DBU: 1.01.003\n"
     ]
    }
   ],
   "source": [
    "%run ../base_setup.ipynb"
   ]
  },
  {
   "cell_type": "markdown",
   "metadata": {},
   "source": [
    "# Accelerated Machine learning\n",
    "## Transitioning Contract"
   ]
  },
  {
   "cell_type": "code",
   "execution_count": 20,
   "metadata": {},
   "outputs": [],
   "source": [
    "tr = Transition('synthetic')"
   ]
  },
  {
   "cell_type": "markdown",
   "metadata": {},
   "source": [
    "### Data Source"
   ]
  },
  {
   "cell_type": "code",
   "execution_count": 21,
   "metadata": {},
   "outputs": [],
   "source": [
    "tr.set_source_contract(source_name='synthetic.csv', source_format='csv', sep=',', encoding='latin1', load=False)"
   ]
  },
  {
   "cell_type": "markdown",
   "metadata": {},
   "source": [
    "### Retrieve & Observations"
   ]
  },
  {
   "cell_type": "code",
   "execution_count": 22,
   "metadata": {
    "collapsed": true
   },
   "outputs": [],
   "source": [
    "df = tr.get_source_data()"
   ]
  },
  {
   "cell_type": "code",
   "execution_count": 23,
   "metadata": {
    "collapsed": true
   },
   "outputs": [
    {
     "data": {
      "text/html": [
       "<div>\n",
       "<style scoped>\n",
       "    .dataframe tbody tr th:only-of-type {\n",
       "        vertical-align: middle;\n",
       "    }\n",
       "\n",
       "    .dataframe tbody tr th {\n",
       "        vertical-align: top;\n",
       "    }\n",
       "\n",
       "    .dataframe thead th {\n",
       "        text-align: right;\n",
       "    }\n",
       "</style>\n",
       "<table border=\"1\" class=\"dataframe\">\n",
       "  <thead>\n",
       "    <tr style=\"text-align: right;\">\n",
       "      <th></th>\n",
       "      <th>Attribute</th>\n",
       "      <th>Type</th>\n",
       "      <th>% Nulls</th>\n",
       "      <th>Count</th>\n",
       "      <th>Unique</th>\n",
       "      <th>Observations</th>\n",
       "    </tr>\n",
       "  </thead>\n",
       "  <tbody>\n",
       "    <tr>\n",
       "      <th>0</th>\n",
       "      <td>age</td>\n",
       "      <td>float64</td>\n",
       "      <td>0.15</td>\n",
       "      <td>4250</td>\n",
       "      <td>4040</td>\n",
       "      <td>max=89.603 | min=20.003 | mean=46.38</td>\n",
       "    </tr>\n",
       "    <tr>\n",
       "      <th>1</th>\n",
       "      <td>balance</td>\n",
       "      <td>float64</td>\n",
       "      <td>0.00</td>\n",
       "      <td>5000</td>\n",
       "      <td>4382</td>\n",
       "      <td>max=979.54 | min=8.72 | mean=185.9</td>\n",
       "    </tr>\n",
       "    <tr>\n",
       "      <th>2</th>\n",
       "      <td>forename</td>\n",
       "      <td>object</td>\n",
       "      <td>0.00</td>\n",
       "      <td>5000</td>\n",
       "      <td>3925</td>\n",
       "      <td>Sample: Eloise | Enya  | Carl</td>\n",
       "    </tr>\n",
       "    <tr>\n",
       "      <th>3</th>\n",
       "      <td>gender</td>\n",
       "      <td>object</td>\n",
       "      <td>0.00</td>\n",
       "      <td>5000</td>\n",
       "      <td>2</td>\n",
       "      <td>Sample: M | F</td>\n",
       "    </tr>\n",
       "    <tr>\n",
       "      <th>4</th>\n",
       "      <td>id</td>\n",
       "      <td>object</td>\n",
       "      <td>0.00</td>\n",
       "      <td>5000</td>\n",
       "      <td>5000</td>\n",
       "      <td>Sample: CU_7162557 | CU_2028014 | CU_7297233</td>\n",
       "    </tr>\n",
       "    <tr>\n",
       "      <th>5</th>\n",
       "      <td>null</td>\n",
       "      <td>float64</td>\n",
       "      <td>1.00</td>\n",
       "      <td>0</td>\n",
       "      <td>0</td>\n",
       "      <td>max=nan | min=nan | mean=nan</td>\n",
       "    </tr>\n",
       "    <tr>\n",
       "      <th>6</th>\n",
       "      <td>online</td>\n",
       "      <td>float64</td>\n",
       "      <td>0.35</td>\n",
       "      <td>3250</td>\n",
       "      <td>2</td>\n",
       "      <td>max=1.0 | min=0.0 | mean=0.21</td>\n",
       "    </tr>\n",
       "    <tr>\n",
       "      <th>7</th>\n",
       "      <td>profession</td>\n",
       "      <td>object</td>\n",
       "      <td>0.10</td>\n",
       "      <td>4500</td>\n",
       "      <td>15</td>\n",
       "      <td>Sample: Human Resources Assistant IV | Safety Technician III | Informat...</td>\n",
       "    </tr>\n",
       "    <tr>\n",
       "      <th>8</th>\n",
       "      <td>single cat</td>\n",
       "      <td>object</td>\n",
       "      <td>0.40</td>\n",
       "      <td>3000</td>\n",
       "      <td>1</td>\n",
       "      <td>Sample: A</td>\n",
       "    </tr>\n",
       "    <tr>\n",
       "      <th>9</th>\n",
       "      <td>single num</td>\n",
       "      <td>float64</td>\n",
       "      <td>0.20</td>\n",
       "      <td>4000</td>\n",
       "      <td>1</td>\n",
       "      <td>max=1.0 | min=1.0 | mean=1.0</td>\n",
       "    </tr>\n",
       "    <tr>\n",
       "      <th>10</th>\n",
       "      <td>start</td>\n",
       "      <td>object</td>\n",
       "      <td>0.00</td>\n",
       "      <td>5000</td>\n",
       "      <td>364</td>\n",
       "      <td>Sample: 08-30-18 | 07-09-18 | 10-30-18</td>\n",
       "    </tr>\n",
       "    <tr>\n",
       "      <th>11</th>\n",
       "      <td>surname</td>\n",
       "      <td>object</td>\n",
       "      <td>0.00</td>\n",
       "      <td>5000</td>\n",
       "      <td>5000</td>\n",
       "      <td>Sample: Pangilinan | Tiller | Uhyrek</td>\n",
       "    </tr>\n",
       "    <tr>\n",
       "      <th>12</th>\n",
       "      <td>weight_cat</td>\n",
       "      <td>object</td>\n",
       "      <td>0.00</td>\n",
       "      <td>5000</td>\n",
       "      <td>3</td>\n",
       "      <td>Sample: B | A | C</td>\n",
       "    </tr>\n",
       "    <tr>\n",
       "      <th>13</th>\n",
       "      <td>weight_num</td>\n",
       "      <td>int64</td>\n",
       "      <td>0.00</td>\n",
       "      <td>5000</td>\n",
       "      <td>2</td>\n",
       "      <td>max=2 | min=1 | mean=1.01</td>\n",
       "    </tr>\n",
       "  </tbody>\n",
       "</table>\n",
       "</div>"
      ],
      "text/plain": [
       "     Attribute     Type  % Nulls  Count  Unique  \\\n",
       "0          age  float64     0.15   4250    4040   \n",
       "1      balance  float64     0.00   5000    4382   \n",
       "2     forename   object     0.00   5000    3925   \n",
       "3       gender   object     0.00   5000       2   \n",
       "4           id   object     0.00   5000    5000   \n",
       "5         null  float64     1.00      0       0   \n",
       "6       online  float64     0.35   3250       2   \n",
       "7   profession   object     0.10   4500      15   \n",
       "8   single cat   object     0.40   3000       1   \n",
       "9   single num  float64     0.20   4000       1   \n",
       "10       start   object     0.00   5000     364   \n",
       "11     surname   object     0.00   5000    5000   \n",
       "12  weight_cat   object     0.00   5000       3   \n",
       "13  weight_num    int64     0.00   5000       2   \n",
       "\n",
       "                                                                  Observations  \n",
       "0                                         max=89.603 | min=20.003 | mean=46.38  \n",
       "1                                           max=979.54 | min=8.72 | mean=185.9  \n",
       "2                                                Sample: Eloise | Enya  | Carl  \n",
       "3                                                                Sample: M | F  \n",
       "4                                 Sample: CU_7162557 | CU_2028014 | CU_7297233  \n",
       "5                                                 max=nan | min=nan | mean=nan  \n",
       "6                                                max=1.0 | min=0.0 | mean=0.21  \n",
       "7   Sample: Human Resources Assistant IV | Safety Technician III | Informat...  \n",
       "8                                                                    Sample: A  \n",
       "9                                                 max=1.0 | min=1.0 | mean=1.0  \n",
       "10                                      Sample: 08-30-18 | 07-09-18 | 10-30-18  \n",
       "11                                        Sample: Pangilinan | Tiller | Uhyrek  \n",
       "12                                                           Sample: B | A | C  \n",
       "13                                                   max=2 | min=1 | mean=1.01  "
      ]
     },
     "execution_count": 23,
     "metadata": {},
     "output_type": "execute_result"
    }
   ],
   "source": [
    "tr.discover.data_dictionary(df)"
   ]
  },
  {
   "cell_type": "code",
   "execution_count": 24,
   "metadata": {},
   "outputs": [],
   "source": [
    "tr.notes_add(text='The file is a synthetic data file created for this demonstration')"
   ]
  },
  {
   "cell_type": "code",
   "execution_count": 25,
   "metadata": {},
   "outputs": [],
   "source": [
    "tr.notes_add(label='source', text='This was generated using the Discovery Behavioral Synthetic Data Generator')\n",
    "tr.notes_add(label='source', text='The script to rerun the data generation can be found in the synthetic scripts folder')"
   ]
  },
  {
   "cell_type": "code",
   "execution_count": 26,
   "metadata": {},
   "outputs": [],
   "source": [
    "tr.notes_add(label='attr: null', text=\"Here for demo of removal of nulls\")\n",
    "tr.notes_add(label='attr: weight_cat', text=\"Demonstration of removal of columns with predominant values\")\n",
    "tr.notes_add(label='attr: weight_cat', text=\"the value 'A' is over 95% predominant\")\n",
    "tr.notes_add(label='attr: start', text=\"changing this to start_date so it being a date is obvious\")"
   ]
  },
  {
   "cell_type": "code",
   "execution_count": 27,
   "metadata": {},
   "outputs": [
    {
     "data": {
      "text/html": [
       "<style  type=\"text/css\" >\n",
       "    #T_e2a6d946_7d5c_11e9_8031_784f439cb1c6row0_col0 {\n",
       "            text-align:  left;\n",
       "        }    #T_e2a6d946_7d5c_11e9_8031_784f439cb1c6row0_col1 {\n",
       "            text-align:  left;\n",
       "        }    #T_e2a6d946_7d5c_11e9_8031_784f439cb1c6row0_col2 {\n",
       "            text-align:  left;\n",
       "        }    #T_e2a6d946_7d5c_11e9_8031_784f439cb1c6row1_col0 {\n",
       "            text-align:  left;\n",
       "        }    #T_e2a6d946_7d5c_11e9_8031_784f439cb1c6row1_col1 {\n",
       "            text-align:  left;\n",
       "        }    #T_e2a6d946_7d5c_11e9_8031_784f439cb1c6row1_col2 {\n",
       "            text-align:  left;\n",
       "        }    #T_e2a6d946_7d5c_11e9_8031_784f439cb1c6row2_col0 {\n",
       "            text-align:  left;\n",
       "        }    #T_e2a6d946_7d5c_11e9_8031_784f439cb1c6row2_col1 {\n",
       "            text-align:  left;\n",
       "        }    #T_e2a6d946_7d5c_11e9_8031_784f439cb1c6row2_col2 {\n",
       "            text-align:  left;\n",
       "        }    #T_e2a6d946_7d5c_11e9_8031_784f439cb1c6row3_col0 {\n",
       "            text-align:  left;\n",
       "        }    #T_e2a6d946_7d5c_11e9_8031_784f439cb1c6row3_col1 {\n",
       "            text-align:  left;\n",
       "        }    #T_e2a6d946_7d5c_11e9_8031_784f439cb1c6row3_col2 {\n",
       "            text-align:  left;\n",
       "        }    #T_e2a6d946_7d5c_11e9_8031_784f439cb1c6row4_col0 {\n",
       "            text-align:  left;\n",
       "        }    #T_e2a6d946_7d5c_11e9_8031_784f439cb1c6row4_col1 {\n",
       "            text-align:  left;\n",
       "        }    #T_e2a6d946_7d5c_11e9_8031_784f439cb1c6row4_col2 {\n",
       "            text-align:  left;\n",
       "        }    #T_e2a6d946_7d5c_11e9_8031_784f439cb1c6row5_col0 {\n",
       "            text-align:  left;\n",
       "        }    #T_e2a6d946_7d5c_11e9_8031_784f439cb1c6row5_col1 {\n",
       "            text-align:  left;\n",
       "        }    #T_e2a6d946_7d5c_11e9_8031_784f439cb1c6row5_col2 {\n",
       "            text-align:  left;\n",
       "        }    #T_e2a6d946_7d5c_11e9_8031_784f439cb1c6row6_col0 {\n",
       "            text-align:  left;\n",
       "        }    #T_e2a6d946_7d5c_11e9_8031_784f439cb1c6row6_col1 {\n",
       "            text-align:  left;\n",
       "        }    #T_e2a6d946_7d5c_11e9_8031_784f439cb1c6row6_col2 {\n",
       "            text-align:  left;\n",
       "        }</style><table id=\"T_e2a6d946_7d5c_11e9_8031_784f439cb1c6\" ><thead>    <tr>        <th class=\"blank level0\" ></th>        <th class=\"col_heading level0 col0\" >label</th>        <th class=\"col_heading level0 col1\" >date</th>        <th class=\"col_heading level0 col2\" >text</th>    </tr></thead><tbody>\n",
       "                <tr>\n",
       "                        <th id=\"T_e2a6d946_7d5c_11e9_8031_784f439cb1c6level0_row0\" class=\"row_heading level0 row0\" >0</th>\n",
       "                        <td id=\"T_e2a6d946_7d5c_11e9_8031_784f439cb1c6row0_col0\" class=\"data row0 col0\" >attr: null</td>\n",
       "                        <td id=\"T_e2a6d946_7d5c_11e9_8031_784f439cb1c6row0_col1\" class=\"data row0 col1\" >2019-05-23 14:15</td>\n",
       "                        <td id=\"T_e2a6d946_7d5c_11e9_8031_784f439cb1c6row0_col2\" class=\"data row0 col2\" >Here for demo of removal of nulls</td>\n",
       "            </tr>\n",
       "            <tr>\n",
       "                        <th id=\"T_e2a6d946_7d5c_11e9_8031_784f439cb1c6level0_row1\" class=\"row_heading level0 row1\" >1</th>\n",
       "                        <td id=\"T_e2a6d946_7d5c_11e9_8031_784f439cb1c6row1_col0\" class=\"data row1 col0\" >attr: start</td>\n",
       "                        <td id=\"T_e2a6d946_7d5c_11e9_8031_784f439cb1c6row1_col1\" class=\"data row1 col1\" >2019-05-23 14:15</td>\n",
       "                        <td id=\"T_e2a6d946_7d5c_11e9_8031_784f439cb1c6row1_col2\" class=\"data row1 col2\" >changing this to start_date so it being a date is obvious</td>\n",
       "            </tr>\n",
       "            <tr>\n",
       "                        <th id=\"T_e2a6d946_7d5c_11e9_8031_784f439cb1c6level0_row2\" class=\"row_heading level0 row2\" >2</th>\n",
       "                        <td id=\"T_e2a6d946_7d5c_11e9_8031_784f439cb1c6row2_col0\" class=\"data row2 col0\" >attr: weight_cat</td>\n",
       "                        <td id=\"T_e2a6d946_7d5c_11e9_8031_784f439cb1c6row2_col1\" class=\"data row2 col1\" >2019-05-23 14:15</td>\n",
       "                        <td id=\"T_e2a6d946_7d5c_11e9_8031_784f439cb1c6row2_col2\" class=\"data row2 col2\" >Demonstration of removal of columns with predominant values</td>\n",
       "            </tr>\n",
       "            <tr>\n",
       "                        <th id=\"T_e2a6d946_7d5c_11e9_8031_784f439cb1c6level0_row3\" class=\"row_heading level0 row3\" >3</th>\n",
       "                        <td id=\"T_e2a6d946_7d5c_11e9_8031_784f439cb1c6row3_col0\" class=\"data row3 col0\" ></td>\n",
       "                        <td id=\"T_e2a6d946_7d5c_11e9_8031_784f439cb1c6row3_col1\" class=\"data row3 col1\" >2019-05-23 14:15</td>\n",
       "                        <td id=\"T_e2a6d946_7d5c_11e9_8031_784f439cb1c6row3_col2\" class=\"data row3 col2\" >the value 'A' is over 95% predominant</td>\n",
       "            </tr>\n",
       "            <tr>\n",
       "                        <th id=\"T_e2a6d946_7d5c_11e9_8031_784f439cb1c6level0_row4\" class=\"row_heading level0 row4\" >4</th>\n",
       "                        <td id=\"T_e2a6d946_7d5c_11e9_8031_784f439cb1c6row4_col0\" class=\"data row4 col0\" >notes</td>\n",
       "                        <td id=\"T_e2a6d946_7d5c_11e9_8031_784f439cb1c6row4_col1\" class=\"data row4 col1\" >2019-05-23 14:15</td>\n",
       "                        <td id=\"T_e2a6d946_7d5c_11e9_8031_784f439cb1c6row4_col2\" class=\"data row4 col2\" >The file is a synthetic data file created for this demonstration</td>\n",
       "            </tr>\n",
       "            <tr>\n",
       "                        <th id=\"T_e2a6d946_7d5c_11e9_8031_784f439cb1c6level0_row5\" class=\"row_heading level0 row5\" >5</th>\n",
       "                        <td id=\"T_e2a6d946_7d5c_11e9_8031_784f439cb1c6row5_col0\" class=\"data row5 col0\" >source</td>\n",
       "                        <td id=\"T_e2a6d946_7d5c_11e9_8031_784f439cb1c6row5_col1\" class=\"data row5 col1\" >2019-05-23 14:15</td>\n",
       "                        <td id=\"T_e2a6d946_7d5c_11e9_8031_784f439cb1c6row5_col2\" class=\"data row5 col2\" >This was generated using the Discovery Behavioral Synthetic Data Generator</td>\n",
       "            </tr>\n",
       "            <tr>\n",
       "                        <th id=\"T_e2a6d946_7d5c_11e9_8031_784f439cb1c6level0_row6\" class=\"row_heading level0 row6\" >6</th>\n",
       "                        <td id=\"T_e2a6d946_7d5c_11e9_8031_784f439cb1c6row6_col0\" class=\"data row6 col0\" ></td>\n",
       "                        <td id=\"T_e2a6d946_7d5c_11e9_8031_784f439cb1c6row6_col1\" class=\"data row6 col1\" >2019-05-23 14:15</td>\n",
       "                        <td id=\"T_e2a6d946_7d5c_11e9_8031_784f439cb1c6row6_col2\" class=\"data row6 col2\" >The script to rerun the data generation can be found in the synthetic scripts folder</td>\n",
       "            </tr>\n",
       "    </tbody></table>"
      ],
      "text/plain": [
       "<pandas.io.formats.style.Styler at 0x1a16656eb8>"
      ]
     },
     "execution_count": 27,
     "metadata": {},
     "output_type": "execute_result"
    }
   ],
   "source": [
    "tr.notes_report(stylise=True)"
   ]
  },
  {
   "cell_type": "markdown",
   "metadata": {},
   "source": [
    "------------\n",
    "### Selection, Filter and Typing"
   ]
  },
  {
   "cell_type": "code",
   "execution_count": 28,
   "metadata": {
    "collapsed": true
   },
   "outputs": [],
   "source": [
    "tr.set_cleaner(tr.clean.auto_clean_header(df, rename_map={'start': 'start_date'}, inplace=True))"
   ]
  },
  {
   "cell_type": "code",
   "execution_count": 29,
   "metadata": {
    "collapsed": true
   },
   "outputs": [],
   "source": [
    "tr.set_cleaner(tr.clean.auto_remove_columns(df, null_min=0.99, predominant_max=0.90,inplace=True, nulls_list=['']))"
   ]
  },
  {
   "cell_type": "code",
   "execution_count": 30,
   "metadata": {
    "collapsed": true
   },
   "outputs": [],
   "source": [
    "tr.set_cleaner(tr.clean.auto_to_category(df, unique_max=20, null_max=0.7, inplace=True))"
   ]
  },
  {
   "cell_type": "code",
   "execution_count": 31,
   "metadata": {
    "collapsed": true
   },
   "outputs": [],
   "source": [
    "# Typing Catagories\n",
    "tr.set_cleaner(tr.clean.to_category_type(df, headers=['gender', 'profession'], inplace=True))\n",
    "# Typing Dates \n",
    "tr.set_cleaner(tr.clean.to_date_type(df, headers='start_date', inplace=True))\n"
   ]
  },
  {
   "cell_type": "code",
   "execution_count": 32,
   "metadata": {
    "collapsed": true
   },
   "outputs": [],
   "source": [
    "tr.set_cleaner(tr.clean.to_bool_type(df, bool_map={1: True}, headers='online', inplace=True))"
   ]
  },
  {
   "cell_type": "code",
   "execution_count": 33,
   "metadata": {
    "collapsed": true
   },
   "outputs": [],
   "source": [
    "tr.set_cleaner(tr.clean.to_float_type(df, dtype=['float'], precision=3, inplace=True))\n",
    "\n",
    "tr.set_cleaner(tr.clean.to_str_type(df, dtype=['object'], inplace=True))"
   ]
  },
  {
   "cell_type": "markdown",
   "metadata": {},
   "source": [
    "### Report, Persist and Validation"
   ]
  },
  {
   "cell_type": "code",
   "execution_count": 34,
   "metadata": {
    "collapsed": true
   },
   "outputs": [],
   "source": [
    "# Create the excel data dictionary\n",
    "tr.create_data_dictionary(df)\n",
    "\n",
    "# save the clean file\n",
    "tr.save_canonical(df)"
   ]
  },
  {
   "cell_type": "code",
   "execution_count": 35,
   "metadata": {
    "collapsed": true
   },
   "outputs": [
    {
     "data": {
      "text/html": [
       "<div>\n",
       "<style scoped>\n",
       "    .dataframe tbody tr th:only-of-type {\n",
       "        vertical-align: middle;\n",
       "    }\n",
       "\n",
       "    .dataframe tbody tr th {\n",
       "        vertical-align: top;\n",
       "    }\n",
       "\n",
       "    .dataframe thead th {\n",
       "        text-align: right;\n",
       "    }\n",
       "</style>\n",
       "<table border=\"1\" class=\"dataframe\">\n",
       "  <thead>\n",
       "    <tr style=\"text-align: right;\">\n",
       "      <th></th>\n",
       "      <th>Attribute</th>\n",
       "      <th>Type</th>\n",
       "      <th>% Nulls</th>\n",
       "      <th>Count</th>\n",
       "      <th>Unique</th>\n",
       "      <th>Observations</th>\n",
       "    </tr>\n",
       "  </thead>\n",
       "  <tbody>\n",
       "    <tr>\n",
       "      <th>0</th>\n",
       "      <td>age</td>\n",
       "      <td>float64</td>\n",
       "      <td>0.15</td>\n",
       "      <td>4250</td>\n",
       "      <td>4040</td>\n",
       "      <td>max=89.603 | min=20.003 | mean=46.38</td>\n",
       "    </tr>\n",
       "    <tr>\n",
       "      <th>1</th>\n",
       "      <td>balance</td>\n",
       "      <td>float64</td>\n",
       "      <td>0.00</td>\n",
       "      <td>5000</td>\n",
       "      <td>4382</td>\n",
       "      <td>max=979.54 | min=8.72 | mean=185.9</td>\n",
       "    </tr>\n",
       "    <tr>\n",
       "      <th>2</th>\n",
       "      <td>forename</td>\n",
       "      <td>object</td>\n",
       "      <td>0.00</td>\n",
       "      <td>5000</td>\n",
       "      <td>3925</td>\n",
       "      <td>Sample: Marilyn | Edwina | Morton</td>\n",
       "    </tr>\n",
       "    <tr>\n",
       "      <th>3</th>\n",
       "      <td>gender</td>\n",
       "      <td>category</td>\n",
       "      <td>0.00</td>\n",
       "      <td>5000</td>\n",
       "      <td>2</td>\n",
       "      <td>F|M</td>\n",
       "    </tr>\n",
       "    <tr>\n",
       "      <th>4</th>\n",
       "      <td>id</td>\n",
       "      <td>object</td>\n",
       "      <td>0.00</td>\n",
       "      <td>5000</td>\n",
       "      <td>5000</td>\n",
       "      <td>Sample: CU_4094402 | CU_9497709 | CU_6771030</td>\n",
       "    </tr>\n",
       "    <tr>\n",
       "      <th>5</th>\n",
       "      <td>online</td>\n",
       "      <td>bool</td>\n",
       "      <td>0.00</td>\n",
       "      <td>5000</td>\n",
       "      <td>2</td>\n",
       "      <td>True | False</td>\n",
       "    </tr>\n",
       "    <tr>\n",
       "      <th>6</th>\n",
       "      <td>profession</td>\n",
       "      <td>category</td>\n",
       "      <td>0.10</td>\n",
       "      <td>4500</td>\n",
       "      <td>15</td>\n",
       "      <td>Accountant I|Assistant Professor|Data Coordiator|Developer I|Food Chemi...</td>\n",
       "    </tr>\n",
       "    <tr>\n",
       "      <th>7</th>\n",
       "      <td>start_date</td>\n",
       "      <td>datetime64[ns]</td>\n",
       "      <td>0.00</td>\n",
       "      <td>5000</td>\n",
       "      <td>364</td>\n",
       "      <td>max=2018-12-30 00:00:00 | min=2018-01-01 00:00:00 | yr mean= 2018</td>\n",
       "    </tr>\n",
       "    <tr>\n",
       "      <th>8</th>\n",
       "      <td>surname</td>\n",
       "      <td>object</td>\n",
       "      <td>0.00</td>\n",
       "      <td>5000</td>\n",
       "      <td>5000</td>\n",
       "      <td>Sample: Lambdin | Sardina | Faulkenberry</td>\n",
       "    </tr>\n",
       "  </tbody>\n",
       "</table>\n",
       "</div>"
      ],
      "text/plain": [
       "    Attribute            Type  % Nulls  Count  Unique  \\\n",
       "0         age         float64     0.15   4250    4040   \n",
       "1     balance         float64     0.00   5000    4382   \n",
       "2    forename          object     0.00   5000    3925   \n",
       "3      gender        category     0.00   5000       2   \n",
       "4          id          object     0.00   5000    5000   \n",
       "5      online            bool     0.00   5000       2   \n",
       "6  profession        category     0.10   4500      15   \n",
       "7  start_date  datetime64[ns]     0.00   5000     364   \n",
       "8     surname          object     0.00   5000    5000   \n",
       "\n",
       "                                                                 Observations  \n",
       "0                                        max=89.603 | min=20.003 | mean=46.38  \n",
       "1                                          max=979.54 | min=8.72 | mean=185.9  \n",
       "2                                           Sample: Marilyn | Edwina | Morton  \n",
       "3                                                                         F|M  \n",
       "4                                Sample: CU_4094402 | CU_9497709 | CU_6771030  \n",
       "5                                                                True | False  \n",
       "6  Accountant I|Assistant Professor|Data Coordiator|Developer I|Food Chemi...  \n",
       "7           max=2018-12-30 00:00:00 | min=2018-01-01 00:00:00 | yr mean= 2018  \n",
       "8                                    Sample: Lambdin | Sardina | Faulkenberry  "
      ]
     },
     "execution_count": 35,
     "metadata": {},
     "output_type": "execute_result"
    }
   ],
   "source": [
    "# check the results worked\n",
    "df = tr.load_canonical()\n",
    "tr.discover.data_dictionary(df)"
   ]
  },
  {
   "cell_type": "markdown",
   "metadata": {},
   "source": [
    "---------\n",
    "### Re-Running the Pipeline Contract"
   ]
  },
  {
   "cell_type": "code",
   "execution_count": 36,
   "metadata": {},
   "outputs": [
    {
     "data": {
      "text/html": [
       "<div>\n",
       "<style scoped>\n",
       "    .dataframe tbody tr th:only-of-type {\n",
       "        vertical-align: middle;\n",
       "    }\n",
       "\n",
       "    .dataframe tbody tr th {\n",
       "        vertical-align: top;\n",
       "    }\n",
       "\n",
       "    .dataframe thead th {\n",
       "        text-align: right;\n",
       "    }\n",
       "</style>\n",
       "<table border=\"1\" class=\"dataframe\">\n",
       "  <thead>\n",
       "    <tr style=\"text-align: right;\">\n",
       "      <th></th>\n",
       "      <th>Attribute</th>\n",
       "      <th>Type</th>\n",
       "      <th>% Nulls</th>\n",
       "      <th>Count</th>\n",
       "      <th>Unique</th>\n",
       "      <th>Observations</th>\n",
       "    </tr>\n",
       "  </thead>\n",
       "  <tbody>\n",
       "    <tr>\n",
       "      <th>0</th>\n",
       "      <td>age</td>\n",
       "      <td>float64</td>\n",
       "      <td>0.15</td>\n",
       "      <td>4250</td>\n",
       "      <td>4040</td>\n",
       "      <td>max=89.603 | min=20.003 | mean=46.38</td>\n",
       "    </tr>\n",
       "    <tr>\n",
       "      <th>1</th>\n",
       "      <td>balance</td>\n",
       "      <td>float64</td>\n",
       "      <td>0.00</td>\n",
       "      <td>5000</td>\n",
       "      <td>4382</td>\n",
       "      <td>max=979.54 | min=8.72 | mean=185.9</td>\n",
       "    </tr>\n",
       "    <tr>\n",
       "      <th>2</th>\n",
       "      <td>forename</td>\n",
       "      <td>object</td>\n",
       "      <td>0.00</td>\n",
       "      <td>5000</td>\n",
       "      <td>3925</td>\n",
       "      <td>Sample: Gerald | Bianka  | Sofia</td>\n",
       "    </tr>\n",
       "    <tr>\n",
       "      <th>3</th>\n",
       "      <td>gender</td>\n",
       "      <td>category</td>\n",
       "      <td>0.00</td>\n",
       "      <td>5000</td>\n",
       "      <td>2</td>\n",
       "      <td>F|M</td>\n",
       "    </tr>\n",
       "    <tr>\n",
       "      <th>4</th>\n",
       "      <td>id</td>\n",
       "      <td>object</td>\n",
       "      <td>0.00</td>\n",
       "      <td>5000</td>\n",
       "      <td>5000</td>\n",
       "      <td>Sample: CU_3701874 | CU_3248979 | CU_1253338</td>\n",
       "    </tr>\n",
       "    <tr>\n",
       "      <th>5</th>\n",
       "      <td>online</td>\n",
       "      <td>bool</td>\n",
       "      <td>0.00</td>\n",
       "      <td>5000</td>\n",
       "      <td>2</td>\n",
       "      <td>True | False</td>\n",
       "    </tr>\n",
       "    <tr>\n",
       "      <th>6</th>\n",
       "      <td>profession</td>\n",
       "      <td>category</td>\n",
       "      <td>0.10</td>\n",
       "      <td>4500</td>\n",
       "      <td>15</td>\n",
       "      <td>Accountant I|Assistant Professor|Data Coordiator|Developer I|Food Chemi...</td>\n",
       "    </tr>\n",
       "    <tr>\n",
       "      <th>7</th>\n",
       "      <td>start</td>\n",
       "      <td>object</td>\n",
       "      <td>0.00</td>\n",
       "      <td>5000</td>\n",
       "      <td>364</td>\n",
       "      <td>Sample: 12-05-18 | 10-22-18 | 06-24-18</td>\n",
       "    </tr>\n",
       "    <tr>\n",
       "      <th>8</th>\n",
       "      <td>surname</td>\n",
       "      <td>object</td>\n",
       "      <td>0.00</td>\n",
       "      <td>5000</td>\n",
       "      <td>5000</td>\n",
       "      <td>Sample: Climes | Pearyer | Wene</td>\n",
       "    </tr>\n",
       "  </tbody>\n",
       "</table>\n",
       "</div>"
      ],
      "text/plain": [
       "    Attribute      Type  % Nulls  Count  Unique  \\\n",
       "0         age   float64     0.15   4250    4040   \n",
       "1     balance   float64     0.00   5000    4382   \n",
       "2    forename    object     0.00   5000    3925   \n",
       "3      gender  category     0.00   5000       2   \n",
       "4          id    object     0.00   5000    5000   \n",
       "5      online      bool     0.00   5000       2   \n",
       "6  profession  category     0.10   4500      15   \n",
       "7       start    object     0.00   5000     364   \n",
       "8     surname    object     0.00   5000    5000   \n",
       "\n",
       "                                                                 Observations  \n",
       "0                                        max=89.603 | min=20.003 | mean=46.38  \n",
       "1                                          max=979.54 | min=8.72 | mean=185.9  \n",
       "2                                           Sample: Gerald | Bianka  | Sofia   \n",
       "3                                                                         F|M  \n",
       "4                                Sample: CU_3701874 | CU_3248979 | CU_1253338  \n",
       "5                                                                True | False  \n",
       "6  Accountant I|Assistant Professor|Data Coordiator|Developer I|Food Chemi...  \n",
       "7                                      Sample: 12-05-18 | 10-22-18 | 06-24-18  \n",
       "8                                             Sample: Climes | Pearyer | Wene  "
      ]
     },
     "execution_count": 36,
     "metadata": {},
     "output_type": "execute_result"
    }
   ],
   "source": [
    "df = tr.refresh_canonical()\n",
    "\n",
    "tr.discover.data_dictionary(df)"
   ]
  },
  {
   "cell_type": "code",
   "execution_count": null,
   "metadata": {},
   "outputs": [],
   "source": []
  }
 ],
 "metadata": {
  "kernelspec": {
   "display_name": "Python 3",
   "language": "python",
   "name": "python3"
  },
  "language_info": {
   "codemirror_mode": {
    "name": "ipython",
    "version": 3
   },
   "file_extension": ".py",
   "mimetype": "text/x-python",
   "name": "python",
   "nbconvert_exporter": "python",
   "pygments_lexer": "ipython3",
   "version": "3.6.8"
  }
 },
 "nbformat": 4,
 "nbformat_minor": 2
}
