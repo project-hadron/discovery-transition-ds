{
 "cells": [
  {
   "cell_type": "code",
   "execution_count": 1,
   "metadata": {},
   "outputs": [
    {
     "name": "stdout",
     "output_type": "stream",
     "text": [
      "DTU: 1.08.031\n",
      "DBU: 1.01.003\n"
     ]
    }
   ],
   "source": [
    "%run ../base_setup.ipynb"
   ]
  },
  {
   "cell_type": "code",
   "execution_count": 2,
   "metadata": {},
   "outputs": [],
   "source": [
    "from ds_behavioral.sample.sample_data import ProfileSample"
   ]
  },
  {
   "cell_type": "code",
   "execution_count": 3,
   "metadata": {},
   "outputs": [],
   "source": [
    "builder = DataBuilder('synthetic')\n",
    "tools = builder.tools"
   ]
  },
  {
   "cell_type": "markdown",
   "metadata": {},
   "source": [
    "### Build the Core Attributes"
   ]
  },
  {
   "cell_type": "code",
   "execution_count": 4,
   "metadata": {},
   "outputs": [],
   "source": [
    "sample_size = 5000\n",
    "\n",
    "df = tools.get_profiles(size=sample_size, mf_weighting=[5,3])\n",
    "df['id'] = tools.unique_identifiers(from_value=1000000, to_value=9999999, prefix='CU_', size=sample_size)\n",
    "\n",
    "value_distribution = [0.01,0.8,1,3,9,8,3,2,1] + list(np.flip(np.exp(np.arange(-5,0.0, 0.2)).round(2)))\n",
    "df['balance'] = tools.get_number(0.0, 1000, precision=2, weight_pattern=value_distribution, size=sample_size)\n",
    "\n",
    "age_pattern = [3,5,6,10,6,5,7,15,5,2,1,0.5,0.2,0.1]\n",
    "df['age'] = tools.get_number(20.0, 90.0, weight_pattern=age_pattern, quantity=0.85, size=sample_size)\n",
    "\n",
    "df['start'] = tools.get_datetime(start='01/01/2018', until='31/12/2018', date_format='%m-%d-%y', size=sample_size)\n",
    "\n",
    "prof_pattern = [10,8,5,4,3,2] + [1]*9\n",
    "profession = ProfileSample.professions(size=15)\n",
    "df['profession'] = tools.get_category(selection=profession, weight_pattern=prof_pattern, quantity=0.90, size=sample_size)\n",
    "\n",
    "df['online'] = tools.get_category(selection=[1,0], weight_pattern=[1,4], quantity=0.65, size=sample_size)\n"
   ]
  },
  {
   "cell_type": "markdown",
   "metadata": {},
   "source": [
    "### Add in example 'Noise'"
   ]
  },
  {
   "cell_type": "code",
   "execution_count": 5,
   "metadata": {},
   "outputs": [],
   "source": [
    "df['single num'] = DataBuilderTools.get_number(1, 1, quantity=0.8, size=sample_size, seed=31)\n",
    "df['weight_num'] = DataBuilderTools.get_number(1, 2, weight_pattern=[90, 1], size=sample_size, seed=31)\n",
    "df['null'] = DataBuilderTools.get_number(1, 100, quantity=0, size=sample_size, seed=31)\n",
    "df['single cat'] = DataBuilderTools.get_category(['A'], quantity=0.6, size=sample_size, seed=31)\n",
    "df['weight_cat'] = DataBuilderTools.get_category(['A', 'B', 'C'], weight_pattern=[80, 1, 1], size=sample_size, seed=31)\n"
   ]
  },
  {
   "cell_type": "markdown",
   "metadata": {},
   "source": [
    "#### (optionally) Add volume of noise columns"
   ]
  },
  {
   "cell_type": "code",
   "execution_count": 6,
   "metadata": {},
   "outputs": [],
   "source": [
    "# for i in range(40):\n",
    "#     col = \"empty_{}\".format(i)\n",
    "#     df[col] = tools.get_number(100, 101, quantity=0.01, size=sample_size)"
   ]
  },
  {
   "cell_type": "markdown",
   "metadata": {},
   "source": [
    "### Save and Validate"
   ]
  },
  {
   "cell_type": "code",
   "execution_count": 8,
   "metadata": {},
   "outputs": [
    {
     "data": {
      "text/html": [
       "<div>\n",
       "<style scoped>\n",
       "    .dataframe tbody tr th:only-of-type {\n",
       "        vertical-align: middle;\n",
       "    }\n",
       "\n",
       "    .dataframe tbody tr th {\n",
       "        vertical-align: top;\n",
       "    }\n",
       "\n",
       "    .dataframe thead th {\n",
       "        text-align: right;\n",
       "    }\n",
       "</style>\n",
       "<table border=\"1\" class=\"dataframe\">\n",
       "  <thead>\n",
       "    <tr style=\"text-align: right;\">\n",
       "      <th></th>\n",
       "      <th>Attribute</th>\n",
       "      <th>Type</th>\n",
       "      <th>% Nulls</th>\n",
       "      <th>Count</th>\n",
       "      <th>Unique</th>\n",
       "      <th>Observations</th>\n",
       "    </tr>\n",
       "  </thead>\n",
       "  <tbody>\n",
       "    <tr>\n",
       "      <th>0</th>\n",
       "      <td>age</td>\n",
       "      <td>float64</td>\n",
       "      <td>0.15</td>\n",
       "      <td>4250</td>\n",
       "      <td>4050</td>\n",
       "      <td>max=89.841 | min=20.015 | mean=46.88</td>\n",
       "    </tr>\n",
       "    <tr>\n",
       "      <th>1</th>\n",
       "      <td>balance</td>\n",
       "      <td>float64</td>\n",
       "      <td>0.00</td>\n",
       "      <td>5000</td>\n",
       "      <td>4395</td>\n",
       "      <td>max=972.38 | min=19.62 | mean=186.4</td>\n",
       "    </tr>\n",
       "    <tr>\n",
       "      <th>2</th>\n",
       "      <td>forename</td>\n",
       "      <td>object</td>\n",
       "      <td>0.00</td>\n",
       "      <td>5000</td>\n",
       "      <td>3937</td>\n",
       "      <td>Sample: Hasnain  | Serena | Summer-Rose</td>\n",
       "    </tr>\n",
       "    <tr>\n",
       "      <th>3</th>\n",
       "      <td>gender</td>\n",
       "      <td>category</td>\n",
       "      <td>0.00</td>\n",
       "      <td>5000</td>\n",
       "      <td>2</td>\n",
       "      <td>F|M</td>\n",
       "    </tr>\n",
       "    <tr>\n",
       "      <th>4</th>\n",
       "      <td>id</td>\n",
       "      <td>object</td>\n",
       "      <td>0.00</td>\n",
       "      <td>5000</td>\n",
       "      <td>5000</td>\n",
       "      <td>Sample: CU_6434481 | CU_4006205 | CU_9248360</td>\n",
       "    </tr>\n",
       "    <tr>\n",
       "      <th>5</th>\n",
       "      <td>null</td>\n",
       "      <td>object</td>\n",
       "      <td>1.00</td>\n",
       "      <td>0</td>\n",
       "      <td>0</td>\n",
       "      <td>Sample: Null Values</td>\n",
       "    </tr>\n",
       "    <tr>\n",
       "      <th>6</th>\n",
       "      <td>online</td>\n",
       "      <td>float64</td>\n",
       "      <td>0.35</td>\n",
       "      <td>3250</td>\n",
       "      <td>2</td>\n",
       "      <td>max=1.0 | min=0.0 | mean=0.21</td>\n",
       "    </tr>\n",
       "    <tr>\n",
       "      <th>7</th>\n",
       "      <td>profession</td>\n",
       "      <td>object</td>\n",
       "      <td>0.10</td>\n",
       "      <td>5000</td>\n",
       "      <td>16</td>\n",
       "      <td>Sample: Structural Engineer | Librarian | Software Engineer IV</td>\n",
       "    </tr>\n",
       "    <tr>\n",
       "      <th>8</th>\n",
       "      <td>single cat</td>\n",
       "      <td>object</td>\n",
       "      <td>0.40</td>\n",
       "      <td>5000</td>\n",
       "      <td>2</td>\n",
       "      <td>Sample:  | A</td>\n",
       "    </tr>\n",
       "    <tr>\n",
       "      <th>9</th>\n",
       "      <td>single num</td>\n",
       "      <td>float64</td>\n",
       "      <td>0.20</td>\n",
       "      <td>4000</td>\n",
       "      <td>1</td>\n",
       "      <td>max=1.0 | min=1.0 | mean=1.0</td>\n",
       "    </tr>\n",
       "    <tr>\n",
       "      <th>10</th>\n",
       "      <td>start</td>\n",
       "      <td>object</td>\n",
       "      <td>0.00</td>\n",
       "      <td>5000</td>\n",
       "      <td>364</td>\n",
       "      <td>Sample: 10-08-18 | 11-10-18 | 07-08-18</td>\n",
       "    </tr>\n",
       "    <tr>\n",
       "      <th>11</th>\n",
       "      <td>surname</td>\n",
       "      <td>object</td>\n",
       "      <td>0.00</td>\n",
       "      <td>5000</td>\n",
       "      <td>5000</td>\n",
       "      <td>Sample: Quintel | Monserrate | Netzel</td>\n",
       "    </tr>\n",
       "    <tr>\n",
       "      <th>12</th>\n",
       "      <td>weight_cat</td>\n",
       "      <td>object</td>\n",
       "      <td>0.00</td>\n",
       "      <td>5000</td>\n",
       "      <td>3</td>\n",
       "      <td>Sample: B | A | C</td>\n",
       "    </tr>\n",
       "    <tr>\n",
       "      <th>13</th>\n",
       "      <td>weight_num</td>\n",
       "      <td>int64</td>\n",
       "      <td>0.00</td>\n",
       "      <td>5000</td>\n",
       "      <td>2</td>\n",
       "      <td>max=2 | min=1 | mean=1.01</td>\n",
       "    </tr>\n",
       "  </tbody>\n",
       "</table>\n",
       "</div>"
      ],
      "text/plain": [
       "     Attribute      Type  % Nulls  Count  Unique  \\\n",
       "0          age   float64     0.15   4250    4050   \n",
       "1      balance   float64     0.00   5000    4395   \n",
       "2     forename    object     0.00   5000    3937   \n",
       "3       gender  category     0.00   5000       2   \n",
       "4           id    object     0.00   5000    5000   \n",
       "5         null    object     1.00      0       0   \n",
       "6       online   float64     0.35   3250       2   \n",
       "7   profession    object     0.10   5000      16   \n",
       "8   single cat    object     0.40   5000       2   \n",
       "9   single num   float64     0.20   4000       1   \n",
       "10       start    object     0.00   5000     364   \n",
       "11     surname    object     0.00   5000    5000   \n",
       "12  weight_cat    object     0.00   5000       3   \n",
       "13  weight_num     int64     0.00   5000       2   \n",
       "\n",
       "                                                      Observations  \n",
       "0                             max=89.841 | min=20.015 | mean=46.88  \n",
       "1                              max=972.38 | min=19.62 | mean=186.4  \n",
       "2                         Sample: Hasnain  | Serena | Summer-Rose   \n",
       "3                                                              F|M  \n",
       "4                     Sample: CU_6434481 | CU_4006205 | CU_9248360  \n",
       "5                                              Sample: Null Values  \n",
       "6                                    max=1.0 | min=0.0 | mean=0.21  \n",
       "7   Sample: Structural Engineer | Librarian | Software Engineer IV  \n",
       "8                                                     Sample:  | A  \n",
       "9                                     max=1.0 | min=1.0 | mean=1.0  \n",
       "10                          Sample: 10-08-18 | 11-10-18 | 07-08-18  \n",
       "11                           Sample: Quintel | Monserrate | Netzel  \n",
       "12                                               Sample: B | A | C  \n",
       "13                                       max=2 | min=1 | mean=1.01  "
      ]
     },
     "execution_count": 8,
     "metadata": {},
     "output_type": "execute_result"
    }
   ],
   "source": [
    "filename = os.path.join(os.environ['DSTU_DATA_PATH'],'0_raw', 'synthetic.csv')\n",
    "builder.save_to_disk(df, filename=filename)\n",
    "discover.data_dictionary(df)"
   ]
  },
  {
   "cell_type": "code",
   "execution_count": null,
   "metadata": {},
   "outputs": [],
   "source": []
  }
 ],
 "metadata": {
  "kernelspec": {
   "display_name": "Python 3",
   "language": "python",
   "name": "python3"
  },
  "language_info": {
   "codemirror_mode": {
    "name": "ipython",
    "version": 3
   },
   "file_extension": ".py",
   "mimetype": "text/x-python",
   "name": "python",
   "nbconvert_exporter": "python",
   "pygments_lexer": "ipython3",
   "version": "3.6.8"
  }
 },
 "nbformat": 4,
 "nbformat_minor": 2
}
