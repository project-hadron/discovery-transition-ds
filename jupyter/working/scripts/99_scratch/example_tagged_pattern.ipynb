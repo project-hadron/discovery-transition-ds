{
 "cells": [
  {
   "cell_type": "code",
   "execution_count": 52,
   "metadata": {},
   "outputs": [],
   "source": [
    "from ds_behavioral import DataBuilderTools as tools"
   ]
  },
  {
   "cell_type": "code",
   "execution_count": 56,
   "metadata": {},
   "outputs": [],
   "source": [
    "templates = [\n",
    "    \"Hello <name>, your balance is <balance> on <date>\",\n",
    "    \"<name> likes the phrase <phrase>\"\n",
    "]\n",
    "\n",
    "tags = {\n",
    "    '<name>'   : {'action': 'get_custom', 'kwargs': {'code_str': \"ProfileSample.female_names()[0]\"}},\n",
    "    '<balance>': {'action': 'get_number', 'kwargs': {'from_value':10, 'to_value':1000, 'weight_pattern':[10,5,3] + [1]*10, 'currency':'$', 'precision':2}},\n",
    "    '<date>'   : {'action': 'get_datetime', 'kwargs': {'start':\"12/01/2015\", 'until':\"31/12/2018\", 'date_format':\"%m-%d-%Y\"}},\n",
    "    '<phrase>' : {'action': 'get_custom', 'kwargs': {'code_str': \"GenericSamples.phrases()[0]\"}}    \n",
    "}"
   ]
  },
  {
   "cell_type": "code",
   "execution_count": 57,
   "metadata": {},
   "outputs": [
    {
     "data": {
      "text/plain": [
       "['Hello Cassandra, your balance is $64 on 12-15-2015',\n",
       " 'Hello Annabelle , your balance is $88 on 12-17-2016',\n",
       " 'Hello Tammi, your balance is $197 on 11-10-2018',\n",
       " 'Stacey  likes the phrase Phased well-modulated frame',\n",
       " 'Hello Liz, your balance is $310 on 05-13-2017',\n",
       " 'Hello Kaiya , your balance is $18 on 07-11-2018',\n",
       " 'Hello Florence, your balance is $756 on 03-14-2015',\n",
       " 'Hello Yvonne, your balance is $567 on 04-21-2018',\n",
       " 'Hello Jazmine , your balance is $82 on 06-15-2016',\n",
       " 'Hello Bridget, your balance is $35 on 01-28-2017']"
      ]
     },
     "execution_count": 57,
     "metadata": {},
     "output_type": "execute_result"
    }
   ],
   "source": [
    "tools.get_tagged_pattern(pattern=templates, tags=tags, weight_pattern=[6,1], size=10)"
   ]
  },
  {
   "cell_type": "code",
   "execution_count": null,
   "metadata": {},
   "outputs": [],
   "source": []
  }
 ],
 "metadata": {
  "kernelspec": {
   "display_name": "Python 3",
   "language": "python",
   "name": "python3"
  },
  "language_info": {
   "codemirror_mode": {
    "name": "ipython",
    "version": 3
   },
   "file_extension": ".py",
   "mimetype": "text/x-python",
   "name": "python",
   "nbconvert_exporter": "python",
   "pygments_lexer": "ipython3",
   "version": "3.6.8"
  }
 },
 "nbformat": 4,
 "nbformat_minor": 2
}
