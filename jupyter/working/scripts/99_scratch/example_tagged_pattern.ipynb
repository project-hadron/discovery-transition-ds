{
 "cells": [
  {
   "cell_type": "code",
   "execution_count": null,
   "metadata": {},
   "outputs": [],
   "source": [
    "from ds_behavioral import DataBuilderTools as tools\n",
    "from ds_behavioral.sample.sample_data import GenericSamples, ProfileSample"
   ]
  },
  {
   "cell_type": "code",
   "execution_count": null,
   "metadata": {},
   "outputs": [],
   "source": [
    "templates = [\"I likes the phrase <phrase>\"]"
   ]
  },
  {
   "cell_type": "code",
   "execution_count": null,
   "metadata": {},
   "outputs": [],
   "source": [
    "tags = {'<phrase>' : {'action': 'Hello World'}}"
   ]
  },
  {
   "cell_type": "code",
   "execution_count": null,
   "metadata": {},
   "outputs": [],
   "source": [
    "tools.get_tagged_pattern(pattern=templates, tags=tags)"
   ]
  },
  {
   "cell_type": "code",
   "execution_count": null,
   "metadata": {},
   "outputs": [],
   "source": [
    "tools.get_custom(code_str=\"ProfileSample.female_names()[0]\")"
   ]
  },
  {
   "cell_type": "code",
   "execution_count": null,
   "metadata": {},
   "outputs": [],
   "source": [
    "tools.get_number(from_value=10.0, to_value=1000.0, weight_pattern=[10,5,3] + [1]*10, currency='$', precision=2)"
   ]
  },
  {
   "cell_type": "code",
   "execution_count": null,
   "metadata": {},
   "outputs": [],
   "source": [
    "tools.get_datetime(start=\"12/01/2015\", until=\"31/12/2018\", date_format=\"%m-%d-%Y\")"
   ]
  },
  {
   "cell_type": "code",
   "execution_count": null,
   "metadata": {},
   "outputs": [],
   "source": [
    "templates = [\"I likes the phrase <phrase>\"]"
   ]
  },
  {
   "cell_type": "code",
   "execution_count": null,
   "metadata": {},
   "outputs": [],
   "source": [
    "tags = {'<phrase>' : {'action': 'get_custom', 'kwargs': {'code_str': \"GenericSamples.phrases()[0]\"}}}"
   ]
  },
  {
   "cell_type": "code",
   "execution_count": null,
   "metadata": {},
   "outputs": [],
   "source": [
    "tools.get_tagged_pattern(pattern=templates, tags=tags, size=5)"
   ]
  },
  {
   "cell_type": "code",
   "execution_count": null,
   "metadata": {},
   "outputs": [],
   "source": [
    "templates = [\n",
    "    \"<name> likes the phrase <phrase>\",\n",
    "    \"Hello <name>, your balance is <balance> on <date>\"   \n",
    "]"
   ]
  },
  {
   "cell_type": "code",
   "execution_count": null,
   "metadata": {},
   "outputs": [],
   "source": [
    "tags = {\n",
    "    '<name>'   : {'action': 'get_custom', 'kwargs': {'code_str': \"ProfileSample.female_names()[0]\"}},\n",
    "    '<balance>': {'action': 'get_number', 'kwargs': {'from_value':10.0, 'to_value':1000.0, 'currency':'$', 'precision':2}},\n",
    "    '<date>'   : {'action': 'get_datetime', 'kwargs': {'start':\"12/01/2015\", 'until':\"31/12/2018\", 'date_format':\"%m-%d-%Y\"}},\n",
    "    '<phrase>' : {'action': 'get_custom', 'kwargs': {'code_str': \"GenericSamples.phrases()[0]\"}}    \n",
    "}"
   ]
  },
  {
   "cell_type": "code",
   "execution_count": null,
   "metadata": {},
   "outputs": [],
   "source": [
    "tools.get_tagged_pattern(pattern=templates, tags=tags, weight_pattern=[1,5], size=10, seed=31)"
   ]
  },
  {
   "cell_type": "code",
   "execution_count": null,
   "metadata": {},
   "outputs": [],
   "source": []
  }
 ],
 "metadata": {
  "kernelspec": {
   "display_name": "Python 3",
   "language": "python",
   "name": "python3"
  },
  "language_info": {
   "codemirror_mode": {
    "name": "ipython",
    "version": 3
   },
   "file_extension": ".py",
   "mimetype": "text/x-python",
   "name": "python",
   "nbconvert_exporter": "python",
   "pygments_lexer": "ipython3",
   "version": "3.6.8"
  }
 },
 "nbformat": 4,
 "nbformat_minor": 2
}
