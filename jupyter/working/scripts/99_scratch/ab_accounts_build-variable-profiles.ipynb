{
 "cells": [
  {
   "cell_type": "code",
   "execution_count": 6,
   "metadata": {},
   "outputs": [
    {
     "name": "stdout",
     "output_type": "stream",
     "text": [
      "DTU: 1.07.038\n",
      "DBU: 1.01.003\n"
     ]
    }
   ],
   "source": [
    "%run ../base_setup.ipynb\n",
    "import timeit"
   ]
  },
  {
   "cell_type": "code",
   "execution_count": 2,
   "metadata": {},
   "outputs": [],
   "source": [
    "tr = Transition('accounts-many')\n",
    "db = DataBuilder(\"accounts-many\")\n",
    "tools = db.tools"
   ]
  },
  {
   "cell_type": "code",
   "execution_count": 14,
   "metadata": {},
   "outputs": [
    {
     "data": {
      "text/plain": [
       "8.96"
      ]
     },
     "execution_count": 14,
     "metadata": {},
     "output_type": "execute_result"
    }
   ],
   "source": [
    "start_time = time.time()\n",
    "values = tools.get_number(1, 10000, size=1000000)\n",
    "round(time.time() - start_time, 2)"
   ]
  },
  {
   "cell_type": "code",
   "execution_count": 3,
   "metadata": {},
   "outputs": [],
   "source": [
    "sample_size = 5000"
   ]
  },
  {
   "cell_type": "code",
   "execution_count": 20,
   "metadata": {},
   "outputs": [],
   "source": [
    "df = tr.clean.filter_columns(MappedSample.companies_inc5000(size = sample_size), headers = [\"Latitude\", \"Longitude\"], drop = True)"
   ]
  },
  {
   "cell_type": "code",
   "execution_count": 21,
   "metadata": {},
   "outputs": [
    {
     "data": {
      "text/plain": [
       "(5000, 7)"
      ]
     },
     "execution_count": 21,
     "metadata": {},
     "output_type": "execute_result"
    }
   ],
   "source": [
    "df.shape"
   ]
  },
  {
   "cell_type": "code",
   "execution_count": 22,
   "metadata": {},
   "outputs": [
    {
     "data": {
      "text/html": [
       "<div>\n",
       "<style scoped>\n",
       "    .dataframe tbody tr th:only-of-type {\n",
       "        vertical-align: middle;\n",
       "    }\n",
       "\n",
       "    .dataframe tbody tr th {\n",
       "        vertical-align: top;\n",
       "    }\n",
       "\n",
       "    .dataframe thead th {\n",
       "        text-align: right;\n",
       "    }\n",
       "</style>\n",
       "<table border=\"1\" class=\"dataframe\">\n",
       "  <thead>\n",
       "    <tr style=\"text-align: right;\">\n",
       "      <th></th>\n",
       "      <th>state_s</th>\n",
       "      <th>company</th>\n",
       "      <th>metro</th>\n",
       "      <th>city</th>\n",
       "      <th>industry</th>\n",
       "      <th>state_l</th>\n",
       "      <th>website</th>\n",
       "    </tr>\n",
       "  </thead>\n",
       "  <tbody>\n",
       "    <tr>\n",
       "      <th>0</th>\n",
       "      <td>CA</td>\n",
       "      <td>Skillz</td>\n",
       "      <td>San Francisco</td>\n",
       "      <td>San Francisco</td>\n",
       "      <td>Software</td>\n",
       "      <td>California</td>\n",
       "      <td>http://skillz.com</td>\n",
       "    </tr>\n",
       "    <tr>\n",
       "      <th>1</th>\n",
       "      <td>TX</td>\n",
       "      <td>EnviroSolar Power</td>\n",
       "      <td>Dallas</td>\n",
       "      <td>Fort Worth</td>\n",
       "      <td>Energy</td>\n",
       "      <td>Texas</td>\n",
       "      <td>http://envirosolarpower.com</td>\n",
       "    </tr>\n",
       "    <tr>\n",
       "      <th>2</th>\n",
       "      <td>CA</td>\n",
       "      <td>Gametime</td>\n",
       "      <td>San Francisco</td>\n",
       "      <td>San Francisco</td>\n",
       "      <td>Consumer Products &amp; Services</td>\n",
       "      <td>California</td>\n",
       "      <td>http://gametime.co</td>\n",
       "    </tr>\n",
       "    <tr>\n",
       "      <th>3</th>\n",
       "      <td>CA</td>\n",
       "      <td>Club Pilates Franchise</td>\n",
       "      <td>Los Angeles</td>\n",
       "      <td>Costa Mesa</td>\n",
       "      <td>Consumer Products &amp; Services</td>\n",
       "      <td>California</td>\n",
       "      <td>http://clubpilates.com</td>\n",
       "    </tr>\n",
       "    <tr>\n",
       "      <th>4</th>\n",
       "      <td>CA</td>\n",
       "      <td>Halo Top Creamery</td>\n",
       "      <td>Los Angeles</td>\n",
       "      <td>Los Angeles</td>\n",
       "      <td>Food &amp; Beverage</td>\n",
       "      <td>California</td>\n",
       "      <td>http://halotop.com</td>\n",
       "    </tr>\n",
       "  </tbody>\n",
       "</table>\n",
       "</div>"
      ],
      "text/plain": [
       "  state_s                 company          metro           city  \\\n",
       "0      CA                  Skillz  San Francisco  San Francisco   \n",
       "1      TX       EnviroSolar Power         Dallas     Fort Worth   \n",
       "2      CA                Gametime  San Francisco  San Francisco   \n",
       "3      CA  Club Pilates Franchise    Los Angeles     Costa Mesa   \n",
       "4      CA       Halo Top Creamery    Los Angeles    Los Angeles   \n",
       "\n",
       "                       industry     state_l                      website  \n",
       "0                      Software  California            http://skillz.com  \n",
       "1                        Energy       Texas  http://envirosolarpower.com  \n",
       "2  Consumer Products & Services  California           http://gametime.co  \n",
       "3  Consumer Products & Services  California       http://clubpilates.com  \n",
       "4               Food & Beverage  California           http://halotop.com  "
      ]
     },
     "execution_count": 22,
     "metadata": {},
     "output_type": "execute_result"
    }
   ],
   "source": [
    "df.head()"
   ]
  },
  {
   "cell_type": "code",
   "execution_count": 23,
   "metadata": {},
   "outputs": [],
   "source": [
    "df = pd.DataFrame(np.repeat(df.values,200,axis=0), columns=df.columns)\n",
    "sample_size = df.shape[0]"
   ]
  },
  {
   "cell_type": "code",
   "execution_count": 24,
   "metadata": {},
   "outputs": [],
   "source": [
    "gb = df.groupby([df['company']]) "
   ]
  },
  {
   "cell_type": "code",
   "execution_count": 25,
   "metadata": {},
   "outputs": [],
   "source": [
    "df.company = df.company + [str(-a) if a else '' for a in gb.cumcount()] "
   ]
  },
  {
   "cell_type": "code",
   "execution_count": 26,
   "metadata": {},
   "outputs": [
    {
     "data": {
      "text/html": [
       "<div>\n",
       "<style scoped>\n",
       "    .dataframe tbody tr th:only-of-type {\n",
       "        vertical-align: middle;\n",
       "    }\n",
       "\n",
       "    .dataframe tbody tr th {\n",
       "        vertical-align: top;\n",
       "    }\n",
       "\n",
       "    .dataframe thead th {\n",
       "        text-align: right;\n",
       "    }\n",
       "</style>\n",
       "<table border=\"1\" class=\"dataframe\">\n",
       "  <thead>\n",
       "    <tr style=\"text-align: right;\">\n",
       "      <th></th>\n",
       "      <th>state_s</th>\n",
       "      <th>company</th>\n",
       "      <th>metro</th>\n",
       "      <th>city</th>\n",
       "      <th>industry</th>\n",
       "      <th>state_l</th>\n",
       "      <th>website</th>\n",
       "    </tr>\n",
       "  </thead>\n",
       "  <tbody>\n",
       "    <tr>\n",
       "      <th>0</th>\n",
       "      <td>CA</td>\n",
       "      <td>Skillz</td>\n",
       "      <td>San Francisco</td>\n",
       "      <td>San Francisco</td>\n",
       "      <td>Software</td>\n",
       "      <td>California</td>\n",
       "      <td>http://skillz.com</td>\n",
       "    </tr>\n",
       "    <tr>\n",
       "      <th>1</th>\n",
       "      <td>CA</td>\n",
       "      <td>Skillz-1</td>\n",
       "      <td>San Francisco</td>\n",
       "      <td>San Francisco</td>\n",
       "      <td>Software</td>\n",
       "      <td>California</td>\n",
       "      <td>http://skillz.com</td>\n",
       "    </tr>\n",
       "    <tr>\n",
       "      <th>2</th>\n",
       "      <td>CA</td>\n",
       "      <td>Skillz-2</td>\n",
       "      <td>San Francisco</td>\n",
       "      <td>San Francisco</td>\n",
       "      <td>Software</td>\n",
       "      <td>California</td>\n",
       "      <td>http://skillz.com</td>\n",
       "    </tr>\n",
       "    <tr>\n",
       "      <th>3</th>\n",
       "      <td>CA</td>\n",
       "      <td>Skillz-3</td>\n",
       "      <td>San Francisco</td>\n",
       "      <td>San Francisco</td>\n",
       "      <td>Software</td>\n",
       "      <td>California</td>\n",
       "      <td>http://skillz.com</td>\n",
       "    </tr>\n",
       "    <tr>\n",
       "      <th>4</th>\n",
       "      <td>CA</td>\n",
       "      <td>Skillz-4</td>\n",
       "      <td>San Francisco</td>\n",
       "      <td>San Francisco</td>\n",
       "      <td>Software</td>\n",
       "      <td>California</td>\n",
       "      <td>http://skillz.com</td>\n",
       "    </tr>\n",
       "  </tbody>\n",
       "</table>\n",
       "</div>"
      ],
      "text/plain": [
       "  state_s   company          metro           city  industry     state_l  \\\n",
       "0      CA    Skillz  San Francisco  San Francisco  Software  California   \n",
       "1      CA  Skillz-1  San Francisco  San Francisco  Software  California   \n",
       "2      CA  Skillz-2  San Francisco  San Francisco  Software  California   \n",
       "3      CA  Skillz-3  San Francisco  San Francisco  Software  California   \n",
       "4      CA  Skillz-4  San Francisco  San Francisco  Software  California   \n",
       "\n",
       "             website  \n",
       "0  http://skillz.com  \n",
       "1  http://skillz.com  \n",
       "2  http://skillz.com  \n",
       "3  http://skillz.com  \n",
       "4  http://skillz.com  "
      ]
     },
     "execution_count": 26,
     "metadata": {},
     "output_type": "execute_result"
    }
   ],
   "source": [
    "df.head()"
   ]
  },
  {
   "cell_type": "code",
   "execution_count": 27,
   "metadata": {},
   "outputs": [],
   "source": [
    "df['Account_Id'] = tools.get_string_pattern('001dUdddddlduddlUlU',choice_only=False, size = 1000000)"
   ]
  },
  {
   "cell_type": "code",
   "execution_count": 28,
   "metadata": {},
   "outputs": [
    {
     "data": {
      "text/html": [
       "<div>\n",
       "<style scoped>\n",
       "    .dataframe tbody tr th:only-of-type {\n",
       "        vertical-align: middle;\n",
       "    }\n",
       "\n",
       "    .dataframe tbody tr th {\n",
       "        vertical-align: top;\n",
       "    }\n",
       "\n",
       "    .dataframe thead th {\n",
       "        text-align: right;\n",
       "    }\n",
       "</style>\n",
       "<table border=\"1\" class=\"dataframe\">\n",
       "  <thead>\n",
       "    <tr style=\"text-align: right;\">\n",
       "      <th></th>\n",
       "      <th>Attribute</th>\n",
       "      <th>Type</th>\n",
       "      <th>% Nulls</th>\n",
       "      <th>Count</th>\n",
       "      <th>Unique</th>\n",
       "      <th>Observations</th>\n",
       "    </tr>\n",
       "  </thead>\n",
       "  <tbody>\n",
       "    <tr>\n",
       "      <th>0</th>\n",
       "      <td>Account_Id</td>\n",
       "      <td>object</td>\n",
       "      <td>0.0</td>\n",
       "      <td>1000000</td>\n",
       "      <td>1000000</td>\n",
       "      <td>Sample: 0019H24501h3u73bJzB | 0012F59527a5u09jVcN | 0014I12749c6u75uLxB</td>\n",
       "    </tr>\n",
       "    <tr>\n",
       "      <th>1</th>\n",
       "      <td>city</td>\n",
       "      <td>object</td>\n",
       "      <td>0.0</td>\n",
       "      <td>1000000</td>\n",
       "      <td>1408</td>\n",
       "      <td>Sample: Grand Haven | South Coast Metro | Dos Palos</td>\n",
       "    </tr>\n",
       "    <tr>\n",
       "      <th>2</th>\n",
       "      <td>company</td>\n",
       "      <td>object</td>\n",
       "      <td>0.0</td>\n",
       "      <td>1000000</td>\n",
       "      <td>1000000</td>\n",
       "      <td>Sample: Novasyte-26 | DYNAMIC SOLUTIONS WORLDWIDE-176 | Value Trend Sol...</td>\n",
       "    </tr>\n",
       "    <tr>\n",
       "      <th>3</th>\n",
       "      <td>industry</td>\n",
       "      <td>object</td>\n",
       "      <td>0.0</td>\n",
       "      <td>999000</td>\n",
       "      <td>25</td>\n",
       "      <td>Sample: Advertising &amp; Marketing | Media | Insurance</td>\n",
       "    </tr>\n",
       "    <tr>\n",
       "      <th>4</th>\n",
       "      <td>metro</td>\n",
       "      <td>object</td>\n",
       "      <td>0.0</td>\n",
       "      <td>997800</td>\n",
       "      <td>303</td>\n",
       "      <td>Sample: Detroit | Gainesville, FL | Miami</td>\n",
       "    </tr>\n",
       "    <tr>\n",
       "      <th>5</th>\n",
       "      <td>state_l</td>\n",
       "      <td>object</td>\n",
       "      <td>0.0</td>\n",
       "      <td>1000000</td>\n",
       "      <td>52</td>\n",
       "      <td>Sample: Nevada | Colorado | Louisiana</td>\n",
       "    </tr>\n",
       "    <tr>\n",
       "      <th>6</th>\n",
       "      <td>state_s</td>\n",
       "      <td>object</td>\n",
       "      <td>0.0</td>\n",
       "      <td>1000000</td>\n",
       "      <td>52</td>\n",
       "      <td>Sample: IL | CO | OK</td>\n",
       "    </tr>\n",
       "    <tr>\n",
       "      <th>7</th>\n",
       "      <td>website</td>\n",
       "      <td>object</td>\n",
       "      <td>0.0</td>\n",
       "      <td>999400</td>\n",
       "      <td>4995</td>\n",
       "      <td>Sample: csaassociates.com | sunsettrans.com | lizzylift.com</td>\n",
       "    </tr>\n",
       "  </tbody>\n",
       "</table>\n",
       "</div>"
      ],
      "text/plain": [
       "    Attribute    Type  % Nulls    Count   Unique  \\\n",
       "0  Account_Id  object      0.0  1000000  1000000   \n",
       "1        city  object      0.0  1000000     1408   \n",
       "2     company  object      0.0  1000000  1000000   \n",
       "3    industry  object      0.0   999000       25   \n",
       "4       metro  object      0.0   997800      303   \n",
       "5     state_l  object      0.0  1000000       52   \n",
       "6     state_s  object      0.0  1000000       52   \n",
       "7     website  object      0.0   999400     4995   \n",
       "\n",
       "                                                                 Observations  \n",
       "0     Sample: 0019H24501h3u73bJzB | 0012F59527a5u09jVcN | 0014I12749c6u75uLxB  \n",
       "1                         Sample: Grand Haven | South Coast Metro | Dos Palos  \n",
       "2  Sample: Novasyte-26 | DYNAMIC SOLUTIONS WORLDWIDE-176 | Value Trend Sol...  \n",
       "3                         Sample: Advertising & Marketing | Media | Insurance  \n",
       "4                                   Sample: Detroit | Gainesville, FL | Miami  \n",
       "5                                       Sample: Nevada | Colorado | Louisiana  \n",
       "6                                                        Sample: IL | CO | OK  \n",
       "7                 Sample: csaassociates.com | sunsettrans.com | lizzylift.com  "
      ]
     },
     "execution_count": 28,
     "metadata": {},
     "output_type": "execute_result"
    }
   ],
   "source": [
    "tr.discover.data_dictionary(df)"
   ]
  },
  {
   "cell_type": "code",
   "execution_count": 29,
   "metadata": {},
   "outputs": [],
   "source": [
    "db.save_to_disk(df,filename=\"sfdc_accounts_many.csv\",file_format=\"csv\",path='../../data/0_raw/' )"
   ]
  },
  {
   "cell_type": "code",
   "execution_count": 30,
   "metadata": {},
   "outputs": [],
   "source": [
    "tr.set_source_contract(\"sfdc_accounts_many.csv\",load = False)"
   ]
  },
  {
   "cell_type": "code",
   "execution_count": 11,
   "metadata": {},
   "outputs": [
    {
     "data": {
      "text/plain": [
       "\u001b[0;31mInit signature:\u001b[0m \u001b[0mMappedSample\u001b[0m\u001b[0;34m(\u001b[0m\u001b[0;34m)\u001b[0m\u001b[0;34m\u001b[0m\u001b[0;34m\u001b[0m\u001b[0m\n",
       "\u001b[0;31mDocstring:\u001b[0m     \n",
       "Helper class that provides a standard way to create an ABC using\n",
       "inheritance.\n",
       "\u001b[0;31mFile:\u001b[0m           ~/miniconda3/lib/python3.7/site-packages/ds_behavioral/sample/sample_data.py\n",
       "\u001b[0;31mType:\u001b[0m           ABCMeta\n"
      ]
     },
     "metadata": {},
     "output_type": "display_data"
    }
   ],
   "source": [
    "MappedSample?"
   ]
  },
  {
   "cell_type": "code",
   "execution_count": 12,
   "metadata": {},
   "outputs": [
    {
     "data": {
      "text/plain": [
       "(1000000, 7)"
      ]
     },
     "execution_count": 12,
     "metadata": {},
     "output_type": "execute_result"
    }
   ],
   "source": [
    "df.shape"
   ]
  },
  {
   "cell_type": "code",
   "execution_count": null,
   "metadata": {},
   "outputs": [],
   "source": []
  }
 ],
 "metadata": {
  "kernelspec": {
   "display_name": "Python 3",
   "language": "python",
   "name": "python3"
  },
  "language_info": {
   "codemirror_mode": {
    "name": "ipython",
    "version": 3
   },
   "file_extension": ".py",
   "mimetype": "text/x-python",
   "name": "python",
   "nbconvert_exporter": "python",
   "pygments_lexer": "ipython3",
   "version": "3.6.8"
  }
 },
 "nbformat": 4,
 "nbformat_minor": 2
}
