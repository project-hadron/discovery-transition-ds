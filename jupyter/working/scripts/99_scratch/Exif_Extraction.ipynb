{
 "cells": [
  {
   "cell_type": "markdown",
   "metadata": {},
   "source": [
    "# Building the Image EXIF Extraction Skill\n",
    "This notebook demonstrates how to use the Pida Simple REST API Service"
   ]
  },
  {
   "cell_type": "code",
   "execution_count": 286,
   "metadata": {},
   "outputs": [],
   "source": [
    "#common setup\n",
    "import warnings\n",
    "warnings.filterwarnings(\"ignore\")"
   ]
  },
  {
   "cell_type": "code",
   "execution_count": null,
   "metadata": {},
   "outputs": [],
   "source": [
    "#common imports\n",
    "from cortex import Cortex\n",
    "import os\n",
    "import json\n",
    "import re\n",
    "import time\n",
    "import datetime\n",
    "%reload_ext cortex"
   ]
  },
  {
   "cell_type": "markdown",
   "metadata": {},
   "source": [
    "## Building a Cortex Action"
   ]
  },
  {
   "cell_type": "code",
   "execution_count": 289,
   "metadata": {},
   "outputs": [
    {
     "name": "stdout",
     "output_type": "stream",
     "text": [
      "Building Cortex Action (function): demo/invoke_image_exif_api_rp\n",
      "Building Docker image private-registry.cortex.insights.ai/cortex-accelerators/demo_invoke_image_exif_api_rp:0z1ndy2...\n",
      "Step 1/11 : FROM continuumio/miniconda3:4.5.4\n",
      "Step 2/11 : WORKDIR /function\n",
      "Step 3/11 : RUN apt-get update && apt-get install -y linux-headers-amd64 build-essential\n",
      "Step 4/11 : RUN conda config --add channels conda-forge\n",
      "Step 5/11 : COPY conda_requirements.txt .\n",
      "Step 6/11 : RUN conda install --yes --file conda_requirements.txt\n",
      "Step 7/11 : RUN pip install \"dill==0.2.8.2\" \"fdk==0.0.31\" \"cortex-client==5.5.0\"\n",
      "Step 8/11 : COPY requirements.txt .\n",
      "Step 9/11 : RUN pip install -r requirements.txt\n",
      "Step 10/11 : COPY action.py .\n",
      "Step 11/11 : ENTRYPOINT [\"python\", \"action.py\"]\n",
      "Successfully built a5df653d03d4\n",
      "Successfully tagged private-registry.cortex.insights.ai/cortex-accelerators/demo_invoke_image_exif_api_rp:0z1ndy2\n",
      "Image private-registry.cortex.insights.ai/cortex-accelerators/demo_invoke_image_exif_api_rp:0z1ndy2 built in 0.171011 seconds\n",
      "Pushing image to remote repository...\n",
      "0z1ndy2: digest: sha256:31c4331cb0a185ba58a419e67486724b835088f26563904eeae449bef63c8b63 size: 3246\n",
      "Image private-registry.cortex.insights.ai/cortex-accelerators/demo_invoke_image_exif_api_rp:0z1ndy2 pushed in 340.735574 seconds\n",
      "Cleaning up...\n",
      "Action deployed\n"
     ]
    },
    {
     "data": {
      "text/html": [
       "\n",
       "        <table>\n",
       "            <thead>\n",
       "                <tr>\n",
       "                    <th>Name</th>\n",
       "                    <th>Version</th>\n",
       "                    <th>Type</th>\n",
       "                    <th>Kind</th>\n",
       "                    <th>Image</th>\n",
       "                    <th>Deployment Status</th>\n",
       "                </tr>\n",
       "            </thead>\n",
       "            <tbody>\n",
       "                <td>demo/invoke_image_exif_api_rp</td>\n",
       "                <td>1</td>\n",
       "                <td>function</td>\n",
       "                <td>python:3</td>\n",
       "                <td>private-registry.cortex.insights.ai/cortex-accelerators/demo_invoke_image_exif_api_rp:0z1ndy2</td>\n",
       "                <td>COMPLETED</td>\n",
       "            </tbody>\n",
       "        </table>\n",
       "        "
      ],
      "text/plain": [
       "<cortex.action.Action at 0x115a084e0>"
      ]
     },
     "execution_count": 289,
     "metadata": {},
     "output_type": "execute_result"
    }
   ],
   "source": [
    "%%cortex_action --name 'demo/invoke_image_exif_api_rp' --function invoke_api\n",
    "from cortex import Message, Cortex\n",
    "import requests\n",
    "\n",
    "def invoke_api(params):\n",
    "    msg = Message(params)\n",
    "    url = msg.payload.get('url')\n",
    "    #sample payload\n",
    "    #payload = {'key1': 'value1', 'key2': 'value2'}\n",
    "    \n",
    "    #get with no params on the input url\n",
    "    r = requests.get(url)\n",
    "    \n",
    "    # GET with params in URL\n",
    "    #r = requests.get(url, params=payload)\n",
    "\n",
    "    return Message.with_payload({'response': r.text}).to_params()"
   ]
  },
  {
   "cell_type": "markdown",
   "metadata": {},
   "source": [
    "### Testing Actions"
   ]
  },
  {
   "cell_type": "code",
   "execution_count": 360,
   "metadata": {},
   "outputs": [],
   "source": [
    "# Instantiate Cortex Client\n",
    "cortex = Cortex.client()\n",
    "# Retrieve the Action that was deployed above\n",
    "action = cortex.action('demo/invoke_image_exif_api_rp')"
   ]
  },
  {
   "cell_type": "markdown",
   "metadata": {},
   "source": [
    "The Action deployment status should say **COMPLETED**.  This will indicate that our Action is ready to invoke."
   ]
  },
  {
   "cell_type": "code",
   "execution_count": 364,
   "metadata": {},
   "outputs": [
    {
     "data": {
      "text/plain": [
       "'COMPLETED'"
      ]
     },
     "execution_count": 364,
     "metadata": {},
     "output_type": "execute_result"
    }
   ],
   "source": [
    "action.get_deployment_status()"
   ]
  },
  {
   "cell_type": "markdown",
   "metadata": {},
   "source": [
    "Invoke the Action using a Message object.  Pass in the expected <Public_Image_URL> parameter in the Message payload to query a remote image URL."
   ]
  },
  {
   "cell_type": "code",
   "execution_count": 367,
   "metadata": {},
   "outputs": [
    {
     "data": {
      "text/plain": [
       "{'response': '{\"FileType\":\"JPEG\",\"FileTypeExtension\":\"jpg\",\"MIMEType\":\"image/jpeg\",\"ExifByteOrder\":\"Little-endian (Intel, II)\",\"ExposureTime\":\"1/1661\",\"FNumber\":2,\"ExposureProgram\":\"Program AE\",\"ISO\":49,\"ExifVersion\":\"0220\",\"DateTimeOriginal\":\"2019:06:04 12:12:15\",\"CreateDate\":\"2019:06:04 12:12:15\",\"ComponentsConfiguration\":\"Y, Cb, Cr, -\",\"ShutterSpeedValue\":\"1/1663\",\"ApertureValue\":2,\"BrightnessValue\":8.73,\"ExposureCompensation\":0,\"MaxApertureValue\":2,\"SubjectDistance\":\"0.783 m\",\"MeteringMode\":\"Center-weighted average\",\"Flash\":\"Off, Did not fire\",\"FocalLength\":\"4.7 mm\",\"SubSecTime\":947158,\"SubSecTimeOriginal\":947158,\"SubSecTimeDigitized\":947158,\"FlashpixVersion\":\"0100\",\"ColorSpace\":\"sRGB\",\"ExifImageWidth\":3036,\"ExifImageHeight\":4048,\"InteropIndex\":\"R98 - DCF basic file (sRGB)\",\"InteropVersion\":\"0100\",\"SensingMethod\":\"One-chip color area\",\"SceneType\":\"Directly photographed\",\"CustomRendered\":\"Custom\",\"ExposureMode\":\"Auto\",\"WhiteBalance\":\"Auto\",\"DigitalZoomRatio\":0,\"FocalLengthIn35mmFormat\":\"26 mm\",\"SceneCaptureType\":\"Standard\",\"Contrast\":\"Normal\",\"Saturation\":\"Normal\",\"Sharpness\":\"Normal\",\"SubjectDistanceRange\":\"Macro\",\"GPSVersionID\":\"2.2.0.0\",\"GPSLatitudeRef\":\"North\",\"GPSLongitudeRef\":\"West\",\"GPSAltitudeRef\":\"Above Sea Level\",\"GPSTimeStamp\":\"16:12:04\",\"GPSDOP\":968.762,\"GPSImgDirectionRef\":\"Magnetic North\",\"GPSImgDirection\":266,\"GPSProcessingMethod\":\"fused\",\"GPSDateStamp\":\"2019:06:04\",\"Make\":\"Google\",\"Model\":\"Pixel XL\",\"Orientation\":\"Horizontal (normal)\",\"XResolution\":72,\"YResolution\":72,\"ResolutionUnit\":\"inches\",\"Software\":\"HDR+ 1.0.244457938zr\",\"ModifyDate\":\"2019:06:04 12:12:15\",\"YCbCrPositioning\":\"Centered\",\"Compression\":\"JPEG (old-style)\",\"ThumbnailOffset\":20982,\"ThumbnailLength\":12001,\"JFIFVersion\":1.02,\"ProfileCMMType\":\"\",\"ProfileVersion\":\"4.0.0\",\"ProfileClass\":\"Display Device Profile\",\"ColorSpaceData\":\"RGB \",\"ProfileConnectionSpace\":\"XYZ \",\"ProfileDateTime\":\"2016:12:08 09:38:28\",\"ProfileFileSignature\":\"acsp\",\"PrimaryPlatform\":\"Unknown ()\",\"CMMFlags\":\"Not Embedded, Independent\",\"DeviceManufacturer\":\"GOOG\",\"DeviceModel\":\"\",\"DeviceAttributes\":\"Reflective, Glossy, Positive, Color\",\"RenderingIntent\":\"Perceptual\",\"ConnectionSpaceIlluminant\":\"0.9642 1 0.82491\",\"ProfileCreator\":\"GOOG\",\"ProfileID\":\"75e1a6b13c34376310c8ab660632a28a\",\"ProfileDescription\":\"sRGB IEC61966-2.1\",\"ProfileCopyright\":\"Copyright (c) 2016 Google Inc.\",\"MediaWhitePoint\":\"0.95045 1 1.08905\",\"MediaBlackPoint\":\"0 0 0\",\"RedMatrixColumn\":\"0.43604 0.22249 0.01392\",\"GreenMatrixColumn\":\"0.38512 0.7169 0.09706\",\"BlueMatrixColumn\":\"0.14305 0.06061 0.71391\",\"ChromaticAdaptation\":\"1.04788 0.02292 -0.05019 0.02959 0.99048 -0.01704 -0.00922 0.01508 0.75168\",\"ImageWidth\":3036,\"ImageHeight\":4048,\"EncodingProcess\":\"Baseline DCT, Huffman coding\",\"BitsPerSample\":8,\"ColorComponents\":3,\"YCbCrSubSampling\":\"YCbCr4:2:0 (2 2)\",\"Aperture\":2,\"GPSAltitude\":\"307 m Above Sea Level\",\"GPSDateTime\":\"2019:06:04 16:12:04Z\",\"GPSLatitude\":\"41 deg 54\\' 59.29\\\\\" N\",\"GPSLongitude\":\"72 deg 21\\' 53.47\\\\\" W\",\"GPSPosition\":\"41 deg 54\\' 59.29\\\\\" N, 72 deg 21\\' 53.47\\\\\" W\",\"ImageSize\":\"3036x4048\",\"Megapixels\":12.3,\"ScaleFactor35efl\":5.6,\"ShutterSpeed\":\"1/1661\",\"SubSecCreateDate\":\"2019:06:04 12:12:15.947158\",\"SubSecDateTimeOriginal\":\"2019:06:04 12:12:15.947158\",\"SubSecModifyDate\":\"2019:06:04 12:12:15.947158\",\"CircleOfConfusion\":\"0.005 mm\",\"DOF\":\"0.71 m (0.57 - 1.27 m)\",\"FOV\":\"69.4 deg\",\"FocalLength35efl\":\"4.7 mm (35 mm equivalent: 26.0 mm)\",\"HyperfocalDistance\":\"2.02 m\",\"LightValue\":13.7}'}"
      ]
     },
     "execution_count": 367,
     "metadata": {},
     "output_type": "execute_result"
    }
   ],
   "source": [
    "from cortex import Message\n",
    "# Sample Get Request\n",
    "# https://www.pida.io/data/<Public_Image_URL>?format=json\n",
    "rs = action.invoke(Message.with_payload({'url': \"https://www.pida.io/data/https%3A%2F%2Fcogscalermp.s3.amazonaws.com%2FIMG_20190604_121215.jpg?format=json\"}))\n",
    "rs.payload"
   ]
  },
  {
   "cell_type": "markdown",
   "metadata": {},
   "source": [
    "## Building a Cortex Skill\n",
    "Now that our Action is ready and tested, we can move on to building a Cortex Skill.  In this simple example, our Skill will just pipe an Input to our Action and route the Output back to the caller."
   ]
  },
  {
   "cell_type": "code",
   "execution_count": 465,
   "metadata": {},
   "outputs": [],
   "source": [
    "builder = cortex.builder()"
   ]
  },
  {
   "cell_type": "markdown",
   "metadata": {},
   "source": [
    "Use the _skill_ method here to declare a new \"Image EXIF Extract\" Skill.  Each _builder_ method returns an instance of the builder so we can chain calls together.  "
   ]
  },
  {
   "cell_type": "code",
   "execution_count": 468,
   "metadata": {},
   "outputs": [],
   "source": [
    "b = builder.skill('class/invoke_image_exif_api_rp').title('Invoke_Image_EXIF_API_RP').description('Image EXIF Extraction Skill by Rob Paisley')"
   ]
  },
  {
   "cell_type": "markdown",
   "metadata": {},
   "source": [
    "Use the Input sub-builder to construct Skill Input; Declare how Input will route messages. Use _all_ routing to send all input messages to the same Action for processing and declare which Output to send Action outputs to. Pass in the Image EXIF Extraction Action from the previous section to wire the Skill to the Action (or use Action name). Call _build_ to create the input object, add it to the Skill builder, and return the Skill builder."
   ]
  },
  {
   "cell_type": "code",
   "execution_count": 471,
   "metadata": {},
   "outputs": [],
   "source": [
    "b = b.input('image_url').title('Image_URL').parameter(name='url', type='string').all_routing(action, 'exif_output').build()"
   ]
  },
  {
   "cell_type": "markdown",
   "metadata": {},
   "source": [
    "Output called **exif_output**.  Create that Output using the Output sub-builder."
   ]
  },
  {
   "cell_type": "code",
   "execution_count": 474,
   "metadata": {},
   "outputs": [],
   "source": [
    "b = b.output('exif_output').title('EXIF_Output').parameter(name='exif', type='string').build()"
   ]
  },
  {
   "cell_type": "markdown",
   "metadata": {},
   "source": [
    "## Preview the CAMEL Document\n",
    "Preview the CAMEL using the _to_camel_ method."
   ]
  },
  {
   "cell_type": "code",
   "execution_count": 477,
   "metadata": {},
   "outputs": [
    {
     "data": {
      "text/plain": [
       "{'camel': '1.0.0',\n",
       " 'name': 'class/invoke_image_exif_api_rp',\n",
       " 'title': 'Invoke_Image_EXIF_API_RP',\n",
       " 'inputs': [{'name': 'image_url',\n",
       "   'title': 'Image_URL',\n",
       "   'parameters': [{'name': 'url', 'type': 'string', 'required': True}],\n",
       "   'routing': {'all': {'action': 'demo/invoke_image_exif_api_rp',\n",
       "     'output': 'exif_output'}}}],\n",
       " 'outputs': [{'name': 'exif_output',\n",
       "   'title': 'EXIF_Output',\n",
       "   'parameters': [{'name': 'exif', 'type': 'string', 'required': True}]}],\n",
       " 'description': 'Image EXIF Extraction Skill by Rob Paisley'}"
      ]
     },
     "execution_count": 477,
     "metadata": {},
     "output_type": "execute_result"
    }
   ],
   "source": [
    "b.to_camel()"
   ]
  },
  {
   "cell_type": "markdown",
   "metadata": {},
   "source": [
    "## Final Build and Publish\n",
    "Build and Publish Skill."
   ]
  },
  {
   "cell_type": "code",
   "execution_count": 480,
   "metadata": {},
   "outputs": [
    {
     "name": "stdout",
     "output_type": "stream",
     "text": [
      "Invoke_Image_EXIF_API_RP (class/invoke_image_exif_api_rp) v1\n"
     ]
    }
   ],
   "source": [
    "skill = b.build()\n",
    "print('%s (%s) v%d' % (skill.title, skill.name, skill.version))"
   ]
  },
  {
   "cell_type": "code",
   "execution_count": 501,
   "metadata": {},
   "outputs": [
    {
     "ename": "Exception",
     "evalue": "No inputs defined",
     "output_type": "error",
     "traceback": [
      "\u001b[0;31m---------------------------------------------------------------------------\u001b[0m",
      "\u001b[0;31mException\u001b[0m                                 Traceback (most recent call last)",
      "\u001b[0;32m<ipython-input-501-13f67aa27eab>\u001b[0m in \u001b[0;36m<module>\u001b[0;34m()\u001b[0m\n\u001b[0;32m----> 1\u001b[0;31m \u001b[0mrs\u001b[0m \u001b[0;34m=\u001b[0m \u001b[0mskill\u001b[0m\u001b[0;34m.\u001b[0m\u001b[0minvoke\u001b[0m\u001b[0;34m(\u001b[0m\u001b[0minput_name\u001b[0m\u001b[0;34m=\u001b[0m\u001b[0;34m'image_exif_extract'\u001b[0m\u001b[0;34m,\u001b[0m \u001b[0mmessage\u001b[0m\u001b[0;34m=\u001b[0m\u001b[0mMessage\u001b[0m\u001b[0;34m.\u001b[0m\u001b[0mwith_payload\u001b[0m\u001b[0;34m(\u001b[0m\u001b[0;34m{\u001b[0m\u001b[0;34m'url'\u001b[0m\u001b[0;34m:\u001b[0m \u001b[0;34m\"https://www.pida.io/data/https%3A%2F%2Fcogscalermp.s3.amazonaws.com%2FIMG_20190604_121215.jpg?format=json\"\u001b[0m\u001b[0;34m}\u001b[0m\u001b[0;34m)\u001b[0m\u001b[0;34m)\u001b[0m\u001b[0;34m\u001b[0m\u001b[0m\n\u001b[0m\u001b[1;32m      2\u001b[0m \u001b[0mrs\u001b[0m\u001b[0;34m.\u001b[0m\u001b[0mpayload\u001b[0m\u001b[0;34m\u001b[0m\u001b[0m\n",
      "\u001b[0;32m/anaconda3/envs/test/lib/python3.6/site-packages/cortex/skill.py\u001b[0m in \u001b[0;36minvoke\u001b[0;34m(self, input_name, message, timeout)\u001b[0m\n\u001b[1;32m     73\u001b[0m                     \u001b[0;32mraise\u001b[0m \u001b[0mException\u001b[0m\u001b[0;34m(\u001b[0m\u001b[0;34m'Skill invoke only works with \"all\" routing'\u001b[0m\u001b[0;34m)\u001b[0m\u001b[0;34m\u001b[0m\u001b[0m\n\u001b[1;32m     74\u001b[0m         \u001b[0;32melse\u001b[0m\u001b[0;34m:\u001b[0m\u001b[0;34m\u001b[0m\u001b[0m\n\u001b[0;32m---> 75\u001b[0;31m             \u001b[0;32mraise\u001b[0m \u001b[0mException\u001b[0m\u001b[0;34m(\u001b[0m\u001b[0;34m'No inputs defined'\u001b[0m\u001b[0;34m)\u001b[0m\u001b[0;34m\u001b[0m\u001b[0m\n\u001b[0m\u001b[1;32m     76\u001b[0m \u001b[0;34m\u001b[0m\u001b[0m\n\u001b[1;32m     77\u001b[0m     \u001b[0;34m@\u001b[0m\u001b[0mstaticmethod\u001b[0m\u001b[0;34m\u001b[0m\u001b[0m\n",
      "\u001b[0;31mException\u001b[0m: No inputs defined"
     ]
    }
   ],
   "source": [
    "rs = skill.invoke(input_name='image_exif_extract', message=Message.with_payload({'url': \"https://www.pida.io/data/https%3A%2F%2Fcogscalermp.s3.amazonaws.com%2FIMG_20190604_121215.jpg?format=json\"}))\n",
    "rs.payload"
   ]
  },
  {
   "cell_type": "code",
   "execution_count": null,
   "metadata": {},
   "outputs": [],
   "source": []
  }
 ],
 "metadata": {
  "kernelspec": {
   "display_name": "Python 3",
   "language": "python",
   "name": "python3"
  },
  "language_info": {
   "codemirror_mode": {
    "name": "ipython",
    "version": 3
   },
   "file_extension": ".py",
   "mimetype": "text/x-python",
   "name": "python",
   "nbconvert_exporter": "python",
   "pygments_lexer": "ipython3",
   "version": "3.6.8"
  }
 },
 "nbformat": 4,
 "nbformat_minor": 2
}
