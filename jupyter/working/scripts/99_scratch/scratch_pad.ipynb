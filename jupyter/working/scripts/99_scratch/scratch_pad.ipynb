{
 "cells": [
  {
   "cell_type": "code",
   "execution_count": 1,
   "metadata": {},
   "outputs": [
    {
     "name": "stdout",
     "output_type": "stream",
     "text": [
      "Foundation: 1.02.030\n",
      "Transition: 2.03.064\n"
     ]
    }
   ],
   "source": [
    "%run ../base_setup.ipynb"
   ]
  },
  {
   "cell_type": "code",
   "execution_count": 2,
   "metadata": {},
   "outputs": [
    {
     "data": {
      "text/plain": [
       "{'intent': {'selection': [(0.0, 0.94, 'both')],\n",
       "  'granularity': 1,\n",
       "  'dtype': 'number',\n",
       "  'lower': 0.0,\n",
       "  'upper': 0.94,\n",
       "  'size': 1000},\n",
       " 'patterns': {'weight_pattern': [100.0],\n",
       "  'weight_mean': [0.238],\n",
       "  'weight_std': [0.041],\n",
       "  'dominant_values': [0.17],\n",
       "  'dominance_weighting': [100.0],\n",
       "  'dominant_percent': 4.11},\n",
       " 'stats': {'nulls_percent': 10.0,\n",
       "  'sample': 900,\n",
       "  'outlier_percent': 0.0,\n",
       "  'mean': 0.24,\n",
       "  'var': 0.04,\n",
       "  'skew': 1.11,\n",
       "  'kurtosis': 0.48}}"
      ]
     },
     "execution_count": 2,
     "metadata": {},
     "output_type": "execute_result"
    }
   ],
   "source": [
    "values = tools.get_number(0.0, 1.0, precision=2, weight_pattern=[9,3,2,1,0.1], quantity=0.9, size=1000)\n",
    "discover.analyse_number(values)"
   ]
  },
  {
   "cell_type": "code",
   "execution_count": 3,
   "metadata": {},
   "outputs": [
    {
     "data": {
      "text/plain": [
       "{'intent': {'selection': ['A', 'B', 'C'],\n",
       "  'dtype': 'category',\n",
       "  'upper': 37.11,\n",
       "  'lower': 31.11,\n",
       "  'granularity': 3,\n",
       "  'size': 1000,\n",
       "  'top': 3},\n",
       " 'patterns': {'weight_pattern': [37.11, 31.78, 31.11]},\n",
       " 'stats': {'nulls_percent': 10.0, 'outlier_percent': 0.0, 'sample': 900}}"
      ]
     },
     "execution_count": 3,
     "metadata": {},
     "output_type": "execute_result"
    }
   ],
   "source": [
    "cat = tools.get_category(selection=list('ABC'), quantity=0.9, size=1000)\n",
    "discover.analyse_category(cat, top=3)"
   ]
  },
  {
   "cell_type": "code",
   "execution_count": 4,
   "metadata": {},
   "outputs": [
    {
     "data": {
      "text/plain": [
       "{'intent': {'selection': [('2017-01-01', '2018-12-31', 'both')],\n",
       "  'granularity': 1,\n",
       "  'dtype': 'date',\n",
       "  'lower': '2017-01-01',\n",
       "  'upper': '2018-12-31',\n",
       "  'size': 1000},\n",
       " 'patterns': {'weight_pattern': [100.0]},\n",
       " 'stats': {'nulls_percent': 10.0,\n",
       "  'sample': 900,\n",
       "  'outlier_percent': 0.0,\n",
       "  'mean': '2017-12-30',\n",
       "  'skew': 0.02,\n",
       "  'kurtosis': -1.17}}"
      ]
     },
     "execution_count": 4,
     "metadata": {},
     "output_type": "execute_result"
    }
   ],
   "source": [
    "date = tools.get_datetime(start='01-01-2017', until='01-01-2019', quantity=0.9, size=1000)\n",
    "discover.analyse_date(date, date_format='%Y-%m-%d')"
   ]
  },
  {
   "cell_type": "code",
   "execution_count": null,
   "metadata": {},
   "outputs": [],
   "source": [
    "dict1 = {'A': [1,2,3]}\n",
    "listA = [4,2,9]"
   ]
  },
  {
   "cell_type": "code",
   "execution_count": null,
   "metadata": {},
   "outputs": [],
   "source": [
    "dict1['A'] += listA\n",
    "dict1"
   ]
  },
  {
   "cell_type": "code",
   "execution_count": null,
   "metadata": {},
   "outputs": [],
   "source": []
  }
 ],
 "metadata": {
  "kernelspec": {
   "display_name": "Python 3",
   "language": "python",
   "name": "python3"
  },
  "language_info": {
   "codemirror_mode": {
    "name": "ipython",
    "version": 3
   },
   "file_extension": ".py",
   "mimetype": "text/x-python",
   "name": "python",
   "nbconvert_exporter": "python",
   "pygments_lexer": "ipython3",
   "version": "3.6.8"
  }
 },
 "nbformat": 4,
 "nbformat_minor": 2
}
