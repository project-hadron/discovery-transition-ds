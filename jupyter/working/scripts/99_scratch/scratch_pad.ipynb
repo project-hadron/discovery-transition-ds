{
 "cells": [
  {
   "cell_type": "code",
   "execution_count": 9,
   "metadata": {},
   "outputs": [
    {
     "name": "stdout",
     "output_type": "stream",
     "text": [
      "Foundation: 1.02.030\n",
      "Transition: 2.03.070\n"
     ]
    }
   ],
   "source": [
    "%run ../base_setup.ipynb\n",
    "from ds_discovery.transition.discovery import DataAnalytics\n",
    "from pprint import pprint\n",
    "import string"
   ]
  },
  {
   "cell_type": "markdown",
   "metadata": {},
   "source": [
    "-------------------------"
   ]
  },
  {
   "cell_type": "code",
   "execution_count": 11,
   "metadata": {},
   "outputs": [],
   "source": [
    "tr = Transition.from_env('names')"
   ]
  },
  {
   "cell_type": "code",
   "execution_count": 23,
   "metadata": {},
   "outputs": [],
   "source": [
    "tr.set_source_contract(resource='last_names.all.txt', connector_type='csv', \n",
    "                       location='https://raw.githubusercontent.com/philipperemy/name-dataset/master/names_dataset/',\n",
    "                       module_name=tr.MODULE_NAME, handler=tr.HANDLER_SOURCE)"
   ]
  },
  {
   "cell_type": "code",
   "execution_count": 25,
   "metadata": {},
   "outputs": [],
   "source": [
    "df = pd.read_csv('https://raw.githubusercontent.com/philipperemy/name-dataset/master/names_dataset/last_names.all.txt')"
   ]
  },
  {
   "cell_type": "code",
   "execution_count": 26,
   "metadata": {},
   "outputs": [
    {
     "data": {
      "text/html": [
       "<div>\n",
       "<style scoped>\n",
       "    .dataframe tbody tr th:only-of-type {\n",
       "        vertical-align: middle;\n",
       "    }\n",
       "\n",
       "    .dataframe tbody tr th {\n",
       "        vertical-align: top;\n",
       "    }\n",
       "\n",
       "    .dataframe thead th {\n",
       "        text-align: right;\n",
       "    }\n",
       "</style>\n",
       "<table border=\"1\" class=\"dataframe\">\n",
       "  <thead>\n",
       "    <tr style=\"text-align: right;\">\n",
       "      <th></th>\n",
       "      <th>aaberg</th>\n",
       "    </tr>\n",
       "  </thead>\n",
       "  <tbody>\n",
       "    <tr>\n",
       "      <th>0</th>\n",
       "      <td>aabid</td>\n",
       "    </tr>\n",
       "    <tr>\n",
       "      <th>1</th>\n",
       "      <td>aaby</td>\n",
       "    </tr>\n",
       "    <tr>\n",
       "      <th>2</th>\n",
       "      <td>aachal</td>\n",
       "    </tr>\n",
       "    <tr>\n",
       "      <th>3</th>\n",
       "      <td>aadesh</td>\n",
       "    </tr>\n",
       "    <tr>\n",
       "      <th>4</th>\n",
       "      <td>aadil</td>\n",
       "    </tr>\n",
       "    <tr>\n",
       "      <th>...</th>\n",
       "      <td>...</td>\n",
       "    </tr>\n",
       "    <tr>\n",
       "      <th>98385</th>\n",
       "      <td>सोनिया</td>\n",
       "    </tr>\n",
       "    <tr>\n",
       "      <th>98386</th>\n",
       "      <td>हंसाराम</td>\n",
       "    </tr>\n",
       "    <tr>\n",
       "      <th>98387</th>\n",
       "      <td>हीरालाल</td>\n",
       "    </tr>\n",
       "    <tr>\n",
       "      <th>98388</th>\n",
       "      <td>हेमराज</td>\n",
       "    </tr>\n",
       "    <tr>\n",
       "      <th>98389</th>\n",
       "      <td>ि‍वजय</td>\n",
       "    </tr>\n",
       "  </tbody>\n",
       "</table>\n",
       "<p>98390 rows × 1 columns</p>\n",
       "</div>"
      ],
      "text/plain": [
       "        aaberg\n",
       "0        aabid\n",
       "1         aaby\n",
       "2       aachal\n",
       "3       aadesh\n",
       "4        aadil\n",
       "...        ...\n",
       "98385   सोनिया\n",
       "98386  हंसाराम\n",
       "98387  हीरालाल\n",
       "98388   हेमराज\n",
       "98389    ि‍वजय\n",
       "\n",
       "[98390 rows x 1 columns]"
      ]
     },
     "execution_count": 26,
     "metadata": {},
     "output_type": "execute_result"
    }
   ],
   "source": []
  },
  {
   "cell_type": "code",
   "execution_count": null,
   "metadata": {},
   "outputs": [],
   "source": []
  }
 ],
 "metadata": {
  "kernelspec": {
   "display_name": "Python 3",
   "language": "python",
   "name": "python3"
  },
  "language_info": {
   "codemirror_mode": {
    "name": "ipython",
    "version": 3
   },
   "file_extension": ".py",
   "mimetype": "text/x-python",
   "name": "python",
   "nbconvert_exporter": "python",
   "pygments_lexer": "ipython3",
   "version": "3.6.8"
  }
 },
 "nbformat": 4,
 "nbformat_minor": 2
}
