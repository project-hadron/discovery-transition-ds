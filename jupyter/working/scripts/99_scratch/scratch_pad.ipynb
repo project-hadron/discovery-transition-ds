{
 "cells": [
  {
   "cell_type": "code",
   "execution_count": 1,
   "metadata": {},
   "outputs": [
    {
     "name": "stdout",
     "output_type": "stream",
     "text": [
      "Foundation: 1.02.030\n",
      "Transition: 2.03.068\n"
     ]
    }
   ],
   "source": [
    "%run ../base_setup.ipynb\n",
    "from ds_discovery.transition.discovery import DataAnalytics\n",
    "from pprint import pprint"
   ]
  },
  {
   "cell_type": "code",
   "execution_count": 2,
   "metadata": {},
   "outputs": [
    {
     "data": {
      "text/plain": [
       "[23, 8, 69]"
      ]
     },
     "execution_count": 2,
     "metadata": {},
     "output_type": "execute_result"
    }
   ],
   "source": [
    "size = 100\n",
    "weight_pattern = [3,1,9]\n",
    "unit = size/sum(weight_pattern)\n",
    "counter = [0] * len(weight_pattern)\n",
    "for i in range(len(weight_pattern)):\n",
    "    counter[i] = int(round(weight_pattern[i] * unit, 0))\n",
    "counter"
   ]
  },
  {
   "cell_type": "markdown",
   "metadata": {},
   "source": [
    "-------------------------"
   ]
  },
  {
   "cell_type": "code",
   "execution_count": 3,
   "metadata": {},
   "outputs": [
    {
     "name": "stdout",
     "output_type": "stream",
     "text": [
      "{'intent': {'dtype': 'number',\n",
      "            'granularity': 1,\n",
      "            'lower': 0.0,\n",
      "            'precision': 3,\n",
      "            'selection': [(0.0, 0.98, 'both')],\n",
      "            'upper': 0.98,\n",
      "            'weighting_precision': 2},\n",
      " 'patterns': {'dominance_weighting': [100.0],\n",
      "              'dominant_percent': 3.78,\n",
      "              'dominant_values': [0.05],\n",
      "              'weight_mean': [0.235],\n",
      "              'weight_pattern': [100.0],\n",
      "              'weight_std': [0.041]},\n",
      " 'stats': {'kurtosis': 0.5,\n",
      "           'mean': 0.24,\n",
      "           'nulls_percent': 10.0,\n",
      "           'outlier_percent': 0.0,\n",
      "           'sample': 900,\n",
      "           'skew': 1.12,\n",
      "           'var': 0.04}}\n"
     ]
    }
   ],
   "source": [
    "values = tools.get_number(0.0, 1.0, precision=2, weight_pattern=[9,3,2,1,0.1], quantity=0.9, size=1000)\n",
    "pprint(discover.analyse_number(values))"
   ]
  },
  {
   "cell_type": "code",
   "execution_count": 4,
   "metadata": {},
   "outputs": [
    {
     "name": "stdout",
     "output_type": "stream",
     "text": [
      "{'intent': {'dtype': 'category',\n",
      "            'granularity': 3,\n",
      "            'lower': 31.78,\n",
      "            'selection': ['A', 'B', 'C'],\n",
      "            'top': 3,\n",
      "            'upper': 35.67,\n",
      "            'weighting_precision': 2},\n",
      " 'patterns': {'weight_pattern': [35.67, 32.56, 31.78]},\n",
      " 'stats': {'nulls_percent': 10.0, 'outlier_percent': 0.0, 'sample': 900}}\n"
     ]
    }
   ],
   "source": [
    "cat = tools.get_category(selection=list('ABC'), quantity=0.9, size=1000)\n",
    "pprint(discover.analyse_category(cat, top=3))"
   ]
  },
  {
   "cell_type": "code",
   "execution_count": 5,
   "metadata": {},
   "outputs": [
    {
     "name": "stdout",
     "output_type": "stream",
     "text": [
      "{'intent': {'date_format': '%Y-%m-%d',\n",
      "            'day_first': False,\n",
      "            'dtype': 'date',\n",
      "            'granularity': 1,\n",
      "            'lower': '2017-01-01',\n",
      "            'selection': [('2017-01-01', '2018-12-31', 'both')],\n",
      "            'upper': '2018-12-31',\n",
      "            'weighting_precision': 2,\n",
      "            'year_first': False},\n",
      " 'patterns': {'weight_pattern': [100.0]},\n",
      " 'stats': {'kurtosis': -1.15,\n",
      "           'mean': '2018-01-01',\n",
      "           'nulls_percent': 10.0,\n",
      "           'outlier_percent': 0.0,\n",
      "           'sample': 900,\n",
      "           'skew': -0.03}}\n"
     ]
    }
   ],
   "source": [
    "date = tools.get_datetime(start='01-01-2017', until='01-01-2019', quantity=0.9, size=1000)\n",
    "pprint(discover.analyse_date(date, day_first=False, date_format='%Y-%m-%d'))"
   ]
  },
  {
   "cell_type": "code",
   "execution_count": 6,
   "metadata": {},
   "outputs": [],
   "source": [
    "df = pd.DataFrame()\n",
    "df['values'] = values\n",
    "df['cat'] = cat\n",
    "df['date'] = date\n"
   ]
  },
  {
   "cell_type": "code",
   "execution_count": 32,
   "metadata": {},
   "outputs": [
    {
     "data": {
      "text/plain": [
       "{'cat': {'associate': 'cat',\n",
       "  'analysis': {'intent': {'selection': ['A', 'B', 'C'],\n",
       "    'dtype': 'category',\n",
       "    'upper': 35.67,\n",
       "    'lower': 31.78,\n",
       "    'granularity': 3,\n",
       "    'weighting_precision': 2},\n",
       "   'patterns': {'weight_pattern': [35.67, 32.56, 31.78]},\n",
       "   'stats': {'nulls_percent': 10.0, 'outlier_percent': 0.0, 'sample': 900}},\n",
       "  'sub_category': {'A': {'values': {'associate': 'cat.values',\n",
       "     'analysis': {'intent': {'selection': [(0.0, 0.92, 'both')],\n",
       "       'granularity': 1,\n",
       "       'dtype': 'number',\n",
       "       'precision': 2,\n",
       "       'lower': 0.0,\n",
       "       'upper': 0.92,\n",
       "       'weighting_precision': 2},\n",
       "      'patterns': {'weight_pattern': [100.0],\n",
       "       'weight_mean': [0.225],\n",
       "       'weight_std': [0.035],\n",
       "       'dominant_values': [0.16],\n",
       "       'dominance_weighting': [100.0],\n",
       "       'dominant_percent': 5.07},\n",
       "      'stats': {'nulls_percent': 7.79,\n",
       "       'sample': 296,\n",
       "       'outlier_percent': 0.0,\n",
       "       'mean': 0.23,\n",
       "       'var': 0.04,\n",
       "       'skew': 1.09,\n",
       "       'kurtosis': 0.4}}}},\n",
       "   'B': {'values': {'associate': 'cat.values',\n",
       "     'analysis': {'intent': {'selection': [(0.0, 0.98, 'both')],\n",
       "       'granularity': 1,\n",
       "       'dtype': 'number',\n",
       "       'precision': 2,\n",
       "       'lower': 0.0,\n",
       "       'upper': 0.98,\n",
       "       'weighting_precision': 2},\n",
       "      'patterns': {'weight_pattern': [100.0],\n",
       "       'weight_mean': [0.226],\n",
       "       'weight_std': [0.04],\n",
       "       'dominant_values': [0.07],\n",
       "       'dominance_weighting': [100.0],\n",
       "       'dominant_percent': 6.49},\n",
       "      'stats': {'nulls_percent': 10.58,\n",
       "       'sample': 262,\n",
       "       'outlier_percent': 0.0,\n",
       "       'mean': 0.23,\n",
       "       'var': 0.04,\n",
       "       'skew': 1.24,\n",
       "       'kurtosis': 1.0}}}},\n",
       "   'C': {'values': {'associate': 'cat.values',\n",
       "     'analysis': {'intent': {'selection': [(0.0, 0.87, 'both')],\n",
       "       'granularity': 1,\n",
       "       'dtype': 'number',\n",
       "       'precision': 2,\n",
       "       'lower': 0.0,\n",
       "       'upper': 0.87,\n",
       "       'weighting_precision': 2},\n",
       "      'patterns': {'weight_pattern': [100.0],\n",
       "       'weight_mean': [0.247],\n",
       "       'weight_std': [0.046],\n",
       "       'dominant_values': [0.02, 0.05],\n",
       "       'dominance_weighting': [50.0, 50.0],\n",
       "       'dominant_percent': 10.2},\n",
       "      'stats': {'nulls_percent': 10.84,\n",
       "       'sample': 255,\n",
       "       'outlier_percent': 0.0,\n",
       "       'mean': 0.25,\n",
       "       'var': 0.05,\n",
       "       'skew': 1.04,\n",
       "       'kurtosis': 0.22}}}}}}}"
      ]
     },
     "execution_count": 32,
     "metadata": {},
     "output_type": "execute_result"
    }
   ],
   "source": [
    "columns_list= [{'cat': {'dtype': 'category'}},\n",
    "               {'values': {'dtype': 'number', 'precision': 2}}]\n",
    "\n",
    "analysis = discover.analyse_association(df, columns_list=columns_list)\n",
    "analysis"
   ]
  },
  {
   "cell_type": "code",
   "execution_count": 30,
   "metadata": {},
   "outputs": [
    {
     "name": "stdout",
     "output_type": "stream",
     "text": [
      "{'values': {'analysis': {'intent': {'dtype': 'number',\n",
      "                                    'granularity': 1,\n",
      "                                    'lower': 0.0,\n",
      "                                    'precision': 2,\n",
      "                                    'selection': [(0.0, 0.92, 'both')],\n",
      "                                    'upper': 0.92,\n",
      "                                    'weighting_precision': 2},\n",
      "                         'patterns': {'dominance_weighting': [100.0],\n",
      "                                      'dominant_percent': 5.07,\n",
      "                                      'dominant_values': [0.16],\n",
      "                                      'weight_mean': [0.225],\n",
      "                                      'weight_pattern': [100.0],\n",
      "                                      'weight_std': [0.035]},\n",
      "                         'stats': {'kurtosis': 0.4,\n",
      "                                   'mean': 0.23,\n",
      "                                   'nulls_percent': 7.79,\n",
      "                                   'outlier_percent': 0.0,\n",
      "                                   'sample': 296,\n",
      "                                   'skew': 1.09,\n",
      "                                   'var': 0.04}},\n",
      "            'associate': 'cat.values'}}\n",
      "{'values': {'analysis': {'intent': {'dtype': 'number',\n",
      "                                    'granularity': 1,\n",
      "                                    'lower': 0.0,\n",
      "                                    'precision': 2,\n",
      "                                    'selection': [(0.0, 0.98, 'both')],\n",
      "                                    'upper': 0.98,\n",
      "                                    'weighting_precision': 2},\n",
      "                         'patterns': {'dominance_weighting': [100.0],\n",
      "                                      'dominant_percent': 6.49,\n",
      "                                      'dominant_values': [0.07],\n",
      "                                      'weight_mean': [0.226],\n",
      "                                      'weight_pattern': [100.0],\n",
      "                                      'weight_std': [0.04]},\n",
      "                         'stats': {'kurtosis': 1.0,\n",
      "                                   'mean': 0.23,\n",
      "                                   'nulls_percent': 10.58,\n",
      "                                   'outlier_percent': 0.0,\n",
      "                                   'sample': 262,\n",
      "                                   'skew': 1.24,\n",
      "                                   'var': 0.04}},\n",
      "            'associate': 'cat.values'}}\n",
      "{'values': {'analysis': {'intent': {'dtype': 'number',\n",
      "                                    'granularity': 1,\n",
      "                                    'lower': 0.0,\n",
      "                                    'precision': 2,\n",
      "                                    'selection': [(0.0, 0.87, 'both')],\n",
      "                                    'upper': 0.87,\n",
      "                                    'weighting_precision': 2},\n",
      "                         'patterns': {'dominance_weighting': [50.0, 50.0],\n",
      "                                      'dominant_percent': 10.2,\n",
      "                                      'dominant_values': [0.02, 0.05],\n",
      "                                      'weight_mean': [0.247],\n",
      "                                      'weight_pattern': [100.0],\n",
      "                                      'weight_std': [0.046]},\n",
      "                         'stats': {'kurtosis': 0.22,\n",
      "                                   'mean': 0.25,\n",
      "                                   'nulls_percent': 10.84,\n",
      "                                   'outlier_percent': 0.0,\n",
      "                                   'sample': 255,\n",
      "                                   'skew': 1.04,\n",
      "                                   'var': 0.05}},\n",
      "            'associate': 'cat.values'}}\n"
     ]
    }
   ],
   "source": [
    "sample_size=1000\n",
    "for label, values in analysis.items():\n",
    "    _analysis = DataAnalytics(label, values.get('analysis', {}))\n",
    "\n",
    "    unit = sample_size / sum(_analysis.weight_pattern)\n",
    "    if values.get('sub_category'):\n",
    "        for i in _analysis.weight_map.index:\n",
    "            section_size = int(round(_analysis.weight_map.loc[i] * unit, 0))\n",
    "            next_item = values.get('sub_category').get(i)\n",
    "            pprint(next_item)"
   ]
  },
  {
   "cell_type": "code",
   "execution_count": null,
   "metadata": {},
   "outputs": [],
   "source": []
  }
 ],
 "metadata": {
  "kernelspec": {
   "display_name": "Python 3",
   "language": "python",
   "name": "python3"
  },
  "language_info": {
   "codemirror_mode": {
    "name": "ipython",
    "version": 3
   },
   "file_extension": ".py",
   "mimetype": "text/x-python",
   "name": "python",
   "nbconvert_exporter": "python",
   "pygments_lexer": "ipython3",
   "version": "3.6.8"
  }
 },
 "nbformat": 4,
 "nbformat_minor": 2
}
