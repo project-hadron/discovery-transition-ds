{
 "cells": [
  {
   "cell_type": "code",
   "execution_count": 4,
   "metadata": {},
   "outputs": [
    {
     "name": "stdout",
     "output_type": "stream",
     "text": [
      "Foundation: 2.00.004\n",
      "Transition: 2.04.001\n"
     ]
    }
   ],
   "source": [
    "%run ../base_setup.ipynb"
   ]
  },
  {
   "cell_type": "markdown",
   "metadata": {},
   "source": [
    "-------------------------"
   ]
  },
  {
   "cell_type": "code",
   "execution_count": 34,
   "metadata": {},
   "outputs": [],
   "source": [
    "df = pd.read_csv('../../../../../data/raw/paribas.csv', nrows=50000)"
   ]
  },
  {
   "cell_type": "code",
   "execution_count": 35,
   "metadata": {},
   "outputs": [],
   "source": [
    "df = cleaner.filter_columns(df, dtype='number')"
   ]
  },
  {
   "cell_type": "code",
   "execution_count": 76,
   "metadata": {},
   "outputs": [],
   "source": [
    "def get_corr(df_filter, threshold):\n",
    "    corrmat = df_filter.corr().abs().unstack().sort_values(ascending=False)\n",
    "    corrmat = corrmat[corrmat >= threshold]\n",
    "    corrmat = corrmat[corrmat < 1]\n",
    "    corrmat = pd.DataFrame(corrmat).reset_index()\n",
    "    corrmat.columns = ['feature1', 'feature2', 'corr']\n",
    "    grouped_feature_ls = []\n",
    "    correlated_groups = []\n",
    "\n",
    "    for feature in corrmat.feature1.unique():\n",
    "        if feature not in grouped_feature_ls:\n",
    "\n",
    "            # find all features correlated to a single feature\n",
    "            correlated_block = corrmat[corrmat.feature1 == feature]\n",
    "            grouped_feature_ls = grouped_feature_ls + list(\n",
    "                correlated_block.feature2.unique()) + [feature]\n",
    "\n",
    "            # append the block of features to the list\n",
    "            correlated_groups.append(correlated_block)\n",
    "    # Use RandomForest on all the features from the above list, and select the more predictive one.\n",
    "    for group in correlated_groups:\n",
    "        feature_list = []\n",
    "        for feature in list(group.feature2.unique()):\n",
    "            feature_list.append(df[feature].isnull().sum())\n",
    "        feature_list = sorted(feature_list)\n",
    "        print(\"{} {} {}\".format( group.feature1.iloc[0], df[group.feature1.iloc[0]].isnull().sum(),feature_list))\n",
    "        print()\n",
    "\n",
    "        "
   ]
  },
  {
   "cell_type": "code",
   "execution_count": 77,
   "metadata": {},
   "outputs": [
    {
     "name": "stdout",
     "output_type": "stream",
     "text": [
      "v100 21538 [21538]\n",
      "\n",
      "v69 21558 [21558]\n",
      "\n",
      "v17 21527 [21527, 21527, 21527, 21527, 21527, 21527, 21537]\n",
      "\n",
      "v63 21032 [21032, 21032, 21032, 21032, 21032, 21044]\n",
      "\n",
      "v95 21539 [21539]\n",
      "\n",
      "v26 21537 [21537, 21538, 21538]\n",
      "\n",
      "v114 9 [44, 44]\n",
      "\n",
      "v83 21537 [21537, 21537, 21537, 21539, 21539, 21539]\n",
      "\n",
      "v97 21539 [21539]\n",
      "\n",
      "v108 21035 [21035, 21035, 21047]\n",
      "\n",
      "v96 21537 [21537, 21537, 21537, 21537]\n",
      "\n",
      "v11 21538 [21538]\n",
      "\n",
      "v39 21538 [21538]\n",
      "\n",
      "v15 21538 [21537, 21537, 21538]\n",
      "\n",
      "v13 21537 [21537]\n",
      "\n",
      "v12 35 [35]\n",
      "\n",
      "v20 21539 [21539]\n",
      "\n",
      "v49 21537 [21537, 21537, 21537]\n",
      "\n",
      "v81 21035 [21035, 21047, 21915]\n",
      "\n",
      "v37 21539 [21537]\n",
      "\n",
      "v124 21032 [21032, 21032, 21032, 21044]\n",
      "\n",
      "v103 21537 [21537]\n",
      "\n",
      "v61 21527 [21527, 21915]\n",
      "\n",
      "v119 21914 [21915]\n",
      "\n",
      "v70 21037 [21048]\n",
      "\n",
      "v126 21537 [21537]\n",
      "\n",
      "v84 21537 [21537, 21539]\n",
      "\n",
      "v4 21527 [21527, 21527, 21527]\n",
      "\n",
      "v14 0 [256]\n",
      "\n",
      "v122 21539 [21539]\n",
      "\n",
      "v16 21558 [21558]\n",
      "\n"
     ]
    }
   ],
   "source": [
    "get_corr(df, 0.8)"
   ]
  },
  {
   "cell_type": "code",
   "execution_count": null,
   "metadata": {},
   "outputs": [],
   "source": []
  }
 ],
 "metadata": {
  "kernelspec": {
   "display_name": "Python 3",
   "language": "python",
   "name": "python3"
  },
  "language_info": {
   "codemirror_mode": {
    "name": "ipython",
    "version": 3
   },
   "file_extension": ".py",
   "mimetype": "text/x-python",
   "name": "python",
   "nbconvert_exporter": "python",
   "pygments_lexer": "ipython3",
   "version": "3.6.8"
  }
 },
 "nbformat": 4,
 "nbformat_minor": 2
}
