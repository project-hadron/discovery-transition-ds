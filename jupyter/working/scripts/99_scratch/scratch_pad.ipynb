{
 "cells": [
  {
   "cell_type": "code",
   "execution_count": 2,
   "metadata": {},
   "outputs": [
    {
     "name": "stdout",
     "output_type": "stream",
     "text": [
      "Foundation: 2.03.004\n",
      "Transition: 2.05.045\n"
     ]
    }
   ],
   "source": [
    "%run ../base_setup.ipynb"
   ]
  },
  {
   "cell_type": "code",
   "execution_count": 12,
   "metadata": {},
   "outputs": [],
   "source": [
    "df = pd.DataFrame()\n",
    "df['gendre'] = tools.get_category(selection=['Comedy','Drama','News and Information','Reality and Game Show','Undefined'], size=20)\n",
    "df['EndType'] = tools.get_category(selection=['Ad End','Ad Start','Undefined','Video End','Video Start'], weight_pattern=[1,3,1,6,2], size=20)\n",
    "\n"
   ]
  },
  {
   "cell_type": "code",
   "execution_count": 21,
   "metadata": {},
   "outputs": [],
   "source": [
    "def apply_condition(canonical, headers, condition, **kwargs):\n",
    "    local_kwargs = locals().get('kwargs') if 'kwargs' in locals() else dict()\n",
    "    local_kwargs['canonical'] = canonical\n",
    "    str_code = \"canonical['{}']{}\".format(headers, condition)\n",
    "    canonical = canonical.where(eval(str_code, globals(), local_kwargs)).dropna()\n",
    "    return canonical\n"
   ]
  },
  {
   "cell_type": "code",
   "execution_count": 22,
   "metadata": {},
   "outputs": [
    {
     "data": {
      "text/html": [
       "<div>\n",
       "<style scoped>\n",
       "    .dataframe tbody tr th:only-of-type {\n",
       "        vertical-align: middle;\n",
       "    }\n",
       "\n",
       "    .dataframe tbody tr th {\n",
       "        vertical-align: top;\n",
       "    }\n",
       "\n",
       "    .dataframe thead th {\n",
       "        text-align: right;\n",
       "    }\n",
       "</style>\n",
       "<table border=\"1\" class=\"dataframe\">\n",
       "  <thead>\n",
       "    <tr style=\"text-align: right;\">\n",
       "      <th></th>\n",
       "      <th>gendre</th>\n",
       "      <th>EndType</th>\n",
       "    </tr>\n",
       "  </thead>\n",
       "  <tbody>\n",
       "    <tr>\n",
       "      <th>1</th>\n",
       "      <td>Drama</td>\n",
       "      <td>Video End</td>\n",
       "    </tr>\n",
       "    <tr>\n",
       "      <th>4</th>\n",
       "      <td>News and Information</td>\n",
       "      <td>Video End</td>\n",
       "    </tr>\n",
       "    <tr>\n",
       "      <th>5</th>\n",
       "      <td>Comedy</td>\n",
       "      <td>Video End</td>\n",
       "    </tr>\n",
       "    <tr>\n",
       "      <th>8</th>\n",
       "      <td>Undefined</td>\n",
       "      <td>Video End</td>\n",
       "    </tr>\n",
       "    <tr>\n",
       "      <th>10</th>\n",
       "      <td>Undefined</td>\n",
       "      <td>Video End</td>\n",
       "    </tr>\n",
       "    <tr>\n",
       "      <th>11</th>\n",
       "      <td>News and Information</td>\n",
       "      <td>Video End</td>\n",
       "    </tr>\n",
       "    <tr>\n",
       "      <th>13</th>\n",
       "      <td>Undefined</td>\n",
       "      <td>Video End</td>\n",
       "    </tr>\n",
       "    <tr>\n",
       "      <th>15</th>\n",
       "      <td>Drama</td>\n",
       "      <td>Video End</td>\n",
       "    </tr>\n",
       "    <tr>\n",
       "      <th>16</th>\n",
       "      <td>Undefined</td>\n",
       "      <td>Video End</td>\n",
       "    </tr>\n",
       "    <tr>\n",
       "      <th>19</th>\n",
       "      <td>Drama</td>\n",
       "      <td>Video End</td>\n",
       "    </tr>\n",
       "  </tbody>\n",
       "</table>\n",
       "</div>"
      ],
      "text/plain": [
       "                  gendre    EndType\n",
       "1                  Drama  Video End\n",
       "4   News and Information  Video End\n",
       "5                 Comedy  Video End\n",
       "8              Undefined  Video End\n",
       "10             Undefined  Video End\n",
       "11  News and Information  Video End\n",
       "13             Undefined  Video End\n",
       "15                 Drama  Video End\n",
       "16             Undefined  Video End\n",
       "19                 Drama  Video End"
      ]
     },
     "execution_count": 22,
     "metadata": {},
     "output_type": "execute_result"
    }
   ],
   "source": [
    "apply_condition(df, headers='EndType', condition='== value', value='Video End')"
   ]
  },
  {
   "cell_type": "code",
   "execution_count": null,
   "metadata": {},
   "outputs": [],
   "source": []
  }
 ],
 "metadata": {
  "kernelspec": {
   "display_name": "Python 3",
   "language": "python",
   "name": "python3"
  },
  "language_info": {
   "codemirror_mode": {
    "name": "ipython",
    "version": 3
   },
   "file_extension": ".py",
   "mimetype": "text/x-python",
   "name": "python",
   "nbconvert_exporter": "python",
   "pygments_lexer": "ipython3",
   "version": "3.7.6"
  }
 },
 "nbformat": 4,
 "nbformat_minor": 4
}
