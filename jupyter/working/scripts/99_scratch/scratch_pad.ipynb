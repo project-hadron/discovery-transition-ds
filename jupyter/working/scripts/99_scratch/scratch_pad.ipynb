{
 "cells": [
  {
   "cell_type": "code",
   "execution_count": 1,
   "metadata": {},
   "outputs": [
    {
     "name": "stdout",
     "output_type": "stream",
     "text": [
      "Foundation: 1.02.023\n",
      "Transition: 2.03.052\n"
     ]
    }
   ],
   "source": [
    "%run ../base_setup.ipynb"
   ]
  },
  {
   "cell_type": "code",
   "execution_count": 35,
   "metadata": {},
   "outputs": [
    {
     "data": {
      "text/plain": [
       "[2, 6, 12, 6, 11, 5, 12, 8, 11, 13]"
      ]
     },
     "execution_count": 35,
     "metadata": {},
     "output_type": "execute_result"
    },
    {
     "data": {
      "text/plain": [
       "4"
      ]
     },
     "execution_count": 35,
     "metadata": {},
     "output_type": "execute_result"
    },
    {
     "data": {
      "text/plain": [
       "5"
      ]
     },
     "execution_count": 35,
     "metadata": {},
     "output_type": "execute_result"
    },
    {
     "data": {
      "text/plain": [
       "0"
      ]
     },
     "execution_count": 35,
     "metadata": {},
     "output_type": "execute_result"
    }
   ],
   "source": [
    "values = tools.get_number(0,15, size=10)\n",
    "values\n",
    "values = pd.Series(values)\n",
    "intervals = [(0,7,'both'),(8,13),(14,15)]\n",
    "for interval in intervals:\n",
    "    if len(interval) == 2:\n",
    "        interval = (interval[0], interval[1], 'right')\n",
    "    low, high, closed = interval\n",
    "    if str.lower(closed) == 'neither':\n",
    "        result = values.loc[(values > low) & (values < high)].size\n",
    "    elif str.lower(closed) == 'left':\n",
    "        result = values.loc[(values >= low) & (values < high)].size\n",
    "    elif str.lower(closed) == 'both':\n",
    "        result = values.loc[(values >= low) & (values <= high)].size\n",
    "    else: # default right\n",
    "        result = values.loc[(values > low) & (values <= high)].size\n",
    "        \n",
    "    \n",
    "    result"
   ]
  },
  {
   "cell_type": "code",
   "execution_count": null,
   "metadata": {},
   "outputs": [],
   "source": [
    "pd.interval_range"
   ]
  },
  {
   "cell_type": "code",
   "execution_count": null,
   "metadata": {},
   "outputs": [],
   "source": []
  }
 ],
 "metadata": {
  "kernelspec": {
   "display_name": "Python 3",
   "language": "python",
   "name": "python3"
  },
  "language_info": {
   "codemirror_mode": {
    "name": "ipython",
    "version": 3
   },
   "file_extension": ".py",
   "mimetype": "text/x-python",
   "name": "python",
   "nbconvert_exporter": "python",
   "pygments_lexer": "ipython3",
   "version": "3.6.8"
  }
 },
 "nbformat": 4,
 "nbformat_minor": 2
}
