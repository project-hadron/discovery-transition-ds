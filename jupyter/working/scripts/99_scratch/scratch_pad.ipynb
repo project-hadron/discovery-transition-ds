{
 "cells": [
  {
   "cell_type": "code",
   "execution_count": 1,
   "metadata": {},
   "outputs": [
    {
     "name": "stdout",
     "output_type": "stream",
     "text": [
      "Foundation: 1.02.030\n",
      "Transition: 2.03.066\n"
     ]
    }
   ],
   "source": [
    "%run ../base_setup.ipynb"
   ]
  },
  {
   "cell_type": "code",
   "execution_count": 2,
   "metadata": {},
   "outputs": [
    {
     "data": {
      "text/plain": [
       "{'intent': {'selection': [(0.0, 1.0, 'both')],\n",
       "  'granularity': 1,\n",
       "  'dtype': 'number',\n",
       "  'lower': 0.0,\n",
       "  'upper': 1.0},\n",
       " 'patterns': {'weight_pattern': [100.0],\n",
       "  'weight_mean': [0.237],\n",
       "  'weight_std': [0.044],\n",
       "  'dominant_values': [0.01],\n",
       "  'dominance_weighting': [100.0],\n",
       "  'dominant_percent': 4.11},\n",
       " 'stats': {'nulls_percent': 10.0,\n",
       "  'sample': 900,\n",
       "  'outlier_percent': 0.0,\n",
       "  'mean': 0.24,\n",
       "  'var': 0.04,\n",
       "  'skew': 1.12,\n",
       "  'kurtosis': 0.53}}"
      ]
     },
     "execution_count": 2,
     "metadata": {},
     "output_type": "execute_result"
    }
   ],
   "source": [
    "values = tools.get_number(0.0, 1.0, precision=2, weight_pattern=[9,3,2,1,0.1], quantity=0.9, size=1000)\n",
    "discover.analyse_number(values)"
   ]
  },
  {
   "cell_type": "code",
   "execution_count": 3,
   "metadata": {},
   "outputs": [
    {
     "data": {
      "text/plain": [
       "{'intent': {'selection': ['C', 'A', 'B'],\n",
       "  'dtype': 'category',\n",
       "  'upper': 34.11,\n",
       "  'lower': 32.11,\n",
       "  'granularity': 3,\n",
       "  'top': 3},\n",
       " 'patterns': {'weight_pattern': [34.11, 33.78, 32.11]},\n",
       " 'stats': {'nulls_percent': 10.0, 'outlier_percent': 0.0, 'sample': 900}}"
      ]
     },
     "execution_count": 3,
     "metadata": {},
     "output_type": "execute_result"
    }
   ],
   "source": [
    "cat = tools.get_category(selection=list('ABC'), quantity=0.9, size=1000)\n",
    "discover.analyse_category(cat, top=3)"
   ]
  },
  {
   "cell_type": "code",
   "execution_count": 4,
   "metadata": {},
   "outputs": [
    {
     "data": {
      "text/plain": [
       "{'intent': {'selection': [('2017-01-01', '2018-12-31', 'both')],\n",
       "  'granularity': 1,\n",
       "  'dtype': 'date',\n",
       "  'lower': '2017-01-01',\n",
       "  'upper': '2018-12-31'},\n",
       " 'patterns': {'weight_pattern': [100.0]},\n",
       " 'stats': {'nulls_percent': 10.0,\n",
       "  'sample': 900,\n",
       "  'outlier_percent': 0.0,\n",
       "  'mean': '2017-12-30',\n",
       "  'skew': 0.04,\n",
       "  'kurtosis': -1.27}}"
      ]
     },
     "execution_count": 4,
     "metadata": {},
     "output_type": "execute_result"
    }
   ],
   "source": [
    "date = tools.get_datetime(start='01-01-2017', until='01-01-2019', quantity=0.9, size=1000)\n",
    "discover.analyse_date(date, date_format='%Y-%m-%d')"
   ]
  },
  {
   "cell_type": "code",
   "execution_count": 5,
   "metadata": {},
   "outputs": [],
   "source": [
    "df = pd.DataFrame()\n",
    "df['values'] = values\n",
    "df['cat'] = cat\n",
    "df['date'] = date\n"
   ]
  },
  {
   "cell_type": "code",
   "execution_count": 7,
   "metadata": {},
   "outputs": [
    {
     "ename": "NameError",
     "evalue": "name 'nulls_list' is not defined",
     "output_type": "error",
     "traceback": [
      "\u001b[0;31m---------------------------------------------------------------------------\u001b[0m",
      "\u001b[0;31mNameError\u001b[0m                                 Traceback (most recent call last)",
      "\u001b[0;32m<ipython-input-7-7e2453162160>\u001b[0m in \u001b[0;36m<module>\u001b[0;34m()\u001b[0m\n\u001b[1;32m      3\u001b[0m                 'date': {'dtype': 'date',  'date_format': '%Y-%m-%d'}}]\n\u001b[1;32m      4\u001b[0m \u001b[0;34m\u001b[0m\u001b[0m\n\u001b[0;32m----> 5\u001b[0;31m \u001b[0mdiscover\u001b[0m\u001b[0;34m.\u001b[0m\u001b[0manalyse_association\u001b[0m\u001b[0;34m(\u001b[0m\u001b[0mdf\u001b[0m\u001b[0;34m,\u001b[0m \u001b[0mcolumns_list\u001b[0m\u001b[0;34m=\u001b[0m\u001b[0mcolumns_list\u001b[0m\u001b[0;34m)\u001b[0m\u001b[0;34m\u001b[0m\u001b[0;34m\u001b[0m\u001b[0m\n\u001b[0m",
      "\u001b[0;32m~/anaconda3/envs/common/lib/python3.6/site-packages/ds_discovery/transition/discovery.py\u001b[0m in \u001b[0;36manalyse_association\u001b[0;34m(df, columns_list, exclude_associate)\u001b[0m\n\u001b[1;32m    684\u001b[0m         \u001b[0mexclude_associate\u001b[0m \u001b[0;34m=\u001b[0m \u001b[0mlist\u001b[0m\u001b[0;34m(\u001b[0m\u001b[0;34m)\u001b[0m \u001b[0;32mif\u001b[0m \u001b[0;32mnot\u001b[0m \u001b[0misinstance\u001b[0m\u001b[0;34m(\u001b[0m\u001b[0mexclude_associate\u001b[0m\u001b[0;34m,\u001b[0m \u001b[0mlist\u001b[0m\u001b[0;34m)\u001b[0m \u001b[0;32melse\u001b[0m \u001b[0mexclude_associate\u001b[0m\u001b[0;34m\u001b[0m\u001b[0;34m\u001b[0m\u001b[0m\n\u001b[1;32m    685\u001b[0m         \u001b[0mrtn_dict\u001b[0m \u001b[0;34m=\u001b[0m \u001b[0;34m{\u001b[0m\u001b[0;34m}\u001b[0m\u001b[0;34m\u001b[0m\u001b[0;34m\u001b[0m\u001b[0m\n\u001b[0;32m--> 686\u001b[0;31m         \u001b[0m_get_weights\u001b[0m\u001b[0;34m(\u001b[0m\u001b[0mdf\u001b[0m\u001b[0;34m,\u001b[0m \u001b[0mcolumns\u001b[0m\u001b[0;34m=\u001b[0m\u001b[0mcolumns_list\u001b[0m\u001b[0;34m,\u001b[0m \u001b[0mindex\u001b[0m\u001b[0;34m=\u001b[0m\u001b[0;36m0\u001b[0m\u001b[0;34m,\u001b[0m \u001b[0mweighting\u001b[0m\u001b[0;34m=\u001b[0m\u001b[0mrtn_dict\u001b[0m\u001b[0;34m,\u001b[0m \u001b[0mparent\u001b[0m\u001b[0;34m=\u001b[0m\u001b[0mlist\u001b[0m\u001b[0;34m(\u001b[0m\u001b[0;34m)\u001b[0m\u001b[0;34m)\u001b[0m\u001b[0;34m\u001b[0m\u001b[0;34m\u001b[0m\u001b[0m\n\u001b[0m\u001b[1;32m    687\u001b[0m         \u001b[0;32mreturn\u001b[0m \u001b[0mrtn_dict\u001b[0m\u001b[0;34m\u001b[0m\u001b[0;34m\u001b[0m\u001b[0m\n\u001b[1;32m    688\u001b[0m \u001b[0;34m\u001b[0m\u001b[0m\n",
      "\u001b[0;32m~/anaconda3/envs/common/lib/python3.6/site-packages/ds_discovery/transition/discovery.py\u001b[0m in \u001b[0;36m_get_weights\u001b[0;34m(_df, columns, index, weighting, parent)\u001b[0m\n\u001b[1;32m    661\u001b[0m                     \u001b[0mreplace_zero\u001b[0m \u001b[0;34m=\u001b[0m \u001b[0mkwargs\u001b[0m\u001b[0;34m.\u001b[0m\u001b[0mget\u001b[0m\u001b[0;34m(\u001b[0m\u001b[0;34m'replace_zero'\u001b[0m\u001b[0;34m)\u001b[0m\u001b[0;34m\u001b[0m\u001b[0;34m\u001b[0m\u001b[0m\n\u001b[1;32m    662\u001b[0m                     section['analysis'] = tools.analyse_category(_df[label], lower=lower, upper=upper, top=top,\n\u001b[0;32m--> 663\u001b[0;31m                                                                  \u001b[0mreplace_zero\u001b[0m\u001b[0;34m=\u001b[0m\u001b[0mreplace_zero\u001b[0m\u001b[0;34m,\u001b[0m \u001b[0mnulls_list\u001b[0m\u001b[0;34m=\u001b[0m\u001b[0mnulls_list\u001b[0m\u001b[0;34m,\u001b[0m\u001b[0;34m\u001b[0m\u001b[0;34m\u001b[0m\u001b[0m\n\u001b[0m\u001b[1;32m    664\u001b[0m                                                                  weighting_precision=weighting_precision)\n\u001b[1;32m    665\u001b[0m                 \u001b[0;31m# iterate the sub categories\u001b[0m\u001b[0;34m\u001b[0m\u001b[0;34m\u001b[0m\u001b[0;34m\u001b[0m\u001b[0m\n",
      "\u001b[0;31mNameError\u001b[0m: name 'nulls_list' is not defined"
     ]
    }
   ],
   "source": [
    "columns_list= [{'cat': {'dtype': 'category'}},\n",
    "               {'values': {'dtype': 'number', 'precision': 2}, \n",
    "                'date': {'dtype': 'date', 'date_format': '%Y-%m-%d'}}]\n",
    "\n",
    "discover.analyse_association(df, columns_list=columns_list)"
   ]
  },
  {
   "cell_type": "code",
   "execution_count": null,
   "metadata": {},
   "outputs": [],
   "source": []
  }
 ],
 "metadata": {
  "kernelspec": {
   "display_name": "Python 3",
   "language": "python",
   "name": "python3"
  },
  "language_info": {
   "codemirror_mode": {
    "name": "ipython",
    "version": 3
   },
   "file_extension": ".py",
   "mimetype": "text/x-python",
   "name": "python",
   "nbconvert_exporter": "python",
   "pygments_lexer": "ipython3",
   "version": "3.6.8"
  }
 },
 "nbformat": 4,
 "nbformat_minor": 2
}
