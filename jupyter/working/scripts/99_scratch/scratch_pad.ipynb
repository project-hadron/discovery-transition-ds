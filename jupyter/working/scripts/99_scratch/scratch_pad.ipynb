{
 "cells": [
  {
   "cell_type": "code",
   "execution_count": 19,
   "metadata": {},
   "outputs": [
    {
     "name": "stdout",
     "output_type": "stream",
     "text": [
      "Foundation: 2.03.036\n",
      "Transition: 2.05.056\n",
      "Engines   : 2.01.020\n"
     ]
    }
   ],
   "source": [
    "%run ../base_setup.ipynb"
   ]
  },
  {
   "cell_type": "code",
   "execution_count": 21,
   "metadata": {},
   "outputs": [
    {
     "data": {
      "text/plain": [
       "'s3://bucket/path/aistac_connector_task_1.00_20200213213858783779'"
      ]
     },
     "execution_count": 21,
     "metadata": {},
     "output_type": "execute_result"
    }
   ],
   "source": [
    "\n",
    "labels = {'VERSION': \"_1.00\", 'STAMP_DAYS': datetime.now().strftime(\"_%Y%m%d\"), 'STAMP_HOURS': datetime.now().strftime(\"_%Y%m%d%H\"), \n",
    "          'STAMP_MINUTES': datetime.now().strftime(\"_%Y%m%d%H%M\"), 'STAMP_SECONDS': datetime.now().strftime(\"_%Y%m%d%H%M%S\"), \n",
    "          'STAMP_NS': datetime.now().strftime(\"_%Y%m%d%H%M%S%f\")}\n",
    "\n",
    "uri = \"s3://bucket/path/aistac_connector_task${VERSION}${NANOSECONDS}\"\n",
    "pattern = r'\\${([A-Za-z_0-9\\-]+)}'\n",
    "\n",
    "re.sub(pattern, lambda m: labels.get(m.group(1), \"\"), uri)\n",
    "\n"
   ]
  },
  {
   "cell_type": "code",
   "execution_count": 27,
   "metadata": {},
   "outputs": [],
   "source": [
    "def get_uri(uri) -> str:\n",
    "    \"\"\"The URI with any modifications\"\"\"\n",
    "    labels = {'VERSION': \"_1.00\",\n",
    "              'TO_DAYS': datetime.now().strftime(\"_%Y%m%d\"),\n",
    "              'TO_HOURS': datetime.now().strftime(\"_%Y%m%d%H\"),\n",
    "              'TO_MINUTES': datetime.now().strftime(\"_%Y%m%d%H%M\"),\n",
    "              'TO_SECONDS': datetime.now().strftime(\"_%Y%m%d%H%M%S\"),\n",
    "              'TO_NS': datetime.now().strftime(\"_%Y%m%d%H%M%S%f\")}\n",
    "    pattern = r'\\${([A-Za-z_0-9\\-]+)}'\n",
    "    for label in re.findall(pattern, uri):\n",
    "        if label not in labels.keys():\n",
    "            raise ValueError(f\"The uri subsitution tag '{label}' is not recognised, valid tags are {list(labels.keys())}'\")\n",
    "\n",
    "    return re.sub(pattern, lambda m: labels.get(m.group(1), \"\"), uri)\n"
   ]
  },
  {
   "cell_type": "code",
   "execution_count": 29,
   "metadata": {},
   "outputs": [
    {
     "data": {
      "text/plain": [
       "'s3://bucket/path/aistac_connector_task_1.00_202002132154'"
      ]
     },
     "execution_count": 29,
     "metadata": {},
     "output_type": "execute_result"
    }
   ],
   "source": [
    "uri = \"s3://bucket/path/aistac_connector_task${VERSION}${TO_MINUTES}\"\n",
    "\n",
    "get_uri(uri)"
   ]
  },
  {
   "cell_type": "code",
   "execution_count": null,
   "metadata": {},
   "outputs": [],
   "source": []
  }
 ],
 "metadata": {
  "kernelspec": {
   "display_name": "Python 3",
   "language": "python",
   "name": "python3"
  },
  "language_info": {
   "codemirror_mode": {
    "name": "ipython",
    "version": 3
   },
   "file_extension": ".py",
   "mimetype": "text/x-python",
   "name": "python",
   "nbconvert_exporter": "python",
   "pygments_lexer": "ipython3",
   "version": "3.7.6"
  }
 },
 "nbformat": 4,
 "nbformat_minor": 4
}
