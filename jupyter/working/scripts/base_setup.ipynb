{
 "cells": [
  {
   "cell_type": "markdown",
   "metadata": {},
   "source": [
    "## Base Scriptlets Notebook\n",
    "- Version: 3.01\n",
    "- Python: 3.6>"
   ]
  },
  {
   "cell_type": "code",
   "execution_count": 1,
   "metadata": {},
   "outputs": [],
   "source": [
    "# saves you having to use print as all exposed variables are printed in the cell\n",
    "from IPython.core.interactiveshell import InteractiveShell\n",
    "InteractiveShell.ast_node_interactivity = \"all\"\n",
    "\n",
    "# core libraries\n",
    "import numpy as np\n",
    "import pandas as pd\n",
    "import matplotlib.pyplot as plt\n",
    "import seaborn as sns\n",
    "import pickle\n",
    "import datetime\n",
    "import re\n",
    "import os\n",
    "import json\n",
    "import collections\n",
    "from pathlib import Path\n",
    "import time\n",
    "import yaml\n",
    "import random\n",
    "\n",
    "# matpolitlib config\n",
    "%matplotlib inline\n",
    "plt.rcParams['figure.figsize'] = 12,4\n",
    "\n",
    "# suppress warning message\n",
    "import warnings\n",
    "warnings.filterwarnings('ignore')\n"
   ]
  },
  {
   "cell_type": "code",
   "execution_count": 1,
   "metadata": {},
   "outputs": [
    {
     "ename": "ImportError",
     "evalue": "cannot import name 'DataBuilder' from 'ds_behavioral' (/Users/doatridge/anaconda3/envs/aistac/lib/python3.7/site-packages/ds_behavioral/__init__.py)",
     "output_type": "error",
     "traceback": [
      "\u001b[0;31m---------------------------------------------------------------------------\u001b[0m",
      "\u001b[0;31mImportError\u001b[0m                               Traceback (most recent call last)",
      "\u001b[0;32m<ipython-input-1-323ff8378bc0>\u001b[0m in \u001b[0;36m<module>\u001b[0;34m\u001b[0m\n\u001b[1;32m     12\u001b[0m \u001b[0;34m\u001b[0m\u001b[0m\n\u001b[1;32m     13\u001b[0m \u001b[0;31m# for simulation\u001b[0m\u001b[0;34m\u001b[0m\u001b[0;34m\u001b[0m\u001b[0;34m\u001b[0m\u001b[0m\n\u001b[0;32m---> 14\u001b[0;31m \u001b[0;32mfrom\u001b[0m \u001b[0mds_behavioral\u001b[0m \u001b[0;32mimport\u001b[0m \u001b[0mDataBuilder\u001b[0m\u001b[0;34m,\u001b[0m \u001b[0mDataBuilderTools\u001b[0m \u001b[0;32mas\u001b[0m \u001b[0mtools\u001b[0m\u001b[0;34m\u001b[0m\u001b[0;34m\u001b[0m\u001b[0m\n\u001b[0m\u001b[1;32m     15\u001b[0m \u001b[0;32mfrom\u001b[0m \u001b[0mds_behavioral\u001b[0m\u001b[0;34m.\u001b[0m\u001b[0msample\u001b[0m\u001b[0;34m.\u001b[0m\u001b[0msample_data\u001b[0m \u001b[0;32mimport\u001b[0m \u001b[0mGenericSamples\u001b[0m\u001b[0;34m,\u001b[0m \u001b[0mCallCentreSamples\u001b[0m\u001b[0;34m,\u001b[0m \u001b[0mMutualFundSamples\u001b[0m\u001b[0;34m,\u001b[0m \u001b[0mProfileSample\u001b[0m\u001b[0;34m\u001b[0m\u001b[0;34m\u001b[0m\u001b[0m\n\u001b[1;32m     16\u001b[0m \u001b[0;34m\u001b[0m\u001b[0m\n",
      "\u001b[0;31mImportError\u001b[0m: cannot import name 'DataBuilder' from 'ds_behavioral' (/Users/doatridge/anaconda3/envs/aistac/lib/python3.7/site-packages/ds_behavioral/__init__.py)"
     ]
    }
   ],
   "source": [
    "%reload_ext autoreload\n",
    "%autoreload 2\n",
    "\n",
    "# for connectors\n",
    "from ds_foundation.handlers.abstract_handlers import ConnectorContract \n",
    "\n",
    "# for cleaning and discovery\n",
    "from ds_discovery.transition.transitioning import Transition\n",
    "\n",
    "# for profile engines\n",
    "# from ds_engines.engines.state_engine import EventBook\n",
    "\n",
    "# for simulation\n",
    "from ds_behavioral import DataBuilderTools as tools\n",
    "from ds_behavioral.sample.sample_data import GenericSamples, CallCentreSamples, MutualFundSamples, ProfileSample\n",
    "\n",
    "import ds_discovery\n",
    "import ds_foundation\n",
    "print('Foundation: {}'.format(ds_foundation.__version__))\n",
    "print('Transition: {}'.format(ds_discovery.__version__))"
   ]
  },
  {
   "cell_type": "code",
   "execution_count": 5,
   "metadata": {},
   "outputs": [],
   "source": [
    "# set environment variables\n",
    "\n",
    "# NOTE: if running on windows, PWD doesn't exist so you need to manually set it\n",
    "# uncomment the line bleow and add your jupyter project root path\n",
    "# os.environ['PWD'] = Path('<<Your_Project_path>>').as_posix()\n",
    "\n",
    "os.environ['AISTAC_PM_CONTRACT'] = Path(os.environ['PWD'], 'contracts').as_posix()\n",
    "# os.environ['AISTAC_PM_CONTRACT'] = \"s3://aistac-discovery-persist/contracts\"\n",
    "\n",
    "os.environ['TR_SOURCE_PATH'] = Path(os.environ['PWD'], 'data', '0_raw').as_posix()\n",
    "os.environ['TR_PERSIST_PATH'] = Path(os.environ['PWD'], 'data', '2_transition').as_posix()\n",
    "\n",
    "os.environ['SYNTHETIC_CONTRACT_PATH'] = Path(os.environ['PWD'], 'contracts').as_posix()\n",
    "os.environ['SYNTHETIC_PERSIST_PATH'] = Path(os.environ['PWD'], 'data', '0_synthetic').as_posix()\n",
    "\n"
   ]
  },
  {
   "cell_type": "code",
   "execution_count": 1,
   "metadata": {
    "collapsed": true,
    "jupyter": {
     "outputs_hidden": true
    }
   },
   "outputs": [],
   "source": [
    "# import sys\n",
    "# import matplotlib\n",
    "# import ds_discovery\n",
    "# def versions():\n",
    "#     print('Python:  {}'.format(sys.version.split(\" \",1)[0]))\n",
    "#     print('Numpy:   {}'.format(np.__version__))\n",
    "#     print('Pandas:  {}'.format(pd.__version__))\n",
    "#     print('Matplot: {}'.format(matplotlib.__version__))\n",
    "#     print('Seaborn: {}'.format(sns.__version__))\n",
    "#     print('YAML:    {}'.format(yaml.__version__))\n",
    "#     print('DTU :    {}'.format(ds_discovery.__version__))"
   ]
  }
 ],
 "metadata": {
  "kernelspec": {
   "display_name": "Python 3",
   "language": "python",
   "name": "python3"
  },
  "language_info": {
   "codemirror_mode": {
    "name": "ipython",
    "version": 3
   },
   "file_extension": ".py",
   "mimetype": "text/x-python",
   "name": "python",
   "nbconvert_exporter": "python",
   "pygments_lexer": "ipython3",
   "version": "3.7.6"
  }
 },
 "nbformat": 4,
 "nbformat_minor": 4
}
