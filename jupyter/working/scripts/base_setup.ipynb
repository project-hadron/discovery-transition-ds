{
 "cells": [
  {
   "cell_type": "markdown",
   "metadata": {},
   "source": [
    "## Base Scriptlets Notebook"
   ]
  },
  {
   "cell_type": "code",
   "execution_count": 3,
   "metadata": {},
   "outputs": [],
   "source": [
    "# saves you having to use print as all exposed variables are printed in the cell\n",
    "from IPython.core.interactiveshell import InteractiveShell\n",
    "InteractiveShell.ast_node_interactivity = \"all\"\n",
    "\n",
    "# core libraries\n",
    "import numpy as np\n",
    "import pandas as pd\n",
    "import matplotlib.pyplot as plt\n",
    "import seaborn as sns\n",
    "import pickle\n",
    "from datetime import datetime\n",
    "import re\n",
    "import os\n",
    "import json\n",
    "import collections\n",
    "from pathlib import Path\n",
    "import time\n",
    "import yaml\n",
    "import random\n",
    "\n",
    "# matpolitlib config\n",
    "%matplotlib inline\n",
    "plt.rcParams['figure.figsize'] = 12,4\n",
    "\n",
    "# suppress warning message\n",
    "import warnings\n",
    "warnings.filterwarnings('ignore')\n"
   ]
  },
  {
   "cell_type": "code",
   "execution_count": 4,
   "metadata": {},
   "outputs": [
    {
     "name": "stdout",
     "output_type": "stream",
     "text": [
      "Foundation: 2.04.024\n",
      "Transition: 2.06.009\n",
      "Engines   : 2.01.030\n"
     ]
    }
   ],
   "source": [
    "%reload_ext autoreload\n",
    "%autoreload 2\n",
    "\n",
    "# for connectors\n",
    "from aistac.handlers.abstract_handlers import ConnectorContract \n",
    "\n",
    "# for cleaning and discovery\n",
    "from ds_discovery.transition.transitioning import Transition\n",
    "\n",
    "# for profile engines\n",
    "from ds_engines.components.event_book_portfolio import EventBookPortfolio\n",
    "\n",
    "# for simulation\n",
    "from ds_behavioral import SyntheticBuilder\n",
    "from ds_behavioral.sample.sample_data import GenericSamples, CallCentreSamples, MutualFundSamples, ProfileSample\n",
    "\n",
    "import ds_discovery\n",
    "import aistac\n",
    "import ds_engines\n",
    "import ds_behavioral\n",
    "print('Foundation: {}'.format(aistac.__version__))\n",
    "print('Transition: {}'.format(ds_discovery.__version__))\n",
    "print('Engines   : {}'.format(ds_engines.__version__))\n",
    "print('Behavioral: {}'.format(ds_behavioral.__version__))"
   ]
  },
  {
   "cell_type": "code",
   "execution_count": 5,
   "metadata": {},
   "outputs": [],
   "source": [
    "# set environment variables\n",
    "\n",
    "# NOTE: if running on windows, PWD doesn't exist so you need to manually set it\n",
    "# uncomment the line bleow and add your jupyter project root path\n",
    "# os.environ['PWD'] = Path('<<Your_Project_path>>').as_posix()\n",
    "\n",
    "os.environ['AISTAC_PM_PATH'] = Path(os.environ['PWD'], 'contracts').as_posix()\n",
    "os.environ['AISTAC_PM_TYPE'] = 'yaml'\n",
    "os.environ['AISTAC_PM_MODULE'] = 'ds_discovery.handlers.pandas_handlers'\n",
    "os.environ['AISTAC_PM_HANDLER'] = 'PandasPersistHandler'\n",
    "\n",
    "os.environ['AISTAC_DEFAULT_PATH'] = Path(os.environ['PWD'], 'data').as_posix()\n",
    "os.environ['AISTAC_DEFAULT_MODULE'] = 'ds_discovery.handlers.pandas_handlers'\n",
    "os.environ['AISTAC_DEFAULT_SOURCE_HANDLER'] = 'PandasSourceHandler'\n",
    "os.environ['AISTAC_DEFAULT_PERSIST_HANDLER'] = 'PandasPersistHandler'\n",
    "\n",
    "\n",
    "os.environ['AISTAC_TRANSITION_SOURCE_PATH'] = Path(os.environ['HOME'], 'code', 'projects', 'prod', 'data', 'raw').as_posix()\n",
    "os.environ['AISTAC_TRANSITION_PERSIST_PATH'] = Path(os.environ['PWD'], 'data', '2_transition').as_posix()\n",
    "\n",
    "os.environ['AISTAC_FEATURE_CATALOG_SOURCE_PATH'] = Path(os.environ['PWD'], 'data', '2_transition').as_posix()\n",
    "os.environ['AISTAC_FEATURE_CATALOG_PERSIST_PATH'] = Path(os.environ['PWD'], 'data', '3_feature_catalog').as_posix()\n"
   ]
  },
  {
   "cell_type": "code",
   "execution_count": 5,
   "metadata": {},
   "outputs": [],
   "source": [
    "# import sys\n",
    "# import matplotlib\n",
    "# import ds_discovery\n",
    "# def versions():\n",
    "#     print('Python:  {}'.format(sys.version.split(\" \",1)[0]))\n",
    "#     print('Numpy:   {}'.format(np.__version__))\n",
    "#     print('Pandas:  {}'.format(pd.__version__))\n",
    "#     print('Matplot: {}'.format(matplotlib.__version__))\n",
    "#     print('Seaborn: {}'.format(sns.__version__))\n",
    "#     print('YAML:    {}'.format(yaml.__version__))\n",
    "#     print('DTU :    {}'.format(ds_discovery.__version__))"
   ]
  },
  {
   "cell_type": "code",
   "execution_count": null,
   "metadata": {},
   "outputs": [],
   "source": []
  }
 ],
 "metadata": {
  "kernelspec": {
   "display_name": "Python 3",
   "language": "python",
   "name": "python3"
  },
  "language_info": {
   "codemirror_mode": {
    "name": "ipython",
    "version": 3
   },
   "file_extension": ".py",
   "mimetype": "text/x-python",
   "name": "python",
   "nbconvert_exporter": "python",
   "pygments_lexer": "ipython3",
   "version": "3.7.6"
  }
 },
 "nbformat": 4,
 "nbformat_minor": 4
}
