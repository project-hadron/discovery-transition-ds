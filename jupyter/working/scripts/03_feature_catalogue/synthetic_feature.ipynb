{
 "cells": [
  {
   "cell_type": "code",
   "execution_count": 1,
   "metadata": {},
   "outputs": [],
   "source": [
    "%run customer_reset.ipynb"
   ]
  },
  {
   "cell_type": "code",
   "execution_count": 49,
   "metadata": {},
   "outputs": [],
   "source": [
    "tr = Transition('ames')"
   ]
  },
  {
   "cell_type": "code",
   "execution_count": 50,
   "metadata": {},
   "outputs": [],
   "source": [
    "df = tr.load_clean_canonical()"
   ]
  },
  {
   "cell_type": "code",
   "execution_count": 51,
   "metadata": {},
   "outputs": [
    {
     "data": {
      "text/html": [
       "<style  type=\"text/css\" >\n",
       "    #T_43b7451c_8df3_11e9_a9b1_acde48001122 th {\n",
       "          font-size: 120%;\n",
       "          text-align: center;\n",
       "    }    #T_43b7451c_8df3_11e9_a9b1_acde48001122 .row_heading, .blank {\n",
       "          display: none;;\n",
       "    }    #T_43b7451c_8df3_11e9_a9b1_acde48001122row0_col0 {\n",
       "            text-align:  left;\n",
       "            font-weight:  bold;\n",
       "            font-size:  120%;\n",
       "        }    #T_43b7451c_8df3_11e9_a9b1_acde48001122row0_col1 {\n",
       "            text-align:  left;\n",
       "            font-size:  120%;\n",
       "        }    #T_43b7451c_8df3_11e9_a9b1_acde48001122row0_col2 {\n",
       "            text-align:  left;\n",
       "        }    #T_43b7451c_8df3_11e9_a9b1_acde48001122row0_col3 {\n",
       "            text-align:  left;\n",
       "        }    #T_43b7451c_8df3_11e9_a9b1_acde48001122row1_col0 {\n",
       "            text-align:  left;\n",
       "            font-weight:  bold;\n",
       "            font-size:  120%;\n",
       "        }    #T_43b7451c_8df3_11e9_a9b1_acde48001122row1_col1 {\n",
       "            text-align:  left;\n",
       "            font-size:  120%;\n",
       "        }    #T_43b7451c_8df3_11e9_a9b1_acde48001122row1_col2 {\n",
       "            text-align:  left;\n",
       "        }    #T_43b7451c_8df3_11e9_a9b1_acde48001122row1_col3 {\n",
       "            text-align:  left;\n",
       "        }</style><table id=\"T_43b7451c_8df3_11e9_a9b1_acde48001122\" ><thead>    <tr>        <th class=\"blank level0\" ></th>        <th class=\"col_heading level0 col0\" >section</th>        <th class=\"col_heading level0 col1\" >label</th>        <th class=\"col_heading level0 col2\" >date</th>        <th class=\"col_heading level0 col3\" >text</th>    </tr></thead><tbody>\n",
       "                <tr>\n",
       "                        <th id=\"T_43b7451c_8df3_11e9_a9b1_acde48001122level0_row0\" class=\"row_heading level0 row0\" >0</th>\n",
       "                        <td id=\"T_43b7451c_8df3_11e9_a9b1_acde48001122row0_col0\" class=\"data row0 col0\" >overview</td>\n",
       "                        <td id=\"T_43b7451c_8df3_11e9_a9b1_acde48001122row0_col1\" class=\"data row0 col1\" >notes</td>\n",
       "                        <td id=\"T_43b7451c_8df3_11e9_a9b1_acde48001122row0_col2\" class=\"data row0 col2\" >2019-06-13 15:34</td>\n",
       "                        <td id=\"T_43b7451c_8df3_11e9_a9b1_acde48001122row0_col3\" class=\"data row0 col3\" >Ames housing data to predict sales prices and practice feature engineering, RFs, and gradient boosting</td>\n",
       "            </tr>\n",
       "            <tr>\n",
       "                        <th id=\"T_43b7451c_8df3_11e9_a9b1_acde48001122level0_row1\" class=\"row_heading level0 row1\" >1</th>\n",
       "                        <td id=\"T_43b7451c_8df3_11e9_a9b1_acde48001122row1_col0\" class=\"data row1 col0\" ></td>\n",
       "                        <td id=\"T_43b7451c_8df3_11e9_a9b1_acde48001122row1_col1\" class=\"data row1 col1\" >source</td>\n",
       "                        <td id=\"T_43b7451c_8df3_11e9_a9b1_acde48001122row1_col2\" class=\"data row1 col2\" >2019-06-13 15:34</td>\n",
       "                        <td id=\"T_43b7451c_8df3_11e9_a9b1_acde48001122row1_col3\" class=\"data row1 col3\" >Kaggle: https://www.kaggle.com/c/house-prices-advanced-regression-techniques</td>\n",
       "            </tr>\n",
       "    </tbody></table>"
      ],
      "text/plain": [
       "<pandas.io.formats.style.Styler at 0x1a23c86240>"
      ]
     },
     "execution_count": 51,
     "metadata": {},
     "output_type": "execute_result"
    }
   ],
   "source": [
    "tr.report_notes()"
   ]
  },
  {
   "cell_type": "code",
   "execution_count": null,
   "metadata": {},
   "outputs": [],
   "source": []
  }
 ],
 "metadata": {
  "kernelspec": {
   "display_name": "Python 3",
   "language": "python",
   "name": "python3"
  },
  "language_info": {
   "codemirror_mode": {
    "name": "ipython",
    "version": 3
   },
   "file_extension": ".py",
   "mimetype": "text/x-python",
   "name": "python",
   "nbconvert_exporter": "python",
   "pygments_lexer": "ipython3",
   "version": "3.6.8"
  }
 },
 "nbformat": 4,
 "nbformat_minor": 2
}
