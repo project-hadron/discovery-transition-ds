{
 "cells": [
  {
   "cell_type": "code",
   "execution_count": 1,
   "metadata": {},
   "outputs": [
    {
     "name": "stdout",
     "output_type": "stream",
     "text": [
      "DTU: 2.03.045\n",
      "DBU: 1.02.011\n"
     ]
    }
   ],
   "source": [
    "# saves you having to use print as all exposed variables are printed in the cell\n",
    "from IPython.core.interactiveshell import InteractiveShell\n",
    "InteractiveShell.ast_node_interactivity = \"all\"\n",
    "\n",
    "# core libraries\n",
    "import numpy as np\n",
    "import pandas as pd\n",
    "import matplotlib.pyplot as plt\n",
    "import matplotlib.dates as mdates\n",
    "import seaborn as sns\n",
    "\n",
    "# matpolitlib config\n",
    "%matplotlib inline\n",
    "sns.reset_defaults()\n",
    "plt.rcParams['figure.figsize'] = 12,4\n",
    "sns.set_style('whitegrid')\n",
    "\n",
    "# suppress warning message\n",
    "import warnings\n",
    "warnings.filterwarnings('ignore')\n",
    "\n",
    "%reload_ext autoreload\n",
    "%autoreload 2\n",
    "\n",
    "import ds_discovery\n",
    "import ds_behavioral\n",
    "print('DTU: {}'.format(ds_discovery.__version__))\n",
    "print('DBU: {}'.format(ds_behavioral.__version__))"
   ]
  },
  {
   "cell_type": "code",
   "execution_count": null,
   "metadata": {},
   "outputs": [],
   "source": []
  },
  {
   "cell_type": "markdown",
   "metadata": {},
   "source": [
    "# Titanic Dataset\n",
    "\n"
   ]
  },
  {
   "cell_type": "code",
   "execution_count": 3,
   "metadata": {},
   "outputs": [],
   "source": [
    "from ds_behavioral import DataBuilder as DataBuilder\n",
    "from ds_behavioral.generator.data_bulder_tools import DataBuilderTools as Tools\n",
    "from ds_discovery.cleaners.pandas_cleaners import PandasCleaners as Cleaner\n",
    "from ds_discovery.transition.discovery import DataDiscovery as Discover\n",
    "from ds_behavioral.sample.sample_data import ProfileSample"
   ]
  },
  {
   "cell_type": "code",
   "execution_count": 4,
   "metadata": {},
   "outputs": [],
   "source": [
    "titanic = sns.load_dataset('titanic')"
   ]
  },
  {
   "cell_type": "code",
   "execution_count": 5,
   "metadata": {},
   "outputs": [
    {
     "data": {
      "text/html": [
       "<div>\n",
       "<style scoped>\n",
       "    .dataframe tbody tr th:only-of-type {\n",
       "        vertical-align: middle;\n",
       "    }\n",
       "\n",
       "    .dataframe tbody tr th {\n",
       "        vertical-align: top;\n",
       "    }\n",
       "\n",
       "    .dataframe thead th {\n",
       "        text-align: right;\n",
       "    }\n",
       "</style>\n",
       "<table border=\"1\" class=\"dataframe\">\n",
       "  <thead>\n",
       "    <tr style=\"text-align: right;\">\n",
       "      <th></th>\n",
       "      <th>Attribute</th>\n",
       "      <th>Type</th>\n",
       "      <th>Unique</th>\n",
       "      <th>% Nulls</th>\n",
       "      <th>Sample</th>\n",
       "      <th>Selection</th>\n",
       "      <th>Weighting</th>\n",
       "      <th>Granularity</th>\n",
       "      <th>Lower</th>\n",
       "      <th>Upper</th>\n",
       "    </tr>\n",
       "  </thead>\n",
       "  <tbody>\n",
       "    <tr>\n",
       "      <th>0</th>\n",
       "      <td>adult_male</td>\n",
       "      <td>bool</td>\n",
       "      <td>2</td>\n",
       "      <td>0.00</td>\n",
       "      <td>891</td>\n",
       "      <td>[True, False]</td>\n",
       "      <td>[60.27, 39.73]</td>\n",
       "      <td>2</td>\n",
       "      <td></td>\n",
       "      <td></td>\n",
       "    </tr>\n",
       "    <tr>\n",
       "      <th>1</th>\n",
       "      <td>age</td>\n",
       "      <td>float64</td>\n",
       "      <td>88</td>\n",
       "      <td>19.87</td>\n",
       "      <td>714</td>\n",
       "      <td>[(0.42, 26.947), (26.947, 53.473), (53.473, 80.0)]</td>\n",
       "      <td>[35.8, 38.72, 5.61]</td>\n",
       "      <td>3</td>\n",
       "      <td>0.42</td>\n",
       "      <td>80</td>\n",
       "    </tr>\n",
       "    <tr>\n",
       "      <th>2</th>\n",
       "      <td>alive</td>\n",
       "      <td>object</td>\n",
       "      <td>2</td>\n",
       "      <td>0.00</td>\n",
       "      <td>891</td>\n",
       "      <td></td>\n",
       "      <td></td>\n",
       "      <td></td>\n",
       "      <td></td>\n",
       "      <td></td>\n",
       "    </tr>\n",
       "    <tr>\n",
       "      <th>3</th>\n",
       "      <td>alone</td>\n",
       "      <td>bool</td>\n",
       "      <td>2</td>\n",
       "      <td>0.00</td>\n",
       "      <td>891</td>\n",
       "      <td>[False, True]</td>\n",
       "      <td>[39.73, 60.27]</td>\n",
       "      <td>2</td>\n",
       "      <td></td>\n",
       "      <td></td>\n",
       "    </tr>\n",
       "    <tr>\n",
       "      <th>4</th>\n",
       "      <td>class</td>\n",
       "      <td>category</td>\n",
       "      <td>3</td>\n",
       "      <td>0.00</td>\n",
       "      <td>891</td>\n",
       "      <td>[Third, First, Second]</td>\n",
       "      <td>[55.11, 24.24, 20.65]</td>\n",
       "      <td>3</td>\n",
       "      <td></td>\n",
       "      <td></td>\n",
       "    </tr>\n",
       "    <tr>\n",
       "      <th>5</th>\n",
       "      <td>deck</td>\n",
       "      <td>category</td>\n",
       "      <td>7</td>\n",
       "      <td>77.22</td>\n",
       "      <td>203</td>\n",
       "      <td>[C, E, G, D, A, B, F]</td>\n",
       "      <td>[29.06, 15.76, 1.97, 16.26, 7.39, 23.15, 6.4]</td>\n",
       "      <td>7</td>\n",
       "      <td></td>\n",
       "      <td></td>\n",
       "    </tr>\n",
       "    <tr>\n",
       "      <th>6</th>\n",
       "      <td>embark_town</td>\n",
       "      <td>object</td>\n",
       "      <td>3</td>\n",
       "      <td>0.00</td>\n",
       "      <td>891</td>\n",
       "      <td></td>\n",
       "      <td></td>\n",
       "      <td></td>\n",
       "      <td></td>\n",
       "      <td></td>\n",
       "    </tr>\n",
       "    <tr>\n",
       "      <th>7</th>\n",
       "      <td>embarked</td>\n",
       "      <td>object</td>\n",
       "      <td>3</td>\n",
       "      <td>0.00</td>\n",
       "      <td>891</td>\n",
       "      <td></td>\n",
       "      <td></td>\n",
       "      <td></td>\n",
       "      <td></td>\n",
       "      <td></td>\n",
       "    </tr>\n",
       "    <tr>\n",
       "      <th>8</th>\n",
       "      <td>fare</td>\n",
       "      <td>float64</td>\n",
       "      <td>248</td>\n",
       "      <td>0.00</td>\n",
       "      <td>891</td>\n",
       "      <td>[(0.0, 170.776), (170.776, 341.553), (341.553, 512.329)]</td>\n",
       "      <td>[97.76, 1.91, 0.34]</td>\n",
       "      <td>3</td>\n",
       "      <td>0</td>\n",
       "      <td>512.329</td>\n",
       "    </tr>\n",
       "    <tr>\n",
       "      <th>9</th>\n",
       "      <td>parch</td>\n",
       "      <td>int64</td>\n",
       "      <td>7</td>\n",
       "      <td>0.00</td>\n",
       "      <td>891</td>\n",
       "      <td>[(0, 2), (2, 4), (4, 6)]</td>\n",
       "      <td>[89.34, 9.54, 1.12]</td>\n",
       "      <td>3</td>\n",
       "      <td>0</td>\n",
       "      <td>6</td>\n",
       "    </tr>\n",
       "    <tr>\n",
       "      <th>10</th>\n",
       "      <td>pclass</td>\n",
       "      <td>int64</td>\n",
       "      <td>3</td>\n",
       "      <td>0.00</td>\n",
       "      <td>891</td>\n",
       "      <td>[(1.0, 1.667), (1.667, 2.333), (2.333, 3.0)]</td>\n",
       "      <td>[24.24, 20.65, 55.11]</td>\n",
       "      <td>3</td>\n",
       "      <td>1</td>\n",
       "      <td>3</td>\n",
       "    </tr>\n",
       "    <tr>\n",
       "      <th>11</th>\n",
       "      <td>sex</td>\n",
       "      <td>object</td>\n",
       "      <td>2</td>\n",
       "      <td>0.00</td>\n",
       "      <td>891</td>\n",
       "      <td></td>\n",
       "      <td></td>\n",
       "      <td></td>\n",
       "      <td></td>\n",
       "      <td></td>\n",
       "    </tr>\n",
       "    <tr>\n",
       "      <th>12</th>\n",
       "      <td>sibsp</td>\n",
       "      <td>int64</td>\n",
       "      <td>7</td>\n",
       "      <td>0.00</td>\n",
       "      <td>891</td>\n",
       "      <td>[(0.0, 2.667), (2.667, 5.333), (5.333, 8.0)]</td>\n",
       "      <td>[94.84, 4.38, 0.79]</td>\n",
       "      <td>3</td>\n",
       "      <td>0</td>\n",
       "      <td>8</td>\n",
       "    </tr>\n",
       "    <tr>\n",
       "      <th>13</th>\n",
       "      <td>survived</td>\n",
       "      <td>int64</td>\n",
       "      <td>2</td>\n",
       "      <td>0.00</td>\n",
       "      <td>891</td>\n",
       "      <td>[(0.0, 0.333), (0.333, 0.667), (0.667, 1.0)]</td>\n",
       "      <td>[61.62, 0.0, 38.38]</td>\n",
       "      <td>3</td>\n",
       "      <td>0</td>\n",
       "      <td>1</td>\n",
       "    </tr>\n",
       "    <tr>\n",
       "      <th>14</th>\n",
       "      <td>who</td>\n",
       "      <td>object</td>\n",
       "      <td>3</td>\n",
       "      <td>0.00</td>\n",
       "      <td>891</td>\n",
       "      <td></td>\n",
       "      <td></td>\n",
       "      <td></td>\n",
       "      <td></td>\n",
       "      <td></td>\n",
       "    </tr>\n",
       "  </tbody>\n",
       "</table>\n",
       "</div>"
      ],
      "text/plain": [
       "      Attribute      Type  Unique  % Nulls  Sample  \\\n",
       "0    adult_male      bool       2     0.00     891   \n",
       "1           age   float64      88    19.87     714   \n",
       "2         alive    object       2     0.00     891   \n",
       "3         alone      bool       2     0.00     891   \n",
       "4         class  category       3     0.00     891   \n",
       "5          deck  category       7    77.22     203   \n",
       "6   embark_town    object       3     0.00     891   \n",
       "7      embarked    object       3     0.00     891   \n",
       "8          fare   float64     248     0.00     891   \n",
       "9         parch     int64       7     0.00     891   \n",
       "10       pclass     int64       3     0.00     891   \n",
       "11          sex    object       2     0.00     891   \n",
       "12        sibsp     int64       7     0.00     891   \n",
       "13     survived     int64       2     0.00     891   \n",
       "14          who    object       3     0.00     891   \n",
       "\n",
       "                                                   Selection  \\\n",
       "0                                              [True, False]   \n",
       "1         [(0.42, 26.947), (26.947, 53.473), (53.473, 80.0)]   \n",
       "2                                                              \n",
       "3                                              [False, True]   \n",
       "4                                     [Third, First, Second]   \n",
       "5                                      [C, E, G, D, A, B, F]   \n",
       "6                                                              \n",
       "7                                                              \n",
       "8   [(0.0, 170.776), (170.776, 341.553), (341.553, 512.329)]   \n",
       "9                                   [(0, 2), (2, 4), (4, 6)]   \n",
       "10              [(1.0, 1.667), (1.667, 2.333), (2.333, 3.0)]   \n",
       "11                                                             \n",
       "12              [(0.0, 2.667), (2.667, 5.333), (5.333, 8.0)]   \n",
       "13              [(0.0, 0.333), (0.333, 0.667), (0.667, 1.0)]   \n",
       "14                                                             \n",
       "\n",
       "                                        Weighting Granularity Lower    Upper  \n",
       "0                                  [60.27, 39.73]           2                 \n",
       "1                             [35.8, 38.72, 5.61]           3  0.42       80  \n",
       "2                                                                             \n",
       "3                                  [39.73, 60.27]           2                 \n",
       "4                           [55.11, 24.24, 20.65]           3                 \n",
       "5   [29.06, 15.76, 1.97, 16.26, 7.39, 23.15, 6.4]           7                 \n",
       "6                                                                             \n",
       "7                                                                             \n",
       "8                             [97.76, 1.91, 0.34]           3     0  512.329  \n",
       "9                             [89.34, 9.54, 1.12]           3     0        6  \n",
       "10                          [24.24, 20.65, 55.11]           3     1        3  \n",
       "11                                                                            \n",
       "12                            [94.84, 4.38, 0.79]           3     0        8  \n",
       "13                            [61.62, 0.0, 38.38]           3     0        1  \n",
       "14                                                                            "
      ]
     },
     "execution_count": 5,
     "metadata": {},
     "output_type": "execute_result"
    }
   ],
   "source": [
    "\n",
    "\n",
    "Discover.analysis_dictionary(titanic)"
   ]
  },
  {
   "cell_type": "code",
   "execution_count": 6,
   "metadata": {},
   "outputs": [
    {
     "data": {
      "text/html": [
       "<div>\n",
       "<style scoped>\n",
       "    .dataframe tbody tr th:only-of-type {\n",
       "        vertical-align: middle;\n",
       "    }\n",
       "\n",
       "    .dataframe tbody tr th {\n",
       "        vertical-align: top;\n",
       "    }\n",
       "\n",
       "    .dataframe thead th {\n",
       "        text-align: right;\n",
       "    }\n",
       "</style>\n",
       "<table border=\"1\" class=\"dataframe\">\n",
       "  <thead>\n",
       "    <tr style=\"text-align: right;\">\n",
       "      <th></th>\n",
       "      <th>Attribute</th>\n",
       "      <th>dType</th>\n",
       "      <th>%_Null</th>\n",
       "      <th>%_Dom</th>\n",
       "      <th>Count</th>\n",
       "      <th>Unique</th>\n",
       "      <th>Observations</th>\n",
       "    </tr>\n",
       "  </thead>\n",
       "  <tbody>\n",
       "    <tr>\n",
       "      <th>0</th>\n",
       "      <td>adult_male</td>\n",
       "      <td>bool</td>\n",
       "      <td>0.000</td>\n",
       "      <td>0.603</td>\n",
       "      <td>891</td>\n",
       "      <td>2</td>\n",
       "      <td>True | False</td>\n",
       "    </tr>\n",
       "    <tr>\n",
       "      <th>1</th>\n",
       "      <td>age</td>\n",
       "      <td>float64</td>\n",
       "      <td>0.199</td>\n",
       "      <td>0.042</td>\n",
       "      <td>714</td>\n",
       "      <td>88</td>\n",
       "      <td>max=80.0 | min=0.42 | mean=29.7</td>\n",
       "    </tr>\n",
       "    <tr>\n",
       "      <th>2</th>\n",
       "      <td>alive</td>\n",
       "      <td>object</td>\n",
       "      <td>0.000</td>\n",
       "      <td>0.616</td>\n",
       "      <td>891</td>\n",
       "      <td>2</td>\n",
       "      <td>Sample: yes | no</td>\n",
       "    </tr>\n",
       "    <tr>\n",
       "      <th>3</th>\n",
       "      <td>alone</td>\n",
       "      <td>bool</td>\n",
       "      <td>0.000</td>\n",
       "      <td>0.603</td>\n",
       "      <td>891</td>\n",
       "      <td>2</td>\n",
       "      <td>False | True</td>\n",
       "    </tr>\n",
       "    <tr>\n",
       "      <th>4</th>\n",
       "      <td>class</td>\n",
       "      <td>category</td>\n",
       "      <td>0.000</td>\n",
       "      <td>0.551</td>\n",
       "      <td>891</td>\n",
       "      <td>3</td>\n",
       "      <td>First|Second|Third</td>\n",
       "    </tr>\n",
       "    <tr>\n",
       "      <th>5</th>\n",
       "      <td>deck</td>\n",
       "      <td>category</td>\n",
       "      <td>0.772</td>\n",
       "      <td>0.291</td>\n",
       "      <td>203</td>\n",
       "      <td>7</td>\n",
       "      <td>A|B|C|D|E|F|G</td>\n",
       "    </tr>\n",
       "    <tr>\n",
       "      <th>6</th>\n",
       "      <td>embark_town</td>\n",
       "      <td>object</td>\n",
       "      <td>0.002</td>\n",
       "      <td>0.724</td>\n",
       "      <td>889</td>\n",
       "      <td>3</td>\n",
       "      <td>Sample: Cherbourg | Queenstown | Southampton</td>\n",
       "    </tr>\n",
       "    <tr>\n",
       "      <th>7</th>\n",
       "      <td>embarked</td>\n",
       "      <td>object</td>\n",
       "      <td>0.002</td>\n",
       "      <td>0.724</td>\n",
       "      <td>889</td>\n",
       "      <td>3</td>\n",
       "      <td>Sample: Q | C | S</td>\n",
       "    </tr>\n",
       "    <tr>\n",
       "      <th>8</th>\n",
       "      <td>fare</td>\n",
       "      <td>float64</td>\n",
       "      <td>0.000</td>\n",
       "      <td>0.048</td>\n",
       "      <td>891</td>\n",
       "      <td>248</td>\n",
       "      <td>max=512.3292 | min=0.0 | mean=32.2</td>\n",
       "    </tr>\n",
       "    <tr>\n",
       "      <th>9</th>\n",
       "      <td>parch</td>\n",
       "      <td>int64</td>\n",
       "      <td>0.000</td>\n",
       "      <td>0.761</td>\n",
       "      <td>891</td>\n",
       "      <td>7</td>\n",
       "      <td>max=6 | min=0 | mean=0.38</td>\n",
       "    </tr>\n",
       "    <tr>\n",
       "      <th>10</th>\n",
       "      <td>pclass</td>\n",
       "      <td>int64</td>\n",
       "      <td>0.000</td>\n",
       "      <td>0.551</td>\n",
       "      <td>891</td>\n",
       "      <td>3</td>\n",
       "      <td>max=3 | min=1 | mean=2.31</td>\n",
       "    </tr>\n",
       "    <tr>\n",
       "      <th>11</th>\n",
       "      <td>sex</td>\n",
       "      <td>object</td>\n",
       "      <td>0.000</td>\n",
       "      <td>0.648</td>\n",
       "      <td>891</td>\n",
       "      <td>2</td>\n",
       "      <td>Sample: male | female</td>\n",
       "    </tr>\n",
       "    <tr>\n",
       "      <th>12</th>\n",
       "      <td>sibsp</td>\n",
       "      <td>int64</td>\n",
       "      <td>0.000</td>\n",
       "      <td>0.682</td>\n",
       "      <td>891</td>\n",
       "      <td>7</td>\n",
       "      <td>max=8 | min=0 | mean=0.52</td>\n",
       "    </tr>\n",
       "    <tr>\n",
       "      <th>13</th>\n",
       "      <td>survived</td>\n",
       "      <td>int64</td>\n",
       "      <td>0.000</td>\n",
       "      <td>0.616</td>\n",
       "      <td>891</td>\n",
       "      <td>2</td>\n",
       "      <td>max=1 | min=0 | mean=0.38</td>\n",
       "    </tr>\n",
       "    <tr>\n",
       "      <th>14</th>\n",
       "      <td>who</td>\n",
       "      <td>object</td>\n",
       "      <td>0.000</td>\n",
       "      <td>0.603</td>\n",
       "      <td>891</td>\n",
       "      <td>3</td>\n",
       "      <td>Sample: man | woman | child</td>\n",
       "    </tr>\n",
       "  </tbody>\n",
       "</table>\n",
       "</div>"
      ],
      "text/plain": [
       "      Attribute     dType  %_Null  %_Dom  Count  Unique  \\\n",
       "0    adult_male      bool   0.000  0.603    891       2   \n",
       "1           age   float64   0.199  0.042    714      88   \n",
       "2         alive    object   0.000  0.616    891       2   \n",
       "3         alone      bool   0.000  0.603    891       2   \n",
       "4         class  category   0.000  0.551    891       3   \n",
       "5          deck  category   0.772  0.291    203       7   \n",
       "6   embark_town    object   0.002  0.724    889       3   \n",
       "7      embarked    object   0.002  0.724    889       3   \n",
       "8          fare   float64   0.000  0.048    891     248   \n",
       "9         parch     int64   0.000  0.761    891       7   \n",
       "10       pclass     int64   0.000  0.551    891       3   \n",
       "11          sex    object   0.000  0.648    891       2   \n",
       "12        sibsp     int64   0.000  0.682    891       7   \n",
       "13     survived     int64   0.000  0.616    891       2   \n",
       "14          who    object   0.000  0.603    891       3   \n",
       "\n",
       "                                    Observations  \n",
       "0                                   True | False  \n",
       "1                max=80.0 | min=0.42 | mean=29.7  \n",
       "2                               Sample: yes | no  \n",
       "3                                   False | True  \n",
       "4                             First|Second|Third  \n",
       "5                                  A|B|C|D|E|F|G  \n",
       "6   Sample: Cherbourg | Queenstown | Southampton  \n",
       "7                              Sample: Q | C | S  \n",
       "8             max=512.3292 | min=0.0 | mean=32.2  \n",
       "9                      max=6 | min=0 | mean=0.38  \n",
       "10                     max=3 | min=1 | mean=2.31  \n",
       "11                         Sample: male | female  \n",
       "12                     max=8 | min=0 | mean=0.52  \n",
       "13                     max=1 | min=0 | mean=0.38  \n",
       "14                   Sample: man | woman | child  "
      ]
     },
     "execution_count": 6,
     "metadata": {},
     "output_type": "execute_result"
    }
   ],
   "source": [
    "Discover.data_dictionary(titanic)"
   ]
  },
  {
   "cell_type": "markdown",
   "metadata": {},
   "source": [
    "### Replace NaN's from Age\n",
    "We could clean NaN's in age with \n",
    "\n",
    "`Cleaner.to_int_type(titanic, headers=['age'], fillna='mode', inplace=True)`\n",
    "\n",
    "Which would fill the age NaN's with the mode of the age (see Cleaner.to_int_type(...) for more info)\n",
    "\n",
    "But ultimately it will just fill NaN values with a single value. Not ideal\n",
    "\n",
    "Alternatively: We can use our analysis tool to get an age weighting and then replace NaN with values that represent that weighting, giving us a much more representative distribution"
   ]
  },
  {
   "cell_type": "code",
   "execution_count": 7,
   "metadata": {},
   "outputs": [],
   "source": [
    "# save the origional stats to compare later\n",
    "age_stats = Discover.stat_dictionary(titanic)['age']\n",
    "\n",
    "# firstly get the analysis dictionary with an age frequency of 5 years, keep the lower boundary as 1\n",
    "analysis = Discover.analyse_number(titanic['age'], granularity=5.0, lower=1)\n",
    "lower = analysis.get('lower')\n",
    "upper = analysis.get('upper')\n",
    "weight_pattern = analysis.get('weighting')\n",
    "\n",
    "# now replace the nan's with a representative distribution\n",
    "size = len(titanic['age'][titanic['age'].isna()])\n",
    "titanic['age'][titanic['age'].isna()] = Tools.get_number(from_value=lower, to_value=upper, weight_pattern=weight_pattern, precision=0, size=size)"
   ]
  },
  {
   "cell_type": "code",
   "execution_count": 8,
   "metadata": {},
   "outputs": [
    {
     "data": {
      "text/html": [
       "<div>\n",
       "<style scoped>\n",
       "    .dataframe tbody tr th:only-of-type {\n",
       "        vertical-align: middle;\n",
       "    }\n",
       "\n",
       "    .dataframe tbody tr th {\n",
       "        vertical-align: top;\n",
       "    }\n",
       "\n",
       "    .dataframe thead th {\n",
       "        text-align: right;\n",
       "    }\n",
       "</style>\n",
       "<table border=\"1\" class=\"dataframe\">\n",
       "  <thead>\n",
       "    <tr style=\"text-align: right;\">\n",
       "      <th></th>\n",
       "      <th>pre_nan_age</th>\n",
       "      <th>age</th>\n",
       "    </tr>\n",
       "  </thead>\n",
       "  <tbody>\n",
       "    <tr>\n",
       "      <th>dtype</th>\n",
       "      <td>float64</td>\n",
       "      <td>float64</td>\n",
       "    </tr>\n",
       "    <tr>\n",
       "      <th>count</th>\n",
       "      <td>714</td>\n",
       "      <td>891</td>\n",
       "    </tr>\n",
       "    <tr>\n",
       "      <th>unique</th>\n",
       "      <td>88</td>\n",
       "      <td>89</td>\n",
       "    </tr>\n",
       "    <tr>\n",
       "      <th>mean</th>\n",
       "      <td>29.7</td>\n",
       "      <td>30.15</td>\n",
       "    </tr>\n",
       "    <tr>\n",
       "      <th>median</th>\n",
       "      <td>28</td>\n",
       "      <td>28</td>\n",
       "    </tr>\n",
       "    <tr>\n",
       "      <th>var</th>\n",
       "      <td>210.72</td>\n",
       "      <td>221.58</td>\n",
       "    </tr>\n",
       "    <tr>\n",
       "      <th>std</th>\n",
       "      <td>14.52</td>\n",
       "      <td>14.89</td>\n",
       "    </tr>\n",
       "    <tr>\n",
       "      <th>min</th>\n",
       "      <td>0.42</td>\n",
       "      <td>0.42</td>\n",
       "    </tr>\n",
       "    <tr>\n",
       "      <th>25%</th>\n",
       "      <td>20.12</td>\n",
       "      <td>21</td>\n",
       "    </tr>\n",
       "    <tr>\n",
       "      <th>50%</th>\n",
       "      <td>28</td>\n",
       "      <td>28</td>\n",
       "    </tr>\n",
       "    <tr>\n",
       "      <th>75%</th>\n",
       "      <td>38</td>\n",
       "      <td>39</td>\n",
       "    </tr>\n",
       "    <tr>\n",
       "      <th>max</th>\n",
       "      <td>80</td>\n",
       "      <td>80</td>\n",
       "    </tr>\n",
       "  </tbody>\n",
       "</table>\n",
       "</div>"
      ],
      "text/plain": [
       "       pre_nan_age      age\n",
       "dtype      float64  float64\n",
       "count          714      891\n",
       "unique          88       89\n",
       "mean          29.7    30.15\n",
       "median          28       28\n",
       "var         210.72   221.58\n",
       "std          14.52    14.89\n",
       "min           0.42     0.42\n",
       "25%          20.12       21\n",
       "50%             28       28\n",
       "75%             38       39\n",
       "max             80       80"
      ]
     },
     "execution_count": 8,
     "metadata": {},
     "output_type": "execute_result"
    }
   ],
   "source": [
    "# comparing the before and after stats\n",
    "stats = Discover.stat_dictionary(titanic)\n",
    "stats['pre_nan_age'] = age_stats\n",
    "\n",
    "Cleaner.filter_columns(stats, regex='age')"
   ]
  },
  {
   "cell_type": "markdown",
   "metadata": {},
   "source": [
    "### Titanic Visualisation\n",
    "A quick look over the origional titanic dataset"
   ]
  },
  {
   "cell_type": "code",
   "execution_count": 9,
   "metadata": {},
   "outputs": [
    {
     "data": {
      "image/png": "[encoded data removed]",
      "text/plain": [
       "<Figure size 432x432 with 3 Axes>"
      ]
     },
     "metadata": {},
     "output_type": "display_data"
    }
   ],
   "source": [
    "# Age against Fare\n",
    "sns.set(style=\"ticks\", color_codes=True)\n",
    "g = sns.jointplot(x='fare',y='age',data=titanic, s=10)"
   ]
  },
  {
   "cell_type": "code",
   "execution_count": 10,
   "metadata": {},
   "outputs": [
    {
     "data": {
      "text/plain": [
       "<seaborn.axisgrid.FacetGrid at 0x1208b7a58>"
      ]
     },
     "execution_count": 10,
     "metadata": {},
     "output_type": "execute_result"
    },
    {
     "data": {
      "image/png": "[encoded data removed]",
      "text/plain": [
       "<Figure size 432x216 with 2 Axes>"
      ]
     },
     "metadata": {},
     "output_type": "display_data"
    }
   ],
   "source": [
    "# Age Gender distribution of survived as a hue\n",
    "sns.set(style=\"ticks\", color_codes=True)\n",
    "bins = np.arange(0, 80, 5)\n",
    "g = sns.FacetGrid(data=titanic, col='sex', hue='survived')\n",
    "g.map(plt.hist, 'age', bins=bins)"
   ]
  },
  {
   "cell_type": "code",
   "execution_count": 11,
   "metadata": {},
   "outputs": [
    {
     "data": {
      "text/plain": [
       "<seaborn.axisgrid.FacetGrid at 0x1a230f4a90>"
      ]
     },
     "execution_count": 11,
     "metadata": {},
     "output_type": "execute_result"
    },
    {
     "data": {
      "image/png": "[encoded data removed]",
      "text/plain": [
       "<Figure size 648x216 with 3 Axes>"
      ]
     },
     "metadata": {},
     "output_type": "display_data"
    }
   ],
   "source": [
    "# Age against class with the hue of survived\n",
    "sns.set(style=\"ticks\", color_codes=True)\n",
    "bins = np.arange(0, 80, 5)\n",
    "g = sns.FacetGrid(data=titanic, col='pclass', hue='survived')\n",
    "g.map(plt.hist, 'age', bins=bins)"
   ]
  },
  {
   "cell_type": "code",
   "execution_count": 12,
   "metadata": {},
   "outputs": [
    {
     "data": {
      "image/png": "[encoded data removed]",
      "text/plain": [
       "<Figure size 765.725x360 with 7 Axes>"
      ]
     },
     "metadata": {},
     "output_type": "display_data"
    }
   ],
   "source": [
    "# Age against fair across the decks with a hueof class\n",
    "sns.set(style=\"ticks\", color_codes=True)\n",
    "g = sns.FacetGrid(data=titanic, col='deck', hue='pclass', col_wrap=4, height=2.5)\n",
    "g = g.map(plt.scatter, 'age', 'fare', s=15).add_legend()\n",
    "g.fig.subplots_adjust(wspace=0.1, hspace=0.4)"
   ]
  },
  {
   "cell_type": "markdown",
   "metadata": {},
   "source": [
    "# Synthetic Titanic dataset\n",
    "Time to now build the synthetic data and see how it compares"
   ]
  },
  {
   "cell_type": "code",
   "execution_count": 13,
   "metadata": {},
   "outputs": [
    {
     "ename": "TypeError",
     "evalue": "__init__() missing 2 required positional arguments: 'builder_properties' and 'knowledge_properties'",
     "output_type": "error",
     "traceback": [
      "\u001b[0;31m---------------------------------------------------------------------------\u001b[0m",
      "\u001b[0;31mTypeError\u001b[0m                                 Traceback (most recent call last)",
      "\u001b[0;32m<ipython-input-13-51eb5e7b8d00>\u001b[0m in \u001b[0;36m<module>\u001b[0;34m()\u001b[0m\n\u001b[0;32m----> 1\u001b[0;31m \u001b[0mbuilder\u001b[0m \u001b[0;34m=\u001b[0m \u001b[0mDataBuilder\u001b[0m\u001b[0;34m(\u001b[0m\u001b[0;34m'titanic'\u001b[0m\u001b[0;34m)\u001b[0m\u001b[0;34m\u001b[0m\u001b[0;34m\u001b[0m\u001b[0m\n\u001b[0m\u001b[1;32m      2\u001b[0m \u001b[0mtools\u001b[0m \u001b[0;34m=\u001b[0m \u001b[0mbuilder\u001b[0m\u001b[0;34m.\u001b[0m\u001b[0mtools\u001b[0m\u001b[0;34m\u001b[0m\u001b[0;34m\u001b[0m\u001b[0m\n",
      "\u001b[0;31mTypeError\u001b[0m: __init__() missing 2 required positional arguments: 'builder_properties' and 'knowledge_properties'"
     ]
    }
   ],
   "source": [
    "builder = DataBuilder('titanic')\n",
    "tools = builder.tools"
   ]
  },
  {
   "cell_type": "markdown",
   "metadata": {},
   "source": [
    "## Clean the dataset"
   ]
  },
  {
   "cell_type": "code",
   "execution_count": 15,
   "metadata": {},
   "outputs": [
    {
     "data": {
      "text/html": [
       "<div>\n",
       "<style scoped>\n",
       "    .dataframe tbody tr th:only-of-type {\n",
       "        vertical-align: middle;\n",
       "    }\n",
       "\n",
       "    .dataframe tbody tr th {\n",
       "        vertical-align: top;\n",
       "    }\n",
       "\n",
       "    .dataframe thead th {\n",
       "        text-align: right;\n",
       "    }\n",
       "</style>\n",
       "<table border=\"1\" class=\"dataframe\">\n",
       "  <thead>\n",
       "    <tr style=\"text-align: right;\">\n",
       "      <th></th>\n",
       "      <th>Attribute</th>\n",
       "      <th>dType</th>\n",
       "      <th>%_Null</th>\n",
       "      <th>%_Dom</th>\n",
       "      <th>Count</th>\n",
       "      <th>Unique</th>\n",
       "      <th>Observations</th>\n",
       "    </tr>\n",
       "  </thead>\n",
       "  <tbody>\n",
       "    <tr>\n",
       "      <th>0</th>\n",
       "      <td>adult_male</td>\n",
       "      <td>bool</td>\n",
       "      <td>0.000</td>\n",
       "      <td>0.603</td>\n",
       "      <td>891</td>\n",
       "      <td>2</td>\n",
       "      <td>True | False</td>\n",
       "    </tr>\n",
       "    <tr>\n",
       "      <th>1</th>\n",
       "      <td>age</td>\n",
       "      <td>float64</td>\n",
       "      <td>0.000</td>\n",
       "      <td>0.039</td>\n",
       "      <td>891</td>\n",
       "      <td>90</td>\n",
       "      <td>max=80.0 | min=0.42 | mean=29.55</td>\n",
       "    </tr>\n",
       "    <tr>\n",
       "      <th>2</th>\n",
       "      <td>alive</td>\n",
       "      <td>bool</td>\n",
       "      <td>0.000</td>\n",
       "      <td>0.616</td>\n",
       "      <td>891</td>\n",
       "      <td>2</td>\n",
       "      <td>False | True</td>\n",
       "    </tr>\n",
       "    <tr>\n",
       "      <th>3</th>\n",
       "      <td>alone</td>\n",
       "      <td>bool</td>\n",
       "      <td>0.000</td>\n",
       "      <td>0.603</td>\n",
       "      <td>891</td>\n",
       "      <td>2</td>\n",
       "      <td>False | True</td>\n",
       "    </tr>\n",
       "    <tr>\n",
       "      <th>4</th>\n",
       "      <td>class</td>\n",
       "      <td>category</td>\n",
       "      <td>0.000</td>\n",
       "      <td>0.551</td>\n",
       "      <td>891</td>\n",
       "      <td>3</td>\n",
       "      <td>First|Second|Third</td>\n",
       "    </tr>\n",
       "    <tr>\n",
       "      <th>5</th>\n",
       "      <td>deck</td>\n",
       "      <td>category</td>\n",
       "      <td>0.772</td>\n",
       "      <td>0.291</td>\n",
       "      <td>203</td>\n",
       "      <td>7</td>\n",
       "      <td>A|B|C|D|E|F|G</td>\n",
       "    </tr>\n",
       "    <tr>\n",
       "      <th>6</th>\n",
       "      <td>embark_town</td>\n",
       "      <td>category</td>\n",
       "      <td>0.002</td>\n",
       "      <td>0.724</td>\n",
       "      <td>889</td>\n",
       "      <td>3</td>\n",
       "      <td>Cherbourg|Queenstown|Southampton</td>\n",
       "    </tr>\n",
       "    <tr>\n",
       "      <th>7</th>\n",
       "      <td>embarked</td>\n",
       "      <td>category</td>\n",
       "      <td>0.002</td>\n",
       "      <td>0.724</td>\n",
       "      <td>889</td>\n",
       "      <td>3</td>\n",
       "      <td>C|Q|S</td>\n",
       "    </tr>\n",
       "    <tr>\n",
       "      <th>8</th>\n",
       "      <td>fare</td>\n",
       "      <td>float64</td>\n",
       "      <td>0.000</td>\n",
       "      <td>0.048</td>\n",
       "      <td>891</td>\n",
       "      <td>248</td>\n",
       "      <td>max=512.3292 | min=0.0 | mean=32.2</td>\n",
       "    </tr>\n",
       "    <tr>\n",
       "      <th>9</th>\n",
       "      <td>parch</td>\n",
       "      <td>int64</td>\n",
       "      <td>0.000</td>\n",
       "      <td>0.761</td>\n",
       "      <td>891</td>\n",
       "      <td>7</td>\n",
       "      <td>max=6 | min=0 | mean=0.38</td>\n",
       "    </tr>\n",
       "    <tr>\n",
       "      <th>10</th>\n",
       "      <td>pclass</td>\n",
       "      <td>int64</td>\n",
       "      <td>0.000</td>\n",
       "      <td>0.551</td>\n",
       "      <td>891</td>\n",
       "      <td>3</td>\n",
       "      <td>max=3 | min=1 | mean=2.31</td>\n",
       "    </tr>\n",
       "    <tr>\n",
       "      <th>11</th>\n",
       "      <td>sex</td>\n",
       "      <td>category</td>\n",
       "      <td>0.000</td>\n",
       "      <td>0.648</td>\n",
       "      <td>891</td>\n",
       "      <td>2</td>\n",
       "      <td>female|male</td>\n",
       "    </tr>\n",
       "    <tr>\n",
       "      <th>12</th>\n",
       "      <td>sibsp</td>\n",
       "      <td>int64</td>\n",
       "      <td>0.000</td>\n",
       "      <td>0.682</td>\n",
       "      <td>891</td>\n",
       "      <td>7</td>\n",
       "      <td>max=8 | min=0 | mean=0.52</td>\n",
       "    </tr>\n",
       "    <tr>\n",
       "      <th>13</th>\n",
       "      <td>survived</td>\n",
       "      <td>bool</td>\n",
       "      <td>0.000</td>\n",
       "      <td>1.000</td>\n",
       "      <td>891</td>\n",
       "      <td>1</td>\n",
       "      <td>False</td>\n",
       "    </tr>\n",
       "    <tr>\n",
       "      <th>14</th>\n",
       "      <td>who</td>\n",
       "      <td>category</td>\n",
       "      <td>0.000</td>\n",
       "      <td>0.603</td>\n",
       "      <td>891</td>\n",
       "      <td>3</td>\n",
       "      <td>child|man|woman</td>\n",
       "    </tr>\n",
       "  </tbody>\n",
       "</table>\n",
       "</div>"
      ],
      "text/plain": [
       "      Attribute     dType  %_Null  %_Dom  Count  Unique  \\\n",
       "0    adult_male      bool   0.000  0.603    891       2   \n",
       "1           age   float64   0.000  0.039    891      90   \n",
       "2         alive      bool   0.000  0.616    891       2   \n",
       "3         alone      bool   0.000  0.603    891       2   \n",
       "4         class  category   0.000  0.551    891       3   \n",
       "5          deck  category   0.772  0.291    203       7   \n",
       "6   embark_town  category   0.002  0.724    889       3   \n",
       "7      embarked  category   0.002  0.724    889       3   \n",
       "8          fare   float64   0.000  0.048    891     248   \n",
       "9         parch     int64   0.000  0.761    891       7   \n",
       "10       pclass     int64   0.000  0.551    891       3   \n",
       "11          sex  category   0.000  0.648    891       2   \n",
       "12        sibsp     int64   0.000  0.682    891       7   \n",
       "13     survived      bool   0.000  1.000    891       1   \n",
       "14          who  category   0.000  0.603    891       3   \n",
       "\n",
       "                          Observations  \n",
       "0                         True | False  \n",
       "1     max=80.0 | min=0.42 | mean=29.55  \n",
       "2                         False | True  \n",
       "3                         False | True  \n",
       "4                   First|Second|Third  \n",
       "5                        A|B|C|D|E|F|G  \n",
       "6     Cherbourg|Queenstown|Southampton  \n",
       "7                                C|Q|S  \n",
       "8   max=512.3292 | min=0.0 | mean=32.2  \n",
       "9            max=6 | min=0 | mean=0.38  \n",
       "10           max=3 | min=1 | mean=2.31  \n",
       "11                         female|male  \n",
       "12           max=8 | min=0 | mean=0.52  \n",
       "13                               False  \n",
       "14                     child|man|woman  "
      ]
     },
     "execution_count": 15,
     "metadata": {},
     "output_type": "execute_result"
    }
   ],
   "source": [
    "df = Cleaner.auto_to_category(titanic)\n",
    "bool_map = {'yes': True, '1': True, 'True': True}\n",
    "df = Cleaner.to_bool_type(df, bool_map=bool_map, headers=['adult_male', 'alive', 'alone', 'survived'])\n",
    "Discover.data_dictionary(df)"
   ]
  },
  {
   "cell_type": "markdown",
   "metadata": {},
   "source": [
    "## Characteristics of the dataset\n",
    "By using the analysis tools we can extract out the relational charactersitcs of the dataset"
   ]
  },
  {
   "cell_type": "markdown",
   "metadata": {},
   "source": [
    "#### Create the columns association reference\n",
    "This reference dictionary outlines how we percived the columns in the dataset and their levels of associating\n",
    "- level 1\n",
    "    - sex\n",
    "- level 2\n",
    "    - age\n",
    "- level 3\n",
    "    - pclass\n",
    "    - sibsp - **end**\n",
    "- level 4\n",
    "    - alone - **end**\n",
    "    - survived - **end**\n",
    "    - fare \n",
    "- level 5 \n",
    "    - embarked - **end**"
   ]
  },
  {
   "cell_type": "code",
   "execution_count": 16,
   "metadata": {},
   "outputs": [],
   "source": [
    "column_association = [{'sex': {}}, \n",
    "                      {'age': {'granularity': 16, 'precision': 0}}, \n",
    "                      {'pclass': {'dtype': 'category'}, 'sibsp': {'dtype': 'category'}},\n",
    "                      {'survived': {'dtype': 'category'}, 'fare': {'granularity': 20, 'precision': 2}, 'alone': {'dtype': 'category'}},\n",
    "                      {'embarked': {}}]\n",
    "\n",
    "exclude_associate = ['sex.age.sibsp.fare', 'sex.age.sibsp.survived', 'sex.age.sibsp.alone', 'sex.age.pclass.survived.embarked', 'sex.age.pclass.alone.embarked']\n",
    "\n",
    "analysis = Discover.analyse_association(titanic, columns_list=column_association, exclude_associate=exclude_associate)\n"
   ]
  },
  {
   "cell_type": "code",
   "execution_count": 17,
   "metadata": {},
   "outputs": [],
   "source": [
    "df_syn = tools.associate_analysis(analysis, size=1000)\n"
   ]
  },
  {
   "cell_type": "markdown",
   "metadata": {},
   "source": [
    "Add in the 'embark_town' by correlating the 'embarked' categories"
   ]
  },
  {
   "cell_type": "code",
   "execution_count": 18,
   "metadata": {},
   "outputs": [],
   "source": [
    "actions = {0: {'action': 'Cherbourg'}, 1: {'action': 'Southampton'}, 2: {'action': 'Queenstown'}}\n",
    "df_syn['embark_town'] = tools.correlate_categories(df_syn['embarked'], correlations=['C', 'S', 'Q'], actions=actions, value_type='category')\n"
   ]
  },
  {
   "cell_type": "markdown",
   "metadata": {},
   "source": [
    "The last field of interest is the decks. We can analyse the decks from the class. we can then build an association"
   ]
  },
  {
   "cell_type": "code",
   "execution_count": 19,
   "metadata": {},
   "outputs": [],
   "source": [
    "column_association = [{'pclass': {'dtype': 'category'}}, {'deck': {}}]\n",
    "analysis = Discover.analyse_association(titanic, columns_list=column_association)\n",
    "selection_1 = analysis.get('pclass').get('sub_category').get(1).get('deck').get('analysis').get('selection')\n",
    "weighting_1 = analysis.get('pclass').get('sub_category').get(1).get('deck').get('analysis').get('weighting')\n",
    "selection_2 = analysis.get('pclass').get('sub_category').get(2).get('deck').get('analysis').get('selection')\n",
    "weighting_2 = analysis.get('pclass').get('sub_category').get(2).get('deck').get('analysis').get('weighting')\n",
    "selection_3 = analysis.get('pclass').get('sub_category').get(3).get('deck').get('analysis').get('selection')\n",
    "weighting_3 = analysis.get('pclass').get('sub_category').get(3).get('deck').get('analysis').get('weighting')\n"
   ]
  },
  {
   "cell_type": "code",
   "execution_count": 20,
   "metadata": {},
   "outputs": [],
   "source": [
    "associations = [{'pclass': {'expect': 'category', 'value': [1]}},\n",
    "                {'pclass': {'expect': 'category', 'value': [2]}},\n",
    "                {'pclass': {'expect': 'category', 'value': [3]}}]\n",
    "\n",
    "actions = {0: {'action': 'get_category', 'kwargs' : {'selection': selection_1, 'weight_pattern': weighting_1}},\n",
    "           1: {'action': 'get_category','kwargs' : {'selection': selection_2, 'weight_pattern': weighting_2}},\n",
    "           2: {'action': 'get_category','kwargs' : {'selection': selection_3, 'weight_pattern': weighting_3}}}\n",
    "\n",
    "df_syn['deck'] = tools.associate_dataset(df_syn, associations=associations, actions=actions, default_value='')"
   ]
  },
  {
   "cell_type": "code",
   "execution_count": 21,
   "metadata": {},
   "outputs": [],
   "source": [
    "builder.save_to_disk(df_syn, filename='darryl_titanic_2.csv')"
   ]
  },
  {
   "cell_type": "code",
   "execution_count": 22,
   "metadata": {},
   "outputs": [
    {
     "data": {
      "text/html": [
       "<div>\n",
       "<style scoped>\n",
       "    .dataframe tbody tr th:only-of-type {\n",
       "        vertical-align: middle;\n",
       "    }\n",
       "\n",
       "    .dataframe tbody tr th {\n",
       "        vertical-align: top;\n",
       "    }\n",
       "\n",
       "    .dataframe thead th {\n",
       "        text-align: right;\n",
       "    }\n",
       "</style>\n",
       "<table border=\"1\" class=\"dataframe\">\n",
       "  <thead>\n",
       "    <tr style=\"text-align: right;\">\n",
       "      <th></th>\n",
       "      <th>Attribute</th>\n",
       "      <th>dType</th>\n",
       "      <th>%_Null</th>\n",
       "      <th>%_Dom</th>\n",
       "      <th>Count</th>\n",
       "      <th>Unique</th>\n",
       "      <th>Observations</th>\n",
       "    </tr>\n",
       "  </thead>\n",
       "  <tbody>\n",
       "    <tr>\n",
       "      <th>0</th>\n",
       "      <td>age</td>\n",
       "      <td>float64</td>\n",
       "      <td>0.000</td>\n",
       "      <td>0.002</td>\n",
       "      <td>1000</td>\n",
       "      <td>987</td>\n",
       "      <td>max=77.037 | min=0.023 | mean=28.44</td>\n",
       "    </tr>\n",
       "    <tr>\n",
       "      <th>1</th>\n",
       "      <td>alone</td>\n",
       "      <td>bool</td>\n",
       "      <td>0.000</td>\n",
       "      <td>0.571</td>\n",
       "      <td>1000</td>\n",
       "      <td>2</td>\n",
       "      <td>True | False</td>\n",
       "    </tr>\n",
       "    <tr>\n",
       "      <th>2</th>\n",
       "      <td>deck</td>\n",
       "      <td>object</td>\n",
       "      <td>0.000</td>\n",
       "      <td>0.313</td>\n",
       "      <td>1000</td>\n",
       "      <td>7</td>\n",
       "      <td>Sample: B | E | C</td>\n",
       "    </tr>\n",
       "    <tr>\n",
       "      <th>3</th>\n",
       "      <td>embark_town</td>\n",
       "      <td>object</td>\n",
       "      <td>0.088</td>\n",
       "      <td>0.713</td>\n",
       "      <td>912</td>\n",
       "      <td>3</td>\n",
       "      <td>Sample: Cherbourg | Queenstown | Southampton</td>\n",
       "    </tr>\n",
       "    <tr>\n",
       "      <th>4</th>\n",
       "      <td>embarked</td>\n",
       "      <td>object</td>\n",
       "      <td>0.088</td>\n",
       "      <td>0.713</td>\n",
       "      <td>912</td>\n",
       "      <td>3</td>\n",
       "      <td>Sample: Q | C | S</td>\n",
       "    </tr>\n",
       "    <tr>\n",
       "      <th>5</th>\n",
       "      <td>fare</td>\n",
       "      <td>float64</td>\n",
       "      <td>0.000</td>\n",
       "      <td>0.007</td>\n",
       "      <td>1000</td>\n",
       "      <td>948</td>\n",
       "      <td>max=489.14 | min=0.006 | mean=32.36</td>\n",
       "    </tr>\n",
       "    <tr>\n",
       "      <th>6</th>\n",
       "      <td>pclass</td>\n",
       "      <td>int64</td>\n",
       "      <td>0.000</td>\n",
       "      <td>0.533</td>\n",
       "      <td>1000</td>\n",
       "      <td>3</td>\n",
       "      <td>max=3 | min=1 | mean=2.27</td>\n",
       "    </tr>\n",
       "    <tr>\n",
       "      <th>7</th>\n",
       "      <td>sex</td>\n",
       "      <td>object</td>\n",
       "      <td>0.000</td>\n",
       "      <td>0.659</td>\n",
       "      <td>1000</td>\n",
       "      <td>2</td>\n",
       "      <td>Sample: female | male</td>\n",
       "    </tr>\n",
       "    <tr>\n",
       "      <th>8</th>\n",
       "      <td>sibsp</td>\n",
       "      <td>int64</td>\n",
       "      <td>0.000</td>\n",
       "      <td>0.709</td>\n",
       "      <td>1000</td>\n",
       "      <td>7</td>\n",
       "      <td>max=8 | min=0 | mean=0.54</td>\n",
       "    </tr>\n",
       "    <tr>\n",
       "      <th>9</th>\n",
       "      <td>survived</td>\n",
       "      <td>int64</td>\n",
       "      <td>0.000</td>\n",
       "      <td>0.615</td>\n",
       "      <td>1000</td>\n",
       "      <td>2</td>\n",
       "      <td>max=1 | min=0 | mean=0.38</td>\n",
       "    </tr>\n",
       "  </tbody>\n",
       "</table>\n",
       "</div>"
      ],
      "text/plain": [
       "     Attribute    dType  %_Null  %_Dom  Count  Unique  \\\n",
       "0          age  float64   0.000  0.002   1000     987   \n",
       "1        alone     bool   0.000  0.571   1000       2   \n",
       "2         deck   object   0.000  0.313   1000       7   \n",
       "3  embark_town   object   0.088  0.713    912       3   \n",
       "4     embarked   object   0.088  0.713    912       3   \n",
       "5         fare  float64   0.000  0.007   1000     948   \n",
       "6       pclass    int64   0.000  0.533   1000       3   \n",
       "7          sex   object   0.000  0.659   1000       2   \n",
       "8        sibsp    int64   0.000  0.709   1000       7   \n",
       "9     survived    int64   0.000  0.615   1000       2   \n",
       "\n",
       "                                   Observations  \n",
       "0           max=77.037 | min=0.023 | mean=28.44  \n",
       "1                                  True | False  \n",
       "2                             Sample: B | E | C  \n",
       "3  Sample: Cherbourg | Queenstown | Southampton  \n",
       "4                             Sample: Q | C | S  \n",
       "5           max=489.14 | min=0.006 | mean=32.36  \n",
       "6                     max=3 | min=1 | mean=2.27  \n",
       "7                         Sample: female | male  \n",
       "8                     max=8 | min=0 | mean=0.54  \n",
       "9                     max=1 | min=0 | mean=0.38  "
      ]
     },
     "execution_count": 22,
     "metadata": {},
     "output_type": "execute_result"
    }
   ],
   "source": [
    "Discover.data_dictionary(df_syn)"
   ]
  },
  {
   "cell_type": "code",
   "execution_count": 23,
   "metadata": {},
   "outputs": [
    {
     "data": {
      "image/png": "[encoded data removed]",
      "text/plain": [
       "<Figure size 432x432 with 3 Axes>"
      ]
     },
     "metadata": {},
     "output_type": "display_data"
    }
   ],
   "source": [
    "sns.set(style=\"ticks\", color_codes=True)\n",
    "g = sns.jointplot(x='fare',y='age',data=df_syn, s=10)"
   ]
  },
  {
   "cell_type": "code",
   "execution_count": 24,
   "metadata": {},
   "outputs": [
    {
     "data": {
      "image/png": "[encoded data removed]",
      "text/plain": [
       "<Figure size 432x432 with 3 Axes>"
      ]
     },
     "metadata": {},
     "output_type": "display_data"
    }
   ],
   "source": [
    "sns.set(style=\"ticks\", color_codes=True)\n",
    "g = sns.jointplot(x='fare',y='age',data=titanic, s=10)"
   ]
  },
  {
   "cell_type": "code",
   "execution_count": 25,
   "metadata": {},
   "outputs": [
    {
     "data": {
      "text/plain": [
       "<seaborn.axisgrid.FacetGrid at 0x1a178d8940>"
      ]
     },
     "execution_count": 25,
     "metadata": {},
     "output_type": "execute_result"
    },
    {
     "data": {
      "image/png": "[encoded data removed]",
      "text/plain": [
       "<Figure size 432x216 with 2 Axes>"
      ]
     },
     "metadata": {},
     "output_type": "display_data"
    }
   ],
   "source": [
    "sns.set(style=\"ticks\", color_codes=True)\n",
    "bins = np.arange(0, 80, 5)\n",
    "g = sns.FacetGrid(data=df_syn, col='sex', hue='survived')\n",
    "g.map(plt.hist, 'age', bins=bins)"
   ]
  },
  {
   "cell_type": "code",
   "execution_count": 26,
   "metadata": {},
   "outputs": [
    {
     "data": {
      "text/plain": [
       "<seaborn.axisgrid.FacetGrid at 0x1a1837cd68>"
      ]
     },
     "execution_count": 26,
     "metadata": {},
     "output_type": "execute_result"
    },
    {
     "data": {
      "image/png": "[encoded data removed]",
      "text/plain": [
       "<Figure size 432x216 with 2 Axes>"
      ]
     },
     "metadata": {},
     "output_type": "display_data"
    }
   ],
   "source": [
    "sns.set(style=\"ticks\", color_codes=True)\n",
    "bins = np.arange(0, 80, 5)\n",
    "g = sns.FacetGrid(data=titanic, col='sex', hue='survived')\n",
    "g.map(plt.hist, 'age', bins=bins)"
   ]
  },
  {
   "cell_type": "code",
   "execution_count": 27,
   "metadata": {},
   "outputs": [
    {
     "data": {
      "text/plain": [
       "<seaborn.axisgrid.FacetGrid at 0x1a18db0c18>"
      ]
     },
     "execution_count": 27,
     "metadata": {},
     "output_type": "execute_result"
    },
    {
     "data": {
      "image/png": "[encoded data removed]",
      "text/plain": [
       "<Figure size 648x216 with 3 Axes>"
      ]
     },
     "metadata": {},
     "output_type": "display_data"
    }
   ],
   "source": [
    "sns.set(style=\"ticks\", color_codes=True)\n",
    "bins = np.arange(0, 80, 5)\n",
    "g = sns.FacetGrid(data=df_syn, col='pclass', hue='survived')\n",
    "g.map(plt.hist, 'age', bins=bins)"
   ]
  },
  {
   "cell_type": "code",
   "execution_count": 28,
   "metadata": {},
   "outputs": [
    {
     "data": {
      "text/plain": [
       "<seaborn.axisgrid.FacetGrid at 0x1a18263208>"
      ]
     },
     "execution_count": 28,
     "metadata": {},
     "output_type": "execute_result"
    },
    {
     "data": {
      "image/png": "[encoded data removed]",
      "text/plain": [
       "<Figure size 648x216 with 3 Axes>"
      ]
     },
     "metadata": {},
     "output_type": "display_data"
    }
   ],
   "source": [
    "sns.set(style=\"ticks\", color_codes=True)\n",
    "bins = np.arange(0, 80, 5)\n",
    "g = sns.FacetGrid(data=titanic, col='pclass', hue='survived')\n",
    "g.map(plt.hist, 'age', bins=bins)"
   ]
  },
  {
   "cell_type": "code",
   "execution_count": 29,
   "metadata": {},
   "outputs": [
    {
     "data": {
      "image/png": "[encoded data removed]",
      "text/plain": [
       "<Figure size 765.725x360 with 7 Axes>"
      ]
     },
     "metadata": {},
     "output_type": "display_data"
    }
   ],
   "source": [
    "df_syn = df_syn.sort_values(by=['deck'])\n",
    "sns.set(style=\"ticks\", color_codes=True)\n",
    "g = sns.FacetGrid(data=df_syn, col='deck', hue='pclass', col_wrap=4, height=2.5)\n",
    "g = g.map(plt.scatter, 'age', 'fare', s=15).add_legend()\n",
    "g.fig.subplots_adjust(wspace=0.1, hspace=0.4)"
   ]
  },
  {
   "cell_type": "code",
   "execution_count": 30,
   "metadata": {},
   "outputs": [
    {
     "data": {
      "image/png": "[encoded data removed]",
      "text/plain": [
       "<Figure size 765.725x360 with 7 Axes>"
      ]
     },
     "metadata": {},
     "output_type": "display_data"
    }
   ],
   "source": [
    "sns.set(style=\"ticks\", color_codes=True)\n",
    "g = sns.FacetGrid(data=titanic, col='deck', hue='pclass', col_wrap=4, height=2.5)\n",
    "g = g.map(plt.scatter, 'age', 'fare', s=15).add_legend()\n",
    "g.fig.subplots_adjust(wspace=0.1, hspace=0.4)"
   ]
  },
  {
   "cell_type": "code",
   "execution_count": null,
   "metadata": {},
   "outputs": [],
   "source": []
  }
 ],
 "metadata": {
  "kernelspec": {
   "display_name": "Python 3",
   "language": "python",
   "name": "python3"
  },
  "language_info": {
   "codemirror_mode": {
    "name": "ipython",
    "version": 3
   },
   "file_extension": ".py",
   "mimetype": "text/x-python",
   "name": "python",
   "nbconvert_exporter": "python",
   "pygments_lexer": "ipython3",
   "version": "3.6.8"
  }
 },
 "nbformat": 4,
 "nbformat_minor": 2
}
