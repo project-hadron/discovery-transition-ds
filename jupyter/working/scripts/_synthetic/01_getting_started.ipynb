{
 "cells": [
  {
   "cell_type": "code",
   "execution_count": 1,
   "metadata": {},
   "outputs": [
    {
     "name": "stdout",
     "output_type": "stream",
     "text": [
      "DTU: 2.03.077\n",
      "DBU: 1.02.024\n"
     ]
    }
   ],
   "source": [
    "# saves you having to use print as all exposed variables are printed in the cell\n",
    "from IPython.core.interactiveshell import InteractiveShell\n",
    "InteractiveShell.ast_node_interactivity = \"all\"\n",
    "\n",
    "# core libraries\n",
    "import numpy as np\n",
    "import pandas as pd\n",
    "import matplotlib.pyplot as plt\n",
    "import matplotlib.dates as mdates\n",
    "import seaborn as sns\n",
    "import datetime\n",
    "\n",
    "# matpolitlib config\n",
    "%matplotlib inline\n",
    "plt.rcParams['figure.figsize'] = 12,4\n",
    "\n",
    "# suppress warning message\n",
    "import warnings\n",
    "warnings.filterwarnings('ignore')\n",
    "\n",
    "%reload_ext autoreload\n",
    "%autoreload 2\n",
    "\n",
    "import ds_discovery\n",
    "import ds_behavioral\n",
    "print('DTU: {}'.format(ds_discovery.__version__))\n",
    "print('DBU: {}'.format(ds_behavioral.__version__))"
   ]
  },
  {
   "cell_type": "markdown",
   "metadata": {},
   "source": [
    "# Geeting Started with DTU Synthetic Behavioural Data Builder"
   ]
  },
  {
   "cell_type": "markdown",
   "metadata": {},
   "source": [
    "## Package Structure\n",
    "Within the Discovery Transitioning Utils are a set of`simulator package` that contains the DataBuilder, DataBuilderPropertyManager and the DataBuilderTools class\n",
    "\n",
    "#### DataBuilder: \n",
    "- is a Data Builder management instance that allows the building of datasets to be repeatable by saving a configuration of the build definition\n",
    "\n",
    "#### DataBuilderPropertyManager: \n",
    "- manages the configuration property values and saves the build templates to regenerate the synthetic data\n",
    "\n",
    "#### DataBuilderTools: \n",
    "- is a set of static methods that generate the different data types `int`, `float`, `string`, `category` and `date`. and define the randomness and patterns of the values.\n"
   ]
  },
  {
   "cell_type": "markdown",
   "metadata": {},
   "source": [
    "Firstly we need to import the `DataBuilder` class and create a **named** instance to identify this instance from other instances we might create. Normally the name would be representative of the dataset you are trying to create such as `customer`, `accounts` or `transactions` as an example"
   ]
  },
  {
   "cell_type": "code",
   "execution_count": 2,
   "metadata": {},
   "outputs": [],
   "source": [
    "from ds_behavioral import DataBuilderTools"
   ]
  },
  {
   "cell_type": "code",
   "execution_count": 3,
   "metadata": {},
   "outputs": [],
   "source": [
    "tools = DataBuilderTools()"
   ]
  },
  {
   "cell_type": "markdown",
   "metadata": {},
   "source": [
    "## Building a basic dataset\n",
    "with this example we will firstly look at the tools that are avaialbe and produce a `Pandas DataFrame` on the fly"
   ]
  },
  {
   "cell_type": "code",
   "execution_count": 4,
   "metadata": {},
   "outputs": [
    {
     "data": {
      "text/plain": [
       "<ds_behavioral.generator.data_builder_tools.DataBuilderTools at 0x1090ba0b8>"
      ]
     },
     "execution_count": 4,
     "metadata": {},
     "output_type": "execute_result"
    }
   ],
   "source": [
    "tools"
   ]
  },
  {
   "cell_type": "markdown",
   "metadata": {},
   "source": [
    "Here we can see the methods are broken down into four categories: `get`, `unique`, `correlate`, `associate`."
   ]
  },
  {
   "cell_type": "markdown",
   "metadata": {},
   "source": [
    "We can also look at the contextual help for each of the methods calling the `tools` property and using the `help` build-in"
   ]
  },
  {
   "cell_type": "code",
   "execution_count": 5,
   "metadata": {},
   "outputs": [
    {
     "name": "stdout",
     "output_type": "stream",
     "text": [
      "Help on function get_number in module ds_behavioral.generator.data_builder_tools:\n",
      "\n",
      "get_number(from_value:[<class 'int'>, <class 'float'>], to_value:[<class 'int'>, <class 'float'>]=None, weight_pattern:list=None, offset:int=None, precision:int=None, currency:str=None, bounded_weighting:bool=True, at_most:int=None, dominant_values:[<class 'float'>, <class 'list'>]=None, dominant_percent:float=None, dominance_weighting:list=None, size:int=None, quantity:float=None, seed:int=None)\n",
      "    returns a number in the range from_value to to_value. if only to_value given from_value is zero\n",
      "    \n",
      "    :param from_value: range from_value to_value if to_value is used else from 0 to from_value if to_value is None\n",
      "    :param to_value: optional, (signed) integer to end from.\n",
      "    :param weight_pattern: a weighting pattern or probability that does not have to add to 1\n",
      "    :param precision: the precision of the returned number. if None then assumes int value else float\n",
      "    :param offset: an offset multiplier, if None then assume 1\n",
      "    :param currency: a currency symbol to prefix the value with. returns string with commas\n",
      "    :param bounded_weighting: if the weighting pattern should have a soft or hard boundary constraint\n",
      "    :param at_most: the most times a selection should be chosen\n",
      "    :param dominant_values: a value or list of values with dominant_percent. if used MUST provide a dominant_percent\n",
      "    :param dominant_percent: a value between 0 and 1 representing the dominant_percent of the dominant value(s)\n",
      "    :param dominance_weighting: a weighting of the dominant values\n",
      "    :param size: the size of the sample\n",
      "    :param quantity: a number between 0 and 1 representing data that isn't null\n",
      "    :param seed: a seed value for the random function: default to None\n",
      "    :return: a random number\n",
      "\n"
     ]
    }
   ],
   "source": [
    "help(tools.get_number)"
   ]
  },
  {
   "cell_type": "markdown",
   "metadata": {},
   "source": [
    "## Get Methods\n",
    "From here we can now play with some of the `get` methods"
   ]
  },
  {
   "cell_type": "code",
   "execution_count": 6,
   "metadata": {},
   "outputs": [
    {
     "data": {
      "text/plain": [
       "[8, 5, 8, 8, 8]"
      ]
     },
     "execution_count": 6,
     "metadata": {},
     "output_type": "execute_result"
    }
   ],
   "source": [
    "# get an integer between 0 and 9\n",
    "tools.get_number(10, size=5)"
   ]
  },
  {
   "cell_type": "code",
   "execution_count": 7,
   "metadata": {},
   "outputs": [
    {
     "data": {
      "text/plain": [
       "[0.464, 0.291, 0.403, 0.87, -0.655]"
      ]
     },
     "execution_count": 7,
     "metadata": {},
     "output_type": "execute_result"
    }
   ],
   "source": [
    "# get a float between -1 and 1, notice by passing an float it assumes the output to be a float\n",
    "tools.get_number(from_value=-1.0, to_value=1.0, precision=3, size=5)"
   ]
  },
  {
   "cell_type": "code",
   "execution_count": 8,
   "metadata": {},
   "outputs": [
    {
     "data": {
      "text/plain": [
       "['$1,752.83', '$1,511.50', '$1,161.20', '$1,934.25', '$1,437.74']"
      ]
     },
     "execution_count": 8,
     "metadata": {},
     "output_type": "execute_result"
    }
   ],
   "source": [
    "# get a currency by setting the 'currency' parameter to a currency symbol. \n",
    "# Note this returns a list of strings\n",
    "tools.get_number(from_value=1000.0, to_value=2000.0, size=5, currency='$', precision=2)"
   ]
  },
  {
   "cell_type": "code",
   "execution_count": 9,
   "metadata": {},
   "outputs": [
    {
     "data": {
      "text/plain": [
       "['Blue', 'Green', 'Blue', 'Blue', 'Green']"
      ]
     },
     "execution_count": 9,
     "metadata": {},
     "output_type": "execute_result"
    }
   ],
   "source": [
    "# get categories from a selection\n",
    "tools.get_category(['Red', 'Blue', 'Green', 'Black', 'White'], size=5)"
   ]
  },
  {
   "cell_type": "code",
   "execution_count": 10,
   "metadata": {},
   "outputs": [
    {
     "data": {
      "text/plain": [
       "['Red', 'Blue', 'Green', 'Black', 'White']"
      ]
     },
     "execution_count": 10,
     "metadata": {},
     "output_type": "execute_result"
    }
   ],
   "source": [
    "# we can manage the number of times a selection should be picked with 'at_most'\n",
    "tools.get_category(['Red', 'Blue', 'Green', 'Black', 'White'], size=5, at_most=1)"
   ]
  },
  {
   "cell_type": "code",
   "execution_count": 11,
   "metadata": {},
   "outputs": [
    {
     "data": {
      "text/plain": [
       "[Timestamp('2018-01-15 18:44:30.271148256')]"
      ]
     },
     "execution_count": 11,
     "metadata": {},
     "output_type": "execute_result"
    }
   ],
   "source": [
    "# get a timestamp between two dates\n",
    "tools.get_datetime(start='01/01/2017', until='31/12/2018')"
   ]
  },
  {
   "cell_type": "code",
   "execution_count": 12,
   "metadata": {},
   "outputs": [
    {
     "data": {
      "text/plain": [
       "['2018-06-18', '2018-06-21', '2017-05-17', '2017-05-15']"
      ]
     },
     "execution_count": 12,
     "metadata": {},
     "output_type": "execute_result"
    }
   ],
   "source": [
    "# tools a formated date string between two numbers\n",
    "tools.get_datetime(start='01/01/2017', until='31/12/2018', size=4, date_format='%Y-%m-%d')"
   ]
  },
  {
   "cell_type": "code",
   "execution_count": 13,
   "metadata": {},
   "outputs": [
    {
     "data": {
      "text/plain": [
       "['03-04-2017 10:06:09',\n",
       " '16-11-2009 08:29:12',\n",
       " '17-01-2014 06:53:40',\n",
       " '08-02-2008 06:34:25']"
      ]
     },
     "execution_count": 13,
     "metadata": {},
     "output_type": "execute_result"
    }
   ],
   "source": [
    "# you can use most date formats, not just a string. Notice the optional 'day_first'. the defualt is True\n",
    "start = pd.Timestamp('01/01/2007')\n",
    "end = datetime.datetime.now()\n",
    "tools.get_datetime(start=start, until=end, size=4, date_format='%d-%m-%Y %H:%M:%S', day_first=True)"
   ]
  },
  {
   "cell_type": "markdown",
   "metadata": {},
   "source": [
    "## Sample Data\n",
    "There are also a number of sample categories and data that can be chocen from\n",
    "- ProfileSamples\n",
    "- CallCentreSample\n",
    "- GeneralSamples\n",
    "- MutualFundSamples\n",
    "- BusinessSample"
   ]
  },
  {
   "cell_type": "code",
   "execution_count": 22,
   "metadata": {},
   "outputs": [],
   "source": [
    "from ds_behavioral.sample.sample_data import CallCentreSamples"
   ]
  },
  {
   "cell_type": "code",
   "execution_count": 23,
   "metadata": {},
   "outputs": [
    {
     "data": {
      "text/plain": [
       "['complaint', 'contact_type']"
      ]
     },
     "execution_count": 23,
     "metadata": {},
     "output_type": "execute_result"
    }
   ],
   "source": [
    "# as an example here is the set of profile samples\n",
    "CallCentreSamples().__dir__()"
   ]
  },
  {
   "cell_type": "code",
   "execution_count": 24,
   "metadata": {},
   "outputs": [
    {
     "data": {
      "text/plain": [
       "['Unhappy with delay',\n",
       " 'My details are not accurate',\n",
       " 'The performance of my product was poor',\n",
       " 'You took too long']"
      ]
     },
     "execution_count": 24,
     "metadata": {},
     "output_type": "execute_result"
    }
   ],
   "source": [
    "CallCentreSamples.complaint(4)"
   ]
  },
  {
   "cell_type": "markdown",
   "metadata": {},
   "source": [
    "### Building a DataFrame\n",
    "With the data building blocks we can quickly build up a dataset"
   ]
  },
  {
   "cell_type": "code",
   "execution_count": 25,
   "metadata": {},
   "outputs": [],
   "source": [
    "df = pd.DataFrame()\n",
    "df['id'] = tools.unique_numbers(start=10, until=99, size=10)\n",
    "df['age'] = tools.get_number(from_value=20, to_value=80, size=10)\n",
    "df['start'] = tools.get_datetime(start='12/05/2018', until='30/11/2018', date_format='%d-%m-%Y', size=10)\n",
    "df['dept'] = tools.get_category(selection=['Sales', 'Marketing', 'Finance', 'Product', 'Operations'], size=10)"
   ]
  },
  {
   "cell_type": "markdown",
   "metadata": {},
   "source": [
    "### Data quantity\n",
    "to show representative data we can adjust the quality of the data we produce. Here we only get about 50% of the telephone numbers"
   ]
  },
  {
   "cell_type": "code",
   "execution_count": 26,
   "metadata": {},
   "outputs": [
    {
     "data": {
      "text/html": [
       "<div>\n",
       "<style scoped>\n",
       "    .dataframe tbody tr th:only-of-type {\n",
       "        vertical-align: middle;\n",
       "    }\n",
       "\n",
       "    .dataframe tbody tr th {\n",
       "        vertical-align: top;\n",
       "    }\n",
       "\n",
       "    .dataframe thead th {\n",
       "        text-align: right;\n",
       "    }\n",
       "</style>\n",
       "<table border=\"1\" class=\"dataframe\">\n",
       "  <thead>\n",
       "    <tr style=\"text-align: right;\">\n",
       "      <th></th>\n",
       "      <th>id</th>\n",
       "      <th>age</th>\n",
       "      <th>start</th>\n",
       "      <th>dept</th>\n",
       "      <th>phone</th>\n",
       "    </tr>\n",
       "  </thead>\n",
       "  <tbody>\n",
       "    <tr>\n",
       "      <th>0</th>\n",
       "      <td>65</td>\n",
       "      <td>68</td>\n",
       "      <td>26-05-2018</td>\n",
       "      <td>Product</td>\n",
       "      <td></td>\n",
       "    </tr>\n",
       "    <tr>\n",
       "      <th>1</th>\n",
       "      <td>15</td>\n",
       "      <td>31</td>\n",
       "      <td>26-11-2018</td>\n",
       "      <td>Sales</td>\n",
       "      <td>1-551-559-6966</td>\n",
       "    </tr>\n",
       "    <tr>\n",
       "      <th>2</th>\n",
       "      <td>48</td>\n",
       "      <td>53</td>\n",
       "      <td>20-11-2018</td>\n",
       "      <td>Marketing</td>\n",
       "      <td></td>\n",
       "    </tr>\n",
       "    <tr>\n",
       "      <th>3</th>\n",
       "      <td>58</td>\n",
       "      <td>27</td>\n",
       "      <td>08-10-2018</td>\n",
       "      <td>Finance</td>\n",
       "      <td>1-544-348-7051</td>\n",
       "    </tr>\n",
       "    <tr>\n",
       "      <th>4</th>\n",
       "      <td>12</td>\n",
       "      <td>75</td>\n",
       "      <td>03-10-2018</td>\n",
       "      <td>Sales</td>\n",
       "      <td>1-554-196-2949</td>\n",
       "    </tr>\n",
       "    <tr>\n",
       "      <th>5</th>\n",
       "      <td>73</td>\n",
       "      <td>74</td>\n",
       "      <td>03-11-2018</td>\n",
       "      <td>Product</td>\n",
       "      <td>1-585-108-1612</td>\n",
       "    </tr>\n",
       "    <tr>\n",
       "      <th>6</th>\n",
       "      <td>27</td>\n",
       "      <td>49</td>\n",
       "      <td>22-08-2018</td>\n",
       "      <td>Operations</td>\n",
       "      <td>1-571-041-5187</td>\n",
       "    </tr>\n",
       "    <tr>\n",
       "      <th>7</th>\n",
       "      <td>53</td>\n",
       "      <td>54</td>\n",
       "      <td>25-09-2018</td>\n",
       "      <td>Product</td>\n",
       "      <td>1-511-915-5667</td>\n",
       "    </tr>\n",
       "    <tr>\n",
       "      <th>8</th>\n",
       "      <td>46</td>\n",
       "      <td>51</td>\n",
       "      <td>05-07-2018</td>\n",
       "      <td>Sales</td>\n",
       "      <td>1-585-048-4989</td>\n",
       "    </tr>\n",
       "    <tr>\n",
       "      <th>9</th>\n",
       "      <td>39</td>\n",
       "      <td>65</td>\n",
       "      <td>09-06-2018</td>\n",
       "      <td>Operations</td>\n",
       "      <td></td>\n",
       "    </tr>\n",
       "  </tbody>\n",
       "</table>\n",
       "</div>"
      ],
      "text/plain": [
       "   id  age       start        dept           phone\n",
       "0  65   68  26-05-2018     Product                \n",
       "1  15   31  26-11-2018       Sales  1-551-559-6966\n",
       "2  48   53  20-11-2018   Marketing                \n",
       "3  58   27  08-10-2018     Finance  1-544-348-7051\n",
       "4  12   75  03-10-2018       Sales  1-554-196-2949\n",
       "5  73   74  03-11-2018     Product  1-585-108-1612\n",
       "6  27   49  22-08-2018  Operations  1-571-041-5187\n",
       "7  53   54  25-09-2018     Product  1-511-915-5667\n",
       "8  46   51  05-07-2018       Sales  1-585-048-4989\n",
       "9  39   65  09-06-2018  Operations                "
      ]
     },
     "execution_count": 26,
     "metadata": {},
     "output_type": "execute_result"
    }
   ],
   "source": [
    "# using the get string pattern we can create part random and part static data elements. see the inline docs for help on customising choices\n",
    "df['phone'] = tools.get_string_pattern(\"1-5dd-ddd-dddd\", choice_only=False, size=10, quantity=0.5)\n",
    "df"
   ]
  },
  {
   "cell_type": "markdown",
   "metadata": {},
   "source": [
    "## Synthetic Unstructured Data\n",
    "using tags within a set of string text we are able to build sudo-unstructured data\n",
    "\n",
    "in the follwing example we set up 2 template patterns then fill the tags with synthetic data"
   ]
  },
  {
   "cell_type": "code",
   "execution_count": 29,
   "metadata": {},
   "outputs": [],
   "source": [
    "# The string patterns we would like to populate\n",
    "templates = [\n",
    "    \"Hello <name>, your balance is <balance> on <date>\",\n",
    "    \"<name> likes the phrase <phrase>\"\n",
    "]\n",
    "\n",
    "# a dictionary of the tags and how they should be filled. Note we have used `get_custom` to use the built in sample data\n",
    "tags = {\n",
    "    '<name>'   : {'action': 'get_custom', 'kwargs': {'code_str': \"ProfileSample.female_names()[0]\"}},\n",
    "    '<balance>': {'action': 'get_number', 'kwargs': {'from_value':10, 'to_value':1000, 'currency':'$', 'precision':2}},\n",
    "    '<date>'   : {'action': 'get_datetime', 'kwargs': {'start':\"12/01/2015\", 'until':\"31/12/2018\", 'date_format':\"%m-%d-%Y\"}},\n",
    "    '<phrase>' : {'action': 'get_custom', 'kwargs': {'code_str': \"GenericSamples.phrases()[0]\"}}    \n",
    "}"
   ]
  },
  {
   "cell_type": "code",
   "execution_count": 30,
   "metadata": {},
   "outputs": [
    {
     "ename": "SyntaxError",
     "evalue": "invalid syntax (<string>, line 1)",
     "output_type": "error",
     "traceback": [
      "Traceback \u001b[0;36m(most recent call last)\u001b[0m:\n",
      "  File \u001b[1;32m\"/Users/doatridge/anaconda3/envs/common/lib/python3.6/site-packages/IPython/core/interactiveshell.py\"\u001b[0m, line \u001b[1;32m2961\u001b[0m, in \u001b[1;35mrun_code\u001b[0m\n    exec(code_obj, self.user_global_ns, self.user_ns)\n",
      "  File \u001b[1;32m\"<ipython-input-30-e60fef3f571c>\"\u001b[0m, line \u001b[1;32m2\u001b[0m, in \u001b[1;35m<module>\u001b[0m\n    tools.get_tagged_pattern(pattern=templates, tags=tags, weight_pattern=[6,1], size=10)\n",
      "  File \u001b[1;32m\"/Users/doatridge/anaconda3/envs/common/lib/python3.6/site-packages/ds_behavioral/generator/data_builder_tools.py\"\u001b[0m, line \u001b[1;32m441\u001b[0m, in \u001b[1;35mget_tagged_pattern\u001b[0m\n    result = eval(\"DataBuilderTools.{}(**{})\".format(method, kwargs))[0]\n",
      "  File \u001b[1;32m\"<string>\"\u001b[0m, line \u001b[1;32m1\u001b[0m, in \u001b[1;35m<module>\u001b[0m\n",
      "\u001b[0;36m  File \u001b[0;32m\"/Users/doatridge/anaconda3/envs/common/lib/python3.6/site-packages/ds_behavioral/generator/data_builder_tools.py\"\u001b[0;36m, line \u001b[0;32m125\u001b[0;36m, in \u001b[0;35mget_custom\u001b[0;36m\u001b[0m\n\u001b[0;31m    rtn_list.append(eval(code_str, globals(), local_kwargs))\u001b[0m\n",
      "\u001b[0;36m  File \u001b[0;32m\"<string>\"\u001b[0;36m, line \u001b[0;32m1\u001b[0m\n\u001b[0;31m    Persistent mission-critical complexity\u001b[0m\n\u001b[0m                     ^\u001b[0m\n\u001b[0;31mSyntaxError\u001b[0m\u001b[0;31m:\u001b[0m invalid syntax\n"
     ]
    }
   ],
   "source": [
    "# using the tagged pattern we create unstructured data. Note the weighting_pattern on the templates (see next section)\n",
    "tools.get_tagged_pattern(pattern=templates, tags=tags, weight_pattern=[6,1], size=10)"
   ]
  },
  {
   "cell_type": "markdown",
   "metadata": {},
   "source": [
    "## Weighted Patterns \n",
    "Now we can get a bit more controlled in how we want the random numbers to be generated by using the weighted patterns. Weighted patterns are similar to probability but don't need to add to 1 and also don't need to be the same size as the selection. Lets see how this works through an example.\n",
    "\n",
    "lets generate an array of 100 and then see how many times each category is selected"
   ]
  },
  {
   "cell_type": "code",
   "execution_count": 21,
   "metadata": {},
   "outputs": [],
   "source": [
    "selection = ['M', 'F', 'U']\n",
    "gender = tools.get_category(selection, weight_pattern=[5,4,1], size=100)"
   ]
  },
  {
   "cell_type": "code",
   "execution_count": 54,
   "metadata": {},
   "outputs": [
    {
     "name": "stdout",
     "output_type": "stream",
     "text": [
      "[55, 37, 8]\n"
     ]
    },
    {
     "data": {
      "image/png": "[encoded data removed]",
      "text/plain": [
       "<Figure size 576x216 with 1 Axes>"
      ]
     },
     "metadata": {
      "needs_background": "light"
     },
     "output_type": "display_data"
    }
   ],
   "source": [
    "dist = [0]*3\n",
    "for g in gender:\n",
    "    dist[selection.index(g)] += 1\n",
    "print(dist)\n",
    "fig = plt.figure(figsize=(8,3))\n",
    "sns.set(style=\"whitegrid\")\n",
    "g = sns.barplot(selection, dist)"
   ]
  },
  {
   "cell_type": "markdown",
   "metadata": {},
   "source": [
    "It can also be used to create more complex distribution. In this example we want an age distribution that has peaks around 35-40 and 55-60 with a significant tail off after 60 but don't want a probability for every age."
   ]
  },
  {
   "cell_type": "code",
   "execution_count": 55,
   "metadata": {},
   "outputs": [],
   "source": [
    "# break the pattern into every 5 years\n",
    "pattern = [3,5,6,10,6,5,7,15,5,2,1,0.5,0.2,0.1]\n",
    "age = tools.get_number(20, 90, weight_pattern=pattern, size=1000)"
   ]
  },
  {
   "cell_type": "code",
   "execution_count": 56,
   "metadata": {},
   "outputs": [
    {
     "data": {
      "image/png": "[encoded data removed]",
      "text/plain": [
       "<Figure size 720x288 with 1 Axes>"
      ]
     },
     "metadata": {},
     "output_type": "display_data"
    }
   ],
   "source": [
    "fig = plt.figure(figsize=(10,4))\n",
    "sns.set(style=\"darkgrid\", palette=\"muted\", color_codes=True)\n",
    "_ = sns.distplot(age, bins=20, kde_kws={\"shade\": True}, color=\"b\")"
   ]
  },
  {
   "cell_type": "markdown",
   "metadata": {},
   "source": [
    "### Complex Weighting patterns\n",
    "Weighting patterns acn be multi dimensial representing controlling distribution over time.\n",
    "\n",
    "In this example we don't want there to be any values below 50 in the first half then only values below 50 in the second"
   ]
  },
  {
   "cell_type": "markdown",
   "metadata": {},
   "source": [
    "we can even build more complex numbering where we always get numbers around the middle but first 3rd and last 3rd additionally high and low numbersrespectively"
   ]
  },
  {
   "cell_type": "markdown",
   "metadata": {},
   "source": [
    "#### weighting over time"
   ]
  },
  {
   "cell_type": "code",
   "execution_count": 61,
   "metadata": {},
   "outputs": [],
   "source": [
    "from ds_discovery.transition.discovery import Visualisation as visual"
   ]
  },
  {
   "cell_type": "markdown",
   "metadata": {},
   "source": [
    "## Dates\n",
    "Dates are an important part of most datasets and need flexibility in all theri mutidimentional elements"
   ]
  },
  {
   "cell_type": "code",
   "execution_count": 64,
   "metadata": {},
   "outputs": [
    {
     "name": "stdout",
     "output_type": "stream",
     "text": [
      "15/20 dates and 20/20 unique date sequence\n"
     ]
    }
   ],
   "source": [
    "# creating a set of randome dates and a set of unique dates\n",
    "df = pd.DataFrame()\n",
    "df['dates'] =  tools.get_datetime('01/01/2017', '31/01/2017', size=20, date_format='%d-%m-%Y')\n",
    "df['seq'] = tools.unique_date_seq('01/01/2017', '31/01/2017', size=20, date_format='%d-%m-%Y')\n",
    "print(\"{}/20 dates and {}/20 unique date sequence\".format(df.dates.nunique(), df.seq.nunique()))\n"
   ]
  },
  {
   "cell_type": "markdown",
   "metadata": {},
   "source": [
    "### Date patterns\n",
    "Get Data has a number of different weighting patterns that can be applied\n",
    "- accross the daterange\n",
    "- by year\n",
    "- by month\n",
    "- by weekday\n",
    "- by hour\n",
    "- by minutes\n",
    "\n",
    "Or by a combination of any of them."
   ]
  },
  {
   "cell_type": "code",
   "execution_count": 66,
   "metadata": {},
   "outputs": [],
   "source": [
    "from ds_discovery.intent.pandas_cleaners import PandasCleaners as cleaner"
   ]
  },
  {
   "cell_type": "code",
   "execution_count": 67,
   "metadata": {},
   "outputs": [],
   "source": [
    "# Create a month pattern that has no data in every other month\n",
    "pattern = [1,0]*6\n",
    "selection = ['Rigs', 'Office']\n",
    "\n",
    "df_rota = pd.DataFrame()\n",
    "df_rota['rota'] = tools.get_category(selection, size=300)\n",
    "df_rota['dates'] =  tools.get_datetime('01/01/2017', '01/01/2018', size=300, month_pattern=pattern)\n",
    "\n",
    "df_rota = cleaner.to_date_type(df_rota, headers='dates')\n",
    "df_rota = cleaner.to_category_type(df_rota, headers='rota')"
   ]
  },
  {
   "cell_type": "code",
   "execution_count": 68,
   "metadata": {},
   "outputs": [
    {
     "data": {
      "image/png": "[encoded data removed]",
      "text/plain": [
       "<Figure size 1080x288 with 2 Axes>"
      ]
     },
     "metadata": {},
     "output_type": "display_data"
    },
    {
     "data": {
      "text/plain": [
       "<Figure size 432x288 with 0 Axes>"
      ]
     },
     "metadata": {},
     "output_type": "display_data"
    }
   ],
   "source": [
    "visual.show_cat_time_index(df_rota, 'dates', 'rota')"
   ]
  },
  {
   "cell_type": "markdown",
   "metadata": {},
   "source": [
    "Quite often dates need to have specific pattern to represent real working times, in this example we only want dates that occur in the working week."
   ]
  },
  {
   "cell_type": "code",
   "execution_count": 69,
   "metadata": {},
   "outputs": [],
   "source": [
    "# create dates that are only during the working week\n",
    "pattern = [1,1,1,1,1,0,0]\n",
    "selection = ['Management', 'Staff']\n",
    "\n",
    "df_seating = pd.DataFrame()\n",
    "df_seating['position'] = tools.get_category(selection, weight_pattern=[7,3], size=100)\n",
    "df_seating['dates'] =  tools.get_datetime('14/01/2019', '22/01/2019', size=100, weekday_pattern=pattern)\n",
    "\n",
    "df_seating = cleaner.to_date_type(df_seating, headers='dates')\n",
    "df_seating = cleaner.to_category_type(df_seating, headers='position')"
   ]
  },
  {
   "cell_type": "code",
   "execution_count": 70,
   "metadata": {},
   "outputs": [
    {
     "data": {
      "image/png": "[encoded data removed]",
      "text/plain": [
       "<Figure size 1080x288 with 2 Axes>"
      ]
     },
     "metadata": {},
     "output_type": "display_data"
    },
    {
     "data": {
      "text/plain": [
       "<Figure size 432x288 with 0 Axes>"
      ]
     },
     "metadata": {},
     "output_type": "display_data"
    }
   ],
   "source": [
    "visual.show_cat_time_index(df_seating, 'dates', 'position')"
   ]
  },
  {
   "cell_type": "code",
   "execution_count": 71,
   "metadata": {},
   "outputs": [
    {
     "name": "stdout",
     "output_type": "stream",
     "text": [
      "Help on function get_datetime in module ds_behavioral.generator.data_builder_tools:\n",
      "\n",
      "get_datetime(start: Any, until: Any, default: Any = None, ordered: bool = None, date_pattern: list = None, year_pattern: list = None, month_pattern: list = None, weekday_pattern: list = None, hour_pattern: list = None, minute_pattern: list = None, quantity: float = None, date_format: str = None, size: int = None, seed: int = None, day_first: bool = True, year_first: bool = False)\n",
      "    returns a random date between two date and times. weighted patterns can be applied to the overall date\n",
      "    range, the year, month, day-of-week, hours and minutes to create a fully customised random set of dates.\n",
      "    Note: If no patterns are set this will return a linearly random number between the range boundaries.\n",
      "          Also if no patterns are set and a default date is given, that default date will be returnd each time\n",
      "    \n",
      "    :param start: the start boundary of the date range can be str, datetime, pd.datetime, pd.Timestamp\n",
      "    :param until: then up until boundary of the date range can be str, datetime, pd.datetime, pd.Timestamp\n",
      "    :param default: (optional) a fixed starting date that patterns are applied too.\n",
      "    :param ordered: (optional) if the return list should be date ordered\n",
      "    :param date_pattern: (optional) A pattern across the whole date range.\n",
      "            If set, is the primary pattern with each subsequent pattern overriding this result\n",
      "            If no other pattern is set, this will return a random date based on this pattern\n",
      "    :param year_pattern: (optional) adjusts the year selection to this pattern\n",
      "    :param month_pattern: (optional) adjusts the month selection to this pattern. Must be of length 12\n",
      "    :param weekday_pattern: (optional) adjusts the weekday selection to this pattern. Must be of length 7\n",
      "    :param hour_pattern: (optional) adjusts the hours selection to this pattern. must be of length 24\n",
      "    :param minute_pattern: (optional) adjusts the minutes selection to this pattern\n",
      "    :param quantity: the quantity of values that are not null. Number between 0 and 1\n",
      "    :param date_format: the string format of the date to be returned. if not set then pd.Timestamp returned\n",
      "    :param size: the size of the sample to return. Default to 1\n",
      "    :param seed: a seed value for the random function: default to None\n",
      "    :param year_first: specifies if to parse with the year first\n",
      "            If True parses dates with the year first, eg 10/11/12 is parsed as 2010-11-12.\n",
      "            If both dayfirst and yearfirst are True, yearfirst is preceded (same as dateutil).\n",
      "    :param day_first: specifies if to parse with the day first\n",
      "            If True, parses dates with the day first, eg %d-%m-%Y.\n",
      "            If False default to the a prefered preference, normally %m-%d-%Y (but not strict)\n",
      "    :return: a date or size of dates in the format given.\n",
      "\n"
     ]
    }
   ],
   "source": [
    "\n",
    "help(tools.get_datetime)"
   ]
  },
  {
   "cell_type": "code",
   "execution_count": null,
   "metadata": {},
   "outputs": [],
   "source": []
  }
 ],
 "metadata": {
  "kernelspec": {
   "display_name": "Python 3",
   "language": "python",
   "name": "python3"
  },
  "language_info": {
   "codemirror_mode": {
    "name": "ipython",
    "version": 3
   },
   "file_extension": ".py",
   "mimetype": "text/x-python",
   "name": "python",
   "nbconvert_exporter": "python",
   "pygments_lexer": "ipython3",
   "version": "3.6.8"
  }
 },
 "nbformat": 4,
 "nbformat_minor": 2
}
