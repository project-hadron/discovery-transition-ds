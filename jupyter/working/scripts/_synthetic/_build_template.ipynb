{
 "cells": [
  {
   "cell_type": "code",
   "execution_count": 55,
   "metadata": {},
   "outputs": [],
   "source": [
    "%run ../base_setup.ipynb"
   ]
  },
  {
   "cell_type": "markdown",
   "metadata": {},
   "source": [
    "Building a file\n",
    "===============\n",
    "Creating the BuildFile instance\n",
    "-------------------------\n",
    "\n",
    "To do this we create the FileBuilder instance from where we can explore the tools we have available. When you instanciate the FileBuilder you pass it a name that uniquely references this file build. In this case we use 'Example'"
   ]
  },
  {
   "cell_type": "code",
   "execution_count": 34,
   "metadata": {},
   "outputs": [],
   "source": [
    "fb_name = 'Example'\n",
    "fb = DataBuilder(fb_name)"
   ]
  },
  {
   "cell_type": "markdown",
   "metadata": {},
   "source": [
    "Exploring the tools available\n",
    "-----------------------------\n",
    "\n",
    "\n",
    "Using the `tools_dir()` method we can list off the available tools that we can use in our file builder.\n",
    "\n",
    "We can then use the Python `help()` method to get back the contextual help for that method"
   ]
  },
  {
   "cell_type": "code",
   "execution_count": 50,
   "metadata": {},
   "outputs": [
    {
     "data": {
      "text/plain": [
       "['get_category',\n",
       " 'get_custom',\n",
       " 'get_datetime',\n",
       " 'get_distribution',\n",
       " 'get_identifier',\n",
       " 'get_multivariate',\n",
       " 'get_number',\n",
       " 'get_postcode',\n",
       " 'unique_number',\n",
       " 'unique_str']"
      ]
     },
     "execution_count": 50,
     "metadata": {},
     "output_type": "execute_result"
    }
   ],
   "source": [
    "fb.tool_dir"
   ]
  },
  {
   "cell_type": "code",
   "execution_count": 15,
   "metadata": {},
   "outputs": [
    {
     "name": "stdout",
     "output_type": "stream",
     "text": [
      "Help on function get_category in module ds_discovery.handlers.builder:\n",
      "\n",
      "get_category(selection:list, weight:list=None, probability:list=None, quantity:float=None, size:int=None, replace:bool=None, seed:int=None)\n",
      "    returns a category from a list. Unlike the other methods this can also return a 'n' size list of\n",
      "    values. this is particularly useful if you want to use the replace=False option\n",
      "    \n",
      "    :param quantity: a number between 0 and 1 preresenting the percentage quality of the data\n",
      "    :param selection: a list of items to select from\n",
      "    :param weight: a weighting pattern that does not have to add to 1 (can't be using with size)\n",
      "    :param probability: a probability pattern adding to 1.0\n",
      "    :param size: an optional size of the return. default to 1\n",
      "    :param replace: if to replace, default to True (only works in conjunction with size)\n",
      "    :param seed: a seed value for the random function: default to None\n",
      "    :return: an item or list of items chosen from the list\n",
      "\n"
     ]
    }
   ],
   "source": [
    "help(fb.tools.get_category)"
   ]
  },
  {
   "cell_type": "markdown",
   "metadata": {},
   "source": [
    "Configuring the build columns\n",
    "-----------------------------\n",
    "\n",
    "Building the file is very simple with two available build methods `add_column()` and `associate_column()`. With each method you build up a method call based on the availabel method tools."
   ]
  },
  {
   "cell_type": "code",
   "execution_count": 24,
   "metadata": {},
   "outputs": [],
   "source": [
    "# clear out the previous configuration\n",
    "_ = fb.fbpm.remove(fb.fbpm.KEY.builder)\n",
    "fb.fbpm.save()"
   ]
  },
  {
   "cell_type": "markdown",
   "metadata": {},
   "source": [
    "(Optional) load any ids from another file"
   ]
  },
  {
   "cell_type": "code",
   "execution_count": null,
   "metadata": {},
   "outputs": [],
   "source": [
    "filename = os.path.join(os.environ['DSTU_DATA_PATH'],'0_raw', 'file.csv')\n",
    "df_ref = pd.read_csv(filename)\n",
    "ref_ids = df_ref['header_name'].tolist()"
   ]
  },
  {
   "cell_type": "markdown",
   "metadata": {},
   "source": [
    "Now build up the file by addinbg columns"
   ]
  },
  {
   "cell_type": "code",
   "execution_count": null,
   "metadata": {},
   "outputs": [],
   "source": [
    "fb.add_column('identifier', 'get_identifier', low=100000, high=999999, prefix=\"CU_\")\n",
    "fb.add_column('pattern', 'get_')\n",
    "fb.add_column('date_of_birth', 'get_datetime', start='01-01-1940', end='01-01-2000', weight_pattern=[1,1,8,2,3,5,9,3])\n",
    "fb.add_column('vulnerability', 'get_category', selection=[True,False], probability=[0.05,0.95], quantity=0.75)\n"
   ]
  },
  {
   "cell_type": "code",
   "execution_count": null,
   "metadata": {},
   "outputs": [],
   "source": [
    "fb.fbpm.save()"
   ]
  }
 ],
 "metadata": {
  "kernelspec": {
   "display_name": "Python 3",
   "language": "python",
   "name": "python3"
  },
  "language_info": {
   "codemirror_mode": {
    "name": "ipython",
    "version": 3
   },
   "file_extension": ".py",
   "mimetype": "text/x-python",
   "name": "python",
   "nbconvert_exporter": "python",
   "pygments_lexer": "ipython3",
   "version": "3.6.8"
  }
 },
 "nbformat": 4,
 "nbformat_minor": 2
}
