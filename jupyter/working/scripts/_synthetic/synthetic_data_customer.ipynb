{
 "cells": [
  {
   "cell_type": "code",
   "execution_count": 1,
   "metadata": {},
   "outputs": [
    {
     "name": "stdout",
     "output_type": "stream",
     "text": [
      "Foundation: 1.02.015\n",
      "Transition: 2.03.026\n"
     ]
    }
   ],
   "source": [
    "%run ../base_setup.ipynb"
   ]
  },
  {
   "cell_type": "code",
   "execution_count": 2,
   "metadata": {},
   "outputs": [],
   "source": [
    "from ds_behavioral.sample.sample_data import ProfileSample"
   ]
  },
  {
   "cell_type": "code",
   "execution_count": 3,
   "metadata": {},
   "outputs": [],
   "source": [
    "builder = DataBuilder('synthetic_data_customer')\n",
    "tools = builder.tools"
   ]
  },
  {
   "cell_type": "markdown",
   "metadata": {},
   "source": [
    "### Build the Core Attributes"
   ]
  },
  {
   "cell_type": "code",
   "execution_count": 4,
   "metadata": {},
   "outputs": [],
   "source": [
    "sample_size = 1000\n",
    "\n",
    "df = tools.get_profiles(size=sample_size, mf_weighting=[5,3])\n",
    "df['id'] = tools.unique_identifiers(from_value=1000000, to_value=9999999, prefix='CU_', size=sample_size)\n",
    "\n",
    "value_distribution = [0.01,0.8,1,3,9,8,3,2,1] + list(np.flip(np.exp(np.arange(-5,0.0, 0.2)).round(2)))\n",
    "df['balance'] = tools.get_number(0.0, 1000, precision=2, weight_pattern=value_distribution, size=sample_size)\n",
    "\n",
    "age_pattern = [3,5,6,10,6,5,7,15,5,2,1,0.5,0.2,0.1]\n",
    "df['age'] = tools.get_number(20.0, 90.0, weight_pattern=age_pattern, quantity=0.85, size=sample_size)\n",
    "\n",
    "df['start'] = tools.get_datetime(start='01/01/2018', until='31/12/2018', date_format='%m-%d-%y', size=sample_size)\n",
    "\n",
    "prof_pattern = [10,8,5,4,3,2] + [1]*9\n",
    "profession = ProfileSample.professions(size=15)\n",
    "df['profession'] = tools.get_category(selection=profession, weight_pattern=prof_pattern, quantity=0.90, size=sample_size)\n",
    "\n",
    "df['online'] = tools.get_category(selection=[1,0], weight_pattern=[1,4], size=sample_size)\n"
   ]
  },
  {
   "cell_type": "markdown",
   "metadata": {},
   "source": [
    "### Add in example 'Noise'"
   ]
  },
  {
   "cell_type": "code",
   "execution_count": 5,
   "metadata": {},
   "outputs": [],
   "source": [
    "df['single num'] = tools.get_number(1, 1, quantity=0.8, size=sample_size, seed=31)\n",
    "df['weight_num'] = tools.get_number(1, 2, weight_pattern=[90, 1], size=sample_size, seed=31)\n",
    "df['null'] = tools.get_number(1, 100, quantity=0, size=sample_size, seed=31)\n",
    "df['single cat'] = tools.get_category(['A'], quantity=0.6, size=sample_size, seed=31)\n",
    "df['weight_cat'] = tools.get_category(['A', 'B', 'C'], weight_pattern=[80, 1, 1], size=sample_size, seed=31)\n"
   ]
  },
  {
   "cell_type": "markdown",
   "metadata": {},
   "source": [
    "#### (optionally) Additional Extra Columns"
   ]
  },
  {
   "cell_type": "code",
   "execution_count": 6,
   "metadata": {},
   "outputs": [],
   "source": [
    "if 'add_extra' in locals() and add_extra:\n",
    "    df['last_login'] = tools.get_datetime(start='01/01/2019', until='01/05/2019', date_pattern=[1,2,3,5,9,20], date_format='%m-%d-%y %H:%M', size=sample_size)\n",
    "    df['status'] = tools.get_category(selection=['Active', 'Closed', 'Suspended'], weight_pattern=[50,5,2], size=sample_size)"
   ]
  },
  {
   "cell_type": "markdown",
   "metadata": {},
   "source": [
    "#### (optionally) Add volume of noise columns"
   ]
  },
  {
   "cell_type": "code",
   "execution_count": 7,
   "metadata": {},
   "outputs": [],
   "source": [
    "if 'add_noise' in locals() and add_noise:\n",
    "    for i in range(40):\n",
    "        quantity = tools.get_number(0.005, 0.03, weight_pattern=[5,2,1,0.5])[0]\n",
    "        col = \"noise_{}\".format(i)\n",
    "        df[col] = tools.get_number(0, 1, weight_pattern=[20,1], quantity=quantity, size=sample_size)"
   ]
  },
  {
   "cell_type": "markdown",
   "metadata": {},
   "source": [
    "### Save and Validate"
   ]
  },
  {
   "cell_type": "code",
   "execution_count": 11,
   "metadata": {},
   "outputs": [
    {
     "data": {
      "text/html": [
       "<div>\n",
       "<style scoped>\n",
       "    .dataframe tbody tr th:only-of-type {\n",
       "        vertical-align: middle;\n",
       "    }\n",
       "\n",
       "    .dataframe tbody tr th {\n",
       "        vertical-align: top;\n",
       "    }\n",
       "\n",
       "    .dataframe thead th {\n",
       "        text-align: right;\n",
       "    }\n",
       "</style>\n",
       "<table border=\"1\" class=\"dataframe\">\n",
       "  <thead>\n",
       "    <tr style=\"text-align: right;\">\n",
       "      <th></th>\n",
       "      <th>Attribute</th>\n",
       "      <th>dType</th>\n",
       "      <th>%_Null</th>\n",
       "      <th>%_Dom</th>\n",
       "      <th>Count</th>\n",
       "      <th>Unique</th>\n",
       "      <th>Observations</th>\n",
       "    </tr>\n",
       "  </thead>\n",
       "  <tbody>\n",
       "    <tr>\n",
       "      <th>0</th>\n",
       "      <td>age</td>\n",
       "      <td>float64</td>\n",
       "      <td>0.15</td>\n",
       "      <td>0.002</td>\n",
       "      <td>850</td>\n",
       "      <td>844</td>\n",
       "      <td>max=80.778 | min=20.035 | mean=47.36</td>\n",
       "    </tr>\n",
       "    <tr>\n",
       "      <th>1</th>\n",
       "      <td>balance</td>\n",
       "      <td>float64</td>\n",
       "      <td>0.00</td>\n",
       "      <td>0.002</td>\n",
       "      <td>1000</td>\n",
       "      <td>978</td>\n",
       "      <td>max=949.37 | min=30.46 | mean=183.87</td>\n",
       "    </tr>\n",
       "    <tr>\n",
       "      <th>2</th>\n",
       "      <td>forename</td>\n",
       "      <td>object</td>\n",
       "      <td>0.00</td>\n",
       "      <td>0.002</td>\n",
       "      <td>1000</td>\n",
       "      <td>994</td>\n",
       "      <td>Sample: Carlton | Lucinda  | Felton</td>\n",
       "    </tr>\n",
       "    <tr>\n",
       "      <th>3</th>\n",
       "      <td>gender</td>\n",
       "      <td>category</td>\n",
       "      <td>0.00</td>\n",
       "      <td>0.606</td>\n",
       "      <td>1000</td>\n",
       "      <td>2</td>\n",
       "      <td>F|M</td>\n",
       "    </tr>\n",
       "    <tr>\n",
       "      <th>4</th>\n",
       "      <td>id</td>\n",
       "      <td>object</td>\n",
       "      <td>0.00</td>\n",
       "      <td>0.001</td>\n",
       "      <td>1000</td>\n",
       "      <td>1000</td>\n",
       "      <td>Sample: CU_8273488 | CU_5605291 | CU_6365281</td>\n",
       "    </tr>\n",
       "    <tr>\n",
       "      <th>5</th>\n",
       "      <td>null</td>\n",
       "      <td>object</td>\n",
       "      <td>1.00</td>\n",
       "      <td>0.000</td>\n",
       "      <td>0</td>\n",
       "      <td>0</td>\n",
       "      <td>Sample: Null Values</td>\n",
       "    </tr>\n",
       "    <tr>\n",
       "      <th>6</th>\n",
       "      <td>online</td>\n",
       "      <td>int64</td>\n",
       "      <td>0.00</td>\n",
       "      <td>0.798</td>\n",
       "      <td>1000</td>\n",
       "      <td>2</td>\n",
       "      <td>max=1 | min=0 | mean=0.2</td>\n",
       "    </tr>\n",
       "    <tr>\n",
       "      <th>7</th>\n",
       "      <td>profession</td>\n",
       "      <td>object</td>\n",
       "      <td>0.10</td>\n",
       "      <td>0.262</td>\n",
       "      <td>1000</td>\n",
       "      <td>16</td>\n",
       "      <td>Sample: Account Coordinator | Web Developer II | Cost Accountant</td>\n",
       "    </tr>\n",
       "    <tr>\n",
       "      <th>8</th>\n",
       "      <td>single cat</td>\n",
       "      <td>object</td>\n",
       "      <td>0.40</td>\n",
       "      <td>1.000</td>\n",
       "      <td>1000</td>\n",
       "      <td>2</td>\n",
       "      <td>Sample:  | A</td>\n",
       "    </tr>\n",
       "    <tr>\n",
       "      <th>9</th>\n",
       "      <td>single num</td>\n",
       "      <td>float64</td>\n",
       "      <td>0.20</td>\n",
       "      <td>1.000</td>\n",
       "      <td>800</td>\n",
       "      <td>1</td>\n",
       "      <td>max=1.0 | min=1.0 | mean=1.0</td>\n",
       "    </tr>\n",
       "    <tr>\n",
       "      <th>10</th>\n",
       "      <td>start</td>\n",
       "      <td>object</td>\n",
       "      <td>0.00</td>\n",
       "      <td>0.008</td>\n",
       "      <td>1000</td>\n",
       "      <td>341</td>\n",
       "      <td>Sample: 02-04-18 | 03-04-18 | 10-14-18</td>\n",
       "    </tr>\n",
       "    <tr>\n",
       "      <th>11</th>\n",
       "      <td>surname</td>\n",
       "      <td>object</td>\n",
       "      <td>0.00</td>\n",
       "      <td>0.001</td>\n",
       "      <td>1000</td>\n",
       "      <td>1000</td>\n",
       "      <td>Sample: Jolicoeur | Muir | Greenway</td>\n",
       "    </tr>\n",
       "    <tr>\n",
       "      <th>12</th>\n",
       "      <td>weight_cat</td>\n",
       "      <td>object</td>\n",
       "      <td>0.00</td>\n",
       "      <td>0.981</td>\n",
       "      <td>1000</td>\n",
       "      <td>3</td>\n",
       "      <td>Sample: A | B | C</td>\n",
       "    </tr>\n",
       "    <tr>\n",
       "      <th>13</th>\n",
       "      <td>weight_num</td>\n",
       "      <td>int64</td>\n",
       "      <td>0.00</td>\n",
       "      <td>0.989</td>\n",
       "      <td>1000</td>\n",
       "      <td>2</td>\n",
       "      <td>max=2 | min=1 | mean=1.01</td>\n",
       "    </tr>\n",
       "  </tbody>\n",
       "</table>\n",
       "</div>"
      ],
      "text/plain": [
       "     Attribute     dType  %_Null  %_Dom  Count  Unique  \\\n",
       "0          age   float64    0.15  0.002    850     844   \n",
       "1      balance   float64    0.00  0.002   1000     978   \n",
       "2     forename    object    0.00  0.002   1000     994   \n",
       "3       gender  category    0.00  0.606   1000       2   \n",
       "4           id    object    0.00  0.001   1000    1000   \n",
       "5         null    object    1.00  0.000      0       0   \n",
       "6       online     int64    0.00  0.798   1000       2   \n",
       "7   profession    object    0.10  0.262   1000      16   \n",
       "8   single cat    object    0.40  1.000   1000       2   \n",
       "9   single num   float64    0.20  1.000    800       1   \n",
       "10       start    object    0.00  0.008   1000     341   \n",
       "11     surname    object    0.00  0.001   1000    1000   \n",
       "12  weight_cat    object    0.00  0.981   1000       3   \n",
       "13  weight_num     int64    0.00  0.989   1000       2   \n",
       "\n",
       "                                                        Observations  \n",
       "0                               max=80.778 | min=20.035 | mean=47.36  \n",
       "1                               max=949.37 | min=30.46 | mean=183.87  \n",
       "2                                Sample: Carlton | Lucinda  | Felton  \n",
       "3                                                                F|M  \n",
       "4                       Sample: CU_8273488 | CU_5605291 | CU_6365281  \n",
       "5                                                Sample: Null Values  \n",
       "6                                           max=1 | min=0 | mean=0.2  \n",
       "7   Sample: Account Coordinator | Web Developer II | Cost Accountant  \n",
       "8                                                       Sample:  | A  \n",
       "9                                       max=1.0 | min=1.0 | mean=1.0  \n",
       "10                            Sample: 02-04-18 | 03-04-18 | 10-14-18  \n",
       "11                               Sample: Jolicoeur | Muir | Greenway  \n",
       "12                                                 Sample: A | B | C  \n",
       "13                                         max=2 | min=1 | mean=1.01  "
      ]
     },
     "execution_count": 11,
     "metadata": {},
     "output_type": "execute_result"
    }
   ],
   "source": [
    "filename = os.path.join(os.environ['DTU_ORIGIN_PATH'],'synthetic_customer.csv')\n",
    "builder.save_to_disk(df, filename=filename)\n",
    "discover.data_dictionary(df)"
   ]
  },
  {
   "cell_type": "code",
   "execution_count": null,
   "metadata": {},
   "outputs": [],
   "source": []
  }
 ],
 "metadata": {
  "kernelspec": {
   "display_name": "Python 3",
   "language": "python",
   "name": "python3"
  },
  "language_info": {
   "codemirror_mode": {
    "name": "ipython",
    "version": 3
   },
   "file_extension": ".py",
   "mimetype": "text/x-python",
   "name": "python",
   "nbconvert_exporter": "python",
   "pygments_lexer": "ipython3",
   "version": "3.6.8"
  }
 },
 "nbformat": 4,
 "nbformat_minor": 2
}
