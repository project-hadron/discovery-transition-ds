{
 "cells": [
  {
   "cell_type": "code",
   "execution_count": 1,
   "metadata": {},
   "outputs": [
    {
     "name": "stdout",
     "output_type": "stream",
     "text": [
      "DTU: 2.05.030\n"
     ]
    }
   ],
   "source": [
    "# saves you having to use print as all exposed variables are printed in the cell\n",
    "from IPython.core.interactiveshell import InteractiveShell\n",
    "InteractiveShell.ast_node_interactivity = \"all\"\n",
    "\n",
    "# core libraries\n",
    "import pandas as pd\n",
    "import os\n",
    "from pathlib import Path\n",
    "\n",
    "%reload_ext autoreload\n",
    "%autoreload 2\n",
    "\n",
    "\n",
    "# for cleaning and discovery\n",
    "from ds_discovery.transition.transitioning import Transition\n",
    "from ds_foundation.handlers.abstract_handlers import ConnectorContract\n",
    "\n",
    "# Set the environment Contract Path to use with the from_env() init factory method\n",
    "os.environ['AISTAC_PM_PATH'] = Path(os.environ['PWD'], 'contracts').as_posix()\n",
    "\n",
    "# These are not required but are used as reference when setting up the connectors\n",
    "os.environ['TR_SOURCE_PATH'] = Path(os.environ['PWD'], 'data', '0_raw').as_posix()\n",
    "os.environ['TR_PERSIST_PATH'] = Path(os.environ['PWD'], 'data', '2_transition').as_posix()\n",
    "\n",
    "import ds_discovery\n",
    "print('DTU: {}'.format(ds_discovery.__version__))"
   ]
  },
  {
   "cell_type": "markdown",
   "metadata": {},
   "source": [
    "# Accelerated Machine learning\n",
    "## Transitioning: Data Sourcing\n",
    "As part of the Accelerated ML Discovery Vertical, Transitioning is a foundation base truth, facilitating a **transparent** transition<br>\n",
    "of the raw canonical dataset, to a **fit-for-purpose** canonical dataset, to enable the optimisation of discovery analysis and the identification of **features-of-interest**.\n",
    "The meaning of cononical is to convert formats into common data language, not just bringing over the dataset but bringing the construct of that dataset ie: type, format, structure, and functionally, in our case because we are Python centric we use Pandas Data Frames as our canonical.\n",
    "\n",
    "With reference to the diagram, this notebook deals with the Sourcing Contract and the raw canonical dataset as a prerequisite of the Sourcing Contract:\n",
    "1. Sourcing Notebooks\n",
    "2. Sourcing Contract\n",
    "3. Source Connectivity and the Raw Canonical\n",
    "\n",
    "![transition](../98_images/AccML-Transition.png)\n"
   ]
  },
  {
   "cell_type": "markdown",
   "metadata": {},
   "source": [
    "## Creating a Transitioning Contract Pipeline\n",
    "* Creating an instance of the Transitioning Class, passing a unique reference name. when wishing to reference this in other Juptyer Notebooks.\n",
    "* The reference name identifies the unique transitioning contract pipeline."
   ]
  },
  {
   "cell_type": "code",
   "execution_count": 2,
   "metadata": {},
   "outputs": [],
   "source": [
    "tr = Transition.from_env('synthetic_customer')"
   ]
  },
  {
   "cell_type": "markdown",
   "metadata": {},
   "source": [
    "### Reset the Source Contract\n",
    "Reset the source contract so we start afresh. \n",
    "\n",
    "**Note:** when we print the source report we do not reset the property soruce. (Set up in the factory from_env())"
   ]
  },
  {
   "cell_type": "code",
   "execution_count": 3,
   "metadata": {},
   "outputs": [],
   "source": [
    "# reset the transition contract\n",
    "tr.pm_reset()"
   ]
  },
  {
   "cell_type": "markdown",
   "metadata": {},
   "source": [
    "### Build the Source Contract\n",
    "Source Contract is a set of attributes that define the resource, its type and its location for retrieval and convertion to the raw canonical for transitioning. The Source Contract additionally defines the module and handler that is dynamically loaded at runtime.\n",
    "\n",
    "By default the source contract requires\n",
    "* resource: a local file, connector, URI or URL\n",
    "* source_type a reference to the type of resource. if None then extension of resource assumed\n",
    "* location: a path, region or uri reference that can be used to identify location of resource\n",
    "* module_name: a module name with full package path e.g 'ds_discovery.handlers.pandas_handlers\n",
    "* handler: the name os the handler class\n",
    "* kwargs: additional arguments the handler might require\n",
    "\n",
    "In this example, we are using our environment variables and default handlers to define our source contract.\n"
   ]
  },
  {
   "cell_type": "code",
   "execution_count": 4,
   "metadata": {},
   "outputs": [],
   "source": [
    "sc = ConnectorContract(uri=os.path.join(os.environ['TR_SOURCE_PATH'], 'synthetic_customer.csv'), \n",
    "                       module_name=tr.PYTHON_MODULE_NAME, handler=tr.PYTHON_HANDLER, sep=',', encoding='latin1')\n",
    "tr.set_source_contract(connector_contract=sc)"
   ]
  },
  {
   "cell_type": "markdown",
   "metadata": {},
   "source": [
    "### Defining the Persist Connectivity\n",
    "Once we have defined the read only source contract, we need to also define where we are goingot read and write data to and from, our persisted 'cleaned' data.\n",
    "\n",
    "When defining the resource we follow naming convention and call a method that defines the clean persist name\n",
    "\n",
    "**Note:** You only set up the source and the persist handlers once and they are then saved off to the transition contract"
   ]
  },
  {
   "cell_type": "code",
   "execution_count": 5,
   "metadata": {},
   "outputs": [],
   "source": [
    "pc = ConnectorContract(uri=os.path.join(os.environ['TR_PERSIST_PATH'], tr.file_pattern()), module_name=tr.PYTHON_MODULE_NAME, \n",
    "                       handler=tr.PYTHON_HANDLER)\n",
    "tr.set_persist_contract(connector_contract=pc)\n"
   ]
  },
  {
   "cell_type": "markdown",
   "metadata": {},
   "source": [
    "## Source Separation of Concerns\n",
    "The source details have now been recoreded in the contract pipeline \n",
    "\n",
    "This Source separation of concerns means:\n",
    "* New Notebooks are no longer tied to the name or location of the data source\n",
    "* File governance and naming convention is managed automatically\n",
    "* Connectivity can be updated or reallocated independantly of the data science activities\n",
    "* Data location and infrastructure, through the delivery lifecycle, can be hardened without effecting the Machine Learning discovery process\n"
   ]
  },
  {
   "cell_type": "code",
   "execution_count": 6,
   "metadata": {},
   "outputs": [
    {
     "data": {
      "text/html": [
       "<style  type=\"text/css\" >\n",
       "    #T_a51f24f2_3d41_11ea_937f_784f439cb1c6 th {\n",
       "          font-size: 120%;\n",
       "          text-align: center;\n",
       "    }    #T_a51f24f2_3d41_11ea_937f_784f439cb1c6 .row_heading, .blank {\n",
       "          display: none;;\n",
       "    }    #T_a51f24f2_3d41_11ea_937f_784f439cb1c6row0_col0 {\n",
       "            text-align:  left;\n",
       "            font-weight:  bold;\n",
       "        }    #T_a51f24f2_3d41_11ea_937f_784f439cb1c6row0_col1 {\n",
       "            text-align:  left;\n",
       "        }    #T_a51f24f2_3d41_11ea_937f_784f439cb1c6row0_col2 {\n",
       "            text-align:  left;\n",
       "        }    #T_a51f24f2_3d41_11ea_937f_784f439cb1c6row0_col3 {\n",
       "            text-align:  left;\n",
       "        }    #T_a51f24f2_3d41_11ea_937f_784f439cb1c6row0_col4 {\n",
       "            text-align:  left;\n",
       "        }    #T_a51f24f2_3d41_11ea_937f_784f439cb1c6row0_col5 {\n",
       "            text-align:  left;\n",
       "        }    #T_a51f24f2_3d41_11ea_937f_784f439cb1c6row1_col0 {\n",
       "            text-align:  left;\n",
       "            font-weight:  bold;\n",
       "        }    #T_a51f24f2_3d41_11ea_937f_784f439cb1c6row1_col1 {\n",
       "            text-align:  left;\n",
       "        }    #T_a51f24f2_3d41_11ea_937f_784f439cb1c6row1_col2 {\n",
       "            text-align:  left;\n",
       "        }    #T_a51f24f2_3d41_11ea_937f_784f439cb1c6row1_col3 {\n",
       "            text-align:  left;\n",
       "        }    #T_a51f24f2_3d41_11ea_937f_784f439cb1c6row1_col4 {\n",
       "            text-align:  left;\n",
       "        }    #T_a51f24f2_3d41_11ea_937f_784f439cb1c6row1_col5 {\n",
       "            text-align:  left;\n",
       "        }    #T_a51f24f2_3d41_11ea_937f_784f439cb1c6row2_col0 {\n",
       "            text-align:  left;\n",
       "            font-weight:  bold;\n",
       "        }    #T_a51f24f2_3d41_11ea_937f_784f439cb1c6row2_col1 {\n",
       "            text-align:  left;\n",
       "        }    #T_a51f24f2_3d41_11ea_937f_784f439cb1c6row2_col2 {\n",
       "            text-align:  left;\n",
       "        }    #T_a51f24f2_3d41_11ea_937f_784f439cb1c6row2_col3 {\n",
       "            text-align:  left;\n",
       "        }    #T_a51f24f2_3d41_11ea_937f_784f439cb1c6row2_col4 {\n",
       "            text-align:  left;\n",
       "        }    #T_a51f24f2_3d41_11ea_937f_784f439cb1c6row2_col5 {\n",
       "            text-align:  left;\n",
       "        }</style><table id=\"T_a51f24f2_3d41_11ea_937f_784f439cb1c6\" ><thead>    <tr>        <th class=\"blank level0\" ></th>        <th class=\"col_heading level0 col0\" >connector_name</th>        <th class=\"col_heading level0 col1\" >uri</th>        <th class=\"col_heading level0 col2\" >module_name</th>        <th class=\"col_heading level0 col3\" >handler</th>        <th class=\"col_heading level0 col4\" >kwargs</th>        <th class=\"col_heading level0 col5\" >query</th>    </tr></thead><tbody>\n",
       "                <tr>\n",
       "                        <th id=\"T_a51f24f2_3d41_11ea_937f_784f439cb1c6level0_row0\" class=\"row_heading level0 row0\" >0</th>\n",
       "                        <td id=\"T_a51f24f2_3d41_11ea_937f_784f439cb1c6row0_col0\" class=\"data row0 col0\" >pm_transition_synthetic_customer</td>\n",
       "                        <td id=\"T_a51f24f2_3d41_11ea_937f_784f439cb1c6row0_col1\" class=\"data row0 col1\" >/Users/doatridge/code/projects/prod/discovery-transition-ds/jupyter/working/contracts/aistac_pm_transition_synthetic_customer.yaml</td>\n",
       "                        <td id=\"T_a51f24f2_3d41_11ea_937f_784f439cb1c6row0_col2\" class=\"data row0 col2\" >ds_foundation.handlers.python_handlers</td>\n",
       "                        <td id=\"T_a51f24f2_3d41_11ea_937f_784f439cb1c6row0_col3\" class=\"data row0 col3\" >PythonPersistHandler</td>\n",
       "                        <td id=\"T_a51f24f2_3d41_11ea_937f_784f439cb1c6row0_col4\" class=\"data row0 col4\" ></td>\n",
       "                        <td id=\"T_a51f24f2_3d41_11ea_937f_784f439cb1c6row0_col5\" class=\"data row0 col5\" ></td>\n",
       "            </tr>\n",
       "            <tr>\n",
       "                        <th id=\"T_a51f24f2_3d41_11ea_937f_784f439cb1c6level0_row1\" class=\"row_heading level0 row1\" >1</th>\n",
       "                        <td id=\"T_a51f24f2_3d41_11ea_937f_784f439cb1c6row1_col0\" class=\"data row1 col0\" >read_only_connector</td>\n",
       "                        <td id=\"T_a51f24f2_3d41_11ea_937f_784f439cb1c6row1_col1\" class=\"data row1 col1\" >/Users/doatridge/code/projects/prod/discovery-transition-ds/jupyter/working/data/0_raw/synthetic_customer.csv</td>\n",
       "                        <td id=\"T_a51f24f2_3d41_11ea_937f_784f439cb1c6row1_col2\" class=\"data row1 col2\" >ds_foundation.handlers.python_handlers</td>\n",
       "                        <td id=\"T_a51f24f2_3d41_11ea_937f_784f439cb1c6row1_col3\" class=\"data row1 col3\" >PythonPersistHandler</td>\n",
       "                        <td id=\"T_a51f24f2_3d41_11ea_937f_784f439cb1c6row1_col4\" class=\"data row1 col4\" >sep=','  encoding='latin1'</td>\n",
       "                        <td id=\"T_a51f24f2_3d41_11ea_937f_784f439cb1c6row1_col5\" class=\"data row1 col5\" ></td>\n",
       "            </tr>\n",
       "            <tr>\n",
       "                        <th id=\"T_a51f24f2_3d41_11ea_937f_784f439cb1c6level0_row2\" class=\"row_heading level0 row2\" >2</th>\n",
       "                        <td id=\"T_a51f24f2_3d41_11ea_937f_784f439cb1c6row2_col0\" class=\"data row2 col0\" >persist_connector</td>\n",
       "                        <td id=\"T_a51f24f2_3d41_11ea_937f_784f439cb1c6row2_col1\" class=\"data row2 col1\" >/Users/doatridge/code/projects/prod/discovery-transition-ds/jupyter/working/data/2_transition/aistac_transition_synthetic_customer_v0.00.pickle</td>\n",
       "                        <td id=\"T_a51f24f2_3d41_11ea_937f_784f439cb1c6row2_col2\" class=\"data row2 col2\" >ds_foundation.handlers.python_handlers</td>\n",
       "                        <td id=\"T_a51f24f2_3d41_11ea_937f_784f439cb1c6row2_col3\" class=\"data row2 col3\" >PythonPersistHandler</td>\n",
       "                        <td id=\"T_a51f24f2_3d41_11ea_937f_784f439cb1c6row2_col4\" class=\"data row2 col4\" ></td>\n",
       "                        <td id=\"T_a51f24f2_3d41_11ea_937f_784f439cb1c6row2_col5\" class=\"data row2 col5\" ></td>\n",
       "            </tr>\n",
       "    </tbody></table>"
      ],
      "text/plain": [
       "<pandas.io.formats.style.Styler at 0x1a188bd950>"
      ]
     },
     "execution_count": 6,
     "metadata": {},
     "output_type": "execute_result"
    }
   ],
   "source": [
    "tr.report_connectors(stylise=True)"
   ]
  },
  {
   "cell_type": "markdown",
   "metadata": {},
   "source": [
    "### Loading the Canonical\n",
    "Now we have recored the file information, we no longer need to reference these details again<br>\n",
    "To load the contract data we use the transitioning method `load_source_canonical()`<br>\n",
    "and then we can use the canonical dictionary report to examine the data set.\n"
   ]
  },
  {
   "cell_type": "code",
   "execution_count": 8,
   "metadata": {},
   "outputs": [
    {
     "ename": "AttributeError",
     "evalue": "'dict' object has no attribute 'columns'",
     "output_type": "error",
     "traceback": [
      "\u001b[0;31m---------------------------------------------------------------------------\u001b[0m",
      "\u001b[0;31mAttributeError\u001b[0m                            Traceback (most recent call last)",
      "\u001b[0;32m<ipython-input-8-8bdc7c746f36>\u001b[0m in \u001b[0;36m<module>\u001b[0;34m\u001b[0m\n\u001b[1;32m      1\u001b[0m \u001b[0mdf\u001b[0m \u001b[0;34m=\u001b[0m \u001b[0mtr\u001b[0m\u001b[0;34m.\u001b[0m\u001b[0mload_source_canonical\u001b[0m\u001b[0;34m(\u001b[0m\u001b[0;34m)\u001b[0m\u001b[0;34m\u001b[0m\u001b[0;34m\u001b[0m\u001b[0m\n\u001b[0;32m----> 2\u001b[0;31m \u001b[0mtr\u001b[0m\u001b[0;34m.\u001b[0m\u001b[0mcanonical_report\u001b[0m\u001b[0;34m(\u001b[0m\u001b[0mdf\u001b[0m\u001b[0;34m)\u001b[0m\u001b[0;34m\u001b[0m\u001b[0;34m\u001b[0m\u001b[0m\n\u001b[0m",
      "\u001b[0;32m~/anaconda3/envs/aistac/lib/python3.7/site-packages/ds_discovery/transition/transitioning.py\u001b[0m in \u001b[0;36mcanonical_report\u001b[0;34m(self, df, stylise, inc_next_dom, report_header, condition)\u001b[0m\n\u001b[1;32m    208\u001b[0m         \"\"\"\n\u001b[1;32m    209\u001b[0m         return self.discover.data_dictionary(df=df, stylise=stylise, inc_next_dom=inc_next_dom,\n\u001b[0;32m--> 210\u001b[0;31m                                              report_header=report_header, condition=condition)\n\u001b[0m\u001b[1;32m    211\u001b[0m \u001b[0;34m\u001b[0m\u001b[0m\n\u001b[1;32m    212\u001b[0m     \u001b[0;34m@\u001b[0m\u001b[0mstaticmethod\u001b[0m\u001b[0;34m\u001b[0m\u001b[0;34m\u001b[0m\u001b[0m\n",
      "\u001b[0;32m~/anaconda3/envs/aistac/lib/python3.7/site-packages/ds_discovery/transition/discovery.py\u001b[0m in \u001b[0;36mdata_dictionary\u001b[0;34m(df, stylise, inc_next_dom, report_header, condition)\u001b[0m\n\u001b[1;32m    970\u001b[0m         \u001b[0mfile\u001b[0m \u001b[0;34m=\u001b[0m \u001b[0;34m[\u001b[0m\u001b[0;34m]\u001b[0m\u001b[0;34m\u001b[0m\u001b[0;34m\u001b[0m\u001b[0m\n\u001b[1;32m    971\u001b[0m         \u001b[0mlabels\u001b[0m \u001b[0;34m=\u001b[0m \u001b[0;34m[\u001b[0m\u001b[0;34m'Attribute'\u001b[0m\u001b[0;34m,\u001b[0m \u001b[0;34m'dType'\u001b[0m\u001b[0;34m,\u001b[0m \u001b[0;34m'%_Null'\u001b[0m\u001b[0;34m,\u001b[0m \u001b[0;34m'%_Dom'\u001b[0m\u001b[0;34m,\u001b[0m \u001b[0;34m'%_Nxt'\u001b[0m\u001b[0;34m,\u001b[0m \u001b[0;34m'Count'\u001b[0m\u001b[0;34m,\u001b[0m \u001b[0;34m'Unique'\u001b[0m\u001b[0;34m,\u001b[0m \u001b[0;34m'Observations'\u001b[0m\u001b[0;34m]\u001b[0m\u001b[0;34m\u001b[0m\u001b[0;34m\u001b[0m\u001b[0m\n\u001b[0;32m--> 972\u001b[0;31m         \u001b[0;32mfor\u001b[0m \u001b[0mc\u001b[0m \u001b[0;32min\u001b[0m \u001b[0mdf\u001b[0m\u001b[0;34m.\u001b[0m\u001b[0mcolumns\u001b[0m\u001b[0;34m.\u001b[0m\u001b[0msort_values\u001b[0m\u001b[0;34m(\u001b[0m\u001b[0;34m)\u001b[0m\u001b[0;34m.\u001b[0m\u001b[0mvalues\u001b[0m\u001b[0;34m:\u001b[0m\u001b[0;34m\u001b[0m\u001b[0;34m\u001b[0m\u001b[0m\n\u001b[0m\u001b[1;32m    973\u001b[0m             line = [c,\n\u001b[1;32m    974\u001b[0m                     \u001b[0mstr\u001b[0m\u001b[0;34m(\u001b[0m\u001b[0mdf\u001b[0m\u001b[0;34m[\u001b[0m\u001b[0mc\u001b[0m\u001b[0;34m]\u001b[0m\u001b[0;34m.\u001b[0m\u001b[0mdtype\u001b[0m\u001b[0;34m)\u001b[0m\u001b[0;34m,\u001b[0m\u001b[0;34m\u001b[0m\u001b[0;34m\u001b[0m\u001b[0m\n",
      "\u001b[0;31mAttributeError\u001b[0m: 'dict' object has no attribute 'columns'"
     ]
    }
   ],
   "source": [
    "df = tr.load_source_canonical()"
   ]
  },
  {
   "cell_type": "markdown",
   "metadata": {},
   "source": [
    "### Observations\n",
    "The report presents our attribute summary as a stylised data frame, highlighting data points of interest.  We will see more of this in the next tutorial.\n",
    "\n",
    "### Next Steps\n",
    "\n",
    "Now we have our raw canonical data extracted and convereted to the canonical from the source we can start the transitioning..."
   ]
  },
  {
   "cell_type": "code",
   "execution_count": null,
   "metadata": {},
   "outputs": [],
   "source": []
  }
 ],
 "metadata": {
  "kernelspec": {
   "display_name": "Python 3",
   "language": "python",
   "name": "python3"
  },
  "language_info": {
   "codemirror_mode": {
    "name": "ipython",
    "version": 3
   },
   "file_extension": ".py",
   "mimetype": "text/x-python",
   "name": "python",
   "nbconvert_exporter": "python",
   "pygments_lexer": "ipython3",
   "version": "3.7.6"
  }
 },
 "nbformat": 4,
 "nbformat_minor": 4
}
