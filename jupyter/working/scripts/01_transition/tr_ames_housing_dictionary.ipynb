{
 "cells": [
  {
   "cell_type": "code",
   "execution_count": 1,
   "metadata": {},
   "outputs": [],
   "source": [
    "# saves you having to use print as all exposed variables are printed in the cell\n",
    "from IPython.core.interactiveshell import InteractiveShell\n",
    "InteractiveShell.ast_node_interactivity = \"all\"\n",
    "\n",
    "# core libraries\n",
    "import pandas as pd\n",
    "import os\n",
    "from pathlib import Path\n",
    "\n",
    "%reload_ext autoreload\n",
    "%autoreload 2\n",
    "# for cleaning and discovery\n",
    "from ds_discovery import Transition\n",
    "\n",
    "# Set the environment working path as the root of the Jupyter instance\n",
    "os.environ['DSTU_WORK_PATH'] = Path(os.environ['PWD']).as_posix()\n"
   ]
  },
  {
   "cell_type": "markdown",
   "metadata": {},
   "source": [
    "# Accelerated Machine learning\n",
    "## Transitioning Contract"
   ]
  },
  {
   "cell_type": "code",
   "execution_count": 2,
   "metadata": {},
   "outputs": [
    {
     "data": {
      "text/plain": [
       "'v0.00'"
      ]
     },
     "execution_count": 2,
     "metadata": {},
     "output_type": "execute_result"
    }
   ],
   "source": [
    "# create or retrieve the named Transition instance\n",
    "tr = Transition('ames_dictionary')\n",
    "tr.version"
   ]
  },
  {
   "cell_type": "markdown",
   "metadata": {},
   "source": [
    "### Data Source\n",
    "if loading from local default, just pass the resource. example:<br>\n",
    "`tr.set_source_contract(resource='synthetic.csv', sep=',', encoding='latin1', load=False)`"
   ]
  },
  {
   "cell_type": "code",
   "execution_count": 3,
   "metadata": {},
   "outputs": [
    {
     "data": {
      "text/html": [
       "<style  type=\"text/css\" >\n",
       "    #T_449de93a_9270_11e9_b95d_acde48001122 th {\n",
       "          font-size: 120%;\n",
       "          text-align: center;\n",
       "    }    #T_449de93a_9270_11e9_b95d_acde48001122 .row_heading, .blank {\n",
       "          display: none;;\n",
       "    }    #T_449de93a_9270_11e9_b95d_acde48001122row0_col0 {\n",
       "            text-align:  left;\n",
       "            font-weight:  bold;\n",
       "        }    #T_449de93a_9270_11e9_b95d_acde48001122row0_col1 {\n",
       "            text-align:  left;\n",
       "        }    #T_449de93a_9270_11e9_b95d_acde48001122row1_col0 {\n",
       "            text-align:  left;\n",
       "            font-weight:  bold;\n",
       "        }    #T_449de93a_9270_11e9_b95d_acde48001122row1_col1 {\n",
       "            text-align:  left;\n",
       "        }    #T_449de93a_9270_11e9_b95d_acde48001122row2_col0 {\n",
       "            text-align:  left;\n",
       "            font-weight:  bold;\n",
       "        }    #T_449de93a_9270_11e9_b95d_acde48001122row2_col1 {\n",
       "            text-align:  left;\n",
       "        }    #T_449de93a_9270_11e9_b95d_acde48001122row3_col0 {\n",
       "            text-align:  left;\n",
       "            font-weight:  bold;\n",
       "        }    #T_449de93a_9270_11e9_b95d_acde48001122row3_col1 {\n",
       "            text-align:  left;\n",
       "        }    #T_449de93a_9270_11e9_b95d_acde48001122row4_col0 {\n",
       "            text-align:  left;\n",
       "            font-weight:  bold;\n",
       "        }    #T_449de93a_9270_11e9_b95d_acde48001122row4_col1 {\n",
       "            text-align:  left;\n",
       "        }    #T_449de93a_9270_11e9_b95d_acde48001122row5_col0 {\n",
       "            text-align:  left;\n",
       "            font-weight:  bold;\n",
       "        }    #T_449de93a_9270_11e9_b95d_acde48001122row5_col1 {\n",
       "            text-align:  left;\n",
       "        }    #T_449de93a_9270_11e9_b95d_acde48001122row6_col0 {\n",
       "            text-align:  left;\n",
       "            font-weight:  bold;\n",
       "        }    #T_449de93a_9270_11e9_b95d_acde48001122row6_col1 {\n",
       "            text-align:  left;\n",
       "        }    #T_449de93a_9270_11e9_b95d_acde48001122row7_col0 {\n",
       "            text-align:  left;\n",
       "            font-weight:  bold;\n",
       "        }    #T_449de93a_9270_11e9_b95d_acde48001122row7_col1 {\n",
       "            text-align:  left;\n",
       "        }</style><table id=\"T_449de93a_9270_11e9_b95d_acde48001122\" ><thead>    <tr>        <th class=\"blank level0\" ></th>        <th class=\"col_heading level0 col0\" >param</th>        <th class=\"col_heading level0 col1\" >values</th>    </tr></thead><tbody>\n",
       "                <tr>\n",
       "                        <th id=\"T_449de93a_9270_11e9_b95d_acde48001122level0_row0\" class=\"row_heading level0 row0\" >0</th>\n",
       "                        <td id=\"T_449de93a_9270_11e9_b95d_acde48001122row0_col0\" class=\"data row0 col0\" >resource</td>\n",
       "                        <td id=\"T_449de93a_9270_11e9_b95d_acde48001122row0_col1\" class=\"data row0 col1\" >ames_housing_dictionary.csv</td>\n",
       "            </tr>\n",
       "            <tr>\n",
       "                        <th id=\"T_449de93a_9270_11e9_b95d_acde48001122level0_row1\" class=\"row_heading level0 row1\" >1</th>\n",
       "                        <td id=\"T_449de93a_9270_11e9_b95d_acde48001122row1_col0\" class=\"data row1 col0\" >source_type</td>\n",
       "                        <td id=\"T_449de93a_9270_11e9_b95d_acde48001122row1_col1\" class=\"data row1 col1\" >csv</td>\n",
       "            </tr>\n",
       "            <tr>\n",
       "                        <th id=\"T_449de93a_9270_11e9_b95d_acde48001122level0_row2\" class=\"row_heading level0 row2\" >2</th>\n",
       "                        <td id=\"T_449de93a_9270_11e9_b95d_acde48001122row2_col0\" class=\"data row2 col0\" >location</td>\n",
       "                        <td id=\"T_449de93a_9270_11e9_b95d_acde48001122row2_col1\" class=\"data row2 col1\" >/Users/doatridge/code/projects/prod/discovery-transitioning-utils/jupyter/working/data/0_raw</td>\n",
       "            </tr>\n",
       "            <tr>\n",
       "                        <th id=\"T_449de93a_9270_11e9_b95d_acde48001122level0_row3\" class=\"row_heading level0 row3\" >3</th>\n",
       "                        <td id=\"T_449de93a_9270_11e9_b95d_acde48001122row3_col0\" class=\"data row3 col0\" >module_name</td>\n",
       "                        <td id=\"T_449de93a_9270_11e9_b95d_acde48001122row3_col1\" class=\"data row3 col1\" >ds_discovery.handlers.pandas_handlers</td>\n",
       "            </tr>\n",
       "            <tr>\n",
       "                        <th id=\"T_449de93a_9270_11e9_b95d_acde48001122level0_row4\" class=\"row_heading level0 row4\" >4</th>\n",
       "                        <td id=\"T_449de93a_9270_11e9_b95d_acde48001122row4_col0\" class=\"data row4 col0\" >handler</td>\n",
       "                        <td id=\"T_449de93a_9270_11e9_b95d_acde48001122row4_col1\" class=\"data row4 col1\" >PandasHandler</td>\n",
       "            </tr>\n",
       "            <tr>\n",
       "                        <th id=\"T_449de93a_9270_11e9_b95d_acde48001122level0_row5\" class=\"row_heading level0 row5\" >5</th>\n",
       "                        <td id=\"T_449de93a_9270_11e9_b95d_acde48001122row5_col0\" class=\"data row5 col0\" >modified</td>\n",
       "                        <td id=\"T_449de93a_9270_11e9_b95d_acde48001122row5_col1\" class=\"data row5 col1\" ></td>\n",
       "            </tr>\n",
       "            <tr>\n",
       "                        <th id=\"T_449de93a_9270_11e9_b95d_acde48001122level0_row6\" class=\"row_heading level0 row6\" >6</th>\n",
       "                        <td id=\"T_449de93a_9270_11e9_b95d_acde48001122row6_col0\" class=\"data row6 col0\" >sep</td>\n",
       "                        <td id=\"T_449de93a_9270_11e9_b95d_acde48001122row6_col1\" class=\"data row6 col1\" >,</td>\n",
       "            </tr>\n",
       "            <tr>\n",
       "                        <th id=\"T_449de93a_9270_11e9_b95d_acde48001122level0_row7\" class=\"row_heading level0 row7\" >7</th>\n",
       "                        <td id=\"T_449de93a_9270_11e9_b95d_acde48001122row7_col0\" class=\"data row7 col0\" >encoding</td>\n",
       "                        <td id=\"T_449de93a_9270_11e9_b95d_acde48001122row7_col1\" class=\"data row7 col1\" >latin1</td>\n",
       "            </tr>\n",
       "    </tbody></table>"
      ],
      "text/plain": [
       "<pandas.io.formats.style.Styler at 0x1a1930b4a8>"
      ]
     },
     "execution_count": 3,
     "metadata": {},
     "output_type": "execute_result"
    }
   ],
   "source": [
    "# set the source contract\n",
    "tr.set_source_contract(resource='ames_housing_dictionary.csv', sep=',', encoding='latin1', load=False)\n",
    "tr.report_source()"
   ]
  },
  {
   "cell_type": "markdown",
   "metadata": {},
   "source": [
    "### Retrieve & Observations"
   ]
  },
  {
   "cell_type": "code",
   "execution_count": 4,
   "metadata": {
    "collapsed": true
   },
   "outputs": [],
   "source": [
    "# load the source canonical\n",
    "df = tr.load_source_canonical()"
   ]
  },
  {
   "cell_type": "code",
   "execution_count": 5,
   "metadata": {
    "collapsed": true
   },
   "outputs": [
    {
     "data": {
      "text/html": [
       "<div>\n",
       "<style scoped>\n",
       "    .dataframe tbody tr th:only-of-type {\n",
       "        vertical-align: middle;\n",
       "    }\n",
       "\n",
       "    .dataframe tbody tr th {\n",
       "        vertical-align: top;\n",
       "    }\n",
       "\n",
       "    .dataframe thead th {\n",
       "        text-align: right;\n",
       "    }\n",
       "</style>\n",
       "<table border=\"1\" class=\"dataframe\">\n",
       "  <thead>\n",
       "    <tr style=\"text-align: right;\">\n",
       "      <th></th>\n",
       "      <th>Attribute</th>\n",
       "      <th>dType</th>\n",
       "      <th>%_Null</th>\n",
       "      <th>%_Dom</th>\n",
       "      <th>Count</th>\n",
       "      <th>Unique</th>\n",
       "      <th>Observations</th>\n",
       "    </tr>\n",
       "  </thead>\n",
       "  <tbody>\n",
       "    <tr>\n",
       "      <th>0</th>\n",
       "      <td>attribute</td>\n",
       "      <td>object</td>\n",
       "      <td>0.0</td>\n",
       "      <td>0.150</td>\n",
       "      <td>113</td>\n",
       "      <td>79</td>\n",
       "      <td>Sample: Exterior2nd | Electrical | GarageType</td>\n",
       "    </tr>\n",
       "    <tr>\n",
       "      <th>1</th>\n",
       "      <td>description</td>\n",
       "      <td>object</td>\n",
       "      <td>0.0</td>\n",
       "      <td>0.009</td>\n",
       "      <td>113</td>\n",
       "      <td>113</td>\n",
       "      <td>Sample: Style of dwelling | Identifies the type of dwelling involved in...</td>\n",
       "    </tr>\n",
       "  </tbody>\n",
       "</table>\n",
       "</div>"
      ],
      "text/plain": [
       "     Attribute   dType  %_Null  %_Dom  Count  Unique  \\\n",
       "0    attribute  object     0.0  0.150    113      79   \n",
       "1  description  object     0.0  0.009    113     113   \n",
       "\n",
       "                                                                 Observations  \n",
       "0                               Sample: Exterior2nd | Electrical | GarageType  \n",
       "1  Sample: Style of dwelling | Identifies the type of dwelling involved in...  "
      ]
     },
     "execution_count": 5,
     "metadata": {},
     "output_type": "execute_result"
    }
   ],
   "source": [
    "tr.canonical_report(df, stylise=False)"
   ]
  },
  {
   "cell_type": "code",
   "execution_count": 6,
   "metadata": {},
   "outputs": [],
   "source": [
    "tr.add_notes(text='The file is a dictionary of the Ames Housing attributes')"
   ]
  },
  {
   "cell_type": "code",
   "execution_count": 7,
   "metadata": {},
   "outputs": [],
   "source": [
    "tr.add_notes(label='source', text='taken from the Kaggle Ames Housing desciption file')\n",
    "tr.add_notes(label='source', text='URL: https://www.kaggle.com/c/house-prices-advanced-regression-techniques/data')\n",
    "\n",
    "tr.add_notes(label='addition', text='Where there are codes, additional breakdown of field type have been included')"
   ]
  },
  {
   "cell_type": "code",
   "execution_count": 8,
   "metadata": {},
   "outputs": [
    {
     "data": {
      "text/html": [
       "<style  type=\"text/css\" >\n",
       "    #T_44c9efbe_9270_11e9_a2df_acde48001122 th {\n",
       "          font-size: 120%;\n",
       "          text-align: center;\n",
       "    }    #T_44c9efbe_9270_11e9_a2df_acde48001122 .row_heading, .blank {\n",
       "          display: none;;\n",
       "    }    #T_44c9efbe_9270_11e9_a2df_acde48001122row0_col0 {\n",
       "            text-align:  left;\n",
       "            font-weight:  bold;\n",
       "            font-size:  120%;\n",
       "        }    #T_44c9efbe_9270_11e9_a2df_acde48001122row0_col1 {\n",
       "            text-align:  left;\n",
       "            font-size:  120%;\n",
       "        }    #T_44c9efbe_9270_11e9_a2df_acde48001122row0_col2 {\n",
       "            text-align:  left;\n",
       "        }    #T_44c9efbe_9270_11e9_a2df_acde48001122row0_col3 {\n",
       "            text-align:  left;\n",
       "        }    #T_44c9efbe_9270_11e9_a2df_acde48001122row1_col0 {\n",
       "            text-align:  left;\n",
       "            font-weight:  bold;\n",
       "            font-size:  120%;\n",
       "        }    #T_44c9efbe_9270_11e9_a2df_acde48001122row1_col1 {\n",
       "            text-align:  left;\n",
       "            font-size:  120%;\n",
       "        }    #T_44c9efbe_9270_11e9_a2df_acde48001122row1_col2 {\n",
       "            text-align:  left;\n",
       "        }    #T_44c9efbe_9270_11e9_a2df_acde48001122row1_col3 {\n",
       "            text-align:  left;\n",
       "        }    #T_44c9efbe_9270_11e9_a2df_acde48001122row2_col0 {\n",
       "            text-align:  left;\n",
       "            font-weight:  bold;\n",
       "            font-size:  120%;\n",
       "        }    #T_44c9efbe_9270_11e9_a2df_acde48001122row2_col1 {\n",
       "            text-align:  left;\n",
       "            font-size:  120%;\n",
       "        }    #T_44c9efbe_9270_11e9_a2df_acde48001122row2_col2 {\n",
       "            text-align:  left;\n",
       "        }    #T_44c9efbe_9270_11e9_a2df_acde48001122row2_col3 {\n",
       "            text-align:  left;\n",
       "        }    #T_44c9efbe_9270_11e9_a2df_acde48001122row3_col0 {\n",
       "            text-align:  left;\n",
       "            font-weight:  bold;\n",
       "            font-size:  120%;\n",
       "        }    #T_44c9efbe_9270_11e9_a2df_acde48001122row3_col1 {\n",
       "            text-align:  left;\n",
       "            font-size:  120%;\n",
       "        }    #T_44c9efbe_9270_11e9_a2df_acde48001122row3_col2 {\n",
       "            text-align:  left;\n",
       "        }    #T_44c9efbe_9270_11e9_a2df_acde48001122row3_col3 {\n",
       "            text-align:  left;\n",
       "        }</style><table id=\"T_44c9efbe_9270_11e9_a2df_acde48001122\" ><thead>    <tr>        <th class=\"blank level0\" ></th>        <th class=\"col_heading level0 col0\" >section</th>        <th class=\"col_heading level0 col1\" >label</th>        <th class=\"col_heading level0 col2\" >date</th>        <th class=\"col_heading level0 col3\" >text</th>    </tr></thead><tbody>\n",
       "                <tr>\n",
       "                        <th id=\"T_44c9efbe_9270_11e9_a2df_acde48001122level0_row0\" class=\"row_heading level0 row0\" >0</th>\n",
       "                        <td id=\"T_44c9efbe_9270_11e9_a2df_acde48001122row0_col0\" class=\"data row0 col0\" >overview</td>\n",
       "                        <td id=\"T_44c9efbe_9270_11e9_a2df_acde48001122row0_col1\" class=\"data row0 col1\" >addition</td>\n",
       "                        <td id=\"T_44c9efbe_9270_11e9_a2df_acde48001122row0_col2\" class=\"data row0 col2\" >2019-06-17 08:16</td>\n",
       "                        <td id=\"T_44c9efbe_9270_11e9_a2df_acde48001122row0_col3\" class=\"data row0 col3\" >Where there are codes, additional breakdown of field type have been included</td>\n",
       "            </tr>\n",
       "            <tr>\n",
       "                        <th id=\"T_44c9efbe_9270_11e9_a2df_acde48001122level0_row1\" class=\"row_heading level0 row1\" >1</th>\n",
       "                        <td id=\"T_44c9efbe_9270_11e9_a2df_acde48001122row1_col0\" class=\"data row1 col0\" ></td>\n",
       "                        <td id=\"T_44c9efbe_9270_11e9_a2df_acde48001122row1_col1\" class=\"data row1 col1\" >notes</td>\n",
       "                        <td id=\"T_44c9efbe_9270_11e9_a2df_acde48001122row1_col2\" class=\"data row1 col2\" >2019-06-17 08:16</td>\n",
       "                        <td id=\"T_44c9efbe_9270_11e9_a2df_acde48001122row1_col3\" class=\"data row1 col3\" >The file is a dictionary of the Ames Housing attributes</td>\n",
       "            </tr>\n",
       "            <tr>\n",
       "                        <th id=\"T_44c9efbe_9270_11e9_a2df_acde48001122level0_row2\" class=\"row_heading level0 row2\" >2</th>\n",
       "                        <td id=\"T_44c9efbe_9270_11e9_a2df_acde48001122row2_col0\" class=\"data row2 col0\" ></td>\n",
       "                        <td id=\"T_44c9efbe_9270_11e9_a2df_acde48001122row2_col1\" class=\"data row2 col1\" >source</td>\n",
       "                        <td id=\"T_44c9efbe_9270_11e9_a2df_acde48001122row2_col2\" class=\"data row2 col2\" >2019-06-17 08:16</td>\n",
       "                        <td id=\"T_44c9efbe_9270_11e9_a2df_acde48001122row2_col3\" class=\"data row2 col3\" >taken from the Kaggle Ames Housing desciption file</td>\n",
       "            </tr>\n",
       "            <tr>\n",
       "                        <th id=\"T_44c9efbe_9270_11e9_a2df_acde48001122level0_row3\" class=\"row_heading level0 row3\" >3</th>\n",
       "                        <td id=\"T_44c9efbe_9270_11e9_a2df_acde48001122row3_col0\" class=\"data row3 col0\" ></td>\n",
       "                        <td id=\"T_44c9efbe_9270_11e9_a2df_acde48001122row3_col1\" class=\"data row3 col1\" ></td>\n",
       "                        <td id=\"T_44c9efbe_9270_11e9_a2df_acde48001122row3_col2\" class=\"data row3 col2\" >2019-06-17 08:16</td>\n",
       "                        <td id=\"T_44c9efbe_9270_11e9_a2df_acde48001122row3_col3\" class=\"data row3 col3\" >URL: https://www.kaggle.com/c/house-prices-advanced-regression-techniques/data</td>\n",
       "            </tr>\n",
       "    </tbody></table>"
      ],
      "text/plain": [
       "<pandas.io.formats.style.Styler at 0x1a197255c0>"
      ]
     },
     "execution_count": 8,
     "metadata": {},
     "output_type": "execute_result"
    }
   ],
   "source": [
    "tr.report_notes(stylise=True)"
   ]
  },
  {
   "cell_type": "markdown",
   "metadata": {},
   "source": [
    "------------\n",
    "### Selection, Filter and Typing"
   ]
  },
  {
   "cell_type": "code",
   "execution_count": 9,
   "metadata": {
    "collapsed": true
   },
   "outputs": [],
   "source": [
    "# auto clean headers\n",
    "tr.set_cleaner(tr.clean.auto_clean_header(df, inplace=True))"
   ]
  },
  {
   "cell_type": "code",
   "execution_count": 10,
   "metadata": {
    "collapsed": true
   },
   "outputs": [],
   "source": [
    "# Type Integers\n",
    "tr.set_cleaner(tr.clean.to_str_type(df, dtype=['object'], nulls_list=['', 'nan'], inplace=True))"
   ]
  },
  {
   "cell_type": "code",
   "execution_count": 11,
   "metadata": {},
   "outputs": [
    {
     "data": {
      "text/html": [
       "<style  type=\"text/css\" >\n",
       "    #T_44e364f8_9270_11e9_91f5_acde48001122 th {\n",
       "          font-size: 120%;\n",
       "          text-align: center;\n",
       "    }    #T_44e364f8_9270_11e9_91f5_acde48001122 .row_heading, .blank {\n",
       "          display: none;;\n",
       "    }    #T_44e364f8_9270_11e9_91f5_acde48001122row0_col0 {\n",
       "            text-align:  left;\n",
       "            font-weight:  bold;\n",
       "            font-size:  120%;\n",
       "        }    #T_44e364f8_9270_11e9_91f5_acde48001122row0_col1 {\n",
       "            text-align:  left;\n",
       "        }    #T_44e364f8_9270_11e9_91f5_acde48001122row0_col2 {\n",
       "            text-align:  left;\n",
       "        }    #T_44e364f8_9270_11e9_91f5_acde48001122row1_col0 {\n",
       "            text-align:  left;\n",
       "            font-weight:  bold;\n",
       "            font-size:  120%;\n",
       "        }    #T_44e364f8_9270_11e9_91f5_acde48001122row1_col1 {\n",
       "            text-align:  left;\n",
       "        }    #T_44e364f8_9270_11e9_91f5_acde48001122row1_col2 {\n",
       "            text-align:  left;\n",
       "        }</style><table id=\"T_44e364f8_9270_11e9_91f5_acde48001122\" ><thead>    <tr>        <th class=\"blank level0\" ></th>        <th class=\"col_heading level0 col0\" >level</th>        <th class=\"col_heading level0 col1\" >intent</th>        <th class=\"col_heading level0 col2\" >parameters</th>    </tr></thead><tbody>\n",
       "                <tr>\n",
       "                        <th id=\"T_44e364f8_9270_11e9_91f5_acde48001122level0_row0\" class=\"row_heading level0 row0\" >0</th>\n",
       "                        <td id=\"T_44e364f8_9270_11e9_91f5_acde48001122row0_col0\" class=\"data row0 col0\" >0</td>\n",
       "                        <td id=\"T_44e364f8_9270_11e9_91f5_acde48001122row0_col1\" class=\"data row0 col1\" >auto_clean_header</td>\n",
       "                        <td id=\"T_44e364f8_9270_11e9_91f5_acde48001122row0_col2\" class=\"data row0 col2\" >replace_spaces=_</td>\n",
       "            </tr>\n",
       "            <tr>\n",
       "                        <th id=\"T_44e364f8_9270_11e9_91f5_acde48001122level0_row1\" class=\"row_heading level0 row1\" >1</th>\n",
       "                        <td id=\"T_44e364f8_9270_11e9_91f5_acde48001122row1_col0\" class=\"data row1 col0\" ></td>\n",
       "                        <td id=\"T_44e364f8_9270_11e9_91f5_acde48001122row1_col1\" class=\"data row1 col1\" >to_str_type</td>\n",
       "                        <td id=\"T_44e364f8_9270_11e9_91f5_acde48001122row1_col2\" class=\"data row1 col2\" >dtype=['object'], exclude=False, nulls_list=['', 'nan']</td>\n",
       "            </tr>\n",
       "    </tbody></table>"
      ],
      "text/plain": [
       "<pandas.io.formats.style.Styler at 0x1a196c1e48>"
      ]
     },
     "execution_count": 11,
     "metadata": {},
     "output_type": "execute_result"
    }
   ],
   "source": [
    "# Cleaners report\n",
    "tr.report_cleaners()"
   ]
  },
  {
   "cell_type": "markdown",
   "metadata": {},
   "source": [
    "### Report, Persist and Validation"
   ]
  },
  {
   "cell_type": "code",
   "execution_count": 12,
   "metadata": {
    "collapsed": true
   },
   "outputs": [
    {
     "data": {
      "text/html": [
       "<style  type=\"text/css\" >\n",
       "    #T_44fca166_9270_11e9_9868_acde48001122 th {\n",
       "          font-size: 120%;\n",
       "          text-align: center;\n",
       "    }    #T_44fca166_9270_11e9_9868_acde48001122 .row_heading, .blank {\n",
       "          display: none;;\n",
       "    }    #T_44fca166_9270_11e9_9868_acde48001122row0_col0 {\n",
       "            font-weight:  bold;\n",
       "            font-size:  120%;\n",
       "            font-weight:  bold;\n",
       "            font-size:  120%;\n",
       "        }    #T_44fca166_9270_11e9_9868_acde48001122row0_col2 {\n",
       "            : ;\n",
       "            color:  black;\n",
       "            : ;\n",
       "            color:  black;\n",
       "        }    #T_44fca166_9270_11e9_9868_acde48001122row0_col3 {\n",
       "            : ;\n",
       "            color:  black;\n",
       "            : ;\n",
       "            color:  black;\n",
       "        }    #T_44fca166_9270_11e9_9868_acde48001122row0_col4 {\n",
       "            background-color:  #fdcdb9;\n",
       "            color:  black;\n",
       "            background-color:  #fdcdb9;\n",
       "            color:  black;\n",
       "        }    #T_44fca166_9270_11e9_9868_acde48001122row0_col6 {\n",
       "            background-color:  #f0f9ed;\n",
       "            color:  black;\n",
       "            background-color:  #f0f9ed;\n",
       "            color:  black;\n",
       "        }    #T_44fca166_9270_11e9_9868_acde48001122row1_col0 {\n",
       "            font-weight:  bold;\n",
       "            font-size:  120%;\n",
       "            font-weight:  bold;\n",
       "            font-size:  120%;\n",
       "        }    #T_44fca166_9270_11e9_9868_acde48001122row1_col2 {\n",
       "            : ;\n",
       "            color:  black;\n",
       "            : ;\n",
       "            color:  black;\n",
       "        }    #T_44fca166_9270_11e9_9868_acde48001122row1_col3 {\n",
       "            : ;\n",
       "            color:  black;\n",
       "            : ;\n",
       "            color:  black;\n",
       "        }    #T_44fca166_9270_11e9_9868_acde48001122row1_col4 {\n",
       "            background-color:  #ec382b;\n",
       "            color:  white;\n",
       "            background-color:  #ec382b;\n",
       "            color:  white;\n",
       "        }    #T_44fca166_9270_11e9_9868_acde48001122row1_col6 {\n",
       "            : ;\n",
       "            color:  black;\n",
       "            : ;\n",
       "            color:  black;\n",
       "        }</style><table id=\"T_44fca166_9270_11e9_9868_acde48001122\" ><caption>%_Dom: The % most domninant element</caption><thead>    <tr>        <th class=\"blank level0\" ></th>        <th class=\"col_heading level0 col0\" >Attribute</th>        <th class=\"col_heading level0 col1\" >dType</th>        <th class=\"col_heading level0 col2\" >%_Null</th>        <th class=\"col_heading level0 col3\" >%_Dom</th>        <th class=\"col_heading level0 col5\" >Count</th>        <th class=\"col_heading level0 col6\" >Unique</th>        <th class=\"col_heading level0 col7\" >Observations</th>    </tr></thead><tbody>\n",
       "                <tr>\n",
       "                        <th id=\"T_44fca166_9270_11e9_9868_acde48001122level0_row0\" class=\"row_heading level0 row0\" >0</th>\n",
       "                        <td id=\"T_44fca166_9270_11e9_9868_acde48001122row0_col0\" class=\"data row0 col0\" >attribute</td>\n",
       "                        <td id=\"T_44fca166_9270_11e9_9868_acde48001122row0_col1\" class=\"data row0 col1\" >object</td>\n",
       "                        <td id=\"T_44fca166_9270_11e9_9868_acde48001122row0_col2\" class=\"data row0 col2\" >0.0%</td>\n",
       "                        <td id=\"T_44fca166_9270_11e9_9868_acde48001122row0_col3\" class=\"data row0 col3\" >15.0%</td>\n",
       "                                <td id=\"T_44fca166_9270_11e9_9868_acde48001122row0_col5\" class=\"data row0 col5\" >113</td>\n",
       "                        <td id=\"T_44fca166_9270_11e9_9868_acde48001122row0_col6\" class=\"data row0 col6\" >79</td>\n",
       "                        <td id=\"T_44fca166_9270_11e9_9868_acde48001122row0_col7\" class=\"data row0 col7\" >Sample: MiscVal | MasVnrType | YearBuilt</td>\n",
       "            </tr>\n",
       "            <tr>\n",
       "                        <th id=\"T_44fca166_9270_11e9_9868_acde48001122level0_row1\" class=\"row_heading level0 row1\" >1</th>\n",
       "                        <td id=\"T_44fca166_9270_11e9_9868_acde48001122row1_col0\" class=\"data row1 col0\" >description</td>\n",
       "                        <td id=\"T_44fca166_9270_11e9_9868_acde48001122row1_col1\" class=\"data row1 col1\" >object</td>\n",
       "                        <td id=\"T_44fca166_9270_11e9_9868_acde48001122row1_col2\" class=\"data row1 col2\" >0.0%</td>\n",
       "                        <td id=\"T_44fca166_9270_11e9_9868_acde48001122row1_col3\" class=\"data row1 col3\" >0.9%</td>\n",
       "                                <td id=\"T_44fca166_9270_11e9_9868_acde48001122row1_col5\" class=\"data row1 col5\" >113</td>\n",
       "                        <td id=\"T_44fca166_9270_11e9_9868_acde48001122row1_col6\" class=\"data row1 col6\" >113</td>\n",
       "                        <td id=\"T_44fca166_9270_11e9_9868_acde48001122row1_col7\" class=\"data row1 col7\" >Sample: Flatness of the property | Total square feet of basement area | Linear feet of street connec...</td>\n",
       "            </tr>\n",
       "    </tbody></table>"
      ],
      "text/plain": [
       "<pandas.io.formats.style.Styler at 0x1a196d50f0>"
      ]
     },
     "execution_count": 12,
     "metadata": {},
     "output_type": "execute_result"
    }
   ],
   "source": [
    "# Create the excel data dictionary\n",
    "tr.canonical_report(df, to_file=True)\n",
    "\n",
    "# persist Transitioning Contract just to ensure everything in memory is persisted to disk\n",
    "tr.persist()\n",
    "\n",
    "# save the clean file\n",
    "tr.save_clean_canonical(df)"
   ]
  },
  {
   "cell_type": "code",
   "execution_count": 13,
   "metadata": {
    "collapsed": true
   },
   "outputs": [
    {
     "data": {
      "text/html": [
       "<div>\n",
       "<style scoped>\n",
       "    .dataframe tbody tr th:only-of-type {\n",
       "        vertical-align: middle;\n",
       "    }\n",
       "\n",
       "    .dataframe tbody tr th {\n",
       "        vertical-align: top;\n",
       "    }\n",
       "\n",
       "    .dataframe thead th {\n",
       "        text-align: right;\n",
       "    }\n",
       "</style>\n",
       "<table border=\"1\" class=\"dataframe\">\n",
       "  <thead>\n",
       "    <tr style=\"text-align: right;\">\n",
       "      <th></th>\n",
       "      <th>Attribute</th>\n",
       "      <th>dType</th>\n",
       "      <th>%_Null</th>\n",
       "      <th>%_Dom</th>\n",
       "      <th>Count</th>\n",
       "      <th>Unique</th>\n",
       "      <th>Observations</th>\n",
       "    </tr>\n",
       "  </thead>\n",
       "  <tbody>\n",
       "    <tr>\n",
       "      <th>0</th>\n",
       "      <td>attribute</td>\n",
       "      <td>object</td>\n",
       "      <td>0.0</td>\n",
       "      <td>0.150</td>\n",
       "      <td>113</td>\n",
       "      <td>79</td>\n",
       "      <td>Sample: 3SsnPorch | FullBath | BsmtFinType2</td>\n",
       "    </tr>\n",
       "    <tr>\n",
       "      <th>1</th>\n",
       "      <td>description</td>\n",
       "      <td>object</td>\n",
       "      <td>0.0</td>\n",
       "      <td>0.009</td>\n",
       "      <td>113</td>\n",
       "      <td>113</td>\n",
       "      <td>Sample: 75 - 2-1/2 STORY ALL AGES | Bedrooms above grade (does NOT incl...</td>\n",
       "    </tr>\n",
       "  </tbody>\n",
       "</table>\n",
       "</div>"
      ],
      "text/plain": [
       "     Attribute   dType  %_Null  %_Dom  Count  Unique  \\\n",
       "0    attribute  object     0.0  0.150    113      79   \n",
       "1  description  object     0.0  0.009    113     113   \n",
       "\n",
       "                                                                 Observations  \n",
       "0                                 Sample: 3SsnPorch | FullBath | BsmtFinType2  \n",
       "1  Sample: 75 - 2-1/2 STORY ALL AGES | Bedrooms above grade (does NOT incl...  "
      ]
     },
     "execution_count": 13,
     "metadata": {},
     "output_type": "execute_result"
    }
   ],
   "source": [
    "# check the save worked by loading back the clean canonical\n",
    "df = tr.load_clean_canonical()\n",
    "tr.canonical_report(df, stylise=False)"
   ]
  },
  {
   "cell_type": "markdown",
   "metadata": {},
   "source": [
    "---------\n",
    "### Re-Running the Contract Pipeline"
   ]
  },
  {
   "cell_type": "code",
   "execution_count": 14,
   "metadata": {},
   "outputs": [
    {
     "data": {
      "text/html": [
       "<div>\n",
       "<style scoped>\n",
       "    .dataframe tbody tr th:only-of-type {\n",
       "        vertical-align: middle;\n",
       "    }\n",
       "\n",
       "    .dataframe tbody tr th {\n",
       "        vertical-align: top;\n",
       "    }\n",
       "\n",
       "    .dataframe thead th {\n",
       "        text-align: right;\n",
       "    }\n",
       "</style>\n",
       "<table border=\"1\" class=\"dataframe\">\n",
       "  <thead>\n",
       "    <tr style=\"text-align: right;\">\n",
       "      <th></th>\n",
       "      <th>Attribute</th>\n",
       "      <th>dType</th>\n",
       "      <th>%_Null</th>\n",
       "      <th>%_Dom</th>\n",
       "      <th>Count</th>\n",
       "      <th>Unique</th>\n",
       "      <th>Observations</th>\n",
       "    </tr>\n",
       "  </thead>\n",
       "  <tbody>\n",
       "    <tr>\n",
       "      <th>0</th>\n",
       "      <td>attribute</td>\n",
       "      <td>object</td>\n",
       "      <td>0.0</td>\n",
       "      <td>0.150</td>\n",
       "      <td>113</td>\n",
       "      <td>79</td>\n",
       "      <td>Sample: SaleCondition | Condition1 | MiscFeature</td>\n",
       "    </tr>\n",
       "    <tr>\n",
       "      <th>1</th>\n",
       "      <td>description</td>\n",
       "      <td>object</td>\n",
       "      <td>0.0</td>\n",
       "      <td>0.009</td>\n",
       "      <td>113</td>\n",
       "      <td>113</td>\n",
       "      <td>Sample: Three season porch area in square feet | 75 - 2-1/2 STORY ALL A...</td>\n",
       "    </tr>\n",
       "  </tbody>\n",
       "</table>\n",
       "</div>"
      ],
      "text/plain": [
       "     Attribute   dType  %_Null  %_Dom  Count  Unique  \\\n",
       "0    attribute  object     0.0  0.150    113      79   \n",
       "1  description  object     0.0  0.009    113     113   \n",
       "\n",
       "                                                                 Observations  \n",
       "0                            Sample: SaleCondition | Condition1 | MiscFeature  \n",
       "1  Sample: Three season porch area in square feet | 75 - 2-1/2 STORY ALL A...  "
      ]
     },
     "execution_count": 14,
     "metadata": {},
     "output_type": "execute_result"
    }
   ],
   "source": [
    "# loads the raw canonical, run the contract pipeline, save and return the clean canonical\n",
    "df = tr.refresh_clean_canonical()\n",
    "tr.canonical_report(df, stylise=False)"
   ]
  },
  {
   "cell_type": "code",
   "execution_count": null,
   "metadata": {},
   "outputs": [],
   "source": []
  }
 ],
 "metadata": {
  "kernelspec": {
   "display_name": "Python 3",
   "language": "python",
   "name": "python3"
  },
  "language_info": {
   "codemirror_mode": {
    "name": "ipython",
    "version": 3
   },
   "file_extension": ".py",
   "mimetype": "text/x-python",
   "name": "python",
   "nbconvert_exporter": "python",
   "pygments_lexer": "ipython3",
   "version": "3.6.8"
  }
 },
 "nbformat": 4,
 "nbformat_minor": 2
}
