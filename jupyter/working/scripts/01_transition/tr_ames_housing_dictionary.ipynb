{
 "cells": [
  {
   "cell_type": "code",
   "execution_count": 17,
   "metadata": {},
   "outputs": [],
   "source": [
    "# saves you having to use print as all exposed variables are printed in the cell\n",
    "from IPython.core.interactiveshell import InteractiveShell\n",
    "InteractiveShell.ast_node_interactivity = \"all\"\n",
    "\n",
    "# core libraries\n",
    "import pandas as pd\n",
    "import os\n",
    "from pathlib import Path\n",
    "\n",
    "%reload_ext autoreload\n",
    "%autoreload 2\n",
    "# for cleaning and discovery\n",
    "from ds_discovery.transition.transitioning import TransitionAgent as Transition\n",
    "\n",
    "# Set the environment path as the root of the Jupyter instance\n",
    "os.environ['DTU_CONTRACT_PATH'] = Path(os.environ['PWD'], 'contracts').as_posix()\n",
    "os.environ['DTU_ORIGIN_PATH'] = Path(os.environ['PWD'], 'data', '0_raw').as_posix()\n",
    "os.environ['DTU_PERSIST_PATH'] = Path(os.environ['PWD'], 'data', '1_transition').as_posix()\n"
   ]
  },
  {
   "cell_type": "markdown",
   "metadata": {},
   "source": [
    "# Accelerated Machine learning\n",
    "## Transitioning Contract"
   ]
  },
  {
   "cell_type": "code",
   "execution_count": 18,
   "metadata": {},
   "outputs": [],
   "source": [
    "# create or retrieve the named Transition instance\n",
    "tr = Transition.from_env('ames_dictionary')"
   ]
  },
  {
   "cell_type": "markdown",
   "metadata": {},
   "source": [
    "### Data Source\n",
    "if loading from local default, just pass the resource. example:<br>\n",
    "`tr.set_source_contract(resource='ames_housing_dictionary.csv', sep=',', encoding='latin1', load=False)`\n",
    "\n",
    "or a full handler\n",
    "\n",
    "`tr.set_source_contract(resource='data/synthetic/ames_housing_dictionary.csv', connector_type='dsv',\n",
    "                       location='ds-discovery', module_name='ds_connectors.handlers.aws_s3_handlers', handler='S3SourceHandler',\n",
    "                       delimiter=',', encoding='latin1')`\n"
   ]
  },
  {
   "cell_type": "code",
   "execution_count": 19,
   "metadata": {},
   "outputs": [],
   "source": [
    "# set the source contract\n",
    "tr.set_source_contract(resource='ames_housing_dictionary.csv', sep=',', encoding='latin1')\n",
    "tr.set_persist_contract()"
   ]
  },
  {
   "cell_type": "markdown",
   "metadata": {},
   "source": [
    "### Retrieve & Observations"
   ]
  },
  {
   "cell_type": "code",
   "execution_count": 20,
   "metadata": {
    "collapsed": true
   },
   "outputs": [],
   "source": [
    "# load the source canonical\n",
    "df = tr.load_source_canonical()"
   ]
  },
  {
   "cell_type": "code",
   "execution_count": 21,
   "metadata": {
    "collapsed": true
   },
   "outputs": [
    {
     "data": {
      "text/html": [
       "<div>\n",
       "<style scoped>\n",
       "    .dataframe tbody tr th:only-of-type {\n",
       "        vertical-align: middle;\n",
       "    }\n",
       "\n",
       "    .dataframe tbody tr th {\n",
       "        vertical-align: top;\n",
       "    }\n",
       "\n",
       "    .dataframe thead th {\n",
       "        text-align: right;\n",
       "    }\n",
       "</style>\n",
       "<table border=\"1\" class=\"dataframe\">\n",
       "  <thead>\n",
       "    <tr style=\"text-align: right;\">\n",
       "      <th></th>\n",
       "      <th>Attribute</th>\n",
       "      <th>dType</th>\n",
       "      <th>%_Null</th>\n",
       "      <th>%_Dom</th>\n",
       "      <th>Count</th>\n",
       "      <th>Unique</th>\n",
       "      <th>Observations</th>\n",
       "    </tr>\n",
       "  </thead>\n",
       "  <tbody>\n",
       "    <tr>\n",
       "      <th>0</th>\n",
       "      <td>attribute</td>\n",
       "      <td>object</td>\n",
       "      <td>0.0</td>\n",
       "      <td>0.150</td>\n",
       "      <td>113</td>\n",
       "      <td>79</td>\n",
       "      <td>Sample: BsmtHalfBath | BsmtFinType2 | BsmtFinSF1</td>\n",
       "    </tr>\n",
       "    <tr>\n",
       "      <th>1</th>\n",
       "      <td>description</td>\n",
       "      <td>object</td>\n",
       "      <td>0.0</td>\n",
       "      <td>0.009</td>\n",
       "      <td>113</td>\n",
       "      <td>113</td>\n",
       "      <td>Sample: Proximity to various conditions (if more than one is present) |...</td>\n",
       "    </tr>\n",
       "  </tbody>\n",
       "</table>\n",
       "</div>"
      ],
      "text/plain": [
       "     Attribute   dType  %_Null  %_Dom  Count  Unique  \\\n",
       "0    attribute  object     0.0  0.150    113      79   \n",
       "1  description  object     0.0  0.009    113     113   \n",
       "\n",
       "                                                                 Observations  \n",
       "0                            Sample: BsmtHalfBath | BsmtFinType2 | BsmtFinSF1  \n",
       "1  Sample: Proximity to various conditions (if more than one is present) |...  "
      ]
     },
     "execution_count": 21,
     "metadata": {},
     "output_type": "execute_result"
    }
   ],
   "source": [
    "tr.canonical_report(df, stylise=False)"
   ]
  },
  {
   "cell_type": "code",
   "execution_count": 22,
   "metadata": {},
   "outputs": [],
   "source": [
    "tr.add_notes(text='The file is a dictionary of the Ames Housing attributes')"
   ]
  },
  {
   "cell_type": "code",
   "execution_count": 23,
   "metadata": {},
   "outputs": [],
   "source": [
    "tr.add_notes(label='source', text='taken from the Kaggle Ames Housing desciption file')\n",
    "tr.add_notes(label='source', text='URL: https://www.kaggle.com/c/house-prices-advanced-regression-techniques/data')\n",
    "\n",
    "tr.add_notes(label='addition', text='Where there are codes, additional breakdown of field type have been included')"
   ]
  },
  {
   "cell_type": "code",
   "execution_count": 24,
   "metadata": {},
   "outputs": [
    {
     "data": {
      "text/html": [
       "<style  type=\"text/css\" >\n",
       "    #T_a658df8c_dae2_11e9_b557_784f439cb1c6 th {\n",
       "          font-size: 120%;\n",
       "          text-align: center;\n",
       "    }    #T_a658df8c_dae2_11e9_b557_784f439cb1c6 .row_heading, .blank {\n",
       "          display: none;;\n",
       "    }    #T_a658df8c_dae2_11e9_b557_784f439cb1c6row0_col0 {\n",
       "            text-align:  left;\n",
       "            font-weight:  bold;\n",
       "            font-size:  120%;\n",
       "        }    #T_a658df8c_dae2_11e9_b557_784f439cb1c6row0_col1 {\n",
       "            text-align:  left;\n",
       "            font-size:  120%;\n",
       "        }    #T_a658df8c_dae2_11e9_b557_784f439cb1c6row0_col2 {\n",
       "            text-align:  left;\n",
       "        }    #T_a658df8c_dae2_11e9_b557_784f439cb1c6row0_col3 {\n",
       "            text-align:  left;\n",
       "        }    #T_a658df8c_dae2_11e9_b557_784f439cb1c6row1_col0 {\n",
       "            text-align:  left;\n",
       "            font-weight:  bold;\n",
       "            font-size:  120%;\n",
       "        }    #T_a658df8c_dae2_11e9_b557_784f439cb1c6row1_col1 {\n",
       "            text-align:  left;\n",
       "            font-size:  120%;\n",
       "        }    #T_a658df8c_dae2_11e9_b557_784f439cb1c6row1_col2 {\n",
       "            text-align:  left;\n",
       "        }    #T_a658df8c_dae2_11e9_b557_784f439cb1c6row1_col3 {\n",
       "            text-align:  left;\n",
       "        }    #T_a658df8c_dae2_11e9_b557_784f439cb1c6row2_col0 {\n",
       "            text-align:  left;\n",
       "            font-weight:  bold;\n",
       "            font-size:  120%;\n",
       "        }    #T_a658df8c_dae2_11e9_b557_784f439cb1c6row2_col1 {\n",
       "            text-align:  left;\n",
       "            font-size:  120%;\n",
       "        }    #T_a658df8c_dae2_11e9_b557_784f439cb1c6row2_col2 {\n",
       "            text-align:  left;\n",
       "        }    #T_a658df8c_dae2_11e9_b557_784f439cb1c6row2_col3 {\n",
       "            text-align:  left;\n",
       "        }    #T_a658df8c_dae2_11e9_b557_784f439cb1c6row3_col0 {\n",
       "            text-align:  left;\n",
       "            font-weight:  bold;\n",
       "            font-size:  120%;\n",
       "        }    #T_a658df8c_dae2_11e9_b557_784f439cb1c6row3_col1 {\n",
       "            text-align:  left;\n",
       "            font-size:  120%;\n",
       "        }    #T_a658df8c_dae2_11e9_b557_784f439cb1c6row3_col2 {\n",
       "            text-align:  left;\n",
       "        }    #T_a658df8c_dae2_11e9_b557_784f439cb1c6row3_col3 {\n",
       "            text-align:  left;\n",
       "        }</style><table id=\"T_a658df8c_dae2_11e9_b557_784f439cb1c6\" ><thead>    <tr>        <th class=\"blank level0\" ></th>        <th class=\"col_heading level0 col0\" >section</th>        <th class=\"col_heading level0 col1\" >label</th>        <th class=\"col_heading level0 col2\" >date</th>        <th class=\"col_heading level0 col3\" >text</th>    </tr></thead><tbody>\n",
       "                <tr>\n",
       "                        <th id=\"T_a658df8c_dae2_11e9_b557_784f439cb1c6level0_row0\" class=\"row_heading level0 row0\" >0</th>\n",
       "                        <td id=\"T_a658df8c_dae2_11e9_b557_784f439cb1c6row0_col0\" class=\"data row0 col0\" >notes</td>\n",
       "                        <td id=\"T_a658df8c_dae2_11e9_b557_784f439cb1c6row0_col1\" class=\"data row0 col1\" >addition</td>\n",
       "                        <td id=\"T_a658df8c_dae2_11e9_b557_784f439cb1c6row0_col2\" class=\"data row0 col2\" >2019-09-19 14:37</td>\n",
       "                        <td id=\"T_a658df8c_dae2_11e9_b557_784f439cb1c6row0_col3\" class=\"data row0 col3\" >Where there are codes, additional breakdown of field type have been included</td>\n",
       "            </tr>\n",
       "            <tr>\n",
       "                        <th id=\"T_a658df8c_dae2_11e9_b557_784f439cb1c6level0_row1\" class=\"row_heading level0 row1\" >1</th>\n",
       "                        <td id=\"T_a658df8c_dae2_11e9_b557_784f439cb1c6row1_col0\" class=\"data row1 col0\" ></td>\n",
       "                        <td id=\"T_a658df8c_dae2_11e9_b557_784f439cb1c6row1_col1\" class=\"data row1 col1\" >comment</td>\n",
       "                        <td id=\"T_a658df8c_dae2_11e9_b557_784f439cb1c6row1_col2\" class=\"data row1 col2\" >2019-09-19 14:37</td>\n",
       "                        <td id=\"T_a658df8c_dae2_11e9_b557_784f439cb1c6row1_col3\" class=\"data row1 col3\" >The file is a dictionary of the Ames Housing attributes</td>\n",
       "            </tr>\n",
       "            <tr>\n",
       "                        <th id=\"T_a658df8c_dae2_11e9_b557_784f439cb1c6level0_row2\" class=\"row_heading level0 row2\" >2</th>\n",
       "                        <td id=\"T_a658df8c_dae2_11e9_b557_784f439cb1c6row2_col0\" class=\"data row2 col0\" ></td>\n",
       "                        <td id=\"T_a658df8c_dae2_11e9_b557_784f439cb1c6row2_col1\" class=\"data row2 col1\" >source</td>\n",
       "                        <td id=\"T_a658df8c_dae2_11e9_b557_784f439cb1c6row2_col2\" class=\"data row2 col2\" >2019-09-19 14:37</td>\n",
       "                        <td id=\"T_a658df8c_dae2_11e9_b557_784f439cb1c6row2_col3\" class=\"data row2 col3\" >taken from the Kaggle Ames Housing desciption file</td>\n",
       "            </tr>\n",
       "            <tr>\n",
       "                        <th id=\"T_a658df8c_dae2_11e9_b557_784f439cb1c6level0_row3\" class=\"row_heading level0 row3\" >3</th>\n",
       "                        <td id=\"T_a658df8c_dae2_11e9_b557_784f439cb1c6row3_col0\" class=\"data row3 col0\" ></td>\n",
       "                        <td id=\"T_a658df8c_dae2_11e9_b557_784f439cb1c6row3_col1\" class=\"data row3 col1\" ></td>\n",
       "                        <td id=\"T_a658df8c_dae2_11e9_b557_784f439cb1c6row3_col2\" class=\"data row3 col2\" >2019-09-19 14:37</td>\n",
       "                        <td id=\"T_a658df8c_dae2_11e9_b557_784f439cb1c6row3_col3\" class=\"data row3 col3\" >URL: https://www.kaggle.com/c/house-prices-advanced-regression-techniques/data</td>\n",
       "            </tr>\n",
       "    </tbody></table>"
      ],
      "text/plain": [
       "<pandas.io.formats.style.Styler at 0x1a20b52e10>"
      ]
     },
     "execution_count": 24,
     "metadata": {},
     "output_type": "execute_result"
    }
   ],
   "source": [
    "tr.report_notes(stylise=True)"
   ]
  },
  {
   "cell_type": "markdown",
   "metadata": {},
   "source": [
    "------------\n",
    "### Selection, Filter and Typing"
   ]
  },
  {
   "cell_type": "code",
   "execution_count": 25,
   "metadata": {
    "collapsed": true
   },
   "outputs": [],
   "source": [
    "# auto clean headers\n",
    "tr.set_cleaner(tr.clean.auto_clean_header(df, inplace=True))"
   ]
  },
  {
   "cell_type": "code",
   "execution_count": 26,
   "metadata": {
    "collapsed": true
   },
   "outputs": [],
   "source": [
    "# Type Integers\n",
    "tr.set_cleaner(tr.clean.to_str_type(df, dtype=['object'], nulls_list=['', 'nan'], inplace=True))"
   ]
  },
  {
   "cell_type": "code",
   "execution_count": 27,
   "metadata": {},
   "outputs": [
    {
     "data": {
      "text/html": [
       "<style  type=\"text/css\" >\n",
       "    #T_a88511b8_dae2_11e9_9035_784f439cb1c6 th {\n",
       "          font-size: 120%;\n",
       "          text-align: center;\n",
       "    }    #T_a88511b8_dae2_11e9_9035_784f439cb1c6 .row_heading, .blank {\n",
       "          display: none;;\n",
       "    }    #T_a88511b8_dae2_11e9_9035_784f439cb1c6row0_col0 {\n",
       "            text-align:  left;\n",
       "            font-weight:  bold;\n",
       "            font-size:  120%;\n",
       "        }    #T_a88511b8_dae2_11e9_9035_784f439cb1c6row0_col1 {\n",
       "            text-align:  left;\n",
       "        }    #T_a88511b8_dae2_11e9_9035_784f439cb1c6row0_col2 {\n",
       "            text-align:  left;\n",
       "        }    #T_a88511b8_dae2_11e9_9035_784f439cb1c6row1_col0 {\n",
       "            text-align:  left;\n",
       "            font-weight:  bold;\n",
       "            font-size:  120%;\n",
       "        }    #T_a88511b8_dae2_11e9_9035_784f439cb1c6row1_col1 {\n",
       "            text-align:  left;\n",
       "        }    #T_a88511b8_dae2_11e9_9035_784f439cb1c6row1_col2 {\n",
       "            text-align:  left;\n",
       "        }</style><table id=\"T_a88511b8_dae2_11e9_9035_784f439cb1c6\" ><thead>    <tr>        <th class=\"blank level0\" ></th>        <th class=\"col_heading level0 col0\" >level</th>        <th class=\"col_heading level0 col1\" >intent</th>        <th class=\"col_heading level0 col2\" >parameters</th>    </tr></thead><tbody>\n",
       "                <tr>\n",
       "                        <th id=\"T_a88511b8_dae2_11e9_9035_784f439cb1c6level0_row0\" class=\"row_heading level0 row0\" >0</th>\n",
       "                        <td id=\"T_a88511b8_dae2_11e9_9035_784f439cb1c6row0_col0\" class=\"data row0 col0\" >0</td>\n",
       "                        <td id=\"T_a88511b8_dae2_11e9_9035_784f439cb1c6row0_col1\" class=\"data row0 col1\" >auto_clean_header</td>\n",
       "                        <td id=\"T_a88511b8_dae2_11e9_9035_784f439cb1c6row0_col2\" class=\"data row0 col2\" >replace_spaces=_</td>\n",
       "            </tr>\n",
       "            <tr>\n",
       "                        <th id=\"T_a88511b8_dae2_11e9_9035_784f439cb1c6level0_row1\" class=\"row_heading level0 row1\" >1</th>\n",
       "                        <td id=\"T_a88511b8_dae2_11e9_9035_784f439cb1c6row1_col0\" class=\"data row1 col0\" ></td>\n",
       "                        <td id=\"T_a88511b8_dae2_11e9_9035_784f439cb1c6row1_col1\" class=\"data row1 col1\" >to_str_type</td>\n",
       "                        <td id=\"T_a88511b8_dae2_11e9_9035_784f439cb1c6row1_col2\" class=\"data row1 col2\" >dtype=['object'], exclude=False, nulls_list=['', 'nan']</td>\n",
       "            </tr>\n",
       "    </tbody></table>"
      ],
      "text/plain": [
       "<pandas.io.formats.style.Styler at 0x1a20ed5a58>"
      ]
     },
     "execution_count": 27,
     "metadata": {},
     "output_type": "execute_result"
    }
   ],
   "source": [
    "# Cleaners report\n",
    "tr.report_cleaners()"
   ]
  },
  {
   "cell_type": "markdown",
   "metadata": {},
   "source": [
    "### Report, Persist and Validation"
   ]
  },
  {
   "cell_type": "code",
   "execution_count": 28,
   "metadata": {
    "collapsed": true
   },
   "outputs": [
    {
     "ename": "TypeError",
     "evalue": "canonical_report() got an unexpected keyword argument 'to_file'",
     "output_type": "error",
     "traceback": [
      "\u001b[0;31m---------------------------------------------------------------------------\u001b[0m",
      "\u001b[0;31mTypeError\u001b[0m                                 Traceback (most recent call last)",
      "\u001b[0;32m<ipython-input-28-ee3dfdd49298>\u001b[0m in \u001b[0;36m<module>\u001b[0;34m()\u001b[0m\n\u001b[1;32m      1\u001b[0m \u001b[0;31m# Create the excel data dictionary\u001b[0m\u001b[0;34m\u001b[0m\u001b[0;34m\u001b[0m\u001b[0;34m\u001b[0m\u001b[0m\n\u001b[0;32m----> 2\u001b[0;31m \u001b[0mtr\u001b[0m\u001b[0;34m.\u001b[0m\u001b[0mcanonical_report\u001b[0m\u001b[0;34m(\u001b[0m\u001b[0mdf\u001b[0m\u001b[0;34m,\u001b[0m \u001b[0mto_file\u001b[0m\u001b[0;34m=\u001b[0m\u001b[0;32mTrue\u001b[0m\u001b[0;34m)\u001b[0m\u001b[0;34m\u001b[0m\u001b[0;34m\u001b[0m\u001b[0m\n\u001b[0m\u001b[1;32m      3\u001b[0m \u001b[0;34m\u001b[0m\u001b[0m\n\u001b[1;32m      4\u001b[0m \u001b[0;31m# persist Transitioning Contract just to ensure everything in memory is persisted to disk\u001b[0m\u001b[0;34m\u001b[0m\u001b[0;34m\u001b[0m\u001b[0;34m\u001b[0m\u001b[0m\n\u001b[1;32m      5\u001b[0m \u001b[0mtr\u001b[0m\u001b[0;34m.\u001b[0m\u001b[0mpersist\u001b[0m\u001b[0;34m(\u001b[0m\u001b[0;34m)\u001b[0m\u001b[0;34m\u001b[0m\u001b[0;34m\u001b[0m\u001b[0m\n",
      "\u001b[0;31mTypeError\u001b[0m: canonical_report() got an unexpected keyword argument 'to_file'"
     ]
    }
   ],
   "source": [
    "# Create the excel data dictionary\n",
    "tr.discover.data_dictionary(condition=)\n",
    "\n",
    "# persist Transitioning Contract just to ensure everything in memory is persisted to disk\n",
    "tr.persist()\n",
    "\n",
    "# save the clean file\n",
    "tr.save_clean_canonical(df)"
   ]
  },
  {
   "cell_type": "code",
   "execution_count": 13,
   "metadata": {
    "collapsed": true
   },
   "outputs": [
    {
     "data": {
      "text/html": [
       "<div>\n",
       "<style scoped>\n",
       "    .dataframe tbody tr th:only-of-type {\n",
       "        vertical-align: middle;\n",
       "    }\n",
       "\n",
       "    .dataframe tbody tr th {\n",
       "        vertical-align: top;\n",
       "    }\n",
       "\n",
       "    .dataframe thead th {\n",
       "        text-align: right;\n",
       "    }\n",
       "</style>\n",
       "<table border=\"1\" class=\"dataframe\">\n",
       "  <thead>\n",
       "    <tr style=\"text-align: right;\">\n",
       "      <th></th>\n",
       "      <th>Attribute</th>\n",
       "      <th>dType</th>\n",
       "      <th>%_Null</th>\n",
       "      <th>%_Dom</th>\n",
       "      <th>Count</th>\n",
       "      <th>Unique</th>\n",
       "      <th>Observations</th>\n",
       "    </tr>\n",
       "  </thead>\n",
       "  <tbody>\n",
       "    <tr>\n",
       "      <th>0</th>\n",
       "      <td>attribute</td>\n",
       "      <td>object</td>\n",
       "      <td>0.0</td>\n",
       "      <td>0.150</td>\n",
       "      <td>113</td>\n",
       "      <td>79</td>\n",
       "      <td>Sample: 3SsnPorch | FullBath | BsmtFinType2</td>\n",
       "    </tr>\n",
       "    <tr>\n",
       "      <th>1</th>\n",
       "      <td>description</td>\n",
       "      <td>object</td>\n",
       "      <td>0.0</td>\n",
       "      <td>0.009</td>\n",
       "      <td>113</td>\n",
       "      <td>113</td>\n",
       "      <td>Sample: 75 - 2-1/2 STORY ALL AGES | Bedrooms above grade (does NOT incl...</td>\n",
       "    </tr>\n",
       "  </tbody>\n",
       "</table>\n",
       "</div>"
      ],
      "text/plain": [
       "     Attribute   dType  %_Null  %_Dom  Count  Unique  \\\n",
       "0    attribute  object     0.0  0.150    113      79   \n",
       "1  description  object     0.0  0.009    113     113   \n",
       "\n",
       "                                                                 Observations  \n",
       "0                                 Sample: 3SsnPorch | FullBath | BsmtFinType2  \n",
       "1  Sample: 75 - 2-1/2 STORY ALL AGES | Bedrooms above grade (does NOT incl...  "
      ]
     },
     "execution_count": 13,
     "metadata": {},
     "output_type": "execute_result"
    }
   ],
   "source": [
    "# check the save worked by loading back the clean canonical\n",
    "df = tr.load_clean_canonical()\n",
    "tr.canonical_report(df, stylise=False)"
   ]
  },
  {
   "cell_type": "markdown",
   "metadata": {},
   "source": [
    "---------\n",
    "### Re-Running the Contract Pipeline"
   ]
  },
  {
   "cell_type": "code",
   "execution_count": 14,
   "metadata": {},
   "outputs": [
    {
     "data": {
      "text/html": [
       "<div>\n",
       "<style scoped>\n",
       "    .dataframe tbody tr th:only-of-type {\n",
       "        vertical-align: middle;\n",
       "    }\n",
       "\n",
       "    .dataframe tbody tr th {\n",
       "        vertical-align: top;\n",
       "    }\n",
       "\n",
       "    .dataframe thead th {\n",
       "        text-align: right;\n",
       "    }\n",
       "</style>\n",
       "<table border=\"1\" class=\"dataframe\">\n",
       "  <thead>\n",
       "    <tr style=\"text-align: right;\">\n",
       "      <th></th>\n",
       "      <th>Attribute</th>\n",
       "      <th>dType</th>\n",
       "      <th>%_Null</th>\n",
       "      <th>%_Dom</th>\n",
       "      <th>Count</th>\n",
       "      <th>Unique</th>\n",
       "      <th>Observations</th>\n",
       "    </tr>\n",
       "  </thead>\n",
       "  <tbody>\n",
       "    <tr>\n",
       "      <th>0</th>\n",
       "      <td>attribute</td>\n",
       "      <td>object</td>\n",
       "      <td>0.0</td>\n",
       "      <td>0.150</td>\n",
       "      <td>113</td>\n",
       "      <td>79</td>\n",
       "      <td>Sample: SaleCondition | Condition1 | MiscFeature</td>\n",
       "    </tr>\n",
       "    <tr>\n",
       "      <th>1</th>\n",
       "      <td>description</td>\n",
       "      <td>object</td>\n",
       "      <td>0.0</td>\n",
       "      <td>0.009</td>\n",
       "      <td>113</td>\n",
       "      <td>113</td>\n",
       "      <td>Sample: Three season porch area in square feet | 75 - 2-1/2 STORY ALL A...</td>\n",
       "    </tr>\n",
       "  </tbody>\n",
       "</table>\n",
       "</div>"
      ],
      "text/plain": [
       "     Attribute   dType  %_Null  %_Dom  Count  Unique  \\\n",
       "0    attribute  object     0.0  0.150    113      79   \n",
       "1  description  object     0.0  0.009    113     113   \n",
       "\n",
       "                                                                 Observations  \n",
       "0                            Sample: SaleCondition | Condition1 | MiscFeature  \n",
       "1  Sample: Three season porch area in square feet | 75 - 2-1/2 STORY ALL A...  "
      ]
     },
     "execution_count": 14,
     "metadata": {},
     "output_type": "execute_result"
    }
   ],
   "source": [
    "# loads the raw canonical, run the contract pipeline, save and return the clean canonical\n",
    "df = tr.refresh_clean_canonical()\n",
    "tr.canonical_report(df, stylise=False)"
   ]
  },
  {
   "cell_type": "code",
   "execution_count": null,
   "metadata": {},
   "outputs": [],
   "source": []
  }
 ],
 "metadata": {
  "kernelspec": {
   "display_name": "Python 3",
   "language": "python",
   "name": "python3"
  },
  "language_info": {
   "codemirror_mode": {
    "name": "ipython",
    "version": 3
   },
   "file_extension": ".py",
   "mimetype": "text/x-python",
   "name": "python",
   "nbconvert_exporter": "python",
   "pygments_lexer": "ipython3",
   "version": "3.6.8"
  }
 },
 "nbformat": 4,
 "nbformat_minor": 2
}
