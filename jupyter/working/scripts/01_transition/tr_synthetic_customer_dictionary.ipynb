{
 "cells": [
  {
   "cell_type": "code",
   "execution_count": 2,
   "metadata": {},
   "outputs": [
    {
     "name": "stdout",
     "output_type": "stream",
     "text": [
      "Foundation: 1.02.014\n",
      "Transition: 2.03.022\n"
     ]
    }
   ],
   "source": [
    "%run ../base_setup.ipynb"
   ]
  },
  {
   "cell_type": "markdown",
   "metadata": {},
   "source": [
    "# Accelerated Machine learning\n",
    "## Transitioning Contract"
   ]
  },
  {
   "cell_type": "code",
   "execution_count": 3,
   "metadata": {},
   "outputs": [],
   "source": [
    "# create or retrieve the named Transition instance\n",
    "tr = Transition.from_env('synthetic_customer_dictionary')"
   ]
  },
  {
   "cell_type": "markdown",
   "metadata": {},
   "source": [
    "#### Reset the Contract"
   ]
  },
  {
   "cell_type": "code",
   "execution_count": 4,
   "metadata": {},
   "outputs": [],
   "source": [
    "tr.reset_transition_contracts()"
   ]
  },
  {
   "cell_type": "markdown",
   "metadata": {},
   "source": [
    "### Data Source\n",
    "if loading from local default, just pass the resource. example:<br>\n",
    "`tr.set_source_contract(resource='synthetic.csv', sep=',', encoding='latin1', load=False)`"
   ]
  },
  {
   "cell_type": "code",
   "execution_count": 5,
   "metadata": {},
   "outputs": [
    {
     "data": {
      "text/html": [
       "<style  type=\"text/css\" >\n",
       "    #T_93a5d0e8_c426_11e9_85f4_784f439cb1c6 th {\n",
       "          font-size: 120%;\n",
       "          text-align: center;\n",
       "    }    #T_93a5d0e8_c426_11e9_85f4_784f439cb1c6 .row_heading, .blank {\n",
       "          display: none;;\n",
       "    }    #T_93a5d0e8_c426_11e9_85f4_784f439cb1c6row0_col0 {\n",
       "            text-align:  left;\n",
       "            font-weight:  bold;\n",
       "        }    #T_93a5d0e8_c426_11e9_85f4_784f439cb1c6row0_col1 {\n",
       "            text-align:  left;\n",
       "        }    #T_93a5d0e8_c426_11e9_85f4_784f439cb1c6row0_col2 {\n",
       "            text-align:  left;\n",
       "        }    #T_93a5d0e8_c426_11e9_85f4_784f439cb1c6row0_col3 {\n",
       "            text-align:  left;\n",
       "        }    #T_93a5d0e8_c426_11e9_85f4_784f439cb1c6row1_col0 {\n",
       "            text-align:  left;\n",
       "            font-weight:  bold;\n",
       "        }    #T_93a5d0e8_c426_11e9_85f4_784f439cb1c6row1_col1 {\n",
       "            text-align:  left;\n",
       "        }    #T_93a5d0e8_c426_11e9_85f4_784f439cb1c6row1_col2 {\n",
       "            text-align:  left;\n",
       "        }    #T_93a5d0e8_c426_11e9_85f4_784f439cb1c6row1_col3 {\n",
       "            text-align:  left;\n",
       "        }    #T_93a5d0e8_c426_11e9_85f4_784f439cb1c6row2_col0 {\n",
       "            text-align:  left;\n",
       "            font-weight:  bold;\n",
       "        }    #T_93a5d0e8_c426_11e9_85f4_784f439cb1c6row2_col1 {\n",
       "            text-align:  left;\n",
       "        }    #T_93a5d0e8_c426_11e9_85f4_784f439cb1c6row2_col2 {\n",
       "            text-align:  left;\n",
       "        }    #T_93a5d0e8_c426_11e9_85f4_784f439cb1c6row2_col3 {\n",
       "            text-align:  left;\n",
       "        }    #T_93a5d0e8_c426_11e9_85f4_784f439cb1c6row3_col0 {\n",
       "            text-align:  left;\n",
       "            font-weight:  bold;\n",
       "        }    #T_93a5d0e8_c426_11e9_85f4_784f439cb1c6row3_col1 {\n",
       "            text-align:  left;\n",
       "        }    #T_93a5d0e8_c426_11e9_85f4_784f439cb1c6row3_col2 {\n",
       "            text-align:  left;\n",
       "        }    #T_93a5d0e8_c426_11e9_85f4_784f439cb1c6row3_col3 {\n",
       "            text-align:  left;\n",
       "        }    #T_93a5d0e8_c426_11e9_85f4_784f439cb1c6row4_col0 {\n",
       "            text-align:  left;\n",
       "            font-weight:  bold;\n",
       "        }    #T_93a5d0e8_c426_11e9_85f4_784f439cb1c6row4_col1 {\n",
       "            text-align:  left;\n",
       "        }    #T_93a5d0e8_c426_11e9_85f4_784f439cb1c6row4_col2 {\n",
       "            text-align:  left;\n",
       "        }    #T_93a5d0e8_c426_11e9_85f4_784f439cb1c6row4_col3 {\n",
       "            text-align:  left;\n",
       "        }    #T_93a5d0e8_c426_11e9_85f4_784f439cb1c6row5_col0 {\n",
       "            text-align:  left;\n",
       "            font-weight:  bold;\n",
       "        }    #T_93a5d0e8_c426_11e9_85f4_784f439cb1c6row5_col1 {\n",
       "            text-align:  left;\n",
       "        }    #T_93a5d0e8_c426_11e9_85f4_784f439cb1c6row5_col2 {\n",
       "            text-align:  left;\n",
       "        }    #T_93a5d0e8_c426_11e9_85f4_784f439cb1c6row5_col3 {\n",
       "            text-align:  left;\n",
       "        }    #T_93a5d0e8_c426_11e9_85f4_784f439cb1c6row6_col0 {\n",
       "            text-align:  left;\n",
       "            font-weight:  bold;\n",
       "        }    #T_93a5d0e8_c426_11e9_85f4_784f439cb1c6row6_col1 {\n",
       "            text-align:  left;\n",
       "        }    #T_93a5d0e8_c426_11e9_85f4_784f439cb1c6row6_col2 {\n",
       "            text-align:  left;\n",
       "        }    #T_93a5d0e8_c426_11e9_85f4_784f439cb1c6row6_col3 {\n",
       "            text-align:  left;\n",
       "        }    #T_93a5d0e8_c426_11e9_85f4_784f439cb1c6row7_col0 {\n",
       "            text-align:  left;\n",
       "            font-weight:  bold;\n",
       "        }    #T_93a5d0e8_c426_11e9_85f4_784f439cb1c6row7_col1 {\n",
       "            text-align:  left;\n",
       "        }    #T_93a5d0e8_c426_11e9_85f4_784f439cb1c6row7_col2 {\n",
       "            text-align:  left;\n",
       "        }    #T_93a5d0e8_c426_11e9_85f4_784f439cb1c6row7_col3 {\n",
       "            text-align:  left;\n",
       "        }</style><table id=\"T_93a5d0e8_c426_11e9_85f4_784f439cb1c6\" ><thead>    <tr>        <th class=\"blank level0\" ></th>        <th class=\"col_heading level0 col0\" >param</th>        <th class=\"col_heading level0 col1\" >Property Source</th>        <th class=\"col_heading level0 col2\" >Data Source</th>        <th class=\"col_heading level0 col3\" >Persist Source</th>    </tr></thead><tbody>\n",
       "                <tr>\n",
       "                        <th id=\"T_93a5d0e8_c426_11e9_85f4_784f439cb1c6level0_row0\" class=\"row_heading level0 row0\" >0</th>\n",
       "                        <td id=\"T_93a5d0e8_c426_11e9_85f4_784f439cb1c6row0_col0\" class=\"data row0 col0\" >connector_name</td>\n",
       "                        <td id=\"T_93a5d0e8_c426_11e9_85f4_784f439cb1c6row0_col1\" class=\"data row0 col1\" >pm_data_synthetic_customer_dictionary</td>\n",
       "                        <td id=\"T_93a5d0e8_c426_11e9_85f4_784f439cb1c6row0_col2\" class=\"data row0 col2\" >origin_connector</td>\n",
       "                        <td id=\"T_93a5d0e8_c426_11e9_85f4_784f439cb1c6row0_col3\" class=\"data row0 col3\" >persist_connector</td>\n",
       "            </tr>\n",
       "            <tr>\n",
       "                        <th id=\"T_93a5d0e8_c426_11e9_85f4_784f439cb1c6level0_row1\" class=\"row_heading level0 row1\" >1</th>\n",
       "                        <td id=\"T_93a5d0e8_c426_11e9_85f4_784f439cb1c6row1_col0\" class=\"data row1 col0\" >resource</td>\n",
       "                        <td id=\"T_93a5d0e8_c426_11e9_85f4_784f439cb1c6row1_col1\" class=\"data row1 col1\" >config_data_synthetic_customer_dictionary.yaml</td>\n",
       "                        <td id=\"T_93a5d0e8_c426_11e9_85f4_784f439cb1c6row1_col2\" class=\"data row1 col2\" >synthetic_customer_dictionary.csv</td>\n",
       "                        <td id=\"T_93a5d0e8_c426_11e9_85f4_784f439cb1c6row1_col3\" class=\"data row1 col3\" >transition_synthetic_customer_dictionary_v0.00.p</td>\n",
       "            </tr>\n",
       "            <tr>\n",
       "                        <th id=\"T_93a5d0e8_c426_11e9_85f4_784f439cb1c6level0_row2\" class=\"row_heading level0 row2\" >2</th>\n",
       "                        <td id=\"T_93a5d0e8_c426_11e9_85f4_784f439cb1c6row2_col0\" class=\"data row2 col0\" >connector_type</td>\n",
       "                        <td id=\"T_93a5d0e8_c426_11e9_85f4_784f439cb1c6row2_col1\" class=\"data row2 col1\" >yaml</td>\n",
       "                        <td id=\"T_93a5d0e8_c426_11e9_85f4_784f439cb1c6row2_col2\" class=\"data row2 col2\" >csv</td>\n",
       "                        <td id=\"T_93a5d0e8_c426_11e9_85f4_784f439cb1c6row2_col3\" class=\"data row2 col3\" >pickle</td>\n",
       "            </tr>\n",
       "            <tr>\n",
       "                        <th id=\"T_93a5d0e8_c426_11e9_85f4_784f439cb1c6level0_row3\" class=\"row_heading level0 row3\" >3</th>\n",
       "                        <td id=\"T_93a5d0e8_c426_11e9_85f4_784f439cb1c6row3_col0\" class=\"data row3 col0\" >location</td>\n",
       "                        <td id=\"T_93a5d0e8_c426_11e9_85f4_784f439cb1c6row3_col1\" class=\"data row3 col1\" >/Users/doatridge/code/projects/prod/discovery-transitioning-utils/jupyter/working/contracts/synthetic_customer_dictionary</td>\n",
       "                        <td id=\"T_93a5d0e8_c426_11e9_85f4_784f439cb1c6row3_col2\" class=\"data row3 col2\" >/Users/doatridge/code/projects/prod/discovery-transitioning-utils/jupyter/working/data/0_raw</td>\n",
       "                        <td id=\"T_93a5d0e8_c426_11e9_85f4_784f439cb1c6row3_col3\" class=\"data row3 col3\" >/Users/doatridge/code/projects/prod/discovery-transitioning-utils/jupyter/working/data/1_transition</td>\n",
       "            </tr>\n",
       "            <tr>\n",
       "                        <th id=\"T_93a5d0e8_c426_11e9_85f4_784f439cb1c6level0_row4\" class=\"row_heading level0 row4\" >4</th>\n",
       "                        <td id=\"T_93a5d0e8_c426_11e9_85f4_784f439cb1c6row4_col0\" class=\"data row4 col0\" >module_name</td>\n",
       "                        <td id=\"T_93a5d0e8_c426_11e9_85f4_784f439cb1c6row4_col1\" class=\"data row4 col1\" >ds_discovery.handlers.pandas_handlers</td>\n",
       "                        <td id=\"T_93a5d0e8_c426_11e9_85f4_784f439cb1c6row4_col2\" class=\"data row4 col2\" >ds_discovery.handlers.pandas_handlers</td>\n",
       "                        <td id=\"T_93a5d0e8_c426_11e9_85f4_784f439cb1c6row4_col3\" class=\"data row4 col3\" >ds_discovery.handlers.pandas_handlers</td>\n",
       "            </tr>\n",
       "            <tr>\n",
       "                        <th id=\"T_93a5d0e8_c426_11e9_85f4_784f439cb1c6level0_row5\" class=\"row_heading level0 row5\" >5</th>\n",
       "                        <td id=\"T_93a5d0e8_c426_11e9_85f4_784f439cb1c6row5_col0\" class=\"data row5 col0\" >handler</td>\n",
       "                        <td id=\"T_93a5d0e8_c426_11e9_85f4_784f439cb1c6row5_col1\" class=\"data row5 col1\" >PandasPersistHandler</td>\n",
       "                        <td id=\"T_93a5d0e8_c426_11e9_85f4_784f439cb1c6row5_col2\" class=\"data row5 col2\" >PandasSourceHandler</td>\n",
       "                        <td id=\"T_93a5d0e8_c426_11e9_85f4_784f439cb1c6row5_col3\" class=\"data row5 col3\" >PandasPersistHandler</td>\n",
       "            </tr>\n",
       "            <tr>\n",
       "                        <th id=\"T_93a5d0e8_c426_11e9_85f4_784f439cb1c6level0_row6\" class=\"row_heading level0 row6\" >6</th>\n",
       "                        <td id=\"T_93a5d0e8_c426_11e9_85f4_784f439cb1c6row6_col0\" class=\"data row6 col0\" >modified</td>\n",
       "                        <td id=\"T_93a5d0e8_c426_11e9_85f4_784f439cb1c6row6_col1\" class=\"data row6 col1\" >0</td>\n",
       "                        <td id=\"T_93a5d0e8_c426_11e9_85f4_784f439cb1c6row6_col2\" class=\"data row6 col2\" >0</td>\n",
       "                        <td id=\"T_93a5d0e8_c426_11e9_85f4_784f439cb1c6row6_col3\" class=\"data row6 col3\" >0</td>\n",
       "            </tr>\n",
       "            <tr>\n",
       "                        <th id=\"T_93a5d0e8_c426_11e9_85f4_784f439cb1c6level0_row7\" class=\"row_heading level0 row7\" >7</th>\n",
       "                        <td id=\"T_93a5d0e8_c426_11e9_85f4_784f439cb1c6row7_col0\" class=\"data row7 col0\" >kwargs</td>\n",
       "                        <td id=\"T_93a5d0e8_c426_11e9_85f4_784f439cb1c6row7_col1\" class=\"data row7 col1\" ></td>\n",
       "                        <td id=\"T_93a5d0e8_c426_11e9_85f4_784f439cb1c6row7_col2\" class=\"data row7 col2\" >sep=','  encoding='latin1'</td>\n",
       "                        <td id=\"T_93a5d0e8_c426_11e9_85f4_784f439cb1c6row7_col3\" class=\"data row7 col3\" ></td>\n",
       "            </tr>\n",
       "    </tbody></table>"
      ],
      "text/plain": [
       "<pandas.io.formats.style.Styler at 0x1a1def28d0>"
      ]
     },
     "execution_count": 5,
     "metadata": {},
     "output_type": "execute_result"
    }
   ],
   "source": [
    "# set the source contract\n",
    "tr.set_source_contract(resource='synthetic_customer_dictionary.csv', sep=',', encoding='latin1', load=False)\n",
    "tr.set_persist_contract()\n",
    "tr.report_source()"
   ]
  },
  {
   "cell_type": "markdown",
   "metadata": {},
   "source": [
    "### Retrieve & Observations"
   ]
  },
  {
   "cell_type": "code",
   "execution_count": 6,
   "metadata": {
    "collapsed": true
   },
   "outputs": [],
   "source": [
    "# load the source canonical\n",
    "df = tr.load_source_canonical()"
   ]
  },
  {
   "cell_type": "code",
   "execution_count": 7,
   "metadata": {
    "collapsed": true
   },
   "outputs": [
    {
     "data": {
      "text/html": [
       "<div>\n",
       "<style scoped>\n",
       "    .dataframe tbody tr th:only-of-type {\n",
       "        vertical-align: middle;\n",
       "    }\n",
       "\n",
       "    .dataframe tbody tr th {\n",
       "        vertical-align: top;\n",
       "    }\n",
       "\n",
       "    .dataframe thead th {\n",
       "        text-align: right;\n",
       "    }\n",
       "</style>\n",
       "<table border=\"1\" class=\"dataframe\">\n",
       "  <thead>\n",
       "    <tr style=\"text-align: right;\">\n",
       "      <th></th>\n",
       "      <th>Attribute</th>\n",
       "      <th>dType</th>\n",
       "      <th>%_Null</th>\n",
       "      <th>%_Dom</th>\n",
       "      <th>Count</th>\n",
       "      <th>Unique</th>\n",
       "      <th>Observations</th>\n",
       "    </tr>\n",
       "  </thead>\n",
       "  <tbody>\n",
       "    <tr>\n",
       "      <th>0</th>\n",
       "      <td>attribute</td>\n",
       "      <td>object</td>\n",
       "      <td>0.062</td>\n",
       "      <td>0.067</td>\n",
       "      <td>15</td>\n",
       "      <td>15</td>\n",
       "      <td>Sample: forename | weight_cat | surname</td>\n",
       "    </tr>\n",
       "    <tr>\n",
       "      <th>1</th>\n",
       "      <td>description</td>\n",
       "      <td>object</td>\n",
       "      <td>0.000</td>\n",
       "      <td>0.062</td>\n",
       "      <td>16</td>\n",
       "      <td>16</td>\n",
       "      <td>Sample: the prossession of the customer | The last time the customer lo...</td>\n",
       "    </tr>\n",
       "  </tbody>\n",
       "</table>\n",
       "</div>"
      ],
      "text/plain": [
       "     Attribute   dType  %_Null  %_Dom  Count  Unique  \\\n",
       "0    attribute  object   0.062  0.067     15      15   \n",
       "1  description  object   0.000  0.062     16      16   \n",
       "\n",
       "                                                                 Observations  \n",
       "0                                     Sample: forename | weight_cat | surname  \n",
       "1  Sample: the prossession of the customer | The last time the customer lo...  "
      ]
     },
     "execution_count": 7,
     "metadata": {},
     "output_type": "execute_result"
    }
   ],
   "source": [
    "tr.canonical_report(df, stylise=False)"
   ]
  },
  {
   "cell_type": "code",
   "execution_count": 8,
   "metadata": {},
   "outputs": [],
   "source": [
    "tr.add_notes(text='The file is a dictionary of the Synthetic Customer attributes')"
   ]
  },
  {
   "cell_type": "code",
   "execution_count": 9,
   "metadata": {},
   "outputs": [],
   "source": [
    "tr.add_notes(label='source', text='created as a local file')"
   ]
  },
  {
   "cell_type": "code",
   "execution_count": 10,
   "metadata": {},
   "outputs": [
    {
     "data": {
      "text/html": [
       "<style  type=\"text/css\" >\n",
       "    #T_9580f24c_c426_11e9_b24f_784f439cb1c6 th {\n",
       "          font-size: 120%;\n",
       "          text-align: center;\n",
       "    }    #T_9580f24c_c426_11e9_b24f_784f439cb1c6 .row_heading, .blank {\n",
       "          display: none;;\n",
       "    }    #T_9580f24c_c426_11e9_b24f_784f439cb1c6row0_col0 {\n",
       "            text-align:  left;\n",
       "            font-weight:  bold;\n",
       "            font-size:  120%;\n",
       "        }    #T_9580f24c_c426_11e9_b24f_784f439cb1c6row0_col1 {\n",
       "            text-align:  left;\n",
       "            font-size:  120%;\n",
       "        }    #T_9580f24c_c426_11e9_b24f_784f439cb1c6row0_col2 {\n",
       "            text-align:  left;\n",
       "        }    #T_9580f24c_c426_11e9_b24f_784f439cb1c6row0_col3 {\n",
       "            text-align:  left;\n",
       "        }    #T_9580f24c_c426_11e9_b24f_784f439cb1c6row1_col0 {\n",
       "            text-align:  left;\n",
       "            font-weight:  bold;\n",
       "            font-size:  120%;\n",
       "        }    #T_9580f24c_c426_11e9_b24f_784f439cb1c6row1_col1 {\n",
       "            text-align:  left;\n",
       "            font-size:  120%;\n",
       "        }    #T_9580f24c_c426_11e9_b24f_784f439cb1c6row1_col2 {\n",
       "            text-align:  left;\n",
       "        }    #T_9580f24c_c426_11e9_b24f_784f439cb1c6row1_col3 {\n",
       "            text-align:  left;\n",
       "        }</style><table id=\"T_9580f24c_c426_11e9_b24f_784f439cb1c6\" ><thead>    <tr>        <th class=\"blank level0\" ></th>        <th class=\"col_heading level0 col0\" >section</th>        <th class=\"col_heading level0 col1\" >label</th>        <th class=\"col_heading level0 col2\" >date</th>        <th class=\"col_heading level0 col3\" >text</th>    </tr></thead><tbody>\n",
       "                <tr>\n",
       "                        <th id=\"T_9580f24c_c426_11e9_b24f_784f439cb1c6level0_row0\" class=\"row_heading level0 row0\" >0</th>\n",
       "                        <td id=\"T_9580f24c_c426_11e9_b24f_784f439cb1c6row0_col0\" class=\"data row0 col0\" >notes</td>\n",
       "                        <td id=\"T_9580f24c_c426_11e9_b24f_784f439cb1c6row0_col1\" class=\"data row0 col1\" >comment</td>\n",
       "                        <td id=\"T_9580f24c_c426_11e9_b24f_784f439cb1c6row0_col2\" class=\"data row0 col2\" >2019-08-20 18:08</td>\n",
       "                        <td id=\"T_9580f24c_c426_11e9_b24f_784f439cb1c6row0_col3\" class=\"data row0 col3\" >The file is a dictionary of the Synthetic Customer attributes</td>\n",
       "            </tr>\n",
       "            <tr>\n",
       "                        <th id=\"T_9580f24c_c426_11e9_b24f_784f439cb1c6level0_row1\" class=\"row_heading level0 row1\" >1</th>\n",
       "                        <td id=\"T_9580f24c_c426_11e9_b24f_784f439cb1c6row1_col0\" class=\"data row1 col0\" ></td>\n",
       "                        <td id=\"T_9580f24c_c426_11e9_b24f_784f439cb1c6row1_col1\" class=\"data row1 col1\" >source</td>\n",
       "                        <td id=\"T_9580f24c_c426_11e9_b24f_784f439cb1c6row1_col2\" class=\"data row1 col2\" >2019-08-20 18:08</td>\n",
       "                        <td id=\"T_9580f24c_c426_11e9_b24f_784f439cb1c6row1_col3\" class=\"data row1 col3\" >created as a local file</td>\n",
       "            </tr>\n",
       "    </tbody></table>"
      ],
      "text/plain": [
       "<pandas.io.formats.style.Styler at 0x1a1e5681d0>"
      ]
     },
     "execution_count": 10,
     "metadata": {},
     "output_type": "execute_result"
    }
   ],
   "source": [
    "tr.report_notes(stylise=True)"
   ]
  },
  {
   "cell_type": "markdown",
   "metadata": {},
   "source": [
    "------------\n",
    "### Selection, Filter and Typing"
   ]
  },
  {
   "cell_type": "code",
   "execution_count": 11,
   "metadata": {
    "collapsed": true
   },
   "outputs": [],
   "source": [
    "# auto clean headers\n",
    "tr.set_cleaner(tr.clean.auto_clean_header(df, inplace=True))"
   ]
  },
  {
   "cell_type": "code",
   "execution_count": 12,
   "metadata": {
    "collapsed": true
   },
   "outputs": [],
   "source": [
    "# Type Integers\n",
    "tr.set_cleaner(tr.clean.to_str_type(df, dtype=['object'], nulls_list=['', 'nan'], inplace=True))"
   ]
  },
  {
   "cell_type": "code",
   "execution_count": 13,
   "metadata": {},
   "outputs": [
    {
     "data": {
      "text/html": [
       "<style  type=\"text/css\" >\n",
       "    #T_998dbed0_c426_11e9_9b31_784f439cb1c6 th {\n",
       "          font-size: 120%;\n",
       "          text-align: center;\n",
       "    }    #T_998dbed0_c426_11e9_9b31_784f439cb1c6 .row_heading, .blank {\n",
       "          display: none;;\n",
       "    }    #T_998dbed0_c426_11e9_9b31_784f439cb1c6row0_col0 {\n",
       "            text-align:  left;\n",
       "            font-weight:  bold;\n",
       "            font-size:  120%;\n",
       "        }    #T_998dbed0_c426_11e9_9b31_784f439cb1c6row0_col1 {\n",
       "            text-align:  left;\n",
       "        }    #T_998dbed0_c426_11e9_9b31_784f439cb1c6row0_col2 {\n",
       "            text-align:  left;\n",
       "        }    #T_998dbed0_c426_11e9_9b31_784f439cb1c6row1_col0 {\n",
       "            text-align:  left;\n",
       "            font-weight:  bold;\n",
       "            font-size:  120%;\n",
       "        }    #T_998dbed0_c426_11e9_9b31_784f439cb1c6row1_col1 {\n",
       "            text-align:  left;\n",
       "        }    #T_998dbed0_c426_11e9_9b31_784f439cb1c6row1_col2 {\n",
       "            text-align:  left;\n",
       "        }</style><table id=\"T_998dbed0_c426_11e9_9b31_784f439cb1c6\" ><thead>    <tr>        <th class=\"blank level0\" ></th>        <th class=\"col_heading level0 col0\" >level</th>        <th class=\"col_heading level0 col1\" >intent</th>        <th class=\"col_heading level0 col2\" >parameters</th>    </tr></thead><tbody>\n",
       "                <tr>\n",
       "                        <th id=\"T_998dbed0_c426_11e9_9b31_784f439cb1c6level0_row0\" class=\"row_heading level0 row0\" >0</th>\n",
       "                        <td id=\"T_998dbed0_c426_11e9_9b31_784f439cb1c6row0_col0\" class=\"data row0 col0\" >0</td>\n",
       "                        <td id=\"T_998dbed0_c426_11e9_9b31_784f439cb1c6row0_col1\" class=\"data row0 col1\" >auto_clean_header</td>\n",
       "                        <td id=\"T_998dbed0_c426_11e9_9b31_784f439cb1c6row0_col2\" class=\"data row0 col2\" >replace_spaces=_</td>\n",
       "            </tr>\n",
       "            <tr>\n",
       "                        <th id=\"T_998dbed0_c426_11e9_9b31_784f439cb1c6level0_row1\" class=\"row_heading level0 row1\" >1</th>\n",
       "                        <td id=\"T_998dbed0_c426_11e9_9b31_784f439cb1c6row1_col0\" class=\"data row1 col0\" ></td>\n",
       "                        <td id=\"T_998dbed0_c426_11e9_9b31_784f439cb1c6row1_col1\" class=\"data row1 col1\" >to_str_type</td>\n",
       "                        <td id=\"T_998dbed0_c426_11e9_9b31_784f439cb1c6row1_col2\" class=\"data row1 col2\" >dtype=['object'], exclude=False, nulls_list=['', 'nan']</td>\n",
       "            </tr>\n",
       "    </tbody></table>"
      ],
      "text/plain": [
       "<pandas.io.formats.style.Styler at 0x1a1e50fa90>"
      ]
     },
     "execution_count": 13,
     "metadata": {},
     "output_type": "execute_result"
    }
   ],
   "source": [
    "# Cleaners report\n",
    "tr.report_cleaners()"
   ]
  },
  {
   "cell_type": "markdown",
   "metadata": {},
   "source": [
    "### Report, Persist and Validation"
   ]
  },
  {
   "cell_type": "code",
   "execution_count": 14,
   "metadata": {
    "collapsed": true
   },
   "outputs": [],
   "source": [
    "# persist Transitioning Contract just to ensure everything in memory is persisted to disk\n",
    "tr.persist_contract()\n",
    "\n",
    "# save the clean file\n",
    "tr.save_clean_canonical(df)"
   ]
  },
  {
   "cell_type": "code",
   "execution_count": 14,
   "metadata": {
    "collapsed": true
   },
   "outputs": [
    {
     "data": {
      "text/html": [
       "<div>\n",
       "<style scoped>\n",
       "    .dataframe tbody tr th:only-of-type {\n",
       "        vertical-align: middle;\n",
       "    }\n",
       "\n",
       "    .dataframe tbody tr th {\n",
       "        vertical-align: top;\n",
       "    }\n",
       "\n",
       "    .dataframe thead th {\n",
       "        text-align: right;\n",
       "    }\n",
       "</style>\n",
       "<table border=\"1\" class=\"dataframe\">\n",
       "  <thead>\n",
       "    <tr style=\"text-align: right;\">\n",
       "      <th></th>\n",
       "      <th>Attribute</th>\n",
       "      <th>dType</th>\n",
       "      <th>%_Null</th>\n",
       "      <th>%_Dom</th>\n",
       "      <th>Count</th>\n",
       "      <th>Unique</th>\n",
       "      <th>Observations</th>\n",
       "    </tr>\n",
       "  </thead>\n",
       "  <tbody>\n",
       "    <tr>\n",
       "      <th>0</th>\n",
       "      <td>attribute</td>\n",
       "      <td>object</td>\n",
       "      <td>0.062</td>\n",
       "      <td>0.067</td>\n",
       "      <td>15</td>\n",
       "      <td>15</td>\n",
       "      <td>Sample: online | surname | single num</td>\n",
       "    </tr>\n",
       "    <tr>\n",
       "      <th>1</th>\n",
       "      <td>description</td>\n",
       "      <td>object</td>\n",
       "      <td>0.000</td>\n",
       "      <td>0.062</td>\n",
       "      <td>16</td>\n",
       "      <td>16</td>\n",
       "      <td>Sample: the prossession of the customer | The last time the customer lo...</td>\n",
       "    </tr>\n",
       "  </tbody>\n",
       "</table>\n",
       "</div>"
      ],
      "text/plain": [
       "     Attribute   dType  %_Null  %_Dom  Count  Unique  \\\n",
       "0    attribute  object   0.062  0.067     15      15   \n",
       "1  description  object   0.000  0.062     16      16   \n",
       "\n",
       "                                                                 Observations  \n",
       "0                                       Sample: online | surname | single num  \n",
       "1  Sample: the prossession of the customer | The last time the customer lo...  "
      ]
     },
     "execution_count": 14,
     "metadata": {},
     "output_type": "execute_result"
    }
   ],
   "source": [
    "# check the save worked by loading back the clean canonical\n",
    "df = tr.load_clean_canonical()\n",
    "tr.canonical_report(df, stylise=False)"
   ]
  },
  {
   "cell_type": "markdown",
   "metadata": {},
   "source": [
    "---------\n",
    "### Re-Running the Contract Pipeline"
   ]
  },
  {
   "cell_type": "code",
   "execution_count": 15,
   "metadata": {},
   "outputs": [
    {
     "data": {
      "text/html": [
       "<div>\n",
       "<style scoped>\n",
       "    .dataframe tbody tr th:only-of-type {\n",
       "        vertical-align: middle;\n",
       "    }\n",
       "\n",
       "    .dataframe tbody tr th {\n",
       "        vertical-align: top;\n",
       "    }\n",
       "\n",
       "    .dataframe thead th {\n",
       "        text-align: right;\n",
       "    }\n",
       "</style>\n",
       "<table border=\"1\" class=\"dataframe\">\n",
       "  <thead>\n",
       "    <tr style=\"text-align: right;\">\n",
       "      <th></th>\n",
       "      <th>Attribute</th>\n",
       "      <th>dType</th>\n",
       "      <th>%_Null</th>\n",
       "      <th>%_Dom</th>\n",
       "      <th>Count</th>\n",
       "      <th>Unique</th>\n",
       "      <th>Observations</th>\n",
       "    </tr>\n",
       "  </thead>\n",
       "  <tbody>\n",
       "    <tr>\n",
       "      <th>0</th>\n",
       "      <td>attribute</td>\n",
       "      <td>object</td>\n",
       "      <td>0.062</td>\n",
       "      <td>0.067</td>\n",
       "      <td>15</td>\n",
       "      <td>15</td>\n",
       "      <td>Sample: profession | single num | start</td>\n",
       "    </tr>\n",
       "    <tr>\n",
       "      <th>1</th>\n",
       "      <td>description</td>\n",
       "      <td>object</td>\n",
       "      <td>0.000</td>\n",
       "      <td>0.062</td>\n",
       "      <td>16</td>\n",
       "      <td>16</td>\n",
       "      <td>Sample: if the customer has an online account | customer forename | a c...</td>\n",
       "    </tr>\n",
       "  </tbody>\n",
       "</table>\n",
       "</div>"
      ],
      "text/plain": [
       "     Attribute   dType  %_Null  %_Dom  Count  Unique  \\\n",
       "0    attribute  object   0.062  0.067     15      15   \n",
       "1  description  object   0.000  0.062     16      16   \n",
       "\n",
       "                                                                 Observations  \n",
       "0                                     Sample: profession | single num | start  \n",
       "1  Sample: if the customer has an online account | customer forename | a c...  "
      ]
     },
     "execution_count": 15,
     "metadata": {},
     "output_type": "execute_result"
    }
   ],
   "source": [
    "# loads the raw canonical, run the contract pipeline, save and return the clean canonical\n",
    "df = tr.refresh_clean_canonical()\n",
    "tr.canonical_report(df, stylise=False)"
   ]
  },
  {
   "cell_type": "code",
   "execution_count": null,
   "metadata": {},
   "outputs": [],
   "source": []
  }
 ],
 "metadata": {
  "kernelspec": {
   "display_name": "Python 3",
   "language": "python",
   "name": "python3"
  },
  "language_info": {
   "codemirror_mode": {
    "name": "ipython",
    "version": 3
   },
   "file_extension": ".py",
   "mimetype": "text/x-python",
   "name": "python",
   "nbconvert_exporter": "python",
   "pygments_lexer": "ipython3",
   "version": "3.6.8"
  }
 },
 "nbformat": 4,
 "nbformat_minor": 2
}
