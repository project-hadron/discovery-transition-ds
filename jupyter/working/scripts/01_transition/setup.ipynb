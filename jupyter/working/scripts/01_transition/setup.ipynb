{
 "cells": [
  {
   "cell_type": "code",
   "execution_count": 1,
   "metadata": {},
   "outputs": [],
   "source": [
    "# saves you having to use print as all exposed variables are printed in the cell\n",
    "from IPython.core.interactiveshell import InteractiveShell\n",
    "InteractiveShell.ast_node_interactivity = \"all\"\n",
    "\n",
    "# core libraries\n",
    "import pandas as pd\n",
    "import os\n",
    "from pathlib import Path\n",
    "import matplotlib.pyplot as plt\n",
    "import seaborn as sns\n",
    "\n",
    "# matpolitlib config\n",
    "%matplotlib inline\n",
    "plt.rcParams['figure.figsize'] = 12,4\n",
    "\n",
    "%reload_ext autoreload\n",
    "%autoreload 2\n",
    "# for cleaning and discovery\n",
    "from ds_discovery import Transition\n",
    "from ds_discovery.feature.engineer import FeatureBuilderTools as fe\n",
    "from ds_discovery.transition.discovery import DataDiscovery as Discover\n",
    "\n",
    "# Cortex Simulator\n",
    "from ds_behavioral.simulator.cortex_sim import CortexTransitionAgent\n",
    "\n",
    "# Set the environment working path as the root of the Jupyter instance\n",
    "os.environ['DSTU_WORK_PATH'] = Path(os.environ['PWD']).as_posix()\n"
   ]
  },
  {
   "cell_type": "code",
   "execution_count": null,
   "metadata": {},
   "outputs": [],
   "source": [
    "# run the synthetic data gen\n",
    "%run ../global_functions.ipynb\n",
    "Synthetic.Customer()\n",
    "\n",
    "# run both transitioning contracts\n",
    "%run tr_synthetic_customer.ipynb"
   ]
  }
 ],
 "metadata": {
  "kernelspec": {
   "display_name": "Python 3",
   "language": "python",
   "name": "python3"
  },
  "language_info": {
   "codemirror_mode": {
    "name": "ipython",
    "version": 3
   },
   "file_extension": ".py",
   "mimetype": "text/x-python",
   "name": "python",
   "nbconvert_exporter": "python",
   "pygments_lexer": "ipython3",
   "version": "3.6.8"
  }
 },
 "nbformat": 4,
 "nbformat_minor": 2
}
