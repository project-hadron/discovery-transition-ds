{
 "cells": [
  {
   "cell_type": "code",
   "execution_count": 3,
   "metadata": {},
   "outputs": [
    {
     "name": "stdout",
     "output_type": "stream",
     "text": [
      "DTU: 2.03.046\n"
     ]
    }
   ],
   "source": [
    "# saves you having to use print as all exposed variables are printed in the cell\n",
    "from IPython.core.interactiveshell import InteractiveShell\n",
    "InteractiveShell.ast_node_interactivity = \"all\"\n",
    "\n",
    "# core libraries\n",
    "import pandas as pd\n",
    "import os\n",
    "from pathlib import Path\n",
    "\n",
    "%reload_ext autoreload\n",
    "%autoreload 2\n",
    "# for cleaning and discovery\n",
    "from ds_discovery import TransitionAgent as Transition\n",
    "\n",
    "# Set the environment working path as the root of the Jupyter instance\n",
    "os.environ['DTU_CONFIG_PATH'] = Path(os.environ['PWD']).as_posix()\n",
    "\n",
    "import ds_discovery\n",
    "print('DTU: {}'.format(ds_discovery.__version__))"
   ]
  },
  {
   "cell_type": "markdown",
   "metadata": {},
   "source": [
    "# Accelerated Machine learning\n",
    "## Transitioning: Contract and Canonical Version control\n",
    "Version control is a vital enabler for any discovery activity, particularly in Jupyter Notebooks, where free form discovery code can quickly get out of hand.<br>\n",
    "Built into the transition instance, is managed governace, under the hood, to help quickly manage nameing, versioning, snapshots and backups.\n",
    "\n",
    "### Retrieving the Transitioning instance\n",
    "* To retrieve the transitioning contract we create a Tranisioning instance using the unique contract name\n",
    "* The transitioning object is a singletone instance and will load the current contract"
   ]
  },
  {
   "cell_type": "code",
   "execution_count": 6,
   "metadata": {},
   "outputs": [
    {
     "ename": "AttributeError",
     "evalue": "'AbstractProperty' object has no attribute 'augmented'",
     "output_type": "error",
     "traceback": [
      "\u001b[0;31m---------------------------------------------------------------------------\u001b[0m",
      "\u001b[0;31mAttributeError\u001b[0m                            Traceback (most recent call last)",
      "\u001b[0;32m<ipython-input-6-c7eced3b5074>\u001b[0m in \u001b[0;36m<module>\u001b[0;34m()\u001b[0m\n\u001b[1;32m      1\u001b[0m \u001b[0mtr\u001b[0m \u001b[0;34m=\u001b[0m \u001b[0mTransition\u001b[0m\u001b[0;34m.\u001b[0m\u001b[0mfrom_env\u001b[0m\u001b[0;34m(\u001b[0m\u001b[0;34m'synthetic_customer'\u001b[0m\u001b[0;34m)\u001b[0m\u001b[0;34m\u001b[0m\u001b[0;34m\u001b[0m\u001b[0m\n\u001b[0;32m----> 2\u001b[0;31m \u001b[0mtr\u001b[0m\u001b[0;34m.\u001b[0m\u001b[0mdata_pm\u001b[0m\u001b[0;34m.\u001b[0m\u001b[0mreset_snapshots\u001b[0m\u001b[0;34m(\u001b[0m\u001b[0;34m)\u001b[0m\u001b[0;34m\u001b[0m\u001b[0;34m\u001b[0m\u001b[0m\n\u001b[0m",
      "\u001b[0;32m~/anaconda3/envs/common/lib/python3.6/site-packages/ds_foundation/managers/data_properties.py\u001b[0m in \u001b[0;36mreset_snapshots\u001b[0;34m(self)\u001b[0m\n\u001b[1;32m    175\u001b[0m         \u001b[0;34m\"\"\"resets the snapshots, removing any that currently exist and any snapshot notes\"\"\"\u001b[0m\u001b[0;34m\u001b[0m\u001b[0;34m\u001b[0m\u001b[0m\n\u001b[1;32m    176\u001b[0m         \u001b[0mself\u001b[0m\u001b[0;34m.\u001b[0m\u001b[0mremove\u001b[0m\u001b[0;34m(\u001b[0m\u001b[0mself\u001b[0m\u001b[0;34m.\u001b[0m\u001b[0mKEY\u001b[0m\u001b[0;34m.\u001b[0m\u001b[0msnapshot_key\u001b[0m\u001b[0;34m)\u001b[0m\u001b[0;34m\u001b[0m\u001b[0;34m\u001b[0m\u001b[0m\n\u001b[0;32m--> 177\u001b[0;31m         \u001b[0mself\u001b[0m\u001b[0;34m.\u001b[0m\u001b[0mremove\u001b[0m\u001b[0;34m(\u001b[0m\u001b[0mself\u001b[0m\u001b[0;34m.\u001b[0m\u001b[0mKEY\u001b[0m\u001b[0;34m.\u001b[0m\u001b[0maugmented\u001b[0m\u001b[0;34m.\u001b[0m\u001b[0msnapshot_key\u001b[0m\u001b[0;34m)\u001b[0m\u001b[0;34m\u001b[0m\u001b[0;34m\u001b[0m\u001b[0m\n\u001b[0m\u001b[1;32m    178\u001b[0m         \u001b[0;32mreturn\u001b[0m\u001b[0;34m\u001b[0m\u001b[0;34m\u001b[0m\u001b[0m\n\u001b[1;32m    179\u001b[0m \u001b[0;34m\u001b[0m\u001b[0m\n",
      "\u001b[0;31mAttributeError\u001b[0m: 'AbstractProperty' object has no attribute 'augmented'"
     ]
    }
   ],
   "source": [
    "tr = Transition.from_env('synthetic_customer')\n",
    "tr.data_pm.reset_snapshots()"
   ]
  },
  {
   "cell_type": "markdown",
   "metadata": {},
   "source": [
    "### Create Backup and Snapshot\n",
    "* Contract Backup created an version named copy of the configuration file. Backups are self managing with a rolling versions limit\n",
    "* Creating a snapshop takes a copy of the current transitioning contract and sames as part of the Transitioning contract\n",
    "* Snapshot versions can be recovered using `tr.recover_snapshot(name)`\n",
    "* Finally we clean out the "
   ]
  },
  {
   "cell_type": "code",
   "execution_count": 3,
   "metadata": {},
   "outputs": [
    {
     "data": {
      "text/plain": [
       "'synthetic_customer_#reset'"
      ]
     },
     "execution_count": 3,
     "metadata": {},
     "output_type": "execute_result"
    }
   ],
   "source": [
    "# Create a perminant backup copy our current Transitioning Contract as good practice\n",
    "tr.backup_contract()\n",
    "\n",
    "# Make a snapshot of the Transitioning Contract so we can recover back to it if we need\n",
    "tr.create_snapshot('reset')\n",
    "\n",
    "# reset the current Transitioning Contract attributes\n",
    "tr.reset_transition_contracts()"
   ]
  },
  {
   "cell_type": "markdown",
   "metadata": {},
   "source": [
    "### Canonical Version control\n",
    "Canonical version control, allows you to control the versioning of output canonical datasets to allow experimentation or progressive version control of the Canonical datasets\n",
    "\n",
    "#### Check the current version\n",
    "To check the version, you call the `version` property of the transitioning instance"
   ]
  },
  {
   "cell_type": "code",
   "execution_count": 4,
   "metadata": {},
   "outputs": [
    {
     "data": {
      "text/plain": [
       "'v0.00'"
      ]
     },
     "execution_count": 4,
     "metadata": {},
     "output_type": "execute_result"
    }
   ],
   "source": [
    "tr.version"
   ]
  },
  {
   "cell_type": "markdown",
   "metadata": {},
   "source": [
    "#### Changing the version\n",
    "To change the version you call the method `set_version`"
   ]
  },
  {
   "cell_type": "code",
   "execution_count": 5,
   "metadata": {},
   "outputs": [
    {
     "data": {
      "text/plain": [
       "'v0.01'"
      ]
     },
     "execution_count": 5,
     "metadata": {},
     "output_type": "execute_result"
    }
   ],
   "source": [
    "tr.set_version('v0.01')\n",
    "tr.version"
   ]
  },
  {
   "cell_type": "markdown",
   "metadata": {},
   "source": [
    "#### What does this do?\n",
    "The version number controls the naming pattern of output canonicals and artefacts, for example the output of the contract pipeline and the data dictionary excel file.<br>\n",
    "This allows you to create different versions of files without overwriting previous versions and also to return to previous versions if desired.\n",
    "\n",
    "Lets see how this works\n",
    "#### Change back our version number "
   ]
  },
  {
   "cell_type": "code",
   "execution_count": 6,
   "metadata": {},
   "outputs": [
    {
     "data": {
      "text/plain": [
       "'v0.00'"
      ]
     },
     "execution_count": 6,
     "metadata": {},
     "output_type": "execute_result"
    }
   ],
   "source": [
    "tr.set_version('v0.00')\n",
    "tr.version"
   ]
  },
  {
   "cell_type": "markdown",
   "metadata": {},
   "source": [
    "#### Run our contract pipeline\n",
    "After running we are going to pay particular attention to the `id` column and the number of nulls."
   ]
  },
  {
   "cell_type": "code",
   "execution_count": 7,
   "metadata": {},
   "outputs": [
    {
     "data": {
      "text/html": [
       "<div>\n",
       "<style scoped>\n",
       "    .dataframe tbody tr th:only-of-type {\n",
       "        vertical-align: middle;\n",
       "    }\n",
       "\n",
       "    .dataframe tbody tr th {\n",
       "        vertical-align: top;\n",
       "    }\n",
       "\n",
       "    .dataframe thead th {\n",
       "        text-align: right;\n",
       "    }\n",
       "</style>\n",
       "<table border=\"1\" class=\"dataframe\">\n",
       "  <thead>\n",
       "    <tr style=\"text-align: right;\">\n",
       "      <th></th>\n",
       "      <th>Attribute</th>\n",
       "      <th>dType</th>\n",
       "      <th>%_Null</th>\n",
       "      <th>%_Dom</th>\n",
       "      <th>Count</th>\n",
       "      <th>Unique</th>\n",
       "      <th>Observations</th>\n",
       "    </tr>\n",
       "  </thead>\n",
       "  <tbody>\n",
       "  </tbody>\n",
       "</table>\n",
       "</div>"
      ],
      "text/plain": [
       "Empty DataFrame\n",
       "Columns: [Attribute, dType, %_Null, %_Dom, Count, Unique, Observations]\n",
       "Index: []"
      ]
     },
     "execution_count": 7,
     "metadata": {},
     "output_type": "execute_result"
    }
   ],
   "source": [
    "df = tr.refresh_clean_canonical()\n",
    "tr.canonical_report(df, stylise=False).iloc[3:6]"
   ]
  },
  {
   "cell_type": "markdown",
   "metadata": {},
   "source": [
    "#### Change version to v0.01"
   ]
  },
  {
   "cell_type": "code",
   "execution_count": 8,
   "metadata": {},
   "outputs": [
    {
     "data": {
      "text/plain": [
       "'v0.01'"
      ]
     },
     "execution_count": 8,
     "metadata": {},
     "output_type": "execute_result"
    }
   ],
   "source": [
    "tr.set_version('v0.01')\n",
    "tr.version"
   ]
  },
  {
   "cell_type": "markdown",
   "metadata": {},
   "source": [
    "#### Change the source to a new source file\n",
    "For the purposes of demo we are going to point to a corrupted file\n",
    "\n",
    "**Note:** Version control **ONLY** manages the naming convention of output canonicals and artefacts and does not effect **_source contracts_** or **_contract pipelines_**<br>\n",
    "From more information on managing these, see **_contract snapshots_** below"
   ]
  },
  {
   "cell_type": "code",
   "execution_count": 9,
   "metadata": {},
   "outputs": [],
   "source": [
    "tr.set_source_contract(resource='synthetic_customer_corrupt.csv', sep=',', encoding='latin1', load=False)"
   ]
  },
  {
   "cell_type": "markdown",
   "metadata": {},
   "source": [
    "#### Re-run the contract pipeline\n",
    "After running we again, are going to pay particular attention to the `id` column and the number of nulls."
   ]
  },
  {
   "cell_type": "code",
   "execution_count": 10,
   "metadata": {},
   "outputs": [
    {
     "data": {
      "text/html": [
       "<div>\n",
       "<style scoped>\n",
       "    .dataframe tbody tr th:only-of-type {\n",
       "        vertical-align: middle;\n",
       "    }\n",
       "\n",
       "    .dataframe tbody tr th {\n",
       "        vertical-align: top;\n",
       "    }\n",
       "\n",
       "    .dataframe thead th {\n",
       "        text-align: right;\n",
       "    }\n",
       "</style>\n",
       "<table border=\"1\" class=\"dataframe\">\n",
       "  <thead>\n",
       "    <tr style=\"text-align: right;\">\n",
       "      <th></th>\n",
       "      <th>Attribute</th>\n",
       "      <th>dType</th>\n",
       "      <th>%_Null</th>\n",
       "      <th>%_Dom</th>\n",
       "      <th>Count</th>\n",
       "      <th>Unique</th>\n",
       "      <th>Observations</th>\n",
       "    </tr>\n",
       "  </thead>\n",
       "  <tbody>\n",
       "    <tr>\n",
       "      <th>3</th>\n",
       "      <td>gender</td>\n",
       "      <td>object</td>\n",
       "      <td>0.5</td>\n",
       "      <td>0.610</td>\n",
       "      <td>500</td>\n",
       "      <td>2</td>\n",
       "      <td>Sample: M | F</td>\n",
       "    </tr>\n",
       "    <tr>\n",
       "      <th>4</th>\n",
       "      <td>id</td>\n",
       "      <td>object</td>\n",
       "      <td>0.4</td>\n",
       "      <td>0.002</td>\n",
       "      <td>600</td>\n",
       "      <td>600</td>\n",
       "      <td>Sample: CU_9850914 | CU_1631492 | CU_4979758</td>\n",
       "    </tr>\n",
       "    <tr>\n",
       "      <th>5</th>\n",
       "      <td>null</td>\n",
       "      <td>float64</td>\n",
       "      <td>1.0</td>\n",
       "      <td>0.000</td>\n",
       "      <td>0</td>\n",
       "      <td>0</td>\n",
       "      <td>max=nan | min=nan | mean=nan</td>\n",
       "    </tr>\n",
       "  </tbody>\n",
       "</table>\n",
       "</div>"
      ],
      "text/plain": [
       "  Attribute    dType  %_Null  %_Dom  Count  Unique  \\\n",
       "3    gender   object     0.5  0.610    500       2   \n",
       "4        id   object     0.4  0.002    600     600   \n",
       "5      null  float64     1.0  0.000      0       0   \n",
       "\n",
       "                                   Observations  \n",
       "3                                 Sample: M | F  \n",
       "4  Sample: CU_9850914 | CU_1631492 | CU_4979758  \n",
       "5                  max=nan | min=nan | mean=nan  "
      ]
     },
     "execution_count": 10,
     "metadata": {},
     "output_type": "execute_result"
    }
   ],
   "source": [
    "df = tr.refresh_clean_canonical()\n",
    "tr.canonical_report(df, stylise=False).iloc[3:6]"
   ]
  },
  {
   "cell_type": "markdown",
   "metadata": {},
   "source": [
    "#### Returning to the previous version\n",
    "As we see the corrupted file has 40% nulls in the id<br>\n",
    "By resetting the version we can return to our original data without rerunning the pipeline contract\n"
   ]
  },
  {
   "cell_type": "code",
   "execution_count": 11,
   "metadata": {},
   "outputs": [
    {
     "data": {
      "text/plain": [
       "'v0.00'"
      ]
     },
     "execution_count": 11,
     "metadata": {},
     "output_type": "execute_result"
    }
   ],
   "source": [
    "tr.set_version('v0.00')\n",
    "tr.version"
   ]
  },
  {
   "cell_type": "code",
   "execution_count": 12,
   "metadata": {},
   "outputs": [
    {
     "data": {
      "text/html": [
       "<div>\n",
       "<style scoped>\n",
       "    .dataframe tbody tr th:only-of-type {\n",
       "        vertical-align: middle;\n",
       "    }\n",
       "\n",
       "    .dataframe tbody tr th {\n",
       "        vertical-align: top;\n",
       "    }\n",
       "\n",
       "    .dataframe thead th {\n",
       "        text-align: right;\n",
       "    }\n",
       "</style>\n",
       "<table border=\"1\" class=\"dataframe\">\n",
       "  <thead>\n",
       "    <tr style=\"text-align: right;\">\n",
       "      <th></th>\n",
       "      <th>Attribute</th>\n",
       "      <th>dType</th>\n",
       "      <th>%_Null</th>\n",
       "      <th>%_Dom</th>\n",
       "      <th>Count</th>\n",
       "      <th>Unique</th>\n",
       "      <th>Observations</th>\n",
       "    </tr>\n",
       "  </thead>\n",
       "  <tbody>\n",
       "  </tbody>\n",
       "</table>\n",
       "</div>"
      ],
      "text/plain": [
       "Empty DataFrame\n",
       "Columns: [Attribute, dType, %_Null, %_Dom, Count, Unique, Observations]\n",
       "Index: []"
      ]
     },
     "execution_count": 12,
     "metadata": {},
     "output_type": "execute_result"
    }
   ],
   "source": [
    "df = tr.load_clean_canonical()\n",
    "tr.discover.data_dictionary(df).iloc[3:6]"
   ]
  },
  {
   "cell_type": "markdown",
   "metadata": {},
   "source": [
    "#### Changing back we can see the corrupted file is still under version 0.01"
   ]
  },
  {
   "cell_type": "code",
   "execution_count": 13,
   "metadata": {},
   "outputs": [
    {
     "data": {
      "text/plain": [
       "'v0.01'"
      ]
     },
     "execution_count": 13,
     "metadata": {},
     "output_type": "execute_result"
    }
   ],
   "source": [
    "tr.set_version('v0.01')\n",
    "tr.version"
   ]
  },
  {
   "cell_type": "code",
   "execution_count": 14,
   "metadata": {},
   "outputs": [
    {
     "data": {
      "text/html": [
       "<div>\n",
       "<style scoped>\n",
       "    .dataframe tbody tr th:only-of-type {\n",
       "        vertical-align: middle;\n",
       "    }\n",
       "\n",
       "    .dataframe tbody tr th {\n",
       "        vertical-align: top;\n",
       "    }\n",
       "\n",
       "    .dataframe thead th {\n",
       "        text-align: right;\n",
       "    }\n",
       "</style>\n",
       "<table border=\"1\" class=\"dataframe\">\n",
       "  <thead>\n",
       "    <tr style=\"text-align: right;\">\n",
       "      <th></th>\n",
       "      <th>Attribute</th>\n",
       "      <th>dType</th>\n",
       "      <th>%_Null</th>\n",
       "      <th>%_Dom</th>\n",
       "      <th>Count</th>\n",
       "      <th>Unique</th>\n",
       "      <th>Observations</th>\n",
       "    </tr>\n",
       "  </thead>\n",
       "  <tbody>\n",
       "    <tr>\n",
       "      <th>3</th>\n",
       "      <td>gender</td>\n",
       "      <td>object</td>\n",
       "      <td>0.5</td>\n",
       "      <td>0.610</td>\n",
       "      <td>500</td>\n",
       "      <td>2</td>\n",
       "      <td>Sample: M | F</td>\n",
       "    </tr>\n",
       "    <tr>\n",
       "      <th>4</th>\n",
       "      <td>id</td>\n",
       "      <td>object</td>\n",
       "      <td>0.4</td>\n",
       "      <td>0.002</td>\n",
       "      <td>600</td>\n",
       "      <td>600</td>\n",
       "      <td>Sample: CU_7760922 | CU_3413348 | CU_2270638</td>\n",
       "    </tr>\n",
       "    <tr>\n",
       "      <th>5</th>\n",
       "      <td>null</td>\n",
       "      <td>float64</td>\n",
       "      <td>1.0</td>\n",
       "      <td>0.000</td>\n",
       "      <td>0</td>\n",
       "      <td>0</td>\n",
       "      <td>max=nan | min=nan | mean=nan</td>\n",
       "    </tr>\n",
       "  </tbody>\n",
       "</table>\n",
       "</div>"
      ],
      "text/plain": [
       "  Attribute    dType  %_Null  %_Dom  Count  Unique  \\\n",
       "3    gender   object     0.5  0.610    500       2   \n",
       "4        id   object     0.4  0.002    600     600   \n",
       "5      null  float64     1.0  0.000      0       0   \n",
       "\n",
       "                                   Observations  \n",
       "3                                 Sample: M | F  \n",
       "4  Sample: CU_7760922 | CU_3413348 | CU_2270638  \n",
       "5                  max=nan | min=nan | mean=nan  "
      ]
     },
     "execution_count": 14,
     "metadata": {},
     "output_type": "execute_result"
    }
   ],
   "source": [
    "df = tr.load_clean_canonical()\n",
    "tr.discover.data_dictionary(df).iloc[3:6]"
   ]
  },
  {
   "cell_type": "markdown",
   "metadata": {},
   "source": [
    "#### Remove corrupted  canonical\n",
    "Finally lets remove the corrupted canonical and return everything back to normal<br>\n",
    "Note: When we remove the corrupted canonical we don't have to give any names, this ensures we don't inadvertently remove any wrong data"
   ]
  },
  {
   "cell_type": "code",
   "execution_count": 15,
   "metadata": {},
   "outputs": [],
   "source": [
    "tr.remove_clean_canonical()"
   ]
  },
  {
   "cell_type": "code",
   "execution_count": 16,
   "metadata": {},
   "outputs": [
    {
     "data": {
      "text/plain": [
       "'v0.00'"
      ]
     },
     "execution_count": 16,
     "metadata": {},
     "output_type": "execute_result"
    }
   ],
   "source": [
    "tr.set_source_contract(resource='synthetic_customer.csv', sep=',', encoding='latin1', load=False)\n",
    "tr.set_version('v0.00')\n",
    "tr.version"
   ]
  },
  {
   "cell_type": "markdown",
   "metadata": {},
   "source": [
    "### Contract Version Control\n",
    "Unlike canonical version control, contract version control takes a copy of the whole contract.<br>\n",
    "There are two types of Contract Versioning\n",
    "* **Snapshot**: that allows you to create list and return to versions of your contracts\n",
    "* **Backup**: A one time backup of the current contract\n",
    "\n",
    "#### Creating a snapshot\n",
    "Within the Transitioning object are a number of methods, starting with `snapshot` the first of which is create<br>\n",
    "Here we are going to create a snapshot of our current `synthetic_customer` contract. Note, it returns the name of the snapshot for reference"
   ]
  },
  {
   "cell_type": "code",
   "execution_count": 17,
   "metadata": {},
   "outputs": [
    {
     "data": {
      "text/plain": [
       "'synthetic_customer_#2019-06-19_10:00'"
      ]
     },
     "execution_count": 17,
     "metadata": {},
     "output_type": "execute_result"
    }
   ],
   "source": [
    "tr.create_snapshot()"
   ]
  },
  {
   "cell_type": "markdown",
   "metadata": {},
   "source": [
    "#### Create named snapshot\n",
    "This time lets create another snapshot but give it a suffix as a version placeholder, we can also add in extra notes"
   ]
  },
  {
   "cell_type": "code",
   "execution_count": 18,
   "metadata": {},
   "outputs": [],
   "source": [
    "start_of_test_snap = tr.create_snapshot(suffix='start_of_test', note=\"The beginning of our test cycle\")"
   ]
  },
  {
   "cell_type": "markdown",
   "metadata": {},
   "source": [
    "#### Make changes to our contract\n",
    "We can now make changes to our contract knowing we have a safe return point.<br>\n",
    "In this case, changing the source contract to point to another file we want to test out"
   ]
  },
  {
   "cell_type": "code",
   "execution_count": 19,
   "metadata": {},
   "outputs": [
    {
     "data": {
      "text/html": [
       "<style  type=\"text/css\" >\n",
       "    #T_a34c1ecc_9270_11e9_9068_acde48001122 th {\n",
       "          font-size: 120%;\n",
       "          text-align: center;\n",
       "    }    #T_a34c1ecc_9270_11e9_9068_acde48001122 .row_heading, .blank {\n",
       "          display: none;;\n",
       "    }    #T_a34c1ecc_9270_11e9_9068_acde48001122row0_col0 {\n",
       "            text-align:  left;\n",
       "            font-weight:  bold;\n",
       "        }    #T_a34c1ecc_9270_11e9_9068_acde48001122row0_col1 {\n",
       "            text-align:  left;\n",
       "        }    #T_a34c1ecc_9270_11e9_9068_acde48001122row1_col0 {\n",
       "            text-align:  left;\n",
       "            font-weight:  bold;\n",
       "        }    #T_a34c1ecc_9270_11e9_9068_acde48001122row1_col1 {\n",
       "            text-align:  left;\n",
       "        }    #T_a34c1ecc_9270_11e9_9068_acde48001122row2_col0 {\n",
       "            text-align:  left;\n",
       "            font-weight:  bold;\n",
       "        }    #T_a34c1ecc_9270_11e9_9068_acde48001122row2_col1 {\n",
       "            text-align:  left;\n",
       "        }    #T_a34c1ecc_9270_11e9_9068_acde48001122row3_col0 {\n",
       "            text-align:  left;\n",
       "            font-weight:  bold;\n",
       "        }    #T_a34c1ecc_9270_11e9_9068_acde48001122row3_col1 {\n",
       "            text-align:  left;\n",
       "        }    #T_a34c1ecc_9270_11e9_9068_acde48001122row4_col0 {\n",
       "            text-align:  left;\n",
       "            font-weight:  bold;\n",
       "        }    #T_a34c1ecc_9270_11e9_9068_acde48001122row4_col1 {\n",
       "            text-align:  left;\n",
       "        }    #T_a34c1ecc_9270_11e9_9068_acde48001122row5_col0 {\n",
       "            text-align:  left;\n",
       "            font-weight:  bold;\n",
       "        }    #T_a34c1ecc_9270_11e9_9068_acde48001122row5_col1 {\n",
       "            text-align:  left;\n",
       "        }    #T_a34c1ecc_9270_11e9_9068_acde48001122row6_col0 {\n",
       "            text-align:  left;\n",
       "            font-weight:  bold;\n",
       "        }    #T_a34c1ecc_9270_11e9_9068_acde48001122row6_col1 {\n",
       "            text-align:  left;\n",
       "        }    #T_a34c1ecc_9270_11e9_9068_acde48001122row7_col0 {\n",
       "            text-align:  left;\n",
       "            font-weight:  bold;\n",
       "        }    #T_a34c1ecc_9270_11e9_9068_acde48001122row7_col1 {\n",
       "            text-align:  left;\n",
       "        }</style><table id=\"T_a34c1ecc_9270_11e9_9068_acde48001122\" ><thead>    <tr>        <th class=\"blank level0\" ></th>        <th class=\"col_heading level0 col0\" >param</th>        <th class=\"col_heading level0 col1\" >values</th>    </tr></thead><tbody>\n",
       "                <tr>\n",
       "                        <th id=\"T_a34c1ecc_9270_11e9_9068_acde48001122level0_row0\" class=\"row_heading level0 row0\" >0</th>\n",
       "                        <td id=\"T_a34c1ecc_9270_11e9_9068_acde48001122row0_col0\" class=\"data row0 col0\" >resource</td>\n",
       "                        <td id=\"T_a34c1ecc_9270_11e9_9068_acde48001122row0_col1\" class=\"data row0 col1\" >synthetic_customer_corrupt.csv</td>\n",
       "            </tr>\n",
       "            <tr>\n",
       "                        <th id=\"T_a34c1ecc_9270_11e9_9068_acde48001122level0_row1\" class=\"row_heading level0 row1\" >1</th>\n",
       "                        <td id=\"T_a34c1ecc_9270_11e9_9068_acde48001122row1_col0\" class=\"data row1 col0\" >source_type</td>\n",
       "                        <td id=\"T_a34c1ecc_9270_11e9_9068_acde48001122row1_col1\" class=\"data row1 col1\" >csv</td>\n",
       "            </tr>\n",
       "            <tr>\n",
       "                        <th id=\"T_a34c1ecc_9270_11e9_9068_acde48001122level0_row2\" class=\"row_heading level0 row2\" >2</th>\n",
       "                        <td id=\"T_a34c1ecc_9270_11e9_9068_acde48001122row2_col0\" class=\"data row2 col0\" >location</td>\n",
       "                        <td id=\"T_a34c1ecc_9270_11e9_9068_acde48001122row2_col1\" class=\"data row2 col1\" >/Users/doatridge/code/projects/prod/discovery-transitioning-utils/jupyter/working/data/0_raw</td>\n",
       "            </tr>\n",
       "            <tr>\n",
       "                        <th id=\"T_a34c1ecc_9270_11e9_9068_acde48001122level0_row3\" class=\"row_heading level0 row3\" >3</th>\n",
       "                        <td id=\"T_a34c1ecc_9270_11e9_9068_acde48001122row3_col0\" class=\"data row3 col0\" >module_name</td>\n",
       "                        <td id=\"T_a34c1ecc_9270_11e9_9068_acde48001122row3_col1\" class=\"data row3 col1\" >ds_discovery.handlers.pandas_handlers</td>\n",
       "            </tr>\n",
       "            <tr>\n",
       "                        <th id=\"T_a34c1ecc_9270_11e9_9068_acde48001122level0_row4\" class=\"row_heading level0 row4\" >4</th>\n",
       "                        <td id=\"T_a34c1ecc_9270_11e9_9068_acde48001122row4_col0\" class=\"data row4 col0\" >handler</td>\n",
       "                        <td id=\"T_a34c1ecc_9270_11e9_9068_acde48001122row4_col1\" class=\"data row4 col1\" >PandasHandler</td>\n",
       "            </tr>\n",
       "            <tr>\n",
       "                        <th id=\"T_a34c1ecc_9270_11e9_9068_acde48001122level0_row5\" class=\"row_heading level0 row5\" >5</th>\n",
       "                        <td id=\"T_a34c1ecc_9270_11e9_9068_acde48001122row5_col0\" class=\"data row5 col0\" >modified</td>\n",
       "                        <td id=\"T_a34c1ecc_9270_11e9_9068_acde48001122row5_col1\" class=\"data row5 col1\" ></td>\n",
       "            </tr>\n",
       "            <tr>\n",
       "                        <th id=\"T_a34c1ecc_9270_11e9_9068_acde48001122level0_row6\" class=\"row_heading level0 row6\" >6</th>\n",
       "                        <td id=\"T_a34c1ecc_9270_11e9_9068_acde48001122row6_col0\" class=\"data row6 col0\" >sep</td>\n",
       "                        <td id=\"T_a34c1ecc_9270_11e9_9068_acde48001122row6_col1\" class=\"data row6 col1\" >,</td>\n",
       "            </tr>\n",
       "            <tr>\n",
       "                        <th id=\"T_a34c1ecc_9270_11e9_9068_acde48001122level0_row7\" class=\"row_heading level0 row7\" >7</th>\n",
       "                        <td id=\"T_a34c1ecc_9270_11e9_9068_acde48001122row7_col0\" class=\"data row7 col0\" >encoding</td>\n",
       "                        <td id=\"T_a34c1ecc_9270_11e9_9068_acde48001122row7_col1\" class=\"data row7 col1\" >latin1</td>\n",
       "            </tr>\n",
       "    </tbody></table>"
      ],
      "text/plain": [
       "<pandas.io.formats.style.Styler at 0x1a1ea03a20>"
      ]
     },
     "execution_count": 19,
     "metadata": {},
     "output_type": "execute_result"
    }
   ],
   "source": [
    "tr.set_source_contract(resource='synthetic_customer_corrupt.csv', sep=',', encoding='latin1', load=False)\n",
    "tr.report_source()"
   ]
  },
  {
   "cell_type": "markdown",
   "metadata": {},
   "source": [
    "Lets also change the version number to make sure we don't overwrite our current canonicals."
   ]
  },
  {
   "cell_type": "code",
   "execution_count": 20,
   "metadata": {},
   "outputs": [
    {
     "data": {
      "text/plain": [
       "'corrupt'"
      ]
     },
     "execution_count": 20,
     "metadata": {},
     "output_type": "execute_result"
    }
   ],
   "source": [
    "tr.set_version('corrupt')\n",
    "tr.version"
   ]
  },
  {
   "cell_type": "markdown",
   "metadata": {},
   "source": [
    "#### Viewing available snapshots\n",
    "Now we have played with our 'alternative' contract we want to return to were we were...<br>\n",
    "We have our variable `start_of_test_snap` but we can also list our avaialble `snapshots` by calling `tr.snapshots`"
   ]
  },
  {
   "cell_type": "code",
   "execution_count": 21,
   "metadata": {},
   "outputs": [
    {
     "data": {
      "text/plain": [
       "['synthetic_customer_#2019-06-19_10:00', 'synthetic_customer_#start_of_test']"
      ]
     },
     "execution_count": 21,
     "metadata": {},
     "output_type": "execute_result"
    }
   ],
   "source": [
    "tr.snapshots"
   ]
  },
  {
   "cell_type": "markdown",
   "metadata": {},
   "source": [
    "#### Return to previous snapshot\n",
    "To return the current contract to a previous snapshot you use `tr.snapshot_recover()` and pass it the snapshot name you wish to recover to.<br>\n",
    "It is worth noting, the recovery snapshot remains and can be returned to as long as it exists."
   ]
  },
  {
   "cell_type": "code",
   "execution_count": 22,
   "metadata": {},
   "outputs": [],
   "source": [
    "tr.recover_snapshot(start_of_test_snap)"
   ]
  },
  {
   "cell_type": "markdown",
   "metadata": {},
   "source": [
    "#### Checking our work\n",
    "Now when we look at our source contract and our version we see we have returned to our origional contract"
   ]
  },
  {
   "cell_type": "code",
   "execution_count": 23,
   "metadata": {},
   "outputs": [
    {
     "data": {
      "text/html": [
       "<style  type=\"text/css\" >\n",
       "    #T_a36bd55a_9270_11e9_99c1_acde48001122 th {\n",
       "          font-size: 120%;\n",
       "          text-align: center;\n",
       "    }    #T_a36bd55a_9270_11e9_99c1_acde48001122 .row_heading, .blank {\n",
       "          display: none;;\n",
       "    }    #T_a36bd55a_9270_11e9_99c1_acde48001122row0_col0 {\n",
       "            text-align:  left;\n",
       "            font-weight:  bold;\n",
       "        }    #T_a36bd55a_9270_11e9_99c1_acde48001122row0_col1 {\n",
       "            text-align:  left;\n",
       "        }    #T_a36bd55a_9270_11e9_99c1_acde48001122row1_col0 {\n",
       "            text-align:  left;\n",
       "            font-weight:  bold;\n",
       "        }    #T_a36bd55a_9270_11e9_99c1_acde48001122row1_col1 {\n",
       "            text-align:  left;\n",
       "        }    #T_a36bd55a_9270_11e9_99c1_acde48001122row2_col0 {\n",
       "            text-align:  left;\n",
       "            font-weight:  bold;\n",
       "        }    #T_a36bd55a_9270_11e9_99c1_acde48001122row2_col1 {\n",
       "            text-align:  left;\n",
       "        }    #T_a36bd55a_9270_11e9_99c1_acde48001122row3_col0 {\n",
       "            text-align:  left;\n",
       "            font-weight:  bold;\n",
       "        }    #T_a36bd55a_9270_11e9_99c1_acde48001122row3_col1 {\n",
       "            text-align:  left;\n",
       "        }    #T_a36bd55a_9270_11e9_99c1_acde48001122row4_col0 {\n",
       "            text-align:  left;\n",
       "            font-weight:  bold;\n",
       "        }    #T_a36bd55a_9270_11e9_99c1_acde48001122row4_col1 {\n",
       "            text-align:  left;\n",
       "        }    #T_a36bd55a_9270_11e9_99c1_acde48001122row5_col0 {\n",
       "            text-align:  left;\n",
       "            font-weight:  bold;\n",
       "        }    #T_a36bd55a_9270_11e9_99c1_acde48001122row5_col1 {\n",
       "            text-align:  left;\n",
       "        }    #T_a36bd55a_9270_11e9_99c1_acde48001122row6_col0 {\n",
       "            text-align:  left;\n",
       "            font-weight:  bold;\n",
       "        }    #T_a36bd55a_9270_11e9_99c1_acde48001122row6_col1 {\n",
       "            text-align:  left;\n",
       "        }    #T_a36bd55a_9270_11e9_99c1_acde48001122row7_col0 {\n",
       "            text-align:  left;\n",
       "            font-weight:  bold;\n",
       "        }    #T_a36bd55a_9270_11e9_99c1_acde48001122row7_col1 {\n",
       "            text-align:  left;\n",
       "        }</style><table id=\"T_a36bd55a_9270_11e9_99c1_acde48001122\" ><thead>    <tr>        <th class=\"blank level0\" ></th>        <th class=\"col_heading level0 col0\" >param</th>        <th class=\"col_heading level0 col1\" >values</th>    </tr></thead><tbody>\n",
       "                <tr>\n",
       "                        <th id=\"T_a36bd55a_9270_11e9_99c1_acde48001122level0_row0\" class=\"row_heading level0 row0\" >0</th>\n",
       "                        <td id=\"T_a36bd55a_9270_11e9_99c1_acde48001122row0_col0\" class=\"data row0 col0\" >resource</td>\n",
       "                        <td id=\"T_a36bd55a_9270_11e9_99c1_acde48001122row0_col1\" class=\"data row0 col1\" >synthetic_customer.csv</td>\n",
       "            </tr>\n",
       "            <tr>\n",
       "                        <th id=\"T_a36bd55a_9270_11e9_99c1_acde48001122level0_row1\" class=\"row_heading level0 row1\" >1</th>\n",
       "                        <td id=\"T_a36bd55a_9270_11e9_99c1_acde48001122row1_col0\" class=\"data row1 col0\" >source_type</td>\n",
       "                        <td id=\"T_a36bd55a_9270_11e9_99c1_acde48001122row1_col1\" class=\"data row1 col1\" >csv</td>\n",
       "            </tr>\n",
       "            <tr>\n",
       "                        <th id=\"T_a36bd55a_9270_11e9_99c1_acde48001122level0_row2\" class=\"row_heading level0 row2\" >2</th>\n",
       "                        <td id=\"T_a36bd55a_9270_11e9_99c1_acde48001122row2_col0\" class=\"data row2 col0\" >location</td>\n",
       "                        <td id=\"T_a36bd55a_9270_11e9_99c1_acde48001122row2_col1\" class=\"data row2 col1\" >/Users/doatridge/code/projects/prod/discovery-transitioning-utils/jupyter/working/data/0_raw</td>\n",
       "            </tr>\n",
       "            <tr>\n",
       "                        <th id=\"T_a36bd55a_9270_11e9_99c1_acde48001122level0_row3\" class=\"row_heading level0 row3\" >3</th>\n",
       "                        <td id=\"T_a36bd55a_9270_11e9_99c1_acde48001122row3_col0\" class=\"data row3 col0\" >module_name</td>\n",
       "                        <td id=\"T_a36bd55a_9270_11e9_99c1_acde48001122row3_col1\" class=\"data row3 col1\" >ds_discovery.handlers.pandas_handlers</td>\n",
       "            </tr>\n",
       "            <tr>\n",
       "                        <th id=\"T_a36bd55a_9270_11e9_99c1_acde48001122level0_row4\" class=\"row_heading level0 row4\" >4</th>\n",
       "                        <td id=\"T_a36bd55a_9270_11e9_99c1_acde48001122row4_col0\" class=\"data row4 col0\" >handler</td>\n",
       "                        <td id=\"T_a36bd55a_9270_11e9_99c1_acde48001122row4_col1\" class=\"data row4 col1\" >PandasHandler</td>\n",
       "            </tr>\n",
       "            <tr>\n",
       "                        <th id=\"T_a36bd55a_9270_11e9_99c1_acde48001122level0_row5\" class=\"row_heading level0 row5\" >5</th>\n",
       "                        <td id=\"T_a36bd55a_9270_11e9_99c1_acde48001122row5_col0\" class=\"data row5 col0\" >modified</td>\n",
       "                        <td id=\"T_a36bd55a_9270_11e9_99c1_acde48001122row5_col1\" class=\"data row5 col1\" ></td>\n",
       "            </tr>\n",
       "            <tr>\n",
       "                        <th id=\"T_a36bd55a_9270_11e9_99c1_acde48001122level0_row6\" class=\"row_heading level0 row6\" >6</th>\n",
       "                        <td id=\"T_a36bd55a_9270_11e9_99c1_acde48001122row6_col0\" class=\"data row6 col0\" >sep</td>\n",
       "                        <td id=\"T_a36bd55a_9270_11e9_99c1_acde48001122row6_col1\" class=\"data row6 col1\" >,</td>\n",
       "            </tr>\n",
       "            <tr>\n",
       "                        <th id=\"T_a36bd55a_9270_11e9_99c1_acde48001122level0_row7\" class=\"row_heading level0 row7\" >7</th>\n",
       "                        <td id=\"T_a36bd55a_9270_11e9_99c1_acde48001122row7_col0\" class=\"data row7 col0\" >encoding</td>\n",
       "                        <td id=\"T_a36bd55a_9270_11e9_99c1_acde48001122row7_col1\" class=\"data row7 col1\" >latin1</td>\n",
       "            </tr>\n",
       "    </tbody></table>"
      ],
      "text/plain": [
       "<pandas.io.formats.style.Styler at 0x1a1ecc3dd8>"
      ]
     },
     "execution_count": 23,
     "metadata": {},
     "output_type": "execute_result"
    }
   ],
   "source": [
    "tr.report_source()"
   ]
  },
  {
   "cell_type": "code",
   "execution_count": 24,
   "metadata": {},
   "outputs": [
    {
     "data": {
      "text/plain": [
       "'v0.00'"
      ]
     },
     "execution_count": 24,
     "metadata": {},
     "output_type": "execute_result"
    }
   ],
   "source": [
    "tr.version"
   ]
  },
  {
   "cell_type": "code",
   "execution_count": null,
   "metadata": {},
   "outputs": [],
   "source": []
  }
 ],
 "metadata": {
  "kernelspec": {
   "display_name": "Python 3",
   "language": "python",
   "name": "python3"
  },
  "language_info": {
   "codemirror_mode": {
    "name": "ipython",
    "version": 3
   },
   "file_extension": ".py",
   "mimetype": "text/x-python",
   "name": "python",
   "nbconvert_exporter": "python",
   "pygments_lexer": "ipython3",
   "version": "3.6.8"
  }
 },
 "nbformat": 4,
 "nbformat_minor": 2
}
