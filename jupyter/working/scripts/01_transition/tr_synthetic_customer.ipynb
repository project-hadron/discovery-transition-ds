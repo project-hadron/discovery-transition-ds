{
 "cells": [
  {
   "cell_type": "code",
   "execution_count": 1,
   "metadata": {},
   "outputs": [
    {
     "name": "stdout",
     "output_type": "stream",
     "text": [
      "Foundation: 1.02.030\n",
      "Transition: 2.03.076\n"
     ]
    }
   ],
   "source": [
    "%run ../base_setup.ipynb"
   ]
  },
  {
   "cell_type": "markdown",
   "metadata": {},
   "source": [
    "# Accelerated Machine learning\n",
    "## Transitioning Contract"
   ]
  },
  {
   "cell_type": "code",
   "execution_count": 2,
   "metadata": {},
   "outputs": [],
   "source": [
    "# create or retrieve the named Transition instance\n",
    "tr = Transition.from_env('synthetic_customer')"
   ]
  },
  {
   "cell_type": "markdown",
   "metadata": {},
   "source": [
    "#### Reset the Contract"
   ]
  },
  {
   "cell_type": "code",
   "execution_count": 94,
   "metadata": {},
   "outputs": [],
   "source": [
    "tr.reset_transition_contracts()"
   ]
  },
  {
   "cell_type": "markdown",
   "metadata": {},
   "source": [
    "### Data Source"
   ]
  },
  {
   "cell_type": "code",
   "execution_count": 95,
   "metadata": {},
   "outputs": [],
   "source": [
    "# # Alternative S3\n",
    "# tr.set_source_contract(resource='data/synthetic/synthetic_customer.csv', connector_type='dsv',\n",
    "#                        location='ds-discovery', module_name='ds_connectors.handlers.aws_s3_handlers', handler='S3SourceHandler',\n",
    "#                        delimiter=',', encoding='latin1')\n",
    "# tr.set_persist_contract()"
   ]
  },
  {
   "cell_type": "code",
   "execution_count": 96,
   "metadata": {},
   "outputs": [],
   "source": [
    "# set the source contract\n",
    "tr.set_source_contract(resource='synthetic_agent.csv', connector_type='csv', location=os.environ['DTU_ORIGIN_PATH'], \n",
    "                       module_name=tr.MODULE_NAME, handler=tr.SOURCE_HANDLER, sep=',', encoding='latin1')"
   ]
  },
  {
   "cell_type": "code",
   "execution_count": 97,
   "metadata": {},
   "outputs": [
    {
     "data": {
      "text/html": [
       "<style  type=\"text/css\" >\n",
       "    #T_3aad3392_0a39_11ea_8888_784f439cb1c6 th {\n",
       "          font-size: 120%;\n",
       "          text-align: center;\n",
       "    }    #T_3aad3392_0a39_11ea_8888_784f439cb1c6 .row_heading, .blank {\n",
       "          display: none;;\n",
       "    }    #T_3aad3392_0a39_11ea_8888_784f439cb1c6row0_col0 {\n",
       "            text-align:  left;\n",
       "            font-weight:  bold;\n",
       "        }    #T_3aad3392_0a39_11ea_8888_784f439cb1c6row0_col1 {\n",
       "            text-align:  left;\n",
       "        }    #T_3aad3392_0a39_11ea_8888_784f439cb1c6row0_col2 {\n",
       "            text-align:  left;\n",
       "        }    #T_3aad3392_0a39_11ea_8888_784f439cb1c6row1_col0 {\n",
       "            text-align:  left;\n",
       "            font-weight:  bold;\n",
       "        }    #T_3aad3392_0a39_11ea_8888_784f439cb1c6row1_col1 {\n",
       "            text-align:  left;\n",
       "        }    #T_3aad3392_0a39_11ea_8888_784f439cb1c6row1_col2 {\n",
       "            text-align:  left;\n",
       "        }    #T_3aad3392_0a39_11ea_8888_784f439cb1c6row2_col0 {\n",
       "            text-align:  left;\n",
       "            font-weight:  bold;\n",
       "        }    #T_3aad3392_0a39_11ea_8888_784f439cb1c6row2_col1 {\n",
       "            text-align:  left;\n",
       "        }    #T_3aad3392_0a39_11ea_8888_784f439cb1c6row2_col2 {\n",
       "            text-align:  left;\n",
       "        }    #T_3aad3392_0a39_11ea_8888_784f439cb1c6row3_col0 {\n",
       "            text-align:  left;\n",
       "            font-weight:  bold;\n",
       "        }    #T_3aad3392_0a39_11ea_8888_784f439cb1c6row3_col1 {\n",
       "            text-align:  left;\n",
       "        }    #T_3aad3392_0a39_11ea_8888_784f439cb1c6row3_col2 {\n",
       "            text-align:  left;\n",
       "        }    #T_3aad3392_0a39_11ea_8888_784f439cb1c6row4_col0 {\n",
       "            text-align:  left;\n",
       "            font-weight:  bold;\n",
       "        }    #T_3aad3392_0a39_11ea_8888_784f439cb1c6row4_col1 {\n",
       "            text-align:  left;\n",
       "        }    #T_3aad3392_0a39_11ea_8888_784f439cb1c6row4_col2 {\n",
       "            text-align:  left;\n",
       "        }    #T_3aad3392_0a39_11ea_8888_784f439cb1c6row5_col0 {\n",
       "            text-align:  left;\n",
       "            font-weight:  bold;\n",
       "        }    #T_3aad3392_0a39_11ea_8888_784f439cb1c6row5_col1 {\n",
       "            text-align:  left;\n",
       "        }    #T_3aad3392_0a39_11ea_8888_784f439cb1c6row5_col2 {\n",
       "            text-align:  left;\n",
       "        }    #T_3aad3392_0a39_11ea_8888_784f439cb1c6row6_col0 {\n",
       "            text-align:  left;\n",
       "            font-weight:  bold;\n",
       "        }    #T_3aad3392_0a39_11ea_8888_784f439cb1c6row6_col1 {\n",
       "            text-align:  left;\n",
       "        }    #T_3aad3392_0a39_11ea_8888_784f439cb1c6row6_col2 {\n",
       "            text-align:  left;\n",
       "        }    #T_3aad3392_0a39_11ea_8888_784f439cb1c6row7_col0 {\n",
       "            text-align:  left;\n",
       "            font-weight:  bold;\n",
       "        }    #T_3aad3392_0a39_11ea_8888_784f439cb1c6row7_col1 {\n",
       "            text-align:  left;\n",
       "        }    #T_3aad3392_0a39_11ea_8888_784f439cb1c6row7_col2 {\n",
       "            text-align:  left;\n",
       "        }</style><table id=\"T_3aad3392_0a39_11ea_8888_784f439cb1c6\" ><thead>    <tr>        <th class=\"blank level0\" ></th>        <th class=\"col_heading level0 col0\" >param</th>        <th class=\"col_heading level0 col1\" >Property Source</th>        <th class=\"col_heading level0 col2\" >Data Source</th>    </tr></thead><tbody>\n",
       "                <tr>\n",
       "                        <th id=\"T_3aad3392_0a39_11ea_8888_784f439cb1c6level0_row0\" class=\"row_heading level0 row0\" >0</th>\n",
       "                        <td id=\"T_3aad3392_0a39_11ea_8888_784f439cb1c6row0_col0\" class=\"data row0 col0\" >connector_name</td>\n",
       "                        <td id=\"T_3aad3392_0a39_11ea_8888_784f439cb1c6row0_col1\" class=\"data row0 col1\" >pm_data_synthetic_customer</td>\n",
       "                        <td id=\"T_3aad3392_0a39_11ea_8888_784f439cb1c6row0_col2\" class=\"data row0 col2\" >origin_connector</td>\n",
       "            </tr>\n",
       "            <tr>\n",
       "                        <th id=\"T_3aad3392_0a39_11ea_8888_784f439cb1c6level0_row1\" class=\"row_heading level0 row1\" >1</th>\n",
       "                        <td id=\"T_3aad3392_0a39_11ea_8888_784f439cb1c6row1_col0\" class=\"data row1 col0\" >resource</td>\n",
       "                        <td id=\"T_3aad3392_0a39_11ea_8888_784f439cb1c6row1_col1\" class=\"data row1 col1\" >config_transition_data_synthetic_customer.yaml</td>\n",
       "                        <td id=\"T_3aad3392_0a39_11ea_8888_784f439cb1c6row1_col2\" class=\"data row1 col2\" >synthetic_agent.csv</td>\n",
       "            </tr>\n",
       "            <tr>\n",
       "                        <th id=\"T_3aad3392_0a39_11ea_8888_784f439cb1c6level0_row2\" class=\"row_heading level0 row2\" >2</th>\n",
       "                        <td id=\"T_3aad3392_0a39_11ea_8888_784f439cb1c6row2_col0\" class=\"data row2 col0\" >connector_type</td>\n",
       "                        <td id=\"T_3aad3392_0a39_11ea_8888_784f439cb1c6row2_col1\" class=\"data row2 col1\" >yaml</td>\n",
       "                        <td id=\"T_3aad3392_0a39_11ea_8888_784f439cb1c6row2_col2\" class=\"data row2 col2\" >csv</td>\n",
       "            </tr>\n",
       "            <tr>\n",
       "                        <th id=\"T_3aad3392_0a39_11ea_8888_784f439cb1c6level0_row3\" class=\"row_heading level0 row3\" >3</th>\n",
       "                        <td id=\"T_3aad3392_0a39_11ea_8888_784f439cb1c6row3_col0\" class=\"data row3 col0\" >location</td>\n",
       "                        <td id=\"T_3aad3392_0a39_11ea_8888_784f439cb1c6row3_col1\" class=\"data row3 col1\" >/Users/doatridge/code/projects/prod/discovery-transition-ds/jupyter/working/contracts/synthetic_customer</td>\n",
       "                        <td id=\"T_3aad3392_0a39_11ea_8888_784f439cb1c6row3_col2\" class=\"data row3 col2\" >/Users/doatridge/code/projects/prod/discovery-transition-ds/jupyter/working/data/0_raw</td>\n",
       "            </tr>\n",
       "            <tr>\n",
       "                        <th id=\"T_3aad3392_0a39_11ea_8888_784f439cb1c6level0_row4\" class=\"row_heading level0 row4\" >4</th>\n",
       "                        <td id=\"T_3aad3392_0a39_11ea_8888_784f439cb1c6row4_col0\" class=\"data row4 col0\" >module_name</td>\n",
       "                        <td id=\"T_3aad3392_0a39_11ea_8888_784f439cb1c6row4_col1\" class=\"data row4 col1\" >ds_discovery.handlers.pandas_handlers</td>\n",
       "                        <td id=\"T_3aad3392_0a39_11ea_8888_784f439cb1c6row4_col2\" class=\"data row4 col2\" >ds_discovery.handlers.pandas_handlers</td>\n",
       "            </tr>\n",
       "            <tr>\n",
       "                        <th id=\"T_3aad3392_0a39_11ea_8888_784f439cb1c6level0_row5\" class=\"row_heading level0 row5\" >5</th>\n",
       "                        <td id=\"T_3aad3392_0a39_11ea_8888_784f439cb1c6row5_col0\" class=\"data row5 col0\" >handler</td>\n",
       "                        <td id=\"T_3aad3392_0a39_11ea_8888_784f439cb1c6row5_col1\" class=\"data row5 col1\" >PandasPersistHandler</td>\n",
       "                        <td id=\"T_3aad3392_0a39_11ea_8888_784f439cb1c6row5_col2\" class=\"data row5 col2\" >PandasSourceHandler</td>\n",
       "            </tr>\n",
       "            <tr>\n",
       "                        <th id=\"T_3aad3392_0a39_11ea_8888_784f439cb1c6level0_row6\" class=\"row_heading level0 row6\" >6</th>\n",
       "                        <td id=\"T_3aad3392_0a39_11ea_8888_784f439cb1c6row6_col0\" class=\"data row6 col0\" >modified</td>\n",
       "                        <td id=\"T_3aad3392_0a39_11ea_8888_784f439cb1c6row6_col1\" class=\"data row6 col1\" >0</td>\n",
       "                        <td id=\"T_3aad3392_0a39_11ea_8888_784f439cb1c6row6_col2\" class=\"data row6 col2\" >0</td>\n",
       "            </tr>\n",
       "            <tr>\n",
       "                        <th id=\"T_3aad3392_0a39_11ea_8888_784f439cb1c6level0_row7\" class=\"row_heading level0 row7\" >7</th>\n",
       "                        <td id=\"T_3aad3392_0a39_11ea_8888_784f439cb1c6row7_col0\" class=\"data row7 col0\" >kwargs</td>\n",
       "                        <td id=\"T_3aad3392_0a39_11ea_8888_784f439cb1c6row7_col1\" class=\"data row7 col1\" ></td>\n",
       "                        <td id=\"T_3aad3392_0a39_11ea_8888_784f439cb1c6row7_col2\" class=\"data row7 col2\" >sep=','  encoding='latin1'</td>\n",
       "            </tr>\n",
       "    </tbody></table>"
      ],
      "text/plain": [
       "<pandas.io.formats.style.Styler at 0x1a241b9a90>"
      ]
     },
     "execution_count": 97,
     "metadata": {},
     "output_type": "execute_result"
    }
   ],
   "source": [
    "tr.report_source()"
   ]
  },
  {
   "cell_type": "code",
   "execution_count": 5,
   "metadata": {},
   "outputs": [
    {
     "data": {
      "text/plain": [
       "'ds_discovery.handlers.pandas_handlers'"
      ]
     },
     "execution_count": 5,
     "metadata": {},
     "output_type": "execute_result"
    },
    {
     "data": {
      "text/plain": [
       "'PandasSourceHandler'"
      ]
     },
     "execution_count": 5,
     "metadata": {},
     "output_type": "execute_result"
    }
   ],
   "source": [
    "tr.MODULE_NAME\n",
    "tr.HANDLER_SOURCE"
   ]
  },
  {
   "cell_type": "markdown",
   "metadata": {},
   "source": [
    "### Retrieve & Observations"
   ]
  },
  {
   "cell_type": "code",
   "execution_count": 98,
   "metadata": {},
   "outputs": [
    {
     "data": {
      "text/plain": [
       "['parquet', 'csv', 'tsv', 'txt', 'json', 'pickle', 'xlsx']"
      ]
     },
     "execution_count": 98,
     "metadata": {},
     "output_type": "execute_result"
    }
   ],
   "source": [
    "tr.data_pm.get_connector_handler('origin_connector').supported_types()"
   ]
  },
  {
   "cell_type": "code",
   "execution_count": 99,
   "metadata": {
    "collapsed": true
   },
   "outputs": [],
   "source": [
    "# load the source canonical\n",
    "df = tr.load_source_canonical()"
   ]
  },
  {
   "cell_type": "code",
   "execution_count": 113,
   "metadata": {
    "collapsed": true
   },
   "outputs": [
    {
     "data": {
      "text/html": [
       "<style  type=\"text/css\" >\n",
       "    #T_57706436_0a39_11ea_9098_784f439cb1c6 th {\n",
       "          font-size: 120%;\n",
       "          text-align: center;\n",
       "    }    #T_57706436_0a39_11ea_9098_784f439cb1c6 .row_heading, .blank {\n",
       "          display: none;;\n",
       "    }    #T_57706436_0a39_11ea_9098_784f439cb1c6row0_col0 {\n",
       "            font-weight:  bold;\n",
       "            font-size:  120%;\n",
       "        }    #T_57706436_0a39_11ea_9098_784f439cb1c6row0_col2 {\n",
       "            : ;\n",
       "            color:  black;\n",
       "        }    #T_57706436_0a39_11ea_9098_784f439cb1c6row0_col3 {\n",
       "            : ;\n",
       "            color:  black;\n",
       "        }    #T_57706436_0a39_11ea_9098_784f439cb1c6row0_col4 {\n",
       "            background-color:  #fcb499;\n",
       "            color:  black;\n",
       "        }    #T_57706436_0a39_11ea_9098_784f439cb1c6row0_col6 {\n",
       "            background-color:  #e5f5e0;\n",
       "            color:  black;\n",
       "        }    #T_57706436_0a39_11ea_9098_784f439cb1c6row1_col0 {\n",
       "            font-weight:  bold;\n",
       "            font-size:  120%;\n",
       "        }    #T_57706436_0a39_11ea_9098_784f439cb1c6row1_col2 {\n",
       "            : ;\n",
       "            color:  black;\n",
       "        }    #T_57706436_0a39_11ea_9098_784f439cb1c6row1_col3 {\n",
       "            : ;\n",
       "            color:  black;\n",
       "        }    #T_57706436_0a39_11ea_9098_784f439cb1c6row1_col4 {\n",
       "            background-color:  #ec382b;\n",
       "            color:  white;\n",
       "        }    #T_57706436_0a39_11ea_9098_784f439cb1c6row1_col6 {\n",
       "            : ;\n",
       "            color:  black;\n",
       "        }    #T_57706436_0a39_11ea_9098_784f439cb1c6row2_col0 {\n",
       "            font-weight:  bold;\n",
       "            font-size:  120%;\n",
       "        }    #T_57706436_0a39_11ea_9098_784f439cb1c6row2_col1 {\n",
       "            color:  #0f398a;\n",
       "        }    #T_57706436_0a39_11ea_9098_784f439cb1c6row2_col2 {\n",
       "            : ;\n",
       "            color:  black;\n",
       "        }    #T_57706436_0a39_11ea_9098_784f439cb1c6row2_col3 {\n",
       "            : ;\n",
       "            color:  black;\n",
       "        }    #T_57706436_0a39_11ea_9098_784f439cb1c6row2_col4 {\n",
       "            background-color:  #ec382b;\n",
       "            color:  white;\n",
       "        }    #T_57706436_0a39_11ea_9098_784f439cb1c6row2_col6 {\n",
       "            : ;\n",
       "            color:  black;\n",
       "        }    #T_57706436_0a39_11ea_9098_784f439cb1c6row3_col0 {\n",
       "            font-weight:  bold;\n",
       "            font-size:  120%;\n",
       "        }    #T_57706436_0a39_11ea_9098_784f439cb1c6row3_col2 {\n",
       "            : ;\n",
       "            color:  black;\n",
       "        }    #T_57706436_0a39_11ea_9098_784f439cb1c6row3_col3 {\n",
       "            : ;\n",
       "            color:  black;\n",
       "        }    #T_57706436_0a39_11ea_9098_784f439cb1c6row3_col4 {\n",
       "            background-color:  #ffede5;\n",
       "            color:  black;\n",
       "        }    #T_57706436_0a39_11ea_9098_784f439cb1c6row3_col6 {\n",
       "            background-color:  #e5f5e0;\n",
       "            color:  black;\n",
       "        }    #T_57706436_0a39_11ea_9098_784f439cb1c6row4_col0 {\n",
       "            font-weight:  bold;\n",
       "            font-size:  120%;\n",
       "        }    #T_57706436_0a39_11ea_9098_784f439cb1c6row4_col1 {\n",
       "            color:  #208a0f;\n",
       "        }    #T_57706436_0a39_11ea_9098_784f439cb1c6row4_col2 {\n",
       "            : ;\n",
       "            color:  black;\n",
       "        }    #T_57706436_0a39_11ea_9098_784f439cb1c6row4_col3 {\n",
       "            : ;\n",
       "            color:  black;\n",
       "        }    #T_57706436_0a39_11ea_9098_784f439cb1c6row4_col4 {\n",
       "            background-color:  #ffede5;\n",
       "            color:  black;\n",
       "        }    #T_57706436_0a39_11ea_9098_784f439cb1c6row4_col6 {\n",
       "            background-color:  #c1e6ba;\n",
       "            color:  black;\n",
       "        }    #T_57706436_0a39_11ea_9098_784f439cb1c6row5_col0 {\n",
       "            font-weight:  bold;\n",
       "            font-size:  120%;\n",
       "        }    #T_57706436_0a39_11ea_9098_784f439cb1c6row5_col2 {\n",
       "            : ;\n",
       "            color:  black;\n",
       "        }    #T_57706436_0a39_11ea_9098_784f439cb1c6row5_col3 {\n",
       "            : ;\n",
       "            color:  black;\n",
       "        }    #T_57706436_0a39_11ea_9098_784f439cb1c6row5_col4 {\n",
       "            background-color:  #ec382b;\n",
       "            color:  white;\n",
       "        }    #T_57706436_0a39_11ea_9098_784f439cb1c6row5_col6 {\n",
       "            : ;\n",
       "            color:  black;\n",
       "        }    #T_57706436_0a39_11ea_9098_784f439cb1c6row6_col0 {\n",
       "            font-weight:  bold;\n",
       "            font-size:  120%;\n",
       "        }    #T_57706436_0a39_11ea_9098_784f439cb1c6row6_col2 {\n",
       "            : ;\n",
       "            color:  black;\n",
       "        }    #T_57706436_0a39_11ea_9098_784f439cb1c6row6_col3 {\n",
       "            : ;\n",
       "            color:  black;\n",
       "        }    #T_57706436_0a39_11ea_9098_784f439cb1c6row6_col4 {\n",
       "            background-color:  #ec382b;\n",
       "            color:  white;\n",
       "        }    #T_57706436_0a39_11ea_9098_784f439cb1c6row6_col6 {\n",
       "            : ;\n",
       "            color:  black;\n",
       "        }</style><table id=\"T_57706436_0a39_11ea_9098_784f439cb1c6\" ><caption>%_Dom: The % most domninant element</caption><thead>    <tr>        <th class=\"blank level0\" ></th>        <th class=\"col_heading level0 col0\" >Attribute</th>        <th class=\"col_heading level0 col1\" >dType</th>        <th class=\"col_heading level0 col2\" >%_Null</th>        <th class=\"col_heading level0 col3\" >%_Dom</th>        <th class=\"col_heading level0 col5\" >Count</th>        <th class=\"col_heading level0 col6\" >Unique</th>        <th class=\"col_heading level0 col7\" >Observations</th>    </tr></thead><tbody>\n",
       "                <tr>\n",
       "                        <th id=\"T_57706436_0a39_11ea_9098_784f439cb1c6level0_row0\" class=\"row_heading level0 row0\" >0</th>\n",
       "                        <td id=\"T_57706436_0a39_11ea_9098_784f439cb1c6row0_col0\" class=\"data row0 col0\" >agent</td>\n",
       "                        <td id=\"T_57706436_0a39_11ea_9098_784f439cb1c6row0_col1\" class=\"data row0 col1\" >object</td>\n",
       "                        <td id=\"T_57706436_0a39_11ea_9098_784f439cb1c6row0_col2\" class=\"data row0 col2\" >0.0%</td>\n",
       "                        <td id=\"T_57706436_0a39_11ea_9098_784f439cb1c6row0_col3\" class=\"data row0 col3\" >5.4%</td>\n",
       "                                <td id=\"T_57706436_0a39_11ea_9098_784f439cb1c6row0_col5\" class=\"data row0 col5\" >10000</td>\n",
       "                        <td id=\"T_57706436_0a39_11ea_9098_784f439cb1c6row0_col6\" class=\"data row0 col6\" >40</td>\n",
       "                        <td id=\"T_57706436_0a39_11ea_9098_784f439cb1c6row0_col7\" class=\"data row0 col7\" >Sample: Darcie  | Amalia | Antoinette</td>\n",
       "            </tr>\n",
       "            <tr>\n",
       "                        <th id=\"T_57706436_0a39_11ea_9098_784f439cb1c6level0_row1\" class=\"row_heading level0 row1\" >1</th>\n",
       "                        <td id=\"T_57706436_0a39_11ea_9098_784f439cb1c6row1_col0\" class=\"data row1 col0\" >call_date</td>\n",
       "                        <td id=\"T_57706436_0a39_11ea_9098_784f439cb1c6row1_col1\" class=\"data row1 col1\" >object</td>\n",
       "                        <td id=\"T_57706436_0a39_11ea_9098_784f439cb1c6row1_col2\" class=\"data row1 col2\" >0.0%</td>\n",
       "                        <td id=\"T_57706436_0a39_11ea_9098_784f439cb1c6row1_col3\" class=\"data row1 col3\" >0.0%</td>\n",
       "                                <td id=\"T_57706436_0a39_11ea_9098_784f439cb1c6row1_col5\" class=\"data row1 col5\" >10000</td>\n",
       "                        <td id=\"T_57706436_0a39_11ea_9098_784f439cb1c6row1_col6\" class=\"data row1 col6\" >9842</td>\n",
       "                        <td id=\"T_57706436_0a39_11ea_9098_784f439cb1c6row1_col7\" class=\"data row1 col7\" >Sample: 10-16-2018 07:48:57 | 10-16-2018 08:24:49 | 10-24-2018 10:01:43</td>\n",
       "            </tr>\n",
       "            <tr>\n",
       "                        <th id=\"T_57706436_0a39_11ea_9098_784f439cb1c6level0_row2\" class=\"row_heading level0 row2\" >2</th>\n",
       "                        <td id=\"T_57706436_0a39_11ea_9098_784f439cb1c6row2_col0\" class=\"data row2 col0\" >call_id</td>\n",
       "                        <td id=\"T_57706436_0a39_11ea_9098_784f439cb1c6row2_col1\" class=\"data row2 col1\" >int64</td>\n",
       "                        <td id=\"T_57706436_0a39_11ea_9098_784f439cb1c6row2_col2\" class=\"data row2 col2\" >0.0%</td>\n",
       "                        <td id=\"T_57706436_0a39_11ea_9098_784f439cb1c6row2_col3\" class=\"data row2 col3\" >0.0%</td>\n",
       "                                <td id=\"T_57706436_0a39_11ea_9098_784f439cb1c6row2_col5\" class=\"data row2 col5\" >10000</td>\n",
       "                        <td id=\"T_57706436_0a39_11ea_9098_784f439cb1c6row2_col6\" class=\"data row2 col6\" >10000</td>\n",
       "                        <td id=\"T_57706436_0a39_11ea_9098_784f439cb1c6row2_col7\" class=\"data row2 col7\" >max=9999362 | min=1000157 | mean=5478034.44</td>\n",
       "            </tr>\n",
       "            <tr>\n",
       "                        <th id=\"T_57706436_0a39_11ea_9098_784f439cb1c6level0_row3\" class=\"row_heading level0 row3\" >3</th>\n",
       "                        <td id=\"T_57706436_0a39_11ea_9098_784f439cb1c6row3_col0\" class=\"data row3 col0\" >complaint</td>\n",
       "                        <td id=\"T_57706436_0a39_11ea_9098_784f439cb1c6row3_col1\" class=\"data row3 col1\" >object</td>\n",
       "                        <td id=\"T_57706436_0a39_11ea_9098_784f439cb1c6row3_col2\" class=\"data row3 col2\" >0.0%</td>\n",
       "                        <td id=\"T_57706436_0a39_11ea_9098_784f439cb1c6row3_col3\" class=\"data row3 col3\" >16.0%</td>\n",
       "                                <td id=\"T_57706436_0a39_11ea_9098_784f439cb1c6row3_col5\" class=\"data row3 col5\" >10000</td>\n",
       "                        <td id=\"T_57706436_0a39_11ea_9098_784f439cb1c6row3_col6\" class=\"data row3 col6\" >29</td>\n",
       "                        <td id=\"T_57706436_0a39_11ea_9098_784f439cb1c6row3_col7\" class=\"data row3 col7\" >Sample: The performance of my product was poor | You were not helpful | Unhappy with delay</td>\n",
       "            </tr>\n",
       "            <tr>\n",
       "                        <th id=\"T_57706436_0a39_11ea_9098_784f439cb1c6level0_row4\" class=\"row_heading level0 row4\" >4</th>\n",
       "                        <td id=\"T_57706436_0a39_11ea_9098_784f439cb1c6row4_col0\" class=\"data row4 col0\" >contact</td>\n",
       "                        <td id=\"T_57706436_0a39_11ea_9098_784f439cb1c6row4_col1\" class=\"data row4 col1\" >category</td>\n",
       "                        <td id=\"T_57706436_0a39_11ea_9098_784f439cb1c6row4_col2\" class=\"data row4 col2\" >0.0%</td>\n",
       "                        <td id=\"T_57706436_0a39_11ea_9098_784f439cb1c6row4_col3\" class=\"data row4 col3\" >53.2%</td>\n",
       "                                <td id=\"T_57706436_0a39_11ea_9098_784f439cb1c6row4_col5\" class=\"data row4 col5\" >10000</td>\n",
       "                        <td id=\"T_57706436_0a39_11ea_9098_784f439cb1c6row4_col6\" class=\"data row4 col6\" >13</td>\n",
       "                        <td id=\"T_57706436_0a39_11ea_9098_784f439cb1c6row4_col7\" class=\"data row4 col7\" >Account manager|E-mail|E-mail & Phone Call|Fax|Internet|Letter|Letter & Phone Call|MyPortal|Phone Ca...</td>\n",
       "            </tr>\n",
       "            <tr>\n",
       "                        <th id=\"T_57706436_0a39_11ea_9098_784f439cb1c6level0_row5\" class=\"row_heading level0 row5\" >5</th>\n",
       "                        <td id=\"T_57706436_0a39_11ea_9098_784f439cb1c6row5_col0\" class=\"data row5 col0\" >customer_id</td>\n",
       "                        <td id=\"T_57706436_0a39_11ea_9098_784f439cb1c6row5_col1\" class=\"data row5 col1\" >object</td>\n",
       "                        <td id=\"T_57706436_0a39_11ea_9098_784f439cb1c6row5_col2\" class=\"data row5 col2\" >0.0%</td>\n",
       "                        <td id=\"T_57706436_0a39_11ea_9098_784f439cb1c6row5_col3\" class=\"data row5 col3\" >0.4%</td>\n",
       "                                <td id=\"T_57706436_0a39_11ea_9098_784f439cb1c6row5_col5\" class=\"data row5 col5\" >10000</td>\n",
       "                        <td id=\"T_57706436_0a39_11ea_9098_784f439cb1c6row5_col6\" class=\"data row5 col6\" >499</td>\n",
       "                        <td id=\"T_57706436_0a39_11ea_9098_784f439cb1c6row5_col7\" class=\"data row5 col7\" >Sample: CU_9745282 | CU_8563403 | CU_9949317</td>\n",
       "            </tr>\n",
       "            <tr>\n",
       "                        <th id=\"T_57706436_0a39_11ea_9098_784f439cb1c6level0_row6\" class=\"row_heading level0 row6\" >6</th>\n",
       "                        <td id=\"T_57706436_0a39_11ea_9098_784f439cb1c6row6_col0\" class=\"data row6 col0\" >duration</td>\n",
       "                        <td id=\"T_57706436_0a39_11ea_9098_784f439cb1c6row6_col1\" class=\"data row6 col1\" >object</td>\n",
       "                        <td id=\"T_57706436_0a39_11ea_9098_784f439cb1c6row6_col2\" class=\"data row6 col2\" >0.0%</td>\n",
       "                        <td id=\"T_57706436_0a39_11ea_9098_784f439cb1c6row6_col3\" class=\"data row6 col3\" >0.3%</td>\n",
       "                                <td id=\"T_57706436_0a39_11ea_9098_784f439cb1c6row6_col5\" class=\"data row6 col5\" >10000</td>\n",
       "                        <td id=\"T_57706436_0a39_11ea_9098_784f439cb1c6row6_col6\" class=\"data row6 col6\" >1384</td>\n",
       "                        <td id=\"T_57706436_0a39_11ea_9098_784f439cb1c6row6_col7\" class=\"data row6 col7\" >Sample: 13:47 | 00:34 | 05:30</td>\n",
       "            </tr>\n",
       "    </tbody></table>"
      ],
      "text/plain": [
       "<pandas.io.formats.style.Styler at 0x1a243a7fd0>"
      ]
     },
     "execution_count": 113,
     "metadata": {},
     "output_type": "execute_result"
    }
   ],
   "source": [
    "tr.canonical_report(df, stylise=True)"
   ]
  },
  {
   "cell_type": "code",
   "execution_count": 101,
   "metadata": {},
   "outputs": [],
   "source": [
    "tr.add_notes(text='The file is a synthetic customer data file created for this demonstration')"
   ]
  },
  {
   "cell_type": "code",
   "execution_count": 102,
   "metadata": {},
   "outputs": [],
   "source": [
    "tr.add_notes(label='source', text='This was generated using the Discovery Behavioral Synthetic Data Generator')\n",
    "tr.add_notes(label='source', text='The script to rerun the data generation can be found in the synthetic scripts folder')"
   ]
  },
  {
   "cell_type": "code",
   "execution_count": 103,
   "metadata": {},
   "outputs": [
    {
     "ename": "ValueError",
     "evalue": "The label 'start' is not in the selection list ['call_id', 'customer_id', 'call_date', 'contact', 'complaint', 'agent', 'duration', 'escalated', 'referred', 'stat_0', 'stat_1', 'stat_2', 'stat_3', 'stat_4', 'stat_5', 'stat_6', 'stat_7', 'stat_8', 'stat_9', 'stat_10', 'stat_11', 'stat_12', 'stat_13', 'stat_14', 'stat_15', 'stat_16', 'stat_17', 'stat_18', 'stat_19', 'stat_20', 'stat_21', 'stat_22', 'stat_23', 'stat_24', 'stat_25', 'stat_26', 'stat_27', 'stat_28', 'stat_29', 'stat_30', 'stat_31', 'stat_32', 'stat_33', 'stat_34', 'stat_35', 'stat_36', 'stat_37', 'stat_38', 'stat_39']",
     "output_type": "error",
     "traceback": [
      "\u001b[0;31m---------------------------------------------------------------------------\u001b[0m",
      "\u001b[0;31mValueError\u001b[0m                                Traceback (most recent call last)",
      "\u001b[0;32m<ipython-input-103-fedc7df39d50>\u001b[0m in \u001b[0;36m<module>\u001b[0;34m()\u001b[0m\n\u001b[0;32m----> 1\u001b[0;31m \u001b[0mtr\u001b[0m\u001b[0;34m.\u001b[0m\u001b[0madd_attribute_notes\u001b[0m\u001b[0;34m(\u001b[0m\u001b[0mattribute\u001b[0m\u001b[0;34m=\u001b[0m\u001b[0;34m'start'\u001b[0m\u001b[0;34m,\u001b[0m \u001b[0mtext\u001b[0m\u001b[0;34m=\u001b[0m\u001b[0;34m\"changing this to start_date so it being a date is obvious\"\u001b[0m\u001b[0;34m)\u001b[0m\u001b[0;34m\u001b[0m\u001b[0;34m\u001b[0m\u001b[0m\n\u001b[0m",
      "\u001b[0;32m~/anaconda3/envs/common/lib/python3.6/site-packages/ds_discovery/transition/transitioning.py\u001b[0m in \u001b[0;36madd_attribute_notes\u001b[0;34m(self, text, attribute, save)\u001b[0m\n\u001b[1;32m    492\u001b[0m             \u001b[0msave\u001b[0m \u001b[0;34m=\u001b[0m \u001b[0mself\u001b[0m\u001b[0;34m.\u001b[0m\u001b[0m_default_save\u001b[0m\u001b[0;34m\u001b[0m\u001b[0;34m\u001b[0m\u001b[0m\n\u001b[1;32m    493\u001b[0m         self.augment_pm.add_knowledge(text=text, label=attribute, catalogue='attribute',\n\u001b[0;32m--> 494\u001b[0;31m                                       only_labels=self._raw_attribute_list)\n\u001b[0m\u001b[1;32m    495\u001b[0m         \u001b[0mself\u001b[0m\u001b[0;34m.\u001b[0m\u001b[0mpersist_contract\u001b[0m\u001b[0;34m(\u001b[0m\u001b[0msave\u001b[0m\u001b[0;34m)\u001b[0m\u001b[0;34m\u001b[0m\u001b[0;34m\u001b[0m\u001b[0m\n\u001b[1;32m    496\u001b[0m \u001b[0;34m\u001b[0m\u001b[0m\n",
      "\u001b[0;32m~/anaconda3/envs/common/lib/python3.6/site-packages/ds_foundation/managers/augment_properties.py\u001b[0m in \u001b[0;36madd_knowledge\u001b[0;34m(self, text, label, catalogue, only_labels)\u001b[0m\n\u001b[1;32m    100\u001b[0m             \u001b[0;32mif\u001b[0m \u001b[0misinstance\u001b[0m\u001b[0;34m(\u001b[0m\u001b[0monly_labels\u001b[0m\u001b[0;34m,\u001b[0m \u001b[0mlist\u001b[0m\u001b[0;34m)\u001b[0m \u001b[0;32mand\u001b[0m \u001b[0mlen\u001b[0m\u001b[0;34m(\u001b[0m\u001b[0monly_labels\u001b[0m\u001b[0;34m)\u001b[0m \u001b[0;34m>\u001b[0m \u001b[0;36m0\u001b[0m\u001b[0;34m:\u001b[0m\u001b[0;34m\u001b[0m\u001b[0;34m\u001b[0m\u001b[0m\n\u001b[1;32m    101\u001b[0m                 \u001b[0;32mif\u001b[0m \u001b[0mname\u001b[0m \u001b[0;32mnot\u001b[0m \u001b[0;32min\u001b[0m \u001b[0monly_labels\u001b[0m\u001b[0;34m:\u001b[0m\u001b[0;34m\u001b[0m\u001b[0;34m\u001b[0m\u001b[0m\n\u001b[0;32m--> 102\u001b[0;31m                     \u001b[0;32mraise\u001b[0m \u001b[0mValueError\u001b[0m\u001b[0;34m(\u001b[0m\u001b[0;34m\"The label '{}' is not in the selection list {}\"\u001b[0m\u001b[0;34m.\u001b[0m\u001b[0mformat\u001b[0m\u001b[0;34m(\u001b[0m\u001b[0mname\u001b[0m\u001b[0;34m,\u001b[0m \u001b[0monly_labels\u001b[0m\u001b[0;34m)\u001b[0m\u001b[0;34m)\u001b[0m\u001b[0;34m\u001b[0m\u001b[0;34m\u001b[0m\u001b[0m\n\u001b[0m\u001b[1;32m    103\u001b[0m             \u001b[0m_key\u001b[0m \u001b[0;34m=\u001b[0m \u001b[0mself\u001b[0m\u001b[0;34m.\u001b[0m\u001b[0mjoin\u001b[0m\u001b[0;34m(\u001b[0m\u001b[0meval\u001b[0m\u001b[0;34m(\u001b[0m\u001b[0;34m\"self.KEY.knowledge.{}_key\"\u001b[0m\u001b[0;34m.\u001b[0m\u001b[0mformat\u001b[0m\u001b[0;34m(\u001b[0m\u001b[0mcatalogue\u001b[0m\u001b[0;34m)\u001b[0m\u001b[0;34m)\u001b[0m\u001b[0;34m,\u001b[0m \u001b[0mname\u001b[0m\u001b[0;34m)\u001b[0m\u001b[0;34m\u001b[0m\u001b[0;34m\u001b[0m\u001b[0m\n\u001b[1;32m    104\u001b[0m             \u001b[0;32mif\u001b[0m \u001b[0mself\u001b[0m\u001b[0;34m.\u001b[0m\u001b[0mget\u001b[0m\u001b[0;34m(\u001b[0m\u001b[0m_key\u001b[0m\u001b[0;34m)\u001b[0m \u001b[0;32mis\u001b[0m \u001b[0;32mnot\u001b[0m \u001b[0;32mNone\u001b[0m\u001b[0;34m:\u001b[0m\u001b[0;34m\u001b[0m\u001b[0;34m\u001b[0m\u001b[0m\n",
      "\u001b[0;31mValueError\u001b[0m: The label 'start' is not in the selection list ['call_id', 'customer_id', 'call_date', 'contact', 'complaint', 'agent', 'duration', 'escalated', 'referred', 'stat_0', 'stat_1', 'stat_2', 'stat_3', 'stat_4', 'stat_5', 'stat_6', 'stat_7', 'stat_8', 'stat_9', 'stat_10', 'stat_11', 'stat_12', 'stat_13', 'stat_14', 'stat_15', 'stat_16', 'stat_17', 'stat_18', 'stat_19', 'stat_20', 'stat_21', 'stat_22', 'stat_23', 'stat_24', 'stat_25', 'stat_26', 'stat_27', 'stat_28', 'stat_29', 'stat_30', 'stat_31', 'stat_32', 'stat_33', 'stat_34', 'stat_35', 'stat_36', 'stat_37', 'stat_38', 'stat_39']"
     ]
    }
   ],
   "source": [
    "tr.add_attribute_notes(attribute='start', text=\"changing this to start_date so it being a date is obvious\")"
   ]
  },
  {
   "cell_type": "code",
   "execution_count": 48,
   "metadata": {},
   "outputs": [
    {
     "data": {
      "text/html": [
       "<style  type=\"text/css\" >\n",
       "    #T_df251d1c_0a30_11ea_912d_784f439cb1c6 th {\n",
       "          font-size: 120%;\n",
       "          text-align: center;\n",
       "    }    #T_df251d1c_0a30_11ea_912d_784f439cb1c6 .row_heading, .blank {\n",
       "          display: none;;\n",
       "    }    #T_df251d1c_0a30_11ea_912d_784f439cb1c6row0_col0 {\n",
       "            text-align:  left;\n",
       "            font-weight:  bold;\n",
       "            font-size:  120%;\n",
       "        }    #T_df251d1c_0a30_11ea_912d_784f439cb1c6row0_col1 {\n",
       "            text-align:  left;\n",
       "            font-size:  120%;\n",
       "        }    #T_df251d1c_0a30_11ea_912d_784f439cb1c6row0_col2 {\n",
       "            text-align:  left;\n",
       "        }    #T_df251d1c_0a30_11ea_912d_784f439cb1c6row0_col3 {\n",
       "            text-align:  left;\n",
       "        }    #T_df251d1c_0a30_11ea_912d_784f439cb1c6row1_col0 {\n",
       "            text-align:  left;\n",
       "            font-weight:  bold;\n",
       "            font-size:  120%;\n",
       "        }    #T_df251d1c_0a30_11ea_912d_784f439cb1c6row1_col1 {\n",
       "            text-align:  left;\n",
       "            font-size:  120%;\n",
       "        }    #T_df251d1c_0a30_11ea_912d_784f439cb1c6row1_col2 {\n",
       "            text-align:  left;\n",
       "        }    #T_df251d1c_0a30_11ea_912d_784f439cb1c6row1_col3 {\n",
       "            text-align:  left;\n",
       "        }</style><table id=\"T_df251d1c_0a30_11ea_912d_784f439cb1c6\" ><thead>    <tr>        <th class=\"blank level0\" ></th>        <th class=\"col_heading level0 col0\" >section</th>        <th class=\"col_heading level0 col1\" >label</th>        <th class=\"col_heading level0 col2\" >date</th>        <th class=\"col_heading level0 col3\" >text</th>    </tr></thead><tbody>\n",
       "                <tr>\n",
       "                        <th id=\"T_df251d1c_0a30_11ea_912d_784f439cb1c6level0_row0\" class=\"row_heading level0 row0\" >0</th>\n",
       "                        <td id=\"T_df251d1c_0a30_11ea_912d_784f439cb1c6row0_col0\" class=\"data row0 col0\" >attribute</td>\n",
       "                        <td id=\"T_df251d1c_0a30_11ea_912d_784f439cb1c6row0_col1\" class=\"data row0 col1\" >auto_remove</td>\n",
       "                        <td id=\"T_df251d1c_0a30_11ea_912d_784f439cb1c6row0_col2\" class=\"data row0 col2\" >2019-10-03 09:45</td>\n",
       "                        <td id=\"T_df251d1c_0a30_11ea_912d_784f439cb1c6row0_col3\" class=\"data row0 col3\" >With >90% predominance removes ['single_cat', 'single_num', 'weight_cat', 'weight_num']</td>\n",
       "            </tr>\n",
       "            <tr>\n",
       "                        <th id=\"T_df251d1c_0a30_11ea_912d_784f439cb1c6level0_row1\" class=\"row_heading level0 row1\" >1</th>\n",
       "                        <td id=\"T_df251d1c_0a30_11ea_912d_784f439cb1c6row1_col0\" class=\"data row1 col0\" ></td>\n",
       "                        <td id=\"T_df251d1c_0a30_11ea_912d_784f439cb1c6row1_col1\" class=\"data row1 col1\" ></td>\n",
       "                        <td id=\"T_df251d1c_0a30_11ea_912d_784f439cb1c6row1_col2\" class=\"data row1 col2\" >2019-10-03 09:45</td>\n",
       "                        <td id=\"T_df251d1c_0a30_11ea_912d_784f439cb1c6row1_col3\" class=\"data row1 col3\" >With >99% nulls removes ['null']</td>\n",
       "            </tr>\n",
       "    </tbody></table>"
      ],
      "text/plain": [
       "<pandas.io.formats.style.Styler at 0x1a23eb3128>"
      ]
     },
     "execution_count": 48,
     "metadata": {},
     "output_type": "execute_result"
    }
   ],
   "source": [
    "tr.report_notes(regex='With')"
   ]
  },
  {
   "cell_type": "markdown",
   "metadata": {},
   "source": [
    "------------\n",
    "### Selection, Filter and Typing"
   ]
  },
  {
   "cell_type": "code",
   "execution_count": 104,
   "metadata": {
    "collapsed": true
   },
   "outputs": [],
   "source": [
    "# auto clean headers\n",
    "tr.set_cleaner(tr.clean.auto_clean_header(df, rename_map={'start': 'start_date'}, inplace=True))"
   ]
  },
  {
   "cell_type": "code",
   "execution_count": 105,
   "metadata": {
    "collapsed": true
   },
   "outputs": [],
   "source": [
    "# dynamically capture what will be removed through the predominant filter\n",
    "report = tr.canonical_report(df, stylise=False, report_header='%_Dom', condition=\">0.90\")['Attribute'].tolist()\n",
    "if len(report) > 0:\n",
    "    tr.add_notes(note_type='attribute', label='auto_remove', text='With >90% predominance removes {}'.format(report))\n",
    "\n",
    "# dynamically capture what will be removed through the nulls filter\n",
    "report = tr.canonical_report(df, stylise=False, report_header='%_Null', condition=\">0.99\")['Attribute'].tolist()\n",
    "if len(report) > 0:\n",
    "    tr.add_notes(note_type='attribute', label='auto_remove', text='With >99% nulls removes {}'.format(report))\n",
    "\n",
    "# auto remove columns\n",
    "tr.set_cleaner(tr.clean.auto_remove_columns(df, null_min=0.99, predominant_max=0.90,inplace=True, nulls_list=['']))"
   ]
  },
  {
   "cell_type": "code",
   "execution_count": 106,
   "metadata": {
    "collapsed": true
   },
   "outputs": [],
   "source": [
    "# auto type categories\n",
    "tr.set_cleaner(tr.clean.auto_to_category(df, unique_max=20, null_max=0.7, inplace=True))"
   ]
  },
  {
   "cell_type": "code",
   "execution_count": 107,
   "metadata": {
    "collapsed": true
   },
   "outputs": [],
   "source": [
    "# Typing Catagories\n",
    "tr.set_cleaner(tr.clean.to_category_type(df, headers=['gender', 'profession'], inplace=True))"
   ]
  },
  {
   "cell_type": "code",
   "execution_count": 108,
   "metadata": {
    "collapsed": true
   },
   "outputs": [],
   "source": [
    "# Typing Dates \n",
    "tr.set_cleaner(tr.clean.to_date_type(df, headers='start_date', day_first=True, inplace=True))"
   ]
  },
  {
   "cell_type": "code",
   "execution_count": 109,
   "metadata": {
    "collapsed": true
   },
   "outputs": [],
   "source": [
    "# Type boolean\n",
    "tr.set_cleaner(tr.clean.to_bool_type(df, bool_map={1: True}, headers='online', inplace=True))"
   ]
  },
  {
   "cell_type": "code",
   "execution_count": 110,
   "metadata": {
    "collapsed": true
   },
   "outputs": [],
   "source": [
    "# Type Floats\n",
    "tr.set_cleaner(tr.clean.to_float_type(df, dtype=['float'], precision=3, inplace=True))"
   ]
  },
  {
   "cell_type": "code",
   "execution_count": 111,
   "metadata": {
    "collapsed": true
   },
   "outputs": [],
   "source": [
    "# Type Integers\n",
    "tr.set_cleaner(tr.clean.to_str_type(df, dtype=['object'], nulls_list=['', 'nan'], inplace=True))"
   ]
  },
  {
   "cell_type": "code",
   "execution_count": 112,
   "metadata": {},
   "outputs": [
    {
     "data": {
      "text/html": [
       "<style  type=\"text/css\" >\n",
       "    #T_517d9e68_0a39_11ea_a6f2_784f439cb1c6 th {\n",
       "          font-size: 120%;\n",
       "          text-align: center;\n",
       "    }    #T_517d9e68_0a39_11ea_a6f2_784f439cb1c6 .row_heading, .blank {\n",
       "          display: none;;\n",
       "    }    #T_517d9e68_0a39_11ea_a6f2_784f439cb1c6row0_col0 {\n",
       "            text-align:  left;\n",
       "            font-weight:  bold;\n",
       "            font-size:  120%;\n",
       "        }    #T_517d9e68_0a39_11ea_a6f2_784f439cb1c6row0_col1 {\n",
       "            text-align:  left;\n",
       "        }    #T_517d9e68_0a39_11ea_a6f2_784f439cb1c6row0_col2 {\n",
       "            text-align:  left;\n",
       "        }    #T_517d9e68_0a39_11ea_a6f2_784f439cb1c6row1_col0 {\n",
       "            text-align:  left;\n",
       "            font-weight:  bold;\n",
       "            font-size:  120%;\n",
       "        }    #T_517d9e68_0a39_11ea_a6f2_784f439cb1c6row1_col1 {\n",
       "            text-align:  left;\n",
       "        }    #T_517d9e68_0a39_11ea_a6f2_784f439cb1c6row1_col2 {\n",
       "            text-align:  left;\n",
       "        }    #T_517d9e68_0a39_11ea_a6f2_784f439cb1c6row2_col0 {\n",
       "            text-align:  left;\n",
       "            font-weight:  bold;\n",
       "            font-size:  120%;\n",
       "        }    #T_517d9e68_0a39_11ea_a6f2_784f439cb1c6row2_col1 {\n",
       "            text-align:  left;\n",
       "        }    #T_517d9e68_0a39_11ea_a6f2_784f439cb1c6row2_col2 {\n",
       "            text-align:  left;\n",
       "        }    #T_517d9e68_0a39_11ea_a6f2_784f439cb1c6row3_col0 {\n",
       "            text-align:  left;\n",
       "            font-weight:  bold;\n",
       "            font-size:  120%;\n",
       "        }    #T_517d9e68_0a39_11ea_a6f2_784f439cb1c6row3_col1 {\n",
       "            text-align:  left;\n",
       "        }    #T_517d9e68_0a39_11ea_a6f2_784f439cb1c6row3_col2 {\n",
       "            text-align:  left;\n",
       "        }    #T_517d9e68_0a39_11ea_a6f2_784f439cb1c6row4_col0 {\n",
       "            text-align:  left;\n",
       "            font-weight:  bold;\n",
       "            font-size:  120%;\n",
       "        }    #T_517d9e68_0a39_11ea_a6f2_784f439cb1c6row4_col1 {\n",
       "            text-align:  left;\n",
       "        }    #T_517d9e68_0a39_11ea_a6f2_784f439cb1c6row4_col2 {\n",
       "            text-align:  left;\n",
       "        }    #T_517d9e68_0a39_11ea_a6f2_784f439cb1c6row5_col0 {\n",
       "            text-align:  left;\n",
       "            font-weight:  bold;\n",
       "            font-size:  120%;\n",
       "        }    #T_517d9e68_0a39_11ea_a6f2_784f439cb1c6row5_col1 {\n",
       "            text-align:  left;\n",
       "        }    #T_517d9e68_0a39_11ea_a6f2_784f439cb1c6row5_col2 {\n",
       "            text-align:  left;\n",
       "        }    #T_517d9e68_0a39_11ea_a6f2_784f439cb1c6row6_col0 {\n",
       "            text-align:  left;\n",
       "            font-weight:  bold;\n",
       "            font-size:  120%;\n",
       "        }    #T_517d9e68_0a39_11ea_a6f2_784f439cb1c6row6_col1 {\n",
       "            text-align:  left;\n",
       "        }    #T_517d9e68_0a39_11ea_a6f2_784f439cb1c6row6_col2 {\n",
       "            text-align:  left;\n",
       "        }    #T_517d9e68_0a39_11ea_a6f2_784f439cb1c6row7_col0 {\n",
       "            text-align:  left;\n",
       "            font-weight:  bold;\n",
       "            font-size:  120%;\n",
       "        }    #T_517d9e68_0a39_11ea_a6f2_784f439cb1c6row7_col1 {\n",
       "            text-align:  left;\n",
       "        }    #T_517d9e68_0a39_11ea_a6f2_784f439cb1c6row7_col2 {\n",
       "            text-align:  left;\n",
       "        }</style><table id=\"T_517d9e68_0a39_11ea_a6f2_784f439cb1c6\" ><thead>    <tr>        <th class=\"blank level0\" ></th>        <th class=\"col_heading level0 col0\" >level</th>        <th class=\"col_heading level0 col1\" >intent</th>        <th class=\"col_heading level0 col2\" >parameters</th>    </tr></thead><tbody>\n",
       "                <tr>\n",
       "                        <th id=\"T_517d9e68_0a39_11ea_a6f2_784f439cb1c6level0_row0\" class=\"row_heading level0 row0\" >0</th>\n",
       "                        <td id=\"T_517d9e68_0a39_11ea_a6f2_784f439cb1c6row0_col0\" class=\"data row0 col0\" >0</td>\n",
       "                        <td id=\"T_517d9e68_0a39_11ea_a6f2_784f439cb1c6row0_col1\" class=\"data row0 col1\" >auto_clean_header</td>\n",
       "                        <td id=\"T_517d9e68_0a39_11ea_a6f2_784f439cb1c6row0_col2\" class=\"data row0 col2\" >rename_map={'start': 'start_date'}, replace_spaces=_</td>\n",
       "            </tr>\n",
       "            <tr>\n",
       "                        <th id=\"T_517d9e68_0a39_11ea_a6f2_784f439cb1c6level0_row1\" class=\"row_heading level0 row1\" >1</th>\n",
       "                        <td id=\"T_517d9e68_0a39_11ea_a6f2_784f439cb1c6row1_col0\" class=\"data row1 col0\" ></td>\n",
       "                        <td id=\"T_517d9e68_0a39_11ea_a6f2_784f439cb1c6row1_col1\" class=\"data row1 col1\" >auto_remove_columns</td>\n",
       "                        <td id=\"T_517d9e68_0a39_11ea_a6f2_784f439cb1c6row1_col2\" class=\"data row1 col2\" >null_min=0.99, predominant_max=0.9, nulls_list=['']</td>\n",
       "            </tr>\n",
       "            <tr>\n",
       "                        <th id=\"T_517d9e68_0a39_11ea_a6f2_784f439cb1c6level0_row2\" class=\"row_heading level0 row2\" >2</th>\n",
       "                        <td id=\"T_517d9e68_0a39_11ea_a6f2_784f439cb1c6row2_col0\" class=\"data row2 col0\" ></td>\n",
       "                        <td id=\"T_517d9e68_0a39_11ea_a6f2_784f439cb1c6row2_col1\" class=\"data row2 col1\" >auto_to_category</td>\n",
       "                        <td id=\"T_517d9e68_0a39_11ea_a6f2_784f439cb1c6row2_col2\" class=\"data row2 col2\" >null_max=0.7, unique_max=20</td>\n",
       "            </tr>\n",
       "            <tr>\n",
       "                        <th id=\"T_517d9e68_0a39_11ea_a6f2_784f439cb1c6level0_row3\" class=\"row_heading level0 row3\" >3</th>\n",
       "                        <td id=\"T_517d9e68_0a39_11ea_a6f2_784f439cb1c6row3_col0\" class=\"data row3 col0\" ></td>\n",
       "                        <td id=\"T_517d9e68_0a39_11ea_a6f2_784f439cb1c6row3_col1\" class=\"data row3 col1\" >to_bool_type</td>\n",
       "                        <td id=\"T_517d9e68_0a39_11ea_a6f2_784f439cb1c6row3_col2\" class=\"data row3 col2\" >headers=online, drop=False, bool_map={1: True}</td>\n",
       "            </tr>\n",
       "            <tr>\n",
       "                        <th id=\"T_517d9e68_0a39_11ea_a6f2_784f439cb1c6level0_row4\" class=\"row_heading level0 row4\" >4</th>\n",
       "                        <td id=\"T_517d9e68_0a39_11ea_a6f2_784f439cb1c6row4_col0\" class=\"data row4 col0\" ></td>\n",
       "                        <td id=\"T_517d9e68_0a39_11ea_a6f2_784f439cb1c6row4_col1\" class=\"data row4 col1\" >to_category_type</td>\n",
       "                        <td id=\"T_517d9e68_0a39_11ea_a6f2_784f439cb1c6row4_col2\" class=\"data row4 col2\" >headers=['gender', 'profession'], drop=False</td>\n",
       "            </tr>\n",
       "            <tr>\n",
       "                        <th id=\"T_517d9e68_0a39_11ea_a6f2_784f439cb1c6level0_row5\" class=\"row_heading level0 row5\" >5</th>\n",
       "                        <td id=\"T_517d9e68_0a39_11ea_a6f2_784f439cb1c6row5_col0\" class=\"data row5 col0\" ></td>\n",
       "                        <td id=\"T_517d9e68_0a39_11ea_a6f2_784f439cb1c6row5_col1\" class=\"data row5 col1\" >to_date_type</td>\n",
       "                        <td id=\"T_517d9e68_0a39_11ea_a6f2_784f439cb1c6row5_col2\" class=\"data row5 col2\" >headers=start_date, drop=False, as_num=False, day_first=True, year_first=False</td>\n",
       "            </tr>\n",
       "            <tr>\n",
       "                        <th id=\"T_517d9e68_0a39_11ea_a6f2_784f439cb1c6level0_row6\" class=\"row_heading level0 row6\" >6</th>\n",
       "                        <td id=\"T_517d9e68_0a39_11ea_a6f2_784f439cb1c6row6_col0\" class=\"data row6 col0\" ></td>\n",
       "                        <td id=\"T_517d9e68_0a39_11ea_a6f2_784f439cb1c6row6_col1\" class=\"data row6 col1\" >to_float_type</td>\n",
       "                        <td id=\"T_517d9e68_0a39_11ea_a6f2_784f439cb1c6row6_col2\" class=\"data row6 col2\" >dtype=['float'], exclude=False, fillna=nan, errors=coerce, precision=3</td>\n",
       "            </tr>\n",
       "            <tr>\n",
       "                        <th id=\"T_517d9e68_0a39_11ea_a6f2_784f439cb1c6level0_row7\" class=\"row_heading level0 row7\" >7</th>\n",
       "                        <td id=\"T_517d9e68_0a39_11ea_a6f2_784f439cb1c6row7_col0\" class=\"data row7 col0\" ></td>\n",
       "                        <td id=\"T_517d9e68_0a39_11ea_a6f2_784f439cb1c6row7_col1\" class=\"data row7 col1\" >to_str_type</td>\n",
       "                        <td id=\"T_517d9e68_0a39_11ea_a6f2_784f439cb1c6row7_col2\" class=\"data row7 col2\" >dtype=['object'], exclude=False, nulls_list=['', 'nan']</td>\n",
       "            </tr>\n",
       "    </tbody></table>"
      ],
      "text/plain": [
       "<pandas.io.formats.style.Styler at 0x1a23de3cf8>"
      ]
     },
     "execution_count": 112,
     "metadata": {},
     "output_type": "execute_result"
    }
   ],
   "source": [
    "# Cleaners report\n",
    "tr.report_cleaners()"
   ]
  },
  {
   "cell_type": "code",
   "execution_count": 87,
   "metadata": {},
   "outputs": [
    {
     "data": {
      "text/html": [
       "<div>\n",
       "<style scoped>\n",
       "    .dataframe tbody tr th:only-of-type {\n",
       "        vertical-align: middle;\n",
       "    }\n",
       "\n",
       "    .dataframe tbody tr th {\n",
       "        vertical-align: top;\n",
       "    }\n",
       "\n",
       "    .dataframe thead th {\n",
       "        text-align: right;\n",
       "    }\n",
       "</style>\n",
       "<table border=\"1\" class=\"dataframe\">\n",
       "  <thead>\n",
       "    <tr style=\"text-align: right;\">\n",
       "      <th></th>\n",
       "    </tr>\n",
       "  </thead>\n",
       "  <tbody>\n",
       "  </tbody>\n",
       "</table>\n",
       "</div>"
      ],
      "text/plain": [
       "Empty DataFrame\n",
       "Columns: []\n",
       "Index: []"
      ]
     },
     "execution_count": 87,
     "metadata": {},
     "output_type": "execute_result"
    }
   ],
   "source": [
    "tr.load_clean_canonical()"
   ]
  },
  {
   "cell_type": "markdown",
   "metadata": {},
   "source": [
    "### Bulk upload the Attribute Dictionary"
   ]
  },
  {
   "cell_type": "code",
   "execution_count": 58,
   "metadata": {},
   "outputs": [],
   "source": [
    "# load the Transitioning instance\n",
    "tr_dict = Transition.from_env('synthetic_customer_dictionary')\n"
   ]
  },
  {
   "cell_type": "code",
   "execution_count": 59,
   "metadata": {},
   "outputs": [
    {
     "data": {
      "text/html": [
       "<style  type=\"text/css\" >\n",
       "    #T_5f28ad40_0a35_11ea_95c7_784f439cb1c6 th {\n",
       "          font-size: 120%;\n",
       "          text-align: center;\n",
       "    }    #T_5f28ad40_0a35_11ea_95c7_784f439cb1c6 .row_heading, .blank {\n",
       "          display: none;;\n",
       "    }    #T_5f28ad40_0a35_11ea_95c7_784f439cb1c6row0_col0 {\n",
       "            text-align:  left;\n",
       "            font-weight:  bold;\n",
       "        }    #T_5f28ad40_0a35_11ea_95c7_784f439cb1c6row0_col1 {\n",
       "            text-align:  left;\n",
       "        }    #T_5f28ad40_0a35_11ea_95c7_784f439cb1c6row0_col2 {\n",
       "            text-align:  left;\n",
       "        }    #T_5f28ad40_0a35_11ea_95c7_784f439cb1c6row1_col0 {\n",
       "            text-align:  left;\n",
       "            font-weight:  bold;\n",
       "        }    #T_5f28ad40_0a35_11ea_95c7_784f439cb1c6row1_col1 {\n",
       "            text-align:  left;\n",
       "        }    #T_5f28ad40_0a35_11ea_95c7_784f439cb1c6row1_col2 {\n",
       "            text-align:  left;\n",
       "        }    #T_5f28ad40_0a35_11ea_95c7_784f439cb1c6row2_col0 {\n",
       "            text-align:  left;\n",
       "            font-weight:  bold;\n",
       "        }    #T_5f28ad40_0a35_11ea_95c7_784f439cb1c6row2_col1 {\n",
       "            text-align:  left;\n",
       "        }    #T_5f28ad40_0a35_11ea_95c7_784f439cb1c6row2_col2 {\n",
       "            text-align:  left;\n",
       "        }    #T_5f28ad40_0a35_11ea_95c7_784f439cb1c6row3_col0 {\n",
       "            text-align:  left;\n",
       "            font-weight:  bold;\n",
       "        }    #T_5f28ad40_0a35_11ea_95c7_784f439cb1c6row3_col1 {\n",
       "            text-align:  left;\n",
       "        }    #T_5f28ad40_0a35_11ea_95c7_784f439cb1c6row3_col2 {\n",
       "            text-align:  left;\n",
       "        }    #T_5f28ad40_0a35_11ea_95c7_784f439cb1c6row4_col0 {\n",
       "            text-align:  left;\n",
       "            font-weight:  bold;\n",
       "        }    #T_5f28ad40_0a35_11ea_95c7_784f439cb1c6row4_col1 {\n",
       "            text-align:  left;\n",
       "        }    #T_5f28ad40_0a35_11ea_95c7_784f439cb1c6row4_col2 {\n",
       "            text-align:  left;\n",
       "        }    #T_5f28ad40_0a35_11ea_95c7_784f439cb1c6row5_col0 {\n",
       "            text-align:  left;\n",
       "            font-weight:  bold;\n",
       "        }    #T_5f28ad40_0a35_11ea_95c7_784f439cb1c6row5_col1 {\n",
       "            text-align:  left;\n",
       "        }    #T_5f28ad40_0a35_11ea_95c7_784f439cb1c6row5_col2 {\n",
       "            text-align:  left;\n",
       "        }    #T_5f28ad40_0a35_11ea_95c7_784f439cb1c6row6_col0 {\n",
       "            text-align:  left;\n",
       "            font-weight:  bold;\n",
       "        }    #T_5f28ad40_0a35_11ea_95c7_784f439cb1c6row6_col1 {\n",
       "            text-align:  left;\n",
       "        }    #T_5f28ad40_0a35_11ea_95c7_784f439cb1c6row6_col2 {\n",
       "            text-align:  left;\n",
       "        }    #T_5f28ad40_0a35_11ea_95c7_784f439cb1c6row7_col0 {\n",
       "            text-align:  left;\n",
       "            font-weight:  bold;\n",
       "        }    #T_5f28ad40_0a35_11ea_95c7_784f439cb1c6row7_col1 {\n",
       "            text-align:  left;\n",
       "        }    #T_5f28ad40_0a35_11ea_95c7_784f439cb1c6row7_col2 {\n",
       "            text-align:  left;\n",
       "        }</style><table id=\"T_5f28ad40_0a35_11ea_95c7_784f439cb1c6\" ><thead>    <tr>        <th class=\"blank level0\" ></th>        <th class=\"col_heading level0 col0\" >param</th>        <th class=\"col_heading level0 col1\" >Property Source</th>        <th class=\"col_heading level0 col2\" >Persist Source</th>    </tr></thead><tbody>\n",
       "                <tr>\n",
       "                        <th id=\"T_5f28ad40_0a35_11ea_95c7_784f439cb1c6level0_row0\" class=\"row_heading level0 row0\" >0</th>\n",
       "                        <td id=\"T_5f28ad40_0a35_11ea_95c7_784f439cb1c6row0_col0\" class=\"data row0 col0\" >connector_name</td>\n",
       "                        <td id=\"T_5f28ad40_0a35_11ea_95c7_784f439cb1c6row0_col1\" class=\"data row0 col1\" >pm_data_synthetic_customer_dictionary</td>\n",
       "                        <td id=\"T_5f28ad40_0a35_11ea_95c7_784f439cb1c6row0_col2\" class=\"data row0 col2\" >persist_connector</td>\n",
       "            </tr>\n",
       "            <tr>\n",
       "                        <th id=\"T_5f28ad40_0a35_11ea_95c7_784f439cb1c6level0_row1\" class=\"row_heading level0 row1\" >1</th>\n",
       "                        <td id=\"T_5f28ad40_0a35_11ea_95c7_784f439cb1c6row1_col0\" class=\"data row1 col0\" >resource</td>\n",
       "                        <td id=\"T_5f28ad40_0a35_11ea_95c7_784f439cb1c6row1_col1\" class=\"data row1 col1\" >config_transition_data_synthetic_customer_dictionary.yaml</td>\n",
       "                        <td id=\"T_5f28ad40_0a35_11ea_95c7_784f439cb1c6row1_col2\" class=\"data row1 col2\" >transition_synthetic_customer_dictionary_v0.00.pickle</td>\n",
       "            </tr>\n",
       "            <tr>\n",
       "                        <th id=\"T_5f28ad40_0a35_11ea_95c7_784f439cb1c6level0_row2\" class=\"row_heading level0 row2\" >2</th>\n",
       "                        <td id=\"T_5f28ad40_0a35_11ea_95c7_784f439cb1c6row2_col0\" class=\"data row2 col0\" >connector_type</td>\n",
       "                        <td id=\"T_5f28ad40_0a35_11ea_95c7_784f439cb1c6row2_col1\" class=\"data row2 col1\" >yaml</td>\n",
       "                        <td id=\"T_5f28ad40_0a35_11ea_95c7_784f439cb1c6row2_col2\" class=\"data row2 col2\" >pickle</td>\n",
       "            </tr>\n",
       "            <tr>\n",
       "                        <th id=\"T_5f28ad40_0a35_11ea_95c7_784f439cb1c6level0_row3\" class=\"row_heading level0 row3\" >3</th>\n",
       "                        <td id=\"T_5f28ad40_0a35_11ea_95c7_784f439cb1c6row3_col0\" class=\"data row3 col0\" >location</td>\n",
       "                        <td id=\"T_5f28ad40_0a35_11ea_95c7_784f439cb1c6row3_col1\" class=\"data row3 col1\" >/Users/doatridge/code/projects/prod/discovery-transition-ds/jupyter/working/contracts/synthetic_customer_dictionary</td>\n",
       "                        <td id=\"T_5f28ad40_0a35_11ea_95c7_784f439cb1c6row3_col2\" class=\"data row3 col2\" >/Users/doatridge/code/projects/prod/discovery-transition-ds/jupyter/working/contracts/synthetic_customer_dictionary</td>\n",
       "            </tr>\n",
       "            <tr>\n",
       "                        <th id=\"T_5f28ad40_0a35_11ea_95c7_784f439cb1c6level0_row4\" class=\"row_heading level0 row4\" >4</th>\n",
       "                        <td id=\"T_5f28ad40_0a35_11ea_95c7_784f439cb1c6row4_col0\" class=\"data row4 col0\" >module_name</td>\n",
       "                        <td id=\"T_5f28ad40_0a35_11ea_95c7_784f439cb1c6row4_col1\" class=\"data row4 col1\" >ds_discovery.handlers.pandas_handlers</td>\n",
       "                        <td id=\"T_5f28ad40_0a35_11ea_95c7_784f439cb1c6row4_col2\" class=\"data row4 col2\" >ds_discovery.handlers.pandas_handlers</td>\n",
       "            </tr>\n",
       "            <tr>\n",
       "                        <th id=\"T_5f28ad40_0a35_11ea_95c7_784f439cb1c6level0_row5\" class=\"row_heading level0 row5\" >5</th>\n",
       "                        <td id=\"T_5f28ad40_0a35_11ea_95c7_784f439cb1c6row5_col0\" class=\"data row5 col0\" >handler</td>\n",
       "                        <td id=\"T_5f28ad40_0a35_11ea_95c7_784f439cb1c6row5_col1\" class=\"data row5 col1\" >PandasPersistHandler</td>\n",
       "                        <td id=\"T_5f28ad40_0a35_11ea_95c7_784f439cb1c6row5_col2\" class=\"data row5 col2\" >PandasPersistHandler</td>\n",
       "            </tr>\n",
       "            <tr>\n",
       "                        <th id=\"T_5f28ad40_0a35_11ea_95c7_784f439cb1c6level0_row6\" class=\"row_heading level0 row6\" >6</th>\n",
       "                        <td id=\"T_5f28ad40_0a35_11ea_95c7_784f439cb1c6row6_col0\" class=\"data row6 col0\" >modified</td>\n",
       "                        <td id=\"T_5f28ad40_0a35_11ea_95c7_784f439cb1c6row6_col1\" class=\"data row6 col1\" >0</td>\n",
       "                        <td id=\"T_5f28ad40_0a35_11ea_95c7_784f439cb1c6row6_col2\" class=\"data row6 col2\" >0</td>\n",
       "            </tr>\n",
       "            <tr>\n",
       "                        <th id=\"T_5f28ad40_0a35_11ea_95c7_784f439cb1c6level0_row7\" class=\"row_heading level0 row7\" >7</th>\n",
       "                        <td id=\"T_5f28ad40_0a35_11ea_95c7_784f439cb1c6row7_col0\" class=\"data row7 col0\" >kwargs</td>\n",
       "                        <td id=\"T_5f28ad40_0a35_11ea_95c7_784f439cb1c6row7_col1\" class=\"data row7 col1\" ></td>\n",
       "                        <td id=\"T_5f28ad40_0a35_11ea_95c7_784f439cb1c6row7_col2\" class=\"data row7 col2\" ></td>\n",
       "            </tr>\n",
       "    </tbody></table>"
      ],
      "text/plain": [
       "<pandas.io.formats.style.Styler at 0x1a23e86908>"
      ]
     },
     "execution_count": 59,
     "metadata": {},
     "output_type": "execute_result"
    }
   ],
   "source": [
    "tr_dict.report_source()"
   ]
  },
  {
   "cell_type": "code",
   "execution_count": 28,
   "metadata": {},
   "outputs": [
    {
     "data": {
      "text/html": [
       "<div>\n",
       "<style scoped>\n",
       "    .dataframe tbody tr th:only-of-type {\n",
       "        vertical-align: middle;\n",
       "    }\n",
       "\n",
       "    .dataframe tbody tr th {\n",
       "        vertical-align: top;\n",
       "    }\n",
       "\n",
       "    .dataframe thead th {\n",
       "        text-align: right;\n",
       "    }\n",
       "</style>\n",
       "<table border=\"1\" class=\"dataframe\">\n",
       "  <thead>\n",
       "    <tr style=\"text-align: right;\">\n",
       "      <th></th>\n",
       "      <th>Attribute</th>\n",
       "      <th>dType</th>\n",
       "      <th>%_Null</th>\n",
       "      <th>%_Dom</th>\n",
       "      <th>Count</th>\n",
       "      <th>Unique</th>\n",
       "      <th>Observations</th>\n",
       "    </tr>\n",
       "  </thead>\n",
       "  <tbody>\n",
       "  </tbody>\n",
       "</table>\n",
       "</div>"
      ],
      "text/plain": [
       "Empty DataFrame\n",
       "Columns: [Attribute, dType, %_Null, %_Dom, Count, Unique, Observations]\n",
       "Index: []"
      ]
     },
     "execution_count": 28,
     "metadata": {},
     "output_type": "execute_result"
    }
   ],
   "source": [
    "# get the Transitioned Canonical\n",
    "df_cust_dict = tr_dict.load_clean_canonical()\n",
    "tr.canonical_report(df_cust_dict, stylise=False)"
   ]
  },
  {
   "cell_type": "code",
   "execution_count": 29,
   "metadata": {},
   "outputs": [
    {
     "ename": "ValueError",
     "evalue": "The label header attribute can't be found in the DataFrame",
     "output_type": "error",
     "traceback": [
      "\u001b[0;31m---------------------------------------------------------------------------\u001b[0m",
      "\u001b[0;31mValueError\u001b[0m                                Traceback (most recent call last)",
      "\u001b[0;32m<ipython-input-29-3fe5d6780205>\u001b[0m in \u001b[0;36m<module>\u001b[0;34m()\u001b[0m\n\u001b[1;32m      1\u001b[0m \u001b[0;31m# bulk upload the dictionary into our notes\u001b[0m\u001b[0;34m\u001b[0m\u001b[0;34m\u001b[0m\u001b[0;34m\u001b[0m\u001b[0m\n\u001b[0;32m----> 2\u001b[0;31m \u001b[0mtr\u001b[0m\u001b[0;34m.\u001b[0m\u001b[0mupload_notes\u001b[0m\u001b[0;34m(\u001b[0m\u001b[0mdf_cust_dict\u001b[0m\u001b[0;34m,\u001b[0m \u001b[0mlabel_header\u001b[0m\u001b[0;34m=\u001b[0m\u001b[0;34m'attribute'\u001b[0m\u001b[0;34m,\u001b[0m \u001b[0mtext_header\u001b[0m\u001b[0;34m=\u001b[0m\u001b[0;34m'description'\u001b[0m\u001b[0;34m,\u001b[0m \u001b[0mnote_type\u001b[0m\u001b[0;34m=\u001b[0m\u001b[0;34m'dictionary'\u001b[0m\u001b[0;34m,\u001b[0m \u001b[0mselection\u001b[0m\u001b[0;34m=\u001b[0m\u001b[0mdf\u001b[0m\u001b[0;34m.\u001b[0m\u001b[0mcolumns\u001b[0m\u001b[0;34m.\u001b[0m\u001b[0mto_list\u001b[0m\u001b[0;34m(\u001b[0m\u001b[0;34m)\u001b[0m\u001b[0;34m)\u001b[0m\u001b[0;34m\u001b[0m\u001b[0;34m\u001b[0m\u001b[0m\n\u001b[0m",
      "\u001b[0;32m~/anaconda3/envs/common/lib/python3.6/site-packages/ds_discovery/transition/transitioning.py\u001b[0m in \u001b[0;36mupload_notes\u001b[0;34m(self, df, label_header, text_header, note_type, selection, save)\u001b[0m\n\u001b[1;32m    448\u001b[0m         \"\"\"\n\u001b[1;32m    449\u001b[0m         \u001b[0;32mif\u001b[0m \u001b[0mlabel_header\u001b[0m \u001b[0;32mnot\u001b[0m \u001b[0;32min\u001b[0m \u001b[0mdf\u001b[0m\u001b[0;34m.\u001b[0m\u001b[0mcolumns\u001b[0m\u001b[0;34m:\u001b[0m\u001b[0;34m\u001b[0m\u001b[0;34m\u001b[0m\u001b[0m\n\u001b[0;32m--> 450\u001b[0;31m             \u001b[0;32mraise\u001b[0m \u001b[0mValueError\u001b[0m\u001b[0;34m(\u001b[0m\u001b[0;34m\"The label header {} can't be found in the DataFrame\"\u001b[0m\u001b[0;34m.\u001b[0m\u001b[0mformat\u001b[0m\u001b[0;34m(\u001b[0m\u001b[0mlabel_header\u001b[0m\u001b[0;34m)\u001b[0m\u001b[0;34m)\u001b[0m\u001b[0;34m\u001b[0m\u001b[0;34m\u001b[0m\u001b[0m\n\u001b[0m\u001b[1;32m    451\u001b[0m         \u001b[0;32mif\u001b[0m \u001b[0mtext_header\u001b[0m \u001b[0;32mnot\u001b[0m \u001b[0;32min\u001b[0m \u001b[0mdf\u001b[0m\u001b[0;34m.\u001b[0m\u001b[0mcolumns\u001b[0m\u001b[0;34m:\u001b[0m\u001b[0;34m\u001b[0m\u001b[0;34m\u001b[0m\u001b[0m\n\u001b[1;32m    452\u001b[0m             \u001b[0;32mraise\u001b[0m \u001b[0mValueError\u001b[0m\u001b[0;34m(\u001b[0m\u001b[0;34m\"The text header {} can't be found in the DataFrame\"\u001b[0m\u001b[0;34m.\u001b[0m\u001b[0mformat\u001b[0m\u001b[0;34m(\u001b[0m\u001b[0mtext_header\u001b[0m\u001b[0;34m)\u001b[0m\u001b[0;34m)\u001b[0m\u001b[0;34m\u001b[0m\u001b[0;34m\u001b[0m\u001b[0m\n",
      "\u001b[0;31mValueError\u001b[0m: The label header attribute can't be found in the DataFrame"
     ]
    }
   ],
   "source": [
    "# bulk upload the dictionary into our notes\n",
    "tr.upload_notes(df_cust_dict, label_header='attribute', text_header='description', note_type='dictionary', selection=df.columns.to_list())"
   ]
  },
  {
   "cell_type": "code",
   "execution_count": null,
   "metadata": {},
   "outputs": [],
   "source": [
    "tr.report_notes(stylise=True)"
   ]
  },
  {
   "cell_type": "markdown",
   "metadata": {},
   "source": [
    "### Report, Persist and Validation"
   ]
  },
  {
   "cell_type": "code",
   "execution_count": 30,
   "metadata": {
    "collapsed": true
   },
   "outputs": [],
   "source": [
    "\n",
    "# persist Transitioning Contract just to ensure everything in memory is persisted to disk\n",
    "tr.persist_contract()\n",
    "\n",
    "# save the clean file\n",
    "tr.save_clean_canonical(df)"
   ]
  },
  {
   "cell_type": "code",
   "execution_count": 33,
   "metadata": {},
   "outputs": [
    {
     "data": {
      "text/plain": [
       "\u001b[0;31mSignature:\u001b[0m \u001b[0mtr\u001b[0m\u001b[0;34m.\u001b[0m\u001b[0mdiscover\u001b[0m\u001b[0;34m.\u001b[0m\u001b[0manalyse_association\u001b[0m\u001b[0;34m(\u001b[0m\u001b[0mdf\u001b[0m\u001b[0;34m:\u001b[0m\u001b[0mpandas\u001b[0m\u001b[0;34m.\u001b[0m\u001b[0mcore\u001b[0m\u001b[0;34m.\u001b[0m\u001b[0mframe\u001b[0m\u001b[0;34m.\u001b[0m\u001b[0mDataFrame\u001b[0m\u001b[0;34m,\u001b[0m \u001b[0mcolumns_list\u001b[0m\u001b[0;34m:\u001b[0m\u001b[0mlist\u001b[0m\u001b[0;34m,\u001b[0m \u001b[0mexclude_associate\u001b[0m\u001b[0;34m:\u001b[0m\u001b[0mlist\u001b[0m\u001b[0;34m=\u001b[0m\u001b[0;32mNone\u001b[0m\u001b[0;34m)\u001b[0m\u001b[0;34m\u001b[0m\u001b[0;34m\u001b[0m\u001b[0m\n",
       "\u001b[0;31mDocstring:\u001b[0m\n",
       "Analyses the association of Category against Values and returns a dictionary of resulting weighting\n",
       "the structure of the columns_list is a list of dictionaries with the key words\n",
       "    - label: the label or name of the header in the DataFrame\n",
       "    - dtype: one of category|number|date indicating the origin of the data\n",
       "    - chunk_size: if the weighting pattern is over the size of the data the number of chunks\n",
       "    - replace_zero: if a zero reference is returned it can optionally be replaced with a low probability\n",
       "and example structure might look like:\n",
       "    [{'label1': {'dtype': 'number', 'granularity': 5, 'replace_zero': 0.001}},\n",
       "     {'label2': {'dtype': 'category'}}]\n",
       "\n",
       ":param df: the dataframe to take the columns from\n",
       ":param columns_list: a dictionary structure of collumns to select for association\n",
       ":param exclude_associate: (optional) a list of dot separated tree of items to exclude from iteration (e.g. [age.\n",
       ":return: a dictionary of association weighting\n",
       "\u001b[0;31mFile:\u001b[0m      ~/anaconda3/envs/common/lib/python3.6/site-packages/ds_discovery/transition/discovery.py\n",
       "\u001b[0;31mType:\u001b[0m      function\n"
      ]
     },
     "metadata": {},
     "output_type": "display_data"
    }
   ],
   "source": [
    "?tr.discover.analyse_association"
   ]
  },
  {
   "cell_type": "code",
   "execution_count": 31,
   "metadata": {
    "collapsed": true
   },
   "outputs": [
    {
     "data": {
      "text/html": [
       "<style  type=\"text/css\" >\n",
       "    #T_6d4200d8_e5ec_11e9_ab20_784f439cb1c6 th {\n",
       "          font-size: 120%;\n",
       "          text-align: center;\n",
       "    }    #T_6d4200d8_e5ec_11e9_ab20_784f439cb1c6 .row_heading, .blank {\n",
       "          display: none;;\n",
       "    }    #T_6d4200d8_e5ec_11e9_ab20_784f439cb1c6row0_col0 {\n",
       "            font-weight:  bold;\n",
       "            font-size:  120%;\n",
       "        }    #T_6d4200d8_e5ec_11e9_ab20_784f439cb1c6row0_col2 {\n",
       "            : ;\n",
       "            color:  black;\n",
       "        }    #T_6d4200d8_e5ec_11e9_ab20_784f439cb1c6row0_col3 {\n",
       "            : ;\n",
       "            color:  black;\n",
       "        }    #T_6d4200d8_e5ec_11e9_ab20_784f439cb1c6row0_col4 {\n",
       "            background-color:  #ec382b;\n",
       "            color:  white;\n",
       "        }    #T_6d4200d8_e5ec_11e9_ab20_784f439cb1c6row0_col6 {\n",
       "            : ;\n",
       "            color:  black;\n",
       "        }    #T_6d4200d8_e5ec_11e9_ab20_784f439cb1c6row1_col0 {\n",
       "            font-weight:  bold;\n",
       "            font-size:  120%;\n",
       "        }    #T_6d4200d8_e5ec_11e9_ab20_784f439cb1c6row1_col2 {\n",
       "            : ;\n",
       "            color:  black;\n",
       "        }    #T_6d4200d8_e5ec_11e9_ab20_784f439cb1c6row1_col3 {\n",
       "            : ;\n",
       "            color:  black;\n",
       "        }    #T_6d4200d8_e5ec_11e9_ab20_784f439cb1c6row1_col4 {\n",
       "            background-color:  #ec382b;\n",
       "            color:  white;\n",
       "        }    #T_6d4200d8_e5ec_11e9_ab20_784f439cb1c6row1_col6 {\n",
       "            : ;\n",
       "            color:  black;\n",
       "        }    #T_6d4200d8_e5ec_11e9_ab20_784f439cb1c6row2_col0 {\n",
       "            font-weight:  bold;\n",
       "            font-size:  120%;\n",
       "        }    #T_6d4200d8_e5ec_11e9_ab20_784f439cb1c6row2_col2 {\n",
       "            : ;\n",
       "            color:  black;\n",
       "        }    #T_6d4200d8_e5ec_11e9_ab20_784f439cb1c6row2_col3 {\n",
       "            : ;\n",
       "            color:  black;\n",
       "        }    #T_6d4200d8_e5ec_11e9_ab20_784f439cb1c6row2_col4 {\n",
       "            background-color:  #ec382b;\n",
       "            color:  white;\n",
       "        }    #T_6d4200d8_e5ec_11e9_ab20_784f439cb1c6row2_col6 {\n",
       "            : ;\n",
       "            color:  black;\n",
       "        }    #T_6d4200d8_e5ec_11e9_ab20_784f439cb1c6row3_col0 {\n",
       "            font-weight:  bold;\n",
       "            font-size:  120%;\n",
       "        }    #T_6d4200d8_e5ec_11e9_ab20_784f439cb1c6row3_col1 {\n",
       "            color:  #208a0f;\n",
       "        }    #T_6d4200d8_e5ec_11e9_ab20_784f439cb1c6row3_col2 {\n",
       "            : ;\n",
       "            color:  black;\n",
       "        }    #T_6d4200d8_e5ec_11e9_ab20_784f439cb1c6row3_col3 {\n",
       "            : ;\n",
       "            color:  black;\n",
       "        }    #T_6d4200d8_e5ec_11e9_ab20_784f439cb1c6row3_col4 {\n",
       "            : ;\n",
       "            color:  black;\n",
       "        }    #T_6d4200d8_e5ec_11e9_ab20_784f439cb1c6row3_col6 {\n",
       "            background-color:  #a1cbe2;\n",
       "            color:  black;\n",
       "        }    #T_6d4200d8_e5ec_11e9_ab20_784f439cb1c6row4_col0 {\n",
       "            font-weight:  bold;\n",
       "            font-size:  120%;\n",
       "        }    #T_6d4200d8_e5ec_11e9_ab20_784f439cb1c6row4_col2 {\n",
       "            : ;\n",
       "            color:  black;\n",
       "        }    #T_6d4200d8_e5ec_11e9_ab20_784f439cb1c6row4_col3 {\n",
       "            : ;\n",
       "            color:  black;\n",
       "        }    #T_6d4200d8_e5ec_11e9_ab20_784f439cb1c6row4_col4 {\n",
       "            background-color:  #ec382b;\n",
       "            color:  white;\n",
       "        }    #T_6d4200d8_e5ec_11e9_ab20_784f439cb1c6row4_col6 {\n",
       "            : ;\n",
       "            color:  black;\n",
       "        }    #T_6d4200d8_e5ec_11e9_ab20_784f439cb1c6row5_col0 {\n",
       "            font-weight:  bold;\n",
       "            font-size:  120%;\n",
       "        }    #T_6d4200d8_e5ec_11e9_ab20_784f439cb1c6row5_col2 {\n",
       "            : ;\n",
       "            color:  black;\n",
       "        }    #T_6d4200d8_e5ec_11e9_ab20_784f439cb1c6row5_col3 {\n",
       "            : ;\n",
       "            color:  black;\n",
       "        }    #T_6d4200d8_e5ec_11e9_ab20_784f439cb1c6row5_col4 {\n",
       "            background-color:  #ec382b;\n",
       "            color:  white;\n",
       "        }    #T_6d4200d8_e5ec_11e9_ab20_784f439cb1c6row5_col6 {\n",
       "            : ;\n",
       "            color:  black;\n",
       "        }    #T_6d4200d8_e5ec_11e9_ab20_784f439cb1c6row6_col0 {\n",
       "            font-weight:  bold;\n",
       "            font-size:  120%;\n",
       "        }    #T_6d4200d8_e5ec_11e9_ab20_784f439cb1c6row6_col1 {\n",
       "            color:  #08488e;\n",
       "        }    #T_6d4200d8_e5ec_11e9_ab20_784f439cb1c6row6_col2 {\n",
       "            : ;\n",
       "            color:  black;\n",
       "        }    #T_6d4200d8_e5ec_11e9_ab20_784f439cb1c6row6_col3 {\n",
       "            background-color:  #ec382b;\n",
       "            color:  white;\n",
       "        }    #T_6d4200d8_e5ec_11e9_ab20_784f439cb1c6row6_col4 {\n",
       "            background-color:  #ec382b;\n",
       "            color:  white;\n",
       "        }    #T_6d4200d8_e5ec_11e9_ab20_784f439cb1c6row6_col6 {\n",
       "            background-color:  #ec382b;\n",
       "            color:  white;\n",
       "        }    #T_6d4200d8_e5ec_11e9_ab20_784f439cb1c6row7_col0 {\n",
       "            font-weight:  bold;\n",
       "            font-size:  120%;\n",
       "        }    #T_6d4200d8_e5ec_11e9_ab20_784f439cb1c6row7_col1 {\n",
       "            color:  #208a0f;\n",
       "        }    #T_6d4200d8_e5ec_11e9_ab20_784f439cb1c6row7_col2 {\n",
       "            : ;\n",
       "            color:  black;\n",
       "        }    #T_6d4200d8_e5ec_11e9_ab20_784f439cb1c6row7_col3 {\n",
       "            : ;\n",
       "            color:  black;\n",
       "        }    #T_6d4200d8_e5ec_11e9_ab20_784f439cb1c6row7_col4 {\n",
       "            : ;\n",
       "            color:  black;\n",
       "        }    #T_6d4200d8_e5ec_11e9_ab20_784f439cb1c6row7_col6 {\n",
       "            background-color:  #c1e6ba;\n",
       "            color:  black;\n",
       "        }    #T_6d4200d8_e5ec_11e9_ab20_784f439cb1c6row8_col0 {\n",
       "            font-weight:  bold;\n",
       "            font-size:  120%;\n",
       "        }    #T_6d4200d8_e5ec_11e9_ab20_784f439cb1c6row8_col1 {\n",
       "            color:  #790f8a;\n",
       "        }    #T_6d4200d8_e5ec_11e9_ab20_784f439cb1c6row8_col2 {\n",
       "            : ;\n",
       "            color:  black;\n",
       "        }    #T_6d4200d8_e5ec_11e9_ab20_784f439cb1c6row8_col3 {\n",
       "            : ;\n",
       "            color:  black;\n",
       "        }    #T_6d4200d8_e5ec_11e9_ab20_784f439cb1c6row8_col4 {\n",
       "            background-color:  #f7593f;\n",
       "            color:  white;\n",
       "        }    #T_6d4200d8_e5ec_11e9_ab20_784f439cb1c6row8_col6 {\n",
       "            : ;\n",
       "            color:  black;\n",
       "        }    #T_6d4200d8_e5ec_11e9_ab20_784f439cb1c6row9_col0 {\n",
       "            font-weight:  bold;\n",
       "            font-size:  120%;\n",
       "        }    #T_6d4200d8_e5ec_11e9_ab20_784f439cb1c6row9_col1 {\n",
       "            color:  #208a0f;\n",
       "        }    #T_6d4200d8_e5ec_11e9_ab20_784f439cb1c6row9_col2 {\n",
       "            : ;\n",
       "            color:  black;\n",
       "        }    #T_6d4200d8_e5ec_11e9_ab20_784f439cb1c6row9_col3 {\n",
       "            : ;\n",
       "            color:  black;\n",
       "        }    #T_6d4200d8_e5ec_11e9_ab20_784f439cb1c6row9_col4 {\n",
       "            : ;\n",
       "            color:  black;\n",
       "        }    #T_6d4200d8_e5ec_11e9_ab20_784f439cb1c6row9_col6 {\n",
       "            background-color:  #84cc83;\n",
       "            color:  black;\n",
       "        }    #T_6d4200d8_e5ec_11e9_ab20_784f439cb1c6row10_col0 {\n",
       "            font-weight:  bold;\n",
       "            font-size:  120%;\n",
       "        }    #T_6d4200d8_e5ec_11e9_ab20_784f439cb1c6row10_col2 {\n",
       "            : ;\n",
       "            color:  black;\n",
       "        }    #T_6d4200d8_e5ec_11e9_ab20_784f439cb1c6row10_col3 {\n",
       "            : ;\n",
       "            color:  black;\n",
       "        }    #T_6d4200d8_e5ec_11e9_ab20_784f439cb1c6row10_col4 {\n",
       "            background-color:  #ec382b;\n",
       "            color:  white;\n",
       "        }    #T_6d4200d8_e5ec_11e9_ab20_784f439cb1c6row10_col6 {\n",
       "            : ;\n",
       "            color:  black;\n",
       "        }</style><table id=\"T_6d4200d8_e5ec_11e9_ab20_784f439cb1c6\" ><caption>%_Dom: The % most domninant element</caption><thead>    <tr>        <th class=\"blank level0\" ></th>        <th class=\"col_heading level0 col0\" >Attribute</th>        <th class=\"col_heading level0 col1\" >dType</th>        <th class=\"col_heading level0 col2\" >%_Null</th>        <th class=\"col_heading level0 col3\" >%_Dom</th>        <th class=\"col_heading level0 col5\" >Count</th>        <th class=\"col_heading level0 col6\" >Unique</th>        <th class=\"col_heading level0 col7\" >Observations</th>    </tr></thead><tbody>\n",
       "                <tr>\n",
       "                        <th id=\"T_6d4200d8_e5ec_11e9_ab20_784f439cb1c6level0_row0\" class=\"row_heading level0 row0\" >0</th>\n",
       "                        <td id=\"T_6d4200d8_e5ec_11e9_ab20_784f439cb1c6row0_col0\" class=\"data row0 col0\" >age</td>\n",
       "                        <td id=\"T_6d4200d8_e5ec_11e9_ab20_784f439cb1c6row0_col1\" class=\"data row0 col1\" >object</td>\n",
       "                        <td id=\"T_6d4200d8_e5ec_11e9_ab20_784f439cb1c6row0_col2\" class=\"data row0 col2\" >15.0%</td>\n",
       "                        <td id=\"T_6d4200d8_e5ec_11e9_ab20_784f439cb1c6row0_col3\" class=\"data row0 col3\" >0.5%</td>\n",
       "                                <td id=\"T_6d4200d8_e5ec_11e9_ab20_784f439cb1c6row0_col5\" class=\"data row0 col5\" >425</td>\n",
       "                        <td id=\"T_6d4200d8_e5ec_11e9_ab20_784f439cb1c6row0_col6\" class=\"data row0 col6\" >422</td>\n",
       "                        <td id=\"T_6d4200d8_e5ec_11e9_ab20_784f439cb1c6row0_col7\" class=\"data row0 col7\" >Sample: 45.393 | 79.16 | 57.258</td>\n",
       "            </tr>\n",
       "            <tr>\n",
       "                        <th id=\"T_6d4200d8_e5ec_11e9_ab20_784f439cb1c6level0_row1\" class=\"row_heading level0 row1\" >1</th>\n",
       "                        <td id=\"T_6d4200d8_e5ec_11e9_ab20_784f439cb1c6row1_col0\" class=\"data row1 col0\" >balance</td>\n",
       "                        <td id=\"T_6d4200d8_e5ec_11e9_ab20_784f439cb1c6row1_col1\" class=\"data row1 col1\" >object</td>\n",
       "                        <td id=\"T_6d4200d8_e5ec_11e9_ab20_784f439cb1c6row1_col2\" class=\"data row1 col2\" >0.0%</td>\n",
       "                        <td id=\"T_6d4200d8_e5ec_11e9_ab20_784f439cb1c6row1_col3\" class=\"data row1 col3\" >0.4%</td>\n",
       "                                <td id=\"T_6d4200d8_e5ec_11e9_ab20_784f439cb1c6row1_col5\" class=\"data row1 col5\" >500</td>\n",
       "                        <td id=\"T_6d4200d8_e5ec_11e9_ab20_784f439cb1c6row1_col6\" class=\"data row1 col6\" >496</td>\n",
       "                        <td id=\"T_6d4200d8_e5ec_11e9_ab20_784f439cb1c6row1_col7\" class=\"data row1 col7\" >Sample: 100.81 | 133.6 | 119.28</td>\n",
       "            </tr>\n",
       "            <tr>\n",
       "                        <th id=\"T_6d4200d8_e5ec_11e9_ab20_784f439cb1c6level0_row2\" class=\"row_heading level0 row2\" >2</th>\n",
       "                        <td id=\"T_6d4200d8_e5ec_11e9_ab20_784f439cb1c6row2_col0\" class=\"data row2 col0\" >forename</td>\n",
       "                        <td id=\"T_6d4200d8_e5ec_11e9_ab20_784f439cb1c6row2_col1\" class=\"data row2 col1\" >object</td>\n",
       "                        <td id=\"T_6d4200d8_e5ec_11e9_ab20_784f439cb1c6row2_col2\" class=\"data row2 col2\" >0.0%</td>\n",
       "                        <td id=\"T_6d4200d8_e5ec_11e9_ab20_784f439cb1c6row2_col3\" class=\"data row2 col3\" >0.4%</td>\n",
       "                                <td id=\"T_6d4200d8_e5ec_11e9_ab20_784f439cb1c6row2_col5\" class=\"data row2 col5\" >500</td>\n",
       "                        <td id=\"T_6d4200d8_e5ec_11e9_ab20_784f439cb1c6row2_col6\" class=\"data row2 col6\" >499</td>\n",
       "                        <td id=\"T_6d4200d8_e5ec_11e9_ab20_784f439cb1c6row2_col7\" class=\"data row2 col7\" >Sample: Jonas  | Habiba  | Iva</td>\n",
       "            </tr>\n",
       "            <tr>\n",
       "                        <th id=\"T_6d4200d8_e5ec_11e9_ab20_784f439cb1c6level0_row3\" class=\"row_heading level0 row3\" >3</th>\n",
       "                        <td id=\"T_6d4200d8_e5ec_11e9_ab20_784f439cb1c6row3_col0\" class=\"data row3 col0\" >gender</td>\n",
       "                        <td id=\"T_6d4200d8_e5ec_11e9_ab20_784f439cb1c6row3_col1\" class=\"data row3 col1\" >category</td>\n",
       "                        <td id=\"T_6d4200d8_e5ec_11e9_ab20_784f439cb1c6row3_col2\" class=\"data row3 col2\" >0.0%</td>\n",
       "                        <td id=\"T_6d4200d8_e5ec_11e9_ab20_784f439cb1c6row3_col3\" class=\"data row3 col3\" >62.2%</td>\n",
       "                                <td id=\"T_6d4200d8_e5ec_11e9_ab20_784f439cb1c6row3_col5\" class=\"data row3 col5\" >500</td>\n",
       "                        <td id=\"T_6d4200d8_e5ec_11e9_ab20_784f439cb1c6row3_col6\" class=\"data row3 col6\" >2</td>\n",
       "                        <td id=\"T_6d4200d8_e5ec_11e9_ab20_784f439cb1c6row3_col7\" class=\"data row3 col7\" >F|M</td>\n",
       "            </tr>\n",
       "            <tr>\n",
       "                        <th id=\"T_6d4200d8_e5ec_11e9_ab20_784f439cb1c6level0_row4\" class=\"row_heading level0 row4\" >4</th>\n",
       "                        <td id=\"T_6d4200d8_e5ec_11e9_ab20_784f439cb1c6row4_col0\" class=\"data row4 col0\" >id</td>\n",
       "                        <td id=\"T_6d4200d8_e5ec_11e9_ab20_784f439cb1c6row4_col1\" class=\"data row4 col1\" >object</td>\n",
       "                        <td id=\"T_6d4200d8_e5ec_11e9_ab20_784f439cb1c6row4_col2\" class=\"data row4 col2\" >0.0%</td>\n",
       "                        <td id=\"T_6d4200d8_e5ec_11e9_ab20_784f439cb1c6row4_col3\" class=\"data row4 col3\" >0.2%</td>\n",
       "                                <td id=\"T_6d4200d8_e5ec_11e9_ab20_784f439cb1c6row4_col5\" class=\"data row4 col5\" >500</td>\n",
       "                        <td id=\"T_6d4200d8_e5ec_11e9_ab20_784f439cb1c6row4_col6\" class=\"data row4 col6\" >500</td>\n",
       "                        <td id=\"T_6d4200d8_e5ec_11e9_ab20_784f439cb1c6row4_col7\" class=\"data row4 col7\" >Sample: CU_2313118 | CU_5601884 | CU_2349662</td>\n",
       "            </tr>\n",
       "            <tr>\n",
       "                        <th id=\"T_6d4200d8_e5ec_11e9_ab20_784f439cb1c6level0_row5\" class=\"row_heading level0 row5\" >5</th>\n",
       "                        <td id=\"T_6d4200d8_e5ec_11e9_ab20_784f439cb1c6row5_col0\" class=\"data row5 col0\" >last_login</td>\n",
       "                        <td id=\"T_6d4200d8_e5ec_11e9_ab20_784f439cb1c6row5_col1\" class=\"data row5 col1\" >object</td>\n",
       "                        <td id=\"T_6d4200d8_e5ec_11e9_ab20_784f439cb1c6row5_col2\" class=\"data row5 col2\" >0.0%</td>\n",
       "                        <td id=\"T_6d4200d8_e5ec_11e9_ab20_784f439cb1c6row5_col3\" class=\"data row5 col3\" >0.2%</td>\n",
       "                                <td id=\"T_6d4200d8_e5ec_11e9_ab20_784f439cb1c6row5_col5\" class=\"data row5 col5\" >500</td>\n",
       "                        <td id=\"T_6d4200d8_e5ec_11e9_ab20_784f439cb1c6row5_col6\" class=\"data row5 col6\" >500</td>\n",
       "                        <td id=\"T_6d4200d8_e5ec_11e9_ab20_784f439cb1c6row5_col7\" class=\"data row5 col7\" >Sample: 01-22-19 16:36 | 03-29-19 06:23 | 04-17-19 20:00</td>\n",
       "            </tr>\n",
       "            <tr>\n",
       "                        <th id=\"T_6d4200d8_e5ec_11e9_ab20_784f439cb1c6level0_row6\" class=\"row_heading level0 row6\" >6</th>\n",
       "                        <td id=\"T_6d4200d8_e5ec_11e9_ab20_784f439cb1c6row6_col0\" class=\"data row6 col0\" >online</td>\n",
       "                        <td id=\"T_6d4200d8_e5ec_11e9_ab20_784f439cb1c6row6_col1\" class=\"data row6 col1\" >bool</td>\n",
       "                        <td id=\"T_6d4200d8_e5ec_11e9_ab20_784f439cb1c6row6_col2\" class=\"data row6 col2\" >0.0%</td>\n",
       "                        <td id=\"T_6d4200d8_e5ec_11e9_ab20_784f439cb1c6row6_col3\" class=\"data row6 col3\" >100.0%</td>\n",
       "                                <td id=\"T_6d4200d8_e5ec_11e9_ab20_784f439cb1c6row6_col5\" class=\"data row6 col5\" >500</td>\n",
       "                        <td id=\"T_6d4200d8_e5ec_11e9_ab20_784f439cb1c6row6_col6\" class=\"data row6 col6\" >1</td>\n",
       "                        <td id=\"T_6d4200d8_e5ec_11e9_ab20_784f439cb1c6row6_col7\" class=\"data row6 col7\" >False</td>\n",
       "            </tr>\n",
       "            <tr>\n",
       "                        <th id=\"T_6d4200d8_e5ec_11e9_ab20_784f439cb1c6level0_row7\" class=\"row_heading level0 row7\" >7</th>\n",
       "                        <td id=\"T_6d4200d8_e5ec_11e9_ab20_784f439cb1c6row7_col0\" class=\"data row7 col0\" >profession</td>\n",
       "                        <td id=\"T_6d4200d8_e5ec_11e9_ab20_784f439cb1c6row7_col1\" class=\"data row7 col1\" >category</td>\n",
       "                        <td id=\"T_6d4200d8_e5ec_11e9_ab20_784f439cb1c6row7_col2\" class=\"data row7 col2\" >10.0%</td>\n",
       "                        <td id=\"T_6d4200d8_e5ec_11e9_ab20_784f439cb1c6row7_col3\" class=\"data row7 col3\" >24.2%</td>\n",
       "                                <td id=\"T_6d4200d8_e5ec_11e9_ab20_784f439cb1c6row7_col5\" class=\"data row7 col5\" >500</td>\n",
       "                        <td id=\"T_6d4200d8_e5ec_11e9_ab20_784f439cb1c6row7_col6\" class=\"data row7 col6\" >16</td>\n",
       "                        <td id=\"T_6d4200d8_e5ec_11e9_ab20_784f439cb1c6row7_col7\" class=\"data row7 col7\" >|Actuary|Assistant Manager|Assistant Professor|Dental Hygienist|Design Engineer|Librarian|Nurse Prac...</td>\n",
       "            </tr>\n",
       "            <tr>\n",
       "                        <th id=\"T_6d4200d8_e5ec_11e9_ab20_784f439cb1c6level0_row8\" class=\"row_heading level0 row8\" >8</th>\n",
       "                        <td id=\"T_6d4200d8_e5ec_11e9_ab20_784f439cb1c6row8_col0\" class=\"data row8 col0\" >start_date</td>\n",
       "                        <td id=\"T_6d4200d8_e5ec_11e9_ab20_784f439cb1c6row8_col1\" class=\"data row8 col1\" >datetime64[ns]</td>\n",
       "                        <td id=\"T_6d4200d8_e5ec_11e9_ab20_784f439cb1c6row8_col2\" class=\"data row8 col2\" >0.0%</td>\n",
       "                        <td id=\"T_6d4200d8_e5ec_11e9_ab20_784f439cb1c6row8_col3\" class=\"data row8 col3\" >1.4%</td>\n",
       "                                <td id=\"T_6d4200d8_e5ec_11e9_ab20_784f439cb1c6row8_col5\" class=\"data row8 col5\" >500</td>\n",
       "                        <td id=\"T_6d4200d8_e5ec_11e9_ab20_784f439cb1c6row8_col6\" class=\"data row8 col6\" >271</td>\n",
       "                        <td id=\"T_6d4200d8_e5ec_11e9_ab20_784f439cb1c6row8_col7\" class=\"data row8 col7\" >max=2018-12-30 00:00:00 | min=2018-01-01 00:00:00 | yr mean= 2018</td>\n",
       "            </tr>\n",
       "            <tr>\n",
       "                        <th id=\"T_6d4200d8_e5ec_11e9_ab20_784f439cb1c6level0_row9\" class=\"row_heading level0 row9\" >9</th>\n",
       "                        <td id=\"T_6d4200d8_e5ec_11e9_ab20_784f439cb1c6row9_col0\" class=\"data row9 col0\" >status</td>\n",
       "                        <td id=\"T_6d4200d8_e5ec_11e9_ab20_784f439cb1c6row9_col1\" class=\"data row9 col1\" >category</td>\n",
       "                        <td id=\"T_6d4200d8_e5ec_11e9_ab20_784f439cb1c6row9_col2\" class=\"data row9 col2\" >0.0%</td>\n",
       "                        <td id=\"T_6d4200d8_e5ec_11e9_ab20_784f439cb1c6row9_col3\" class=\"data row9 col3\" >54.6%</td>\n",
       "                                <td id=\"T_6d4200d8_e5ec_11e9_ab20_784f439cb1c6row9_col5\" class=\"data row9 col5\" >500</td>\n",
       "                        <td id=\"T_6d4200d8_e5ec_11e9_ab20_784f439cb1c6row9_col6\" class=\"data row9 col6\" >4</td>\n",
       "                        <td id=\"T_6d4200d8_e5ec_11e9_ab20_784f439cb1c6row9_col7\" class=\"data row9 col7\" >Active|Closed|Pending|Suspended</td>\n",
       "            </tr>\n",
       "            <tr>\n",
       "                        <th id=\"T_6d4200d8_e5ec_11e9_ab20_784f439cb1c6level0_row10\" class=\"row_heading level0 row10\" >10</th>\n",
       "                        <td id=\"T_6d4200d8_e5ec_11e9_ab20_784f439cb1c6row10_col0\" class=\"data row10 col0\" >surname</td>\n",
       "                        <td id=\"T_6d4200d8_e5ec_11e9_ab20_784f439cb1c6row10_col1\" class=\"data row10 col1\" >object</td>\n",
       "                        <td id=\"T_6d4200d8_e5ec_11e9_ab20_784f439cb1c6row10_col2\" class=\"data row10 col2\" >0.0%</td>\n",
       "                        <td id=\"T_6d4200d8_e5ec_11e9_ab20_784f439cb1c6row10_col3\" class=\"data row10 col3\" >0.2%</td>\n",
       "                                <td id=\"T_6d4200d8_e5ec_11e9_ab20_784f439cb1c6row10_col5\" class=\"data row10 col5\" >500</td>\n",
       "                        <td id=\"T_6d4200d8_e5ec_11e9_ab20_784f439cb1c6row10_col6\" class=\"data row10 col6\" >500</td>\n",
       "                        <td id=\"T_6d4200d8_e5ec_11e9_ab20_784f439cb1c6row10_col7\" class=\"data row10 col7\" >Sample: Rabkin | Morandi | Martey</td>\n",
       "            </tr>\n",
       "    </tbody></table>"
      ],
      "text/plain": [
       "<pandas.io.formats.style.Styler at 0x1a200695f8>"
      ]
     },
     "execution_count": 31,
     "metadata": {},
     "output_type": "execute_result"
    }
   ],
   "source": [
    "# check the save worked by loading back the clean canonical\n",
    "df = tr.load_clean_canonical()\n",
    "tr.canonical_report(df, stylise=True)"
   ]
  },
  {
   "cell_type": "markdown",
   "metadata": {},
   "source": [
    "---------\n",
    "### Re-Running the Pipeline Contract"
   ]
  },
  {
   "cell_type": "code",
   "execution_count": 60,
   "metadata": {},
   "outputs": [
    {
     "ename": "ModuleNotFoundError",
     "evalue": "The connector 'persist_connector' has not been set in the property manager",
     "output_type": "error",
     "traceback": [
      "\u001b[0;31m---------------------------------------------------------------------------\u001b[0m",
      "\u001b[0;31mModuleNotFoundError\u001b[0m                       Traceback (most recent call last)",
      "\u001b[0;32m<ipython-input-60-9b1eb355ff9b>\u001b[0m in \u001b[0;36m<module>\u001b[0;34m()\u001b[0m\n\u001b[1;32m      1\u001b[0m \u001b[0;31m# loads the raw canonical, run the contract pipeline, save and return the clean canonical\u001b[0m\u001b[0;34m\u001b[0m\u001b[0;34m\u001b[0m\u001b[0;34m\u001b[0m\u001b[0m\n\u001b[0;32m----> 2\u001b[0;31m \u001b[0mdf\u001b[0m \u001b[0;34m=\u001b[0m \u001b[0mtr\u001b[0m\u001b[0;34m.\u001b[0m\u001b[0mrefresh_clean_canonical\u001b[0m\u001b[0;34m(\u001b[0m\u001b[0;34m)\u001b[0m\u001b[0;34m\u001b[0m\u001b[0;34m\u001b[0m\u001b[0m\n\u001b[0m\u001b[1;32m      3\u001b[0m \u001b[0mtr\u001b[0m\u001b[0;34m.\u001b[0m\u001b[0mcanonical_report\u001b[0m\u001b[0;34m(\u001b[0m\u001b[0mdf\u001b[0m\u001b[0;34m)\u001b[0m\u001b[0;34m\u001b[0m\u001b[0;34m\u001b[0m\u001b[0m\n",
      "\u001b[0;32m~/anaconda3/envs/common/lib/python3.6/site-packages/ds_discovery/transition/transitioning.py\u001b[0m in \u001b[0;36mrefresh_clean_canonical\u001b[0;34m(self)\u001b[0m\n\u001b[1;32m    616\u001b[0m             \u001b[0mclean_contract\u001b[0m \u001b[0;34m=\u001b[0m \u001b[0mself\u001b[0m\u001b[0;34m.\u001b[0m\u001b[0mdata_pm\u001b[0m\u001b[0;34m.\u001b[0m\u001b[0mget\u001b[0m\u001b[0;34m(\u001b[0m\u001b[0mjoin\u001b[0m\u001b[0;34m(\u001b[0m\u001b[0mself\u001b[0m\u001b[0;34m.\u001b[0m\u001b[0mdata_pm\u001b[0m\u001b[0;34m.\u001b[0m\u001b[0mKEY\u001b[0m\u001b[0;34m.\u001b[0m\u001b[0mcleaners_key\u001b[0m\u001b[0;34m,\u001b[0m \u001b[0mlevel\u001b[0m\u001b[0;34m)\u001b[0m\u001b[0;34m)\u001b[0m\u001b[0;34m\u001b[0m\u001b[0;34m\u001b[0m\u001b[0m\n\u001b[1;32m    617\u001b[0m             \u001b[0mdf\u001b[0m \u001b[0;34m=\u001b[0m \u001b[0mself\u001b[0m\u001b[0;34m.\u001b[0m\u001b[0mclean\u001b[0m\u001b[0;34m.\u001b[0m\u001b[0mrun_contract_pipeline\u001b[0m\u001b[0;34m(\u001b[0m\u001b[0mdf\u001b[0m\u001b[0;34m,\u001b[0m \u001b[0mcleaner_contract\u001b[0m\u001b[0;34m=\u001b[0m\u001b[0mclean_contract\u001b[0m\u001b[0;34m)\u001b[0m\u001b[0;34m\u001b[0m\u001b[0;34m\u001b[0m\u001b[0m\n\u001b[0;32m--> 618\u001b[0;31m         \u001b[0mhandler\u001b[0m \u001b[0;34m=\u001b[0m \u001b[0mself\u001b[0m\u001b[0;34m.\u001b[0m\u001b[0mdata_pm\u001b[0m\u001b[0;34m.\u001b[0m\u001b[0mget_connector_handler\u001b[0m\u001b[0;34m(\u001b[0m\u001b[0mself\u001b[0m\u001b[0;34m.\u001b[0m\u001b[0mPERSIST_CONNECTOR\u001b[0m\u001b[0;34m)\u001b[0m\u001b[0;34m\u001b[0m\u001b[0;34m\u001b[0m\u001b[0m\n\u001b[0m\u001b[1;32m    619\u001b[0m         \u001b[0mhandler\u001b[0m\u001b[0;34m.\u001b[0m\u001b[0mpersist_canonical\u001b[0m\u001b[0;34m(\u001b[0m\u001b[0mdf\u001b[0m\u001b[0;34m)\u001b[0m\u001b[0;34m\u001b[0m\u001b[0;34m\u001b[0m\u001b[0m\n\u001b[1;32m    620\u001b[0m         \u001b[0;32mreturn\u001b[0m \u001b[0mdf\u001b[0m\u001b[0;34m\u001b[0m\u001b[0;34m\u001b[0m\u001b[0m\n",
      "\u001b[0;32m~/anaconda3/envs/common/lib/python3.6/site-packages/ds_foundation/properties/abstract_properties.py\u001b[0m in \u001b[0;36mget_connector_handler\u001b[0;34m(self, connector_name)\u001b[0m\n\u001b[1;32m    273\u001b[0m            \u001b[0mthen\u001b[0m \u001b[0mit\u001b[0m \u001b[0;32mis\u001b[0m \u001b[0mcreated\u001b[0m \u001b[0;32mfrom\u001b[0m \u001b[0mthe\u001b[0m \u001b[0mhandler\u001b[0m \u001b[0mparameters\u001b[0m\u001b[0;34m.\u001b[0m\u001b[0;34m\u001b[0m\u001b[0;34m\u001b[0m\u001b[0m\n\u001b[1;32m    274\u001b[0m         \"\"\"\n\u001b[0;32m--> 275\u001b[0;31m         \u001b[0mconnector_bean\u001b[0m \u001b[0;34m=\u001b[0m \u001b[0mself\u001b[0m\u001b[0;34m.\u001b[0m\u001b[0mget_connector_contract\u001b[0m\u001b[0;34m(\u001b[0m\u001b[0mconnector_name\u001b[0m\u001b[0;34m)\u001b[0m\u001b[0;34m\u001b[0m\u001b[0;34m\u001b[0m\u001b[0m\n\u001b[0m\u001b[1;32m    276\u001b[0m         \u001b[0;32mif\u001b[0m \u001b[0mconnector_bean\u001b[0m\u001b[0;34m.\u001b[0m\u001b[0mmodule_name\u001b[0m \u001b[0;32mis\u001b[0m \u001b[0;32mNone\u001b[0m \u001b[0;32mor\u001b[0m \u001b[0mconnector_bean\u001b[0m\u001b[0;34m.\u001b[0m\u001b[0mhandler\u001b[0m \u001b[0;32mis\u001b[0m \u001b[0;32mNone\u001b[0m\u001b[0;34m:\u001b[0m\u001b[0;34m\u001b[0m\u001b[0;34m\u001b[0m\u001b[0m\n\u001b[1;32m    277\u001b[0m             \u001b[0;32mraise\u001b[0m \u001b[0mModuleNotFoundError\u001b[0m\u001b[0;34m(\u001b[0m\u001b[0;34m\"The module or handler for '{}' has not been set.\"\u001b[0m\u001b[0;34m.\u001b[0m\u001b[0mformat\u001b[0m\u001b[0;34m(\u001b[0m\u001b[0mconnector_name\u001b[0m\u001b[0;34m)\u001b[0m\u001b[0;34m)\u001b[0m\u001b[0;34m\u001b[0m\u001b[0;34m\u001b[0m\u001b[0m\n",
      "\u001b[0;32m~/anaconda3/envs/common/lib/python3.6/site-packages/ds_foundation/properties/abstract_properties.py\u001b[0m in \u001b[0;36mget_connector_contract\u001b[0;34m(self, connector_name)\u001b[0m\n\u001b[1;32m    297\u001b[0m         \u001b[0;32mif\u001b[0m \u001b[0mself\u001b[0m\u001b[0;34m.\u001b[0m\u001b[0mget\u001b[0m\u001b[0;34m(\u001b[0m\u001b[0mself\u001b[0m\u001b[0;34m.\u001b[0m\u001b[0mjoin\u001b[0m\u001b[0;34m(\u001b[0m\u001b[0mself\u001b[0m\u001b[0;34m.\u001b[0m\u001b[0mKEY\u001b[0m\u001b[0;34m.\u001b[0m\u001b[0mconnectors_key\u001b[0m\u001b[0;34m,\u001b[0m \u001b[0mconnector_name\u001b[0m\u001b[0;34m)\u001b[0m\u001b[0;34m)\u001b[0m \u001b[0;32mis\u001b[0m \u001b[0;32mNone\u001b[0m\u001b[0;34m:\u001b[0m\u001b[0;34m\u001b[0m\u001b[0;34m\u001b[0m\u001b[0m\n\u001b[1;32m    298\u001b[0m             raise ModuleNotFoundError(\"The connector '{}' has not been set \"\n\u001b[0;32m--> 299\u001b[0;31m                                       \"in the property manager\".format(connector_name))\n\u001b[0m\u001b[1;32m    300\u001b[0m         \u001b[0mkwargs\u001b[0m \u001b[0;34m=\u001b[0m \u001b[0mself\u001b[0m\u001b[0;34m.\u001b[0m\u001b[0mget\u001b[0m\u001b[0;34m(\u001b[0m\u001b[0mself\u001b[0m\u001b[0;34m.\u001b[0m\u001b[0mjoin\u001b[0m\u001b[0;34m(\u001b[0m\u001b[0mself\u001b[0m\u001b[0;34m.\u001b[0m\u001b[0mKEY\u001b[0m\u001b[0;34m.\u001b[0m\u001b[0mconnectors_key\u001b[0m\u001b[0;34m,\u001b[0m \u001b[0mconnector_name\u001b[0m\u001b[0;34m,\u001b[0m \u001b[0;34m'kwargs'\u001b[0m\u001b[0;34m)\u001b[0m\u001b[0;34m)\u001b[0m\u001b[0;34m\u001b[0m\u001b[0;34m\u001b[0m\u001b[0m\n\u001b[1;32m    301\u001b[0m         \u001b[0;32mif\u001b[0m \u001b[0;32mnot\u001b[0m \u001b[0misinstance\u001b[0m\u001b[0;34m(\u001b[0m\u001b[0mkwargs\u001b[0m\u001b[0;34m,\u001b[0m \u001b[0mdict\u001b[0m\u001b[0;34m)\u001b[0m\u001b[0;34m:\u001b[0m\u001b[0;34m\u001b[0m\u001b[0;34m\u001b[0m\u001b[0m\n",
      "\u001b[0;31mModuleNotFoundError\u001b[0m: The connector 'persist_connector' has not been set in the property manager"
     ]
    }
   ],
   "source": [
    "# loads the raw canonical, run the contract pipeline, save and return the clean canonical\n",
    "df = tr.refresh_clean_canonical()\n",
    "tr.canonical_report(df)"
   ]
  },
  {
   "cell_type": "code",
   "execution_count": null,
   "metadata": {},
   "outputs": [],
   "source": []
  }
 ],
 "metadata": {
  "kernelspec": {
   "display_name": "Python 3",
   "language": "python",
   "name": "python3"
  },
  "language_info": {
   "codemirror_mode": {
    "name": "ipython",
    "version": 3
   },
   "file_extension": ".py",
   "mimetype": "text/x-python",
   "name": "python",
   "nbconvert_exporter": "python",
   "pygments_lexer": "ipython3",
   "version": "3.6.8"
  }
 },
 "nbformat": 4,
 "nbformat_minor": 2
}
