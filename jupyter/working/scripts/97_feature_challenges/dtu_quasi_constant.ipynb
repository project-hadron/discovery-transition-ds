{
 "cells": [
  {
   "cell_type": "code",
   "execution_count": 138,
   "metadata": {},
   "outputs": [
    {
     "name": "stdout",
     "output_type": "stream",
     "text": [
      "DTU: 1.07.038\n"
     ]
    }
   ],
   "source": [
    "import numpy as np\n",
    "import pandas as pd\n",
    "\n",
    "%reload_ext autoreload\n",
    "%autoreload 2\n",
    "\n",
    "from ds_discovery.transition.discovery import DataDiscovery as discover\n",
    "from ds_behavioral import DataBuilderTools\n",
    "\n",
    "import ds_discovery\n",
    "print('DTU: {}'.format(ds_discovery.__version__))"
   ]
  },
  {
   "cell_type": "markdown",
   "metadata": {},
   "source": [
    "# Quasi-constant features\n",
    "\n",
    "Quasi-constant features are those that show the same value for the great majority of the observations of the dataset.\n",
    "\n",
    "During the transitioning process when auto removing columns, we can apply quasi-constant removal\n"
   ]
  },
  {
   "cell_type": "markdown",
   "metadata": {},
   "source": [
    "#### Create the Dataframe"
   ]
  },
  {
   "cell_type": "code",
   "execution_count": 139,
   "metadata": {},
   "outputs": [],
   "source": [
    "df = pd.DataFrame()\n",
    "df['single_num'] = DataBuilderTools.get_number(1, 1, size=100, seed=31)\n",
    "df['two_num'] = DataBuilderTools.get_number(1, 2, quantity=0.9, size=100, seed=31)\n",
    "df['weight_num'] = DataBuilderTools.get_number(1, 2, weight_pattern=[90, 1], size=100, seed=31)\n",
    "df['null_num'] = DataBuilderTools.get_number(1, 100, quantity=0, size=100, seed=31)\n",
    "df['normal_num'] = DataBuilderTools.get_number(1, 100, size=100, seed=31)\n",
    "df['single_cat'] = DataBuilderTools.get_category(['A'], size=100, seed=31)\n",
    "df['two_cat'] = DataBuilderTools.get_category(['A', 'B'], quantity=0.9, size=100, seed=31)\n",
    "df['weight_cat'] = DataBuilderTools.get_category(['A', 'B', 'C'], weight_pattern=[80, 1, 1], size=100, seed=31)\n",
    "df['normal_cat'] = DataBuilderTools.get_category(list('ABCDE'), size=100, seed=31)\n"
   ]
  },
  {
   "cell_type": "code",
   "execution_count": 140,
   "metadata": {},
   "outputs": [
    {
     "data": {
      "text/html": [
       "<div>\n",
       "<style scoped>\n",
       "    .dataframe tbody tr th:only-of-type {\n",
       "        vertical-align: middle;\n",
       "    }\n",
       "\n",
       "    .dataframe tbody tr th {\n",
       "        vertical-align: top;\n",
       "    }\n",
       "\n",
       "    .dataframe thead th {\n",
       "        text-align: right;\n",
       "    }\n",
       "</style>\n",
       "<table border=\"1\" class=\"dataframe\">\n",
       "  <thead>\n",
       "    <tr style=\"text-align: right;\">\n",
       "      <th></th>\n",
       "      <th>Attribute</th>\n",
       "      <th>Type</th>\n",
       "      <th>% Nulls</th>\n",
       "      <th>Count</th>\n",
       "      <th>Unique</th>\n",
       "      <th>Observations</th>\n",
       "    </tr>\n",
       "  </thead>\n",
       "  <tbody>\n",
       "    <tr>\n",
       "      <th>0</th>\n",
       "      <td>normal_cat</td>\n",
       "      <td>object</td>\n",
       "      <td>0.0</td>\n",
       "      <td>100</td>\n",
       "      <td>5</td>\n",
       "      <td>Sample: E | A | B</td>\n",
       "    </tr>\n",
       "    <tr>\n",
       "      <th>1</th>\n",
       "      <td>normal_num</td>\n",
       "      <td>int64</td>\n",
       "      <td>0.0</td>\n",
       "      <td>100</td>\n",
       "      <td>62</td>\n",
       "      <td>max=99 | min=2 | mean=45.35</td>\n",
       "    </tr>\n",
       "    <tr>\n",
       "      <th>2</th>\n",
       "      <td>null_num</td>\n",
       "      <td>object</td>\n",
       "      <td>1.0</td>\n",
       "      <td>0</td>\n",
       "      <td>0</td>\n",
       "      <td>Sample: Null Values</td>\n",
       "    </tr>\n",
       "    <tr>\n",
       "      <th>3</th>\n",
       "      <td>single_cat</td>\n",
       "      <td>object</td>\n",
       "      <td>0.0</td>\n",
       "      <td>100</td>\n",
       "      <td>1</td>\n",
       "      <td>Sample: A</td>\n",
       "    </tr>\n",
       "    <tr>\n",
       "      <th>4</th>\n",
       "      <td>single_num</td>\n",
       "      <td>int64</td>\n",
       "      <td>0.0</td>\n",
       "      <td>100</td>\n",
       "      <td>1</td>\n",
       "      <td>max=1 | min=1 | mean=1.0</td>\n",
       "    </tr>\n",
       "    <tr>\n",
       "      <th>5</th>\n",
       "      <td>two_cat</td>\n",
       "      <td>object</td>\n",
       "      <td>0.1</td>\n",
       "      <td>100</td>\n",
       "      <td>3</td>\n",
       "      <td>Sample: B | A |</td>\n",
       "    </tr>\n",
       "    <tr>\n",
       "      <th>6</th>\n",
       "      <td>two_num</td>\n",
       "      <td>float64</td>\n",
       "      <td>0.1</td>\n",
       "      <td>90</td>\n",
       "      <td>2</td>\n",
       "      <td>max=2.0 | min=1.0 | mean=1.47</td>\n",
       "    </tr>\n",
       "    <tr>\n",
       "      <th>7</th>\n",
       "      <td>weight_cat</td>\n",
       "      <td>object</td>\n",
       "      <td>0.0</td>\n",
       "      <td>100</td>\n",
       "      <td>3</td>\n",
       "      <td>Sample: A | B | C</td>\n",
       "    </tr>\n",
       "    <tr>\n",
       "      <th>8</th>\n",
       "      <td>weight_num</td>\n",
       "      <td>int64</td>\n",
       "      <td>0.0</td>\n",
       "      <td>100</td>\n",
       "      <td>2</td>\n",
       "      <td>max=2 | min=1 | mean=1.01</td>\n",
       "    </tr>\n",
       "  </tbody>\n",
       "</table>\n",
       "</div>"
      ],
      "text/plain": [
       "    Attribute     Type  % Nulls  Count  Unique                   Observations\n",
       "0  normal_cat   object      0.0    100       5              Sample: E | A | B\n",
       "1  normal_num    int64      0.0    100      62    max=99 | min=2 | mean=45.35\n",
       "2    null_num   object      1.0      0       0            Sample: Null Values\n",
       "3  single_cat   object      0.0    100       1                      Sample: A\n",
       "4  single_num    int64      0.0    100       1       max=1 | min=1 | mean=1.0\n",
       "5     two_cat   object      0.1    100       3               Sample: B | A | \n",
       "6     two_num  float64      0.1     90       2  max=2.0 | min=1.0 | mean=1.47\n",
       "7  weight_cat   object      0.0    100       3              Sample: A | B | C\n",
       "8  weight_num    int64      0.0    100       2      max=2 | min=1 | mean=1.01"
      ]
     },
     "execution_count": 140,
     "metadata": {},
     "output_type": "execute_result"
    }
   ],
   "source": [
    "discover.data_dictionary(df)"
   ]
  },
  {
   "cell_type": "markdown",
   "metadata": {},
   "source": [
    "## Auto Remove Columns\n",
    "When we auto remove it removes the obvious columns of `single_num, null_num', single_cat`"
   ]
  },
  {
   "cell_type": "code",
   "execution_count": 141,
   "metadata": {},
   "outputs": [
    {
     "data": {
      "text/plain": [
       "{'remove': {'headers': ['single_num', 'null_num', 'single_cat'],\n",
       "  'drop': False,\n",
       "  'exclude': False}}"
      ]
     },
     "execution_count": 141,
     "metadata": {},
     "output_type": "execute_result"
    }
   ],
   "source": [
    "clean.auto_remove_columns(df,inplace=True)"
   ]
  },
  {
   "cell_type": "markdown",
   "metadata": {},
   "source": [
    "## Quasi-Constant Auto Remove\n",
    "As we can see the value count in weight_cat is predominatly value `A` "
   ]
  },
  {
   "cell_type": "code",
   "execution_count": 142,
   "metadata": {},
   "outputs": [
    {
     "data": {
      "text/plain": [
       "A    98\n",
       "B     1\n",
       "C     1\n",
       "Name: weight_cat, dtype: int64"
      ]
     },
     "execution_count": 142,
     "metadata": {},
     "output_type": "execute_result"
    }
   ],
   "source": [
    "df['weight_cat'].value_counts()"
   ]
  },
  {
   "cell_type": "code",
   "execution_count": 143,
   "metadata": {},
   "outputs": [
    {
     "data": {
      "text/plain": [
       "1    99\n",
       "2     1\n",
       "Name: weight_num, dtype: int64"
      ]
     },
     "execution_count": 143,
     "metadata": {},
     "output_type": "execute_result"
    }
   ],
   "source": [
    "df['weight_num'].value_counts()"
   ]
  },
  {
   "cell_type": "markdown",
   "metadata": {},
   "source": [
    "------\n",
    "so we want to remove this and any other values that have a threshold.\n",
    "\n",
    "We do this by adding the `predominant_max` parameter to the method and we see the `weight_num, weight_cat` are also removed"
   ]
  },
  {
   "cell_type": "code",
   "execution_count": 144,
   "metadata": {},
   "outputs": [
    {
     "data": {
      "text/plain": [
       "{'remove': {'headers': ['weight_num', 'weight_cat'],\n",
       "  'drop': False,\n",
       "  'exclude': False}}"
      ]
     },
     "execution_count": 144,
     "metadata": {},
     "output_type": "execute_result"
    }
   ],
   "source": [
    "clean.auto_remove_columns(df, predominant_max=0.9, inplace=True)"
   ]
  },
  {
   "cell_type": "code",
   "execution_count": null,
   "metadata": {},
   "outputs": [],
   "source": []
  }
 ],
 "metadata": {
  "kernelspec": {
   "display_name": "Python 3",
   "language": "python",
   "name": "python3"
  },
  "language_info": {
   "codemirror_mode": {
    "name": "ipython",
    "version": 3
   },
   "file_extension": ".py",
   "mimetype": "text/x-python",
   "name": "python",
   "nbconvert_exporter": "python",
   "pygments_lexer": "ipython3",
   "version": "3.6.8"
  }
 },
 "nbformat": 4,
 "nbformat_minor": 2
}
