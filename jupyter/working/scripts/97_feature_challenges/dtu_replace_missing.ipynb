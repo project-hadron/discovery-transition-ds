{
 "cells": [
  {
   "cell_type": "code",
   "execution_count": 1,
   "metadata": {},
   "outputs": [
    {
     "name": "stdout",
     "output_type": "stream",
     "text": [
      "DTU: 1.07.038\n"
     ]
    }
   ],
   "source": [
    "import numpy as np\n",
    "import pandas as pd\n",
    "\n",
    "%reload_ext autoreload\n",
    "%autoreload 2\n",
    "\n",
    "from ds_discovery.transition.cleaners import ColumnCleaners as clean\n",
    "from ds_discovery.transition.discovery import DataDiscovery as discover\n",
    "from ds_behavioral import DataBuilderTools\n",
    "\n",
    "import ds_discovery\n",
    "print('DTU: {}'.format(ds_discovery.__version__))"
   ]
  },
  {
   "cell_type": "markdown",
   "metadata": {},
   "source": [
    "# Missing Values\n",
    "#### As part of the feature engineering this demo shows how you can replace missing values with representative distributions of values"
   ]
  },
  {
   "cell_type": "code",
   "execution_count": 2,
   "metadata": {},
   "outputs": [],
   "source": [
    "from ds_discovery.feature.engineer import FeatureBuilderTools as fbt"
   ]
  },
  {
   "cell_type": "markdown",
   "metadata": {},
   "source": [
    "### Create a synthetic dataset\n",
    "* the `quantity` parameter represents an approximate pecentage of values to have representative values, the rest being NaN or empty string\n",
    "* each number type is represented but integers will be floats as they contain NaN"
   ]
  },
  {
   "cell_type": "code",
   "execution_count": 35,
   "metadata": {},
   "outputs": [],
   "source": [
    "sample_size=1000\n",
    "df = pd.DataFrame()\n",
    "\n",
    "df['num'] = DataBuilderTools.get_number(20, 100, quantity=0.7, size=sample_size)\n",
    "df['str'] = DataBuilderTools.get_category(list('ABCDE'), quantity=0.6, size=sample_size)\n",
    "df['cat'] = DataBuilderTools.get_category(list('ABCDE'), quantity=0.5, size=sample_size)\n",
    "df['float'] = DataBuilderTools.get_number(-1.0, 1.0, quantity=0.6, size=sample_size)\n",
    "df['date'] = DataBuilderTools.get_datetime('01/01/2000', '12/31/2018', quantity=0.7, size=sample_size)\n",
    "\n",
    "# type the catagorical\n",
    "_ = clean.to_category_type(df, headers='cat', inplace=True)"
   ]
  },
  {
   "cell_type": "code",
   "execution_count": 36,
   "metadata": {},
   "outputs": [
    {
     "data": {
      "text/html": [
       "<div>\n",
       "<style scoped>\n",
       "    .dataframe tbody tr th:only-of-type {\n",
       "        vertical-align: middle;\n",
       "    }\n",
       "\n",
       "    .dataframe tbody tr th {\n",
       "        vertical-align: top;\n",
       "    }\n",
       "\n",
       "    .dataframe thead th {\n",
       "        text-align: right;\n",
       "    }\n",
       "</style>\n",
       "<table border=\"1\" class=\"dataframe\">\n",
       "  <thead>\n",
       "    <tr style=\"text-align: right;\">\n",
       "      <th></th>\n",
       "      <th>Attribute</th>\n",
       "      <th>Type</th>\n",
       "      <th>% Nulls</th>\n",
       "      <th>Count</th>\n",
       "      <th>Unique</th>\n",
       "      <th>Observations</th>\n",
       "    </tr>\n",
       "  </thead>\n",
       "  <tbody>\n",
       "    <tr>\n",
       "      <th>0</th>\n",
       "      <td>cat</td>\n",
       "      <td>category</td>\n",
       "      <td>0.5</td>\n",
       "      <td>1000</td>\n",
       "      <td>6</td>\n",
       "      <td>|A|B|C|D|E</td>\n",
       "    </tr>\n",
       "    <tr>\n",
       "      <th>1</th>\n",
       "      <td>date</td>\n",
       "      <td>datetime64[ns]</td>\n",
       "      <td>0.3</td>\n",
       "      <td>700</td>\n",
       "      <td>700</td>\n",
       "      <td>max=2018-12-19 10:07:47.605986688 | min=2000-01-17 08:51:12.257505860 |...</td>\n",
       "    </tr>\n",
       "    <tr>\n",
       "      <th>2</th>\n",
       "      <td>float</td>\n",
       "      <td>float64</td>\n",
       "      <td>0.4</td>\n",
       "      <td>600</td>\n",
       "      <td>522</td>\n",
       "      <td>max=0.999 | min=-0.998 | mean=0.04</td>\n",
       "    </tr>\n",
       "    <tr>\n",
       "      <th>3</th>\n",
       "      <td>num</td>\n",
       "      <td>float64</td>\n",
       "      <td>0.3</td>\n",
       "      <td>700</td>\n",
       "      <td>81</td>\n",
       "      <td>max=100.0 | min=20.0 | mean=59.37</td>\n",
       "    </tr>\n",
       "    <tr>\n",
       "      <th>4</th>\n",
       "      <td>str</td>\n",
       "      <td>object</td>\n",
       "      <td>0.4</td>\n",
       "      <td>1000</td>\n",
       "      <td>6</td>\n",
       "      <td>Sample: A | C | E</td>\n",
       "    </tr>\n",
       "  </tbody>\n",
       "</table>\n",
       "</div>"
      ],
      "text/plain": [
       "  Attribute            Type  % Nulls  Count  Unique  \\\n",
       "0       cat        category      0.5   1000       6   \n",
       "1      date  datetime64[ns]      0.3    700     700   \n",
       "2     float         float64      0.4    600     522   \n",
       "3       num         float64      0.3    700      81   \n",
       "4       str          object      0.4   1000       6   \n",
       "\n",
       "                                                                 Observations  \n",
       "0                                                                  |A|B|C|D|E  \n",
       "1  max=2018-12-19 10:07:47.605986688 | min=2000-01-17 08:51:12.257505860 |...  \n",
       "2                                          max=0.999 | min=-0.998 | mean=0.04  \n",
       "3                                           max=100.0 | min=20.0 | mean=59.37  \n",
       "4                                                           Sample: A | C | E  "
      ]
     },
     "execution_count": 36,
     "metadata": {},
     "output_type": "execute_result"
    }
   ],
   "source": [
    "discover.data_dictionary(df)"
   ]
  },
  {
   "cell_type": "markdown",
   "metadata": {},
   "source": [
    "## Replace NaN values\n",
    "* Call the `replace_missing()` method passing it the DataFrame"
   ]
  },
  {
   "cell_type": "code",
   "execution_count": 37,
   "metadata": {},
   "outputs": [],
   "source": [
    "df = fbt.replace_missing(df)"
   ]
  },
  {
   "cell_type": "code",
   "execution_count": 38,
   "metadata": {},
   "outputs": [
    {
     "data": {
      "text/html": [
       "<div>\n",
       "<style scoped>\n",
       "    .dataframe tbody tr th:only-of-type {\n",
       "        vertical-align: middle;\n",
       "    }\n",
       "\n",
       "    .dataframe tbody tr th {\n",
       "        vertical-align: top;\n",
       "    }\n",
       "\n",
       "    .dataframe thead th {\n",
       "        text-align: right;\n",
       "    }\n",
       "</style>\n",
       "<table border=\"1\" class=\"dataframe\">\n",
       "  <thead>\n",
       "    <tr style=\"text-align: right;\">\n",
       "      <th></th>\n",
       "      <th>Attribute</th>\n",
       "      <th>Type</th>\n",
       "      <th>% Nulls</th>\n",
       "      <th>Count</th>\n",
       "      <th>Unique</th>\n",
       "      <th>Observations</th>\n",
       "    </tr>\n",
       "  </thead>\n",
       "  <tbody>\n",
       "    <tr>\n",
       "      <th>0</th>\n",
       "      <td>cat</td>\n",
       "      <td>category</td>\n",
       "      <td>0.5</td>\n",
       "      <td>1000</td>\n",
       "      <td>6</td>\n",
       "      <td>|A|B|C|D|E</td>\n",
       "    </tr>\n",
       "    <tr>\n",
       "      <th>1</th>\n",
       "      <td>date</td>\n",
       "      <td>datetime64[ns]</td>\n",
       "      <td>0.0</td>\n",
       "      <td>1000</td>\n",
       "      <td>1000</td>\n",
       "      <td>max=2018-12-19 10:07:47.605986688 | min=2000-01-17 08:51:12.257505860 |...</td>\n",
       "    </tr>\n",
       "    <tr>\n",
       "      <th>2</th>\n",
       "      <td>float</td>\n",
       "      <td>float64</td>\n",
       "      <td>0.0</td>\n",
       "      <td>1000</td>\n",
       "      <td>524</td>\n",
       "      <td>max=1.0 | min=-1.0 | mean=0.05</td>\n",
       "    </tr>\n",
       "    <tr>\n",
       "      <th>3</th>\n",
       "      <td>num</td>\n",
       "      <td>float64</td>\n",
       "      <td>0.0</td>\n",
       "      <td>1000</td>\n",
       "      <td>81</td>\n",
       "      <td>max=100.0 | min=20.0 | mean=60.2</td>\n",
       "    </tr>\n",
       "    <tr>\n",
       "      <th>4</th>\n",
       "      <td>str</td>\n",
       "      <td>object</td>\n",
       "      <td>0.4</td>\n",
       "      <td>1000</td>\n",
       "      <td>6</td>\n",
       "      <td>Sample: C | B | A</td>\n",
       "    </tr>\n",
       "  </tbody>\n",
       "</table>\n",
       "</div>"
      ],
      "text/plain": [
       "  Attribute            Type  % Nulls  Count  Unique  \\\n",
       "0       cat        category      0.5   1000       6   \n",
       "1      date  datetime64[ns]      0.0   1000    1000   \n",
       "2     float         float64      0.0   1000     524   \n",
       "3       num         float64      0.0   1000      81   \n",
       "4       str          object      0.4   1000       6   \n",
       "\n",
       "                                                                 Observations  \n",
       "0                                                                  |A|B|C|D|E  \n",
       "1  max=2018-12-19 10:07:47.605986688 | min=2000-01-17 08:51:12.257505860 |...  \n",
       "2                                              max=1.0 | min=-1.0 | mean=0.05  \n",
       "3                                            max=100.0 | min=20.0 | mean=60.2  \n",
       "4                                                           Sample: C | B | A  "
      ]
     },
     "execution_count": 38,
     "metadata": {},
     "output_type": "execute_result"
    }
   ],
   "source": [
    "discover.data_dictionary(df)"
   ]
  },
  {
   "cell_type": "markdown",
   "metadata": {},
   "source": [
    "## Replace alternative null values\n",
    "As we see from the above data dictionary, both the category and string object have not been cleaned. We can also note that the usable count is the full 1000 values. This is because our null fields are blank text fields and not NaNs\n",
    "\n",
    "To also replace alternative null values we can pass a custome nulls list, Note this is in addition to np.NaN"
   ]
  },
  {
   "cell_type": "code",
   "execution_count": 39,
   "metadata": {},
   "outputs": [],
   "source": [
    "df = fbt.replace_missing(df, nulls_list=[''])"
   ]
  },
  {
   "cell_type": "code",
   "execution_count": 40,
   "metadata": {},
   "outputs": [
    {
     "data": {
      "text/html": [
       "<div>\n",
       "<style scoped>\n",
       "    .dataframe tbody tr th:only-of-type {\n",
       "        vertical-align: middle;\n",
       "    }\n",
       "\n",
       "    .dataframe tbody tr th {\n",
       "        vertical-align: top;\n",
       "    }\n",
       "\n",
       "    .dataframe thead th {\n",
       "        text-align: right;\n",
       "    }\n",
       "</style>\n",
       "<table border=\"1\" class=\"dataframe\">\n",
       "  <thead>\n",
       "    <tr style=\"text-align: right;\">\n",
       "      <th></th>\n",
       "      <th>Attribute</th>\n",
       "      <th>Type</th>\n",
       "      <th>% Nulls</th>\n",
       "      <th>Count</th>\n",
       "      <th>Unique</th>\n",
       "      <th>Observations</th>\n",
       "    </tr>\n",
       "  </thead>\n",
       "  <tbody>\n",
       "    <tr>\n",
       "      <th>0</th>\n",
       "      <td>cat</td>\n",
       "      <td>category</td>\n",
       "      <td>0.0</td>\n",
       "      <td>1000</td>\n",
       "      <td>5</td>\n",
       "      <td>|A|B|C|D|E</td>\n",
       "    </tr>\n",
       "    <tr>\n",
       "      <th>1</th>\n",
       "      <td>date</td>\n",
       "      <td>datetime64[ns]</td>\n",
       "      <td>0.0</td>\n",
       "      <td>1000</td>\n",
       "      <td>1000</td>\n",
       "      <td>max=2018-12-19 10:07:47.605986688 | min=2000-01-17 08:51:12.257505860 |...</td>\n",
       "    </tr>\n",
       "    <tr>\n",
       "      <th>2</th>\n",
       "      <td>float</td>\n",
       "      <td>float64</td>\n",
       "      <td>0.0</td>\n",
       "      <td>1000</td>\n",
       "      <td>524</td>\n",
       "      <td>max=1.0 | min=-1.0 | mean=0.05</td>\n",
       "    </tr>\n",
       "    <tr>\n",
       "      <th>3</th>\n",
       "      <td>num</td>\n",
       "      <td>float64</td>\n",
       "      <td>0.0</td>\n",
       "      <td>1000</td>\n",
       "      <td>81</td>\n",
       "      <td>max=100.0 | min=20.0 | mean=60.2</td>\n",
       "    </tr>\n",
       "    <tr>\n",
       "      <th>4</th>\n",
       "      <td>str</td>\n",
       "      <td>object</td>\n",
       "      <td>0.0</td>\n",
       "      <td>1000</td>\n",
       "      <td>5</td>\n",
       "      <td>Sample: D | B | E</td>\n",
       "    </tr>\n",
       "  </tbody>\n",
       "</table>\n",
       "</div>"
      ],
      "text/plain": [
       "  Attribute            Type  % Nulls  Count  Unique  \\\n",
       "0       cat        category      0.0   1000       5   \n",
       "1      date  datetime64[ns]      0.0   1000    1000   \n",
       "2     float         float64      0.0   1000     524   \n",
       "3       num         float64      0.0   1000      81   \n",
       "4       str          object      0.0   1000       5   \n",
       "\n",
       "                                                                 Observations  \n",
       "0                                                                  |A|B|C|D|E  \n",
       "1  max=2018-12-19 10:07:47.605986688 | min=2000-01-17 08:51:12.257505860 |...  \n",
       "2                                              max=1.0 | min=-1.0 | mean=0.05  \n",
       "3                                            max=100.0 | min=20.0 | mean=60.2  \n",
       "4                                                           Sample: D | B | E  "
      ]
     },
     "execution_count": 40,
     "metadata": {},
     "output_type": "execute_result"
    }
   ],
   "source": [
    "discover.data_dictionary(df)"
   ]
  },
  {
   "cell_type": "code",
   "execution_count": null,
   "metadata": {},
   "outputs": [],
   "source": []
  }
 ],
 "metadata": {
  "kernelspec": {
   "display_name": "Python 3",
   "language": "python",
   "name": "python3"
  },
  "language_info": {
   "codemirror_mode": {
    "name": "ipython",
    "version": 3
   },
   "file_extension": ".py",
   "mimetype": "text/x-python",
   "name": "python",
   "nbconvert_exporter": "python",
   "pygments_lexer": "ipython3",
   "version": "3.6.8"
  }
 },
 "nbformat": 4,
 "nbformat_minor": 2
}
