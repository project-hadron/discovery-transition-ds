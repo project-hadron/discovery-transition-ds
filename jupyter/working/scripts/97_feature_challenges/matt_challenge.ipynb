{
 "cells": [
  {
   "cell_type": "code",
   "execution_count": 17,
   "metadata": {},
   "outputs": [
    {
     "name": "stdout",
     "output_type": "stream",
     "text": [
      "DTU: 1.07.029\n",
      "DBU: 1.01.003\n"
     ]
    }
   ],
   "source": [
    "%run ../base_setup.ipynb"
   ]
  },
  {
   "cell_type": "markdown",
   "metadata": {},
   "source": [
    "## Sourcing\n",
    "Define the source and load the canonical into memory\n"
   ]
  },
  {
   "cell_type": "code",
   "execution_count": 18,
   "metadata": {},
   "outputs": [],
   "source": [
    "tr = Transition('ames')"
   ]
  },
  {
   "cell_type": "code",
   "execution_count": 19,
   "metadata": {},
   "outputs": [
    {
     "data": {
      "text/html": [
       "<div>\n",
       "<style scoped>\n",
       "    .dataframe tbody tr th:only-of-type {\n",
       "        vertical-align: middle;\n",
       "    }\n",
       "\n",
       "    .dataframe tbody tr th {\n",
       "        vertical-align: top;\n",
       "    }\n",
       "\n",
       "    .dataframe thead th {\n",
       "        text-align: right;\n",
       "    }\n",
       "</style>\n",
       "<table border=\"1\" class=\"dataframe\">\n",
       "  <thead>\n",
       "    <tr style=\"text-align: right;\">\n",
       "      <th></th>\n",
       "      <th>name</th>\n",
       "      <th>parent</th>\n",
       "      <th>stem</th>\n",
       "      <th>suffix</th>\n",
       "      <th>created</th>\n",
       "      <th>search</th>\n",
       "    </tr>\n",
       "  </thead>\n",
       "  <tbody>\n",
       "    <tr>\n",
       "      <th>0</th>\n",
       "      <td>ames_housing.csv</td>\n",
       "      <td>/Users/doatridge/code/projects/prod/discovery-transitioning-utils/jupyter/working/data/0_raw</td>\n",
       "      <td>ames_housing</td>\n",
       "      <td>csv</td>\n",
       "      <td>Thu May  9 11:04:27 2019</td>\n",
       "      <td>ames_housing.csv</td>\n",
       "    </tr>\n",
       "  </tbody>\n",
       "</table>\n",
       "</div>"
      ],
      "text/plain": [
       "               name  \\\n",
       "0  ames_housing.csv   \n",
       "\n",
       "                                                                                         parent  \\\n",
       "0  /Users/doatridge/code/projects/prod/discovery-transitioning-utils/jupyter/working/data/0_raw   \n",
       "\n",
       "           stem suffix                   created            search  \n",
       "0  ames_housing  csv    Thu May  9 11:04:27 2019  ames_housing.csv  "
      ]
     },
     "execution_count": 19,
     "metadata": {},
     "output_type": "execute_result"
    }
   ],
   "source": [
    "tr.discover.find_file('ames', root_dir=tr.file_pm.dir_raw)"
   ]
  },
  {
   "cell_type": "code",
   "execution_count": 20,
   "metadata": {},
   "outputs": [],
   "source": [
    "tr.set_source_contract('ames_housing.csv', source_format='csv', encoding='latin1', load=False)"
   ]
  },
  {
   "cell_type": "code",
   "execution_count": 34,
   "metadata": {},
   "outputs": [],
   "source": [
    "df = tr.get_source_data()"
   ]
  },
  {
   "cell_type": "code",
   "execution_count": 36,
   "metadata": {},
   "outputs": [],
   "source": [
    "tr.set_cleaner(tr.clean.clean_header(df, inplace=True))"
   ]
  },
  {
   "cell_type": "code",
   "execution_count": 37,
   "metadata": {},
   "outputs": [],
   "source": [
    "association = [{'GrLivArea': {'expect': 'number',\n",
    "                                    'value': [4000, np.inf]},\n",
    "                {'SalePrice': {'expect': 'number',\n",
    "                                    'value': [-np.inf, 300000]}}]\n",
    "\n",
    "action = {0: {'action': 'drop'}\n",
    "          1: ('action': 'apply_subsitution', 'kwargs': {'value': {'_header': 'SalePrice'}, r'This': r'That'}\n",
    "\n",
    "df_clean = feature.association_builder(df, associations=association, actions=action)"
   ]
  },
  {
   "cell_type": "code",
   "execution_count": 48,
   "metadata": {},
   "outputs": [
    {
     "data": {
      "text/html": [
       "<div>\n",
       "<style scoped>\n",
       "    .dataframe tbody tr th:only-of-type {\n",
       "        vertical-align: middle;\n",
       "    }\n",
       "\n",
       "    .dataframe tbody tr th {\n",
       "        vertical-align: top;\n",
       "    }\n",
       "\n",
       "    .dataframe thead th {\n",
       "        text-align: right;\n",
       "    }\n",
       "</style>\n",
       "<table border=\"1\" class=\"dataframe\">\n",
       "  <thead>\n",
       "    <tr style=\"text-align: right;\">\n",
       "      <th></th>\n",
       "      <th>Attribute</th>\n",
       "      <th>Type</th>\n",
       "      <th>Unique</th>\n",
       "      <th>% Nulls</th>\n",
       "      <th>Sample</th>\n",
       "      <th>Selection</th>\n",
       "      <th>Weighting</th>\n",
       "      <th>Granularity</th>\n",
       "      <th>Lower</th>\n",
       "      <th>Upper</th>\n",
       "    </tr>\n",
       "  </thead>\n",
       "  <tbody>\n",
       "    <tr>\n",
       "      <th>0</th>\n",
       "      <td>GrLivArea</td>\n",
       "      <td>int64</td>\n",
       "      <td>861</td>\n",
       "      <td>0.0</td>\n",
       "      <td>1460</td>\n",
       "      <td>[(334.0, 1395.6), (1395.6, 2457.2), (2457.2, 3518.8), (3518.8, 4580.4), (4580.4, 5642.0)]</td>\n",
       "      <td>[45.27, 49.59, 4.73, 0.27, 0.14]</td>\n",
       "      <td>5</td>\n",
       "      <td>334</td>\n",
       "      <td>5642</td>\n",
       "    </tr>\n",
       "    <tr>\n",
       "      <th>1</th>\n",
       "      <td>SalePrice</td>\n",
       "      <td>int64</td>\n",
       "      <td>663</td>\n",
       "      <td>0.0</td>\n",
       "      <td>1460</td>\n",
       "      <td>[(34900, 178920), (178920, 322940), (322940, 466960), (466960, 610980), (610980, 755000)]</td>\n",
       "      <td>[59.66, 34.79, 4.79, 0.48, 0.27]</td>\n",
       "      <td>5</td>\n",
       "      <td>34900</td>\n",
       "      <td>755000</td>\n",
       "    </tr>\n",
       "  </tbody>\n",
       "</table>\n",
       "</div>"
      ],
      "text/plain": [
       "   Attribute   Type  Unique  % Nulls  Sample  \\\n",
       "0  GrLivArea  int64     861      0.0    1460   \n",
       "1  SalePrice  int64     663      0.0    1460   \n",
       "\n",
       "                                                                                   Selection  \\\n",
       "0  [(334.0, 1395.6), (1395.6, 2457.2), (2457.2, 3518.8), (3518.8, 4580.4), (4580.4, 5642.0)]   \n",
       "1  [(34900, 178920), (178920, 322940), (322940, 466960), (466960, 610980), (610980, 755000)]   \n",
       "\n",
       "                          Weighting  Granularity  Lower   Upper  \n",
       "0  [45.27, 49.59, 4.73, 0.27, 0.14]            5    334    5642  \n",
       "1  [59.66, 34.79, 4.79, 0.48, 0.27]            5  34900  755000  "
      ]
     },
     "execution_count": 48,
     "metadata": {},
     "output_type": "execute_result"
    }
   ],
   "source": [
    "df_filter = tr.clean.filter_columns(df, regex=['GrLivArea', 'SalePrice'])\n",
    "tr.discover.analysis_dictionary(df_filter, col_kwargs={'GrLivArea': {'granularity': 5}, 'SalePrice': {'granularity': 5}})\n"
   ]
  },
  {
   "cell_type": "code",
   "execution_count": 50,
   "metadata": {},
   "outputs": [],
   "source": [
    "tr.enrich.add_observation('GrLivArea', 'I saw the outlier were from 2000 ')"
   ]
  },
  {
   "cell_type": "code",
   "execution_count": 51,
   "metadata": {},
   "outputs": [
    {
     "data": {
      "text/plain": [
       "{'observation': ['I saw the outlier were from 2000 ']}"
      ]
     },
     "execution_count": 51,
     "metadata": {},
     "output_type": "execute_result"
    }
   ],
   "source": [
    "tr.enrich."
   ]
  },
  {
   "cell_type": "code",
   "execution_count": 49,
   "metadata": {},
   "outputs": [
    {
     "data": {
      "text/plain": [
       "{'SalePrice': {'associate': 'SalePrice',\n",
       "  'analysis': {'selection': [(34900.0, 154916.667),\n",
       "    (154916.667, 274933.333),\n",
       "    (274933.333, 394950.0),\n",
       "    (394950.0, 514966.667),\n",
       "    (514966.667, 634983.333),\n",
       "    (634983.333, 755000.0)],\n",
       "   'weighting': [44.73, 44.45, 8.77, 1.51, 0.41, 0.14],\n",
       "   'lower': 34900,\n",
       "   'upper': 755000,\n",
       "   'granularity': 6,\n",
       "   'dtype': 'number',\n",
       "   'null_values': [0.0],\n",
       "   'sample': [1460],\n",
       "   'dropped': [0]},\n",
       "  'sub_category': {(34900.0,\n",
       "    154916.667): {'GrLivArea': {'associate': 'SalePrice.GrLivArea',\n",
       "     'analysis': {'selection': [(334.0, 1064.667),\n",
       "       (1064.667, 1795.333),\n",
       "       (1795.333, 2526.0)],\n",
       "      'weighting': [43.1, 51.38, 5.52],\n",
       "      'lower': 334,\n",
       "      'upper': 2526,\n",
       "      'granularity': 3,\n",
       "      'dtype': 'number',\n",
       "      'null_values': [0.0],\n",
       "      'sample': [652],\n",
       "      'dropped': [0]}}},\n",
       "   (154916.667,\n",
       "    274933.333): {'GrLivArea': {'associate': 'SalePrice.GrLivArea',\n",
       "     'analysis': {'selection': [(848, 2446), (2446, 4044), (4044, 5642)],\n",
       "      'weighting': [96.3, 3.39, 0.31],\n",
       "      'lower': 848,\n",
       "      'upper': 5642,\n",
       "      'granularity': 3,\n",
       "      'dtype': 'number',\n",
       "      'null_values': [0.0],\n",
       "      'sample': [649],\n",
       "      'dropped': [0]}}},\n",
       "   (274933.333,\n",
       "    394950.0): {'GrLivArea': {'associate': 'SalePrice.GrLivArea',\n",
       "     'analysis': {'selection': [(1419.0, 2110.333),\n",
       "       (2110.333, 2801.667),\n",
       "       (2801.667, 3493.0)],\n",
       "      'weighting': [54.69, 39.84, 5.47],\n",
       "      'lower': 1419,\n",
       "      'upper': 3493,\n",
       "      'granularity': 3,\n",
       "      'dtype': 'number',\n",
       "      'null_values': [0.0],\n",
       "      'sample': [128],\n",
       "      'dropped': [0]}}},\n",
       "   (394950.0,\n",
       "    514966.667): {'GrLivArea': {'associate': 'SalePrice.GrLivArea',\n",
       "     'analysis': {'selection': [(1940, 2496), (2496, 3052), (3052, 3608)],\n",
       "      'weighting': [50.0, 31.82, 18.18],\n",
       "      'lower': 1940,\n",
       "      'upper': 3608,\n",
       "      'granularity': 3,\n",
       "      'dtype': 'number',\n",
       "      'null_values': [0.0],\n",
       "      'sample': [22],\n",
       "      'dropped': [0]}}},\n",
       "   (514966.667,\n",
       "    634983.333): {'GrLivArea': {'associate': 'SalePrice.GrLivArea',\n",
       "     'analysis': {'selection': [(2364, 2785), (2785, 3206), (3206, 3627)],\n",
       "      'weighting': [33.33, 33.33, 33.33],\n",
       "      'lower': 2364,\n",
       "      'upper': 3627,\n",
       "      'granularity': 3,\n",
       "      'dtype': 'number',\n",
       "      'null_values': [0.0],\n",
       "      'sample': [6],\n",
       "      'dropped': [0]}}},\n",
       "   (634983.333,\n",
       "    755000.0): {'GrLivArea': {'associate': 'SalePrice.GrLivArea',\n",
       "     'analysis': {'selection': [(4316.0, 4369.333),\n",
       "       (4369.333, 4422.667),\n",
       "       (4422.667, 4476.0)],\n",
       "      'weighting': [50.0, 0.0, 50.0],\n",
       "      'lower': 4316,\n",
       "      'upper': 4476,\n",
       "      'granularity': 3,\n",
       "      'dtype': 'number',\n",
       "      'null_values': [0.0],\n",
       "      'sample': [2],\n",
       "      'dropped': [0]}}}}}}"
      ]
     },
     "execution_count": 49,
     "metadata": {},
     "output_type": "execute_result"
    }
   ],
   "source": [
    "columns_list = [{'SalePrice': {'granularity':6}}, {'GrLivArea': {}}]\n",
    "\n",
    "tr.discover.analyse_association(df, columns_list=columns_list)"
   ]
  },
  {
   "cell_type": "code",
   "execution_count": null,
   "metadata": {},
   "outputs": [],
   "source": []
  }
 ],
 "metadata": {
  "kernelspec": {
   "display_name": "Python 3",
   "language": "python",
   "name": "python3"
  },
  "language_info": {
   "codemirror_mode": {
    "name": "ipython",
    "version": 3
   },
   "file_extension": ".py",
   "mimetype": "text/x-python",
   "name": "python",
   "nbconvert_exporter": "python",
   "pygments_lexer": "ipython3",
   "version": "3.6.8"
  }
 },
 "nbformat": 4,
 "nbformat_minor": 2
}
