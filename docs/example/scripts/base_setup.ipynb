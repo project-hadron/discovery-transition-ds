{
 "cells": [
  {
   "cell_type": "markdown",
   "metadata": {},
   "source": [
    "## Base Scriptlets Notebook\n",
    "- Version: 3.01\n",
    "- Python: 3.6>"
   ]
  },
  {
   "cell_type": "code",
   "execution_count": 1,
   "metadata": {
    "collapsed": true
   },
   "outputs": [],
   "source": [
    "# saves you having to use print as all exposed variables are printed in the cell\n",
    "from IPython.core.interactiveshell import InteractiveShell\n",
    "InteractiveShell.ast_node_interactivity = \"all\"\n",
    "\n",
    "# core libraries\n",
    "import numpy as np\n",
    "import pandas as pd\n",
    "import matplotlib.pyplot as plt\n",
    "import seaborn as sns\n",
    "import pickle\n",
    "import datetime\n",
    "import re\n",
    "import os\n",
    "import json\n",
    "import collections\n",
    "from pathlib import Path\n",
    "import time\n",
    "import yaml\n",
    "import random\n",
    "\n",
    "# matpolitlib config\n",
    "%matplotlib inline\n",
    "plt.rcParams['figure.figsize'] = 12,4\n",
    "\n",
    "# suppress warning message\n",
    "import warnings\n",
    "warnings.filterwarnings('ignore')\n"
   ]
  },
  {
   "cell_type": "code",
   "execution_count": 2,
   "metadata": {},
   "outputs": [],
   "source": [
    "%reload_ext autoreload\n",
    "%autoreload 2\n",
    "\n",
    "# for test purposes\n",
    "from ds_discovery.config.properties import PropertyManager as pm\n",
    "\n",
    "# for cleaning and discovery\n",
    "from ds_discovery.transition.transitioning import Transition\n",
    "from ds_discovery.transition.cleaners import ColumnCleaners as cleaner\n",
    "from ds_discovery.transition.discovery import DataDiscovery as discover\n",
    "\n",
    "# for simulation\n",
    "from ds_behavioral import DataBuilder, DataBuilderTools\n",
    "from ds_behavioral.sample.sample_data import GenericSamples, CallCentreSamples, MutualFundSamples, ProfileSample\n",
    "\n",
    "import ds_discovery\n",
    "print('DTU: {}'.format(ds_discovery.__version__))\n",
    "import ds_behavioral\n",
    "print('DBU: {}'.format(ds_behavioral.__version__))"
   ]
  },
  {
   "cell_type": "code",
   "execution_count": null,
   "metadata": {},
   "outputs": [],
   "source": [
    "# set environment variables\n",
    "\n",
    "# NOTE: if running on windows, PWD doesn't exist so you need to manually set it\n",
    "# uncomment the line bleow and add your jupyter project root path\n",
    "# os.environ['PWD'] = Path('<<Your_Project_path>>').as_posix()\n",
    "\n",
    "os.environ['DSTU_WORK_PATH'] = Path(os.environ['PWD']).as_posix()\n",
    "os.environ['DSTU_DATA_PATH'] = Path(os.environ['PWD'], 'data').as_posix()\n",
    "os.environ['DSTU_CONFIG_FILE'] = Path(os.path.join(os.environ['PWD'], 'config/config.yaml')).as_posix()\n"
   ]
  },
  {
   "cell_type": "code",
   "execution_count": 1,
   "metadata": {
    "collapsed": true
   },
   "outputs": [],
   "source": [
    "# import sys\n",
    "# import matplotlib\n",
    "# import ds_discovery\n",
    "# def versions():\n",
    "#     print('Python:  {}'.format(sys.version.split(\" \",1)[0]))\n",
    "#     print('Numpy:   {}'.format(np.__version__))\n",
    "#     print('Pandas:  {}'.format(pd.__version__))\n",
    "#     print('Matplot: {}'.format(matplotlib.__version__))\n",
    "#     print('Seaborn: {}'.format(sns.__version__))\n",
    "#     print('YAML:    {}'.format(yaml.__version__))\n",
    "#     print('DTU :    {}'.format(ds_discovery.__version__))"
   ]
  },
  {
   "cell_type": "code",
   "execution_count": null,
   "metadata": {},
   "outputs": [],
   "source": []
  }
 ],
 "metadata": {
  "kernelspec": {
   "display_name": "Python 3",
   "language": "python",
   "name": "python3"
  },
  "language_info": {
   "codemirror_mode": {
    "name": "ipython",
    "version": 3
   },
   "file_extension": ".py",
   "mimetype": "text/x-python",
   "name": "python",
   "nbconvert_exporter": "python",
   "pygments_lexer": "ipython3",
   "version": "3.6.8"
  }
 },
 "nbformat": 4,
 "nbformat_minor": 2
}
