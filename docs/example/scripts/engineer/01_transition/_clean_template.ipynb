{
 "cells": [
  {
   "cell_type": "code",
   "execution_count": 5,
   "metadata": {},
   "outputs": [
    {
     "name": "stdout",
     "output_type": "stream",
     "text": [
      "DTU: 1.07.013\n",
      "DBU: 1.00.018\n"
     ]
    }
   ],
   "source": [
    "%run ../base_setup.ipynb"
   ]
  },
  {
   "cell_type": "markdown",
   "metadata": {},
   "source": [
    "## Transitioning\n",
    "* Creating an instance of the Transitioning Class giving it a reference name\n",
    "* The reference name identifies the unique transitioning pipeline contract"
   ]
  },
  {
   "cell_type": "code",
   "execution_count": 6,
   "metadata": {},
   "outputs": [],
   "source": [
    "tr = Transition('template')"
   ]
  },
  {
   "cell_type": "markdown",
   "metadata": {},
   "source": [
    "## Pipeline Contract\n",
    "### Data Source"
   ]
  },
  {
   "cell_type": "markdown",
   "metadata": {},
   "source": [
    "#### Find the files\n",
    "* Use the discovery `find_file(...)` to explore the names of the raw files"
   ]
  },
  {
   "cell_type": "code",
   "execution_count": 3,
   "metadata": {},
   "outputs": [],
   "source": [
    "files = tr.discover.find_file('.csv', root_dir=tr.file_pm.data_path)\n",
    "files"
   ]
  },
  {
   "cell_type": "markdown",
   "metadata": {},
   "source": [
    "* the output DataFrame can be used to directly build the file path"
   ]
  },
  {
   "cell_type": "code",
   "execution_count": null,
   "metadata": {},
   "outputs": [],
   "source": [
    "line = files.iloc[0:1].values\n",
    "file = line.item(0)"
   ]
  },
  {
   "cell_type": "markdown",
   "metadata": {},
   "source": [
    "#### Build the source contract"
   ]
  },
  {
   "cell_type": "code",
   "execution_count": null,
   "metadata": {
    "collapsed": true
   },
   "outputs": [],
   "source": [
    "df = tr.set_source_contract(file, source_format='csv', sep=',', encoding='latin1', load=False)"
   ]
  },
  {
   "cell_type": "code",
   "execution_count": null,
   "metadata": {
    "collapsed": true
   },
   "outputs": [],
   "source": [
    "df = tr.get_source_data()"
   ]
  },
  {
   "cell_type": "markdown",
   "metadata": {},
   "source": [
    "## Data Discovery\n",
    "* use the discovery tools to visually inspect the raw data\n",
    "* using the `filter_columns(...)` helps us isolate rows in large files\n"
   ]
  },
  {
   "cell_type": "markdown",
   "metadata": {},
   "source": [
    "#### Data Dictionary"
   ]
  },
  {
   "cell_type": "code",
   "execution_count": null,
   "metadata": {
    "collapsed": true
   },
   "outputs": [],
   "source": [
    "# note: empty 'dtype' shows all types\n",
    "df_filtered = tr.clean.filter_columns(df, dtype=[])\n",
    "tr.discover.data_dictionary(df_filtered)"
   ]
  },
  {
   "cell_type": "markdown",
   "metadata": {},
   "source": [
    "#### Stats Dictionary"
   ]
  },
  {
   "cell_type": "code",
   "execution_count": null,
   "metadata": {},
   "outputs": [],
   "source": [
    "df_filtered = tr.clean.filter_columns(df, dtype=[])\n",
    "tr.discover.stat_dictionary(df_filtered)"
   ]
  },
  {
   "cell_type": "markdown",
   "metadata": {},
   "source": [
    "#### Analysis Dictionary"
   ]
  },
  {
   "cell_type": "code",
   "execution_count": null,
   "metadata": {},
   "outputs": [],
   "source": [
    "df_filtered = tr.clean.filter_columns(df, dtype=[])\n",
    "tr.discover.analysis_dictionary(df_filtered)"
   ]
  },
  {
   "cell_type": "markdown",
   "metadata": {},
   "source": [
    "## Enrichment\n",
    "#### Add any Observations\n",
    "* Include any general observations\n",
    "* Note any attribute anomolies or points of interests for future reference\n",
    "* capture any Terms of Reference "
   ]
  },
  {
   "cell_type": "code",
   "execution_count": null,
   "metadata": {},
   "outputs": [],
   "source": []
  },
  {
   "cell_type": "code",
   "execution_count": null,
   "metadata": {
    "collapsed": true
   },
   "outputs": [],
   "source": [
    "# tr.clean.filter_headers(df, dtype=[])"
   ]
  },
  {
   "cell_type": "code",
   "execution_count": null,
   "metadata": {
    "collapsed": true
   },
   "outputs": [],
   "source": [
    "# Auto clean\n",
    "\n",
    "tr.set_cleaner(tr.clean.clean_header(df, inplace=True))\n",
    "\n",
    "# _ = tr.clean.auto_remove_columns(df, null_min=0.99, inplace=True)\n",
    "# tr.set_cleaner(tr.clean.get_auto_remove_settings(null_min=0.99))\n",
    "\n",
    "# _ = tr.clean.auto_to_category(df, unique_max=20, null_max=0.7, inplace=True)\n",
    "# tr.set_cleaner(tr.clean.get_auto_category_settings(unique_max=20, null_max=0.7))\n"
   ]
  },
  {
   "cell_type": "code",
   "execution_count": 14,
   "metadata": {
    "collapsed": true
   },
   "outputs": [],
   "source": [
    "# Convert Catagories and dates\n",
    "tr.set_cleaner(tr.clean.to_category_type(df, headers=[''], inplace=True))\n",
    "\n",
    "tr.set_cleaner(tr.clean.to_date_type(df, headers=[''], inplace=True))\n"
   ]
  },
  {
   "cell_type": "code",
   "execution_count": null,
   "metadata": {
    "collapsed": true
   },
   "outputs": [],
   "source": [
    "#tidy up any to remove manually and convert any booleans\n",
    "tr.set_cleaner(tr.clean.remove_columns(df, headers=[''], inplace=True))\n",
    "\n",
    "bm = {1: True, 'Y': True}\n",
    "tr.set_cleaner(tr.clean.to_bool_type(df, bool_map=bm, headers=[''], inplace=True))\n"
   ]
  },
  {
   "cell_type": "code",
   "execution_count": null,
   "metadata": {
    "collapsed": true
   },
   "outputs": [],
   "source": [
    "# finally just format any floats ints and strings\n",
    "\n",
    "tr.set_cleaner(tr.clean.to_float_type(df, dtype=['float'], inplace=True))\n",
    "\n",
    "tr.set_cleaner(tr.clean.to_int_type(df, dtype=['int'], inplace=True))\n",
    "\n",
    "tr.set_cleaner(tr.clean.to_str_type(df, headers=[''], inplace=True))"
   ]
  },
  {
   "cell_type": "code",
   "execution_count": null,
   "metadata": {
    "collapsed": true
   },
   "outputs": [],
   "source": [
    "# Create the excel data dictionary\n",
    "tr.create_data_dictionary(df)\n",
    "\n",
    "# save the clean file\n",
    "tr.save_clean_file(df)"
   ]
  },
  {
   "cell_type": "code",
   "execution_count": null,
   "metadata": {
    "collapsed": true
   },
   "outputs": [],
   "source": [
    "# check the results worked\n",
    "df = tr.load_clean_file()\n",
    "tr.discover.data_dictionary(df)"
   ]
  },
  {
   "cell_type": "code",
   "execution_count": null,
   "metadata": {},
   "outputs": [],
   "source": [
    "# Add notes to the contract\n",
    "tr.data_pm.add_notes('This is dummy file and not representative')\n",
    "tr.data_pm.add_notes('generated from DTU synthetic file builder', key='source')\n",
    "tr.save()\n"
   ]
  },
  {
   "cell_type": "code",
   "execution_count": null,
   "metadata": {},
   "outputs": [],
   "source": []
  }
 ],
 "metadata": {
  "kernelspec": {
   "display_name": "Python 3",
   "language": "python",
   "name": "python3"
  },
  "language_info": {
   "codemirror_mode": {
    "name": "ipython",
    "version": 3
   },
   "file_extension": ".py",
   "mimetype": "text/x-python",
   "name": "python",
   "nbconvert_exporter": "python",
   "pygments_lexer": "ipython3",
   "version": "3.6.8"
  }
 },
 "nbformat": 4,
 "nbformat_minor": 2
}
